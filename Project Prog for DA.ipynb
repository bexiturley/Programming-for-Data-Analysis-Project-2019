{
 "cells": [
  {
   "cell_type": "markdown",
   "metadata": {},
   "source": [
    "## Programming for Data Analysis Project 2019\n",
    "\n",
    "\n",
    "###### This repository contains project submitted for GMIT Programming for Data Analysis.       \n",
    "###### Last commit on or before 16 December 2019      \n",
    "###### Lecturer is Dr. Brian McGinley      \n",
    "###### Author: Rebecca Turley Email: G00376344@gmit.ie       \n",
    "###### Date: November and December 2019\n",
    "\n",
    "\n",
    "\n",
    "\n",
    "\n",
    "### Problem Statement\n",
    "\n",
    "* Choose a real-world phenomenon that can be measured and for which you could collect at least one-hundred data points across at least four different variables.\n",
    "* Investigate the types of variables involved, their likely distributions, and their relationships with each other\n",
    "* Synthesise/simulate a data set as closely matching their properties as possible.\n",
    "* Detail your research and implement the simulation in a Jupyter notebook – the data set itself can simply be displayed in an output cell within the notebook.\n",
    "\n",
    "Note that this project is about simulation – you must synthesise a data set. Some students may already have some real-world data sets in their own files. It is okay to base your synthesised data set on these should you wish (please reference it if you do), but the main task in this project is to create a synthesised data set."
   ]
  },
  {
   "cell_type": "markdown",
   "metadata": {},
   "source": [
    "**Plan to complete the assignment:**\n",
    "\n",
    "* Read problem statement and understand what synthesise/simulate a data set means.\n",
    "* Decide on what data set to synthesise/simulate.\n",
    "* Contact lecturer to ensure selected dataset is appropriate.\n",
    "* Create git repository, send link to lecturer and make it available online.   \n",
    "* Create Jupyter notebook within the repository.    \n",
    "* Import/download NCT dataset.      \n",
    "* Check to see if any data is corrupt/missing.\n",
    "* Look at the information and identify what variables could have an effect on the data.\n",
    "* Research the selected variables and source reliable data.\n",
    "* Create the dataframe incorporating the variables and their different weights.\n",
    "* Create plots/graphs to help identify what, if any, relationships exist between the variables.   \n",
    "* Analyse different variables within the data.  Create the code and comment on them.    \n",
    "* What does the data tell me?     \n",
    "* Are there any unusual observations?       \n",
    "* What did I learn? Is this a good dataset? Any shortcomings.    \n",
    "* Read over comments from last assignment from lecturer and incorporate into this project.    \n",
    "* Keep detailed list of all references I read and used.     \n",
    "\n",
    "\n",
    "\n",
    "\n",
    "The problem statement is to synthesise/simulate a data set.  I looked up some definitions of synthesise to make sure I understood the requirements of the project.  \n",
    "\n",
    "It is a method that uses statistical techniques to combine results from different studies and obtain a quantitative estimate of the overall effect of a particular intervention or variable on a defined outcome—i.e., it is a statistical process for pooling data from many clinical trials to glean a clear answer. But there can be some cons.  Bias, potential for analytical sloppiness, lack of understanding of basic issues, failure to consider major covariates, and overstating the strengths and precision of the results. [1]\n",
    "\n",
    "Desired properties include:\n",
    "\n",
    "* It can be numerical, binary, or categorical (ordinal or non-ordinal).\n",
    "\n",
    "* The number of features and length of the dataset should be arbitrary.\n",
    "\n",
    "* It should preferably be random and the user should be able to choose a wide variety of statistical distribution to base this data upon i.e. the underlying random process can be precisely controlled and tuned.\n",
    "\n",
    "* If it is used for classification algorithms, then the degree of class separation should be controllable to make the learning problem easy or hard.\n",
    "\n",
    "* Random noise can be interjected in a controllable manner\n",
    "\n",
    "* For a regression problem, a complex, non-linear generative process can be used for sourcing the data.  [2]\n",
    "\n",
    "\n",
    "\n",
    "\n",
    "### Selection of Real-World Phenomenon\n",
    "\n",
    "When we were given the problem statement, I decided to look into the National Car Testing statics.  \n",
    "\n",
    "Recently, my own car had to undergo the NCT, it failed the first time but passed the retest.  I started to wonder that if there was any correlation between the car year of manufacture and pass rate.  \n",
    "\n",
    "As the 2019 year data is incomplete, I chose 2018 instead.  My car had also done the nct in 2018 and once again it had failed the original test but passed the retest.\n",
    "\n",
    "\n",
    "#### Origin of the National Car Test (NCT)\n",
    "\n",
    "Compulsory car testing was introduced in Ireland in 2000 as part of an EU Directive that makes car testing compulsory in all member states. It is an offence to drive a car without displaying a National Car Testing Service disc, if the car is liable for testing. Offenders will face Class C fines, as well as penalty points.\n",
    "\n",
    "The test is called the National Car Test and is carried out on behalf of the Government by the National Car Testing Service Ltd (NCTS). The test is aimed at improving road safety and enhancing environmental protection. \n",
    "\n",
    "If a vehicle is over 4 years old it has to take a test.  From the vehicle being 4 years to under 10 years old it has to be tested every 2 years.  Once the vehicle gets to 10 years but less than 30, it then has to be tested every year.  Between 30 and 39 years old the vehicle must be tested every 2 years again and it cannot be used for commercial purposes.  That would apply mostly to vintage cars that which are used for display/show only.  There are exemptions to the nct also.  Vehicles registered prior to 1st January 1980 do not need to be tested, cars permanently based on islands that are not connected to the mainland do not require testing and motor vehicles belonging to the Armed Forces, the Garda Síochána or the Fire Service are not subject to mandatory testing. [3]\n",
    "\n",
    "\n",
    "The National Car Test is separate to the CVRT (Commercial Vehicle Roadworthiness Test), which was formerly known as DoE (Department of Environment) Test.  The Commercial Vehicle Roadworthiness Test (CVRT) is a roadworthiness test for all commercial vehicles, buses with more than eight passenger seats and ambulances, all over one year old.  There are two types of commercial vehicle tests, one for Light Commercial Vehicles (LCVs) and one for Heavy Commercial Vehicles (HCVs).\n",
    " \n",
    "The LCV test is for:\n",
    "all small goods vehicles with a gross vehicle weight (GVW) of 3,500 kg or less\n",
    "\n",
    "The HCV test covers all other commercial vehicles including:\n",
    "goods vehicles over 3,500 kg GVW\n",
    "goods trailers over 3,500 kg GVW\n",
    "buses with more than eight passenger seats\n",
    "ambulances [4]"
   ]
  },
  {
   "cell_type": "markdown",
   "metadata": {},
   "source": [
    "Initially, I began by looking at nct.ie to see what information was available.  There was a section on statistics which had the pass, fail refusal and fail dangerous rated for 2018.  I chose 2018 as the full figures for 2019 are not available yet.  [5]\n",
    "This was helpful but there was a particular make/model I wanted to look at.  I then looked into the central statistics office statbank which not only provided the figures of pass/fail rates, it also broke them down by each centre. [6]\n",
    "\n",
    "This was very interesting but still not what I was looking for.  I then went to the RSA website which had the information I was looking for. [7]\n",
    "\n",
    "Female and male full and provisional licences [8]\n",
    "\n",
    "Before I even begin to look at the data there are some assumptions I have.  It will be interesting to see how it will turn out.  First, I expect that the newer cars will have a much higher pass rate than older ones.  I expect about half to fail the first time but the majority then pass the second time.  I expect of the ones which fail initially about 10% will go on to be incomplete.  This is based solely on my own observations from talking to my family and friends over the last few years."
   ]
  },
  {
   "cell_type": "markdown",
   "metadata": {},
   "source": [
    "#### Pass Rates\n",
    "\n",
    "From the information provided by the RSA for 2018 over all there was approximately a 49% pass rate, 50% fail and 1% incomplete. Within all years of Hyundai Santa Fe it changed to an approximate 36% pass, 63% fail and 1% incomplete rate. I have factored this in when creating my data. [9]   Data from nctdata.csv\n"
   ]
  },
  {
   "cell_type": "markdown",
   "metadata": {},
   "source": [
    "#### Year\n",
    "\n",
    "I took all the years available from the original csv file.  The cars tested began in 2001 and went up to 2015.  When constructing this variable, I made sure to include the weightings per year as they were in the original data. Data from Hyundai.csv"
   ]
  },
  {
   "cell_type": "markdown",
   "metadata": {},
   "source": [
    "#### Fuel Type\n",
    "\n",
    "There are two types of fuel which concern this dataset. Diesel and petrol.  I will have to add this variable as it is not included.  I again used statbank and got the breakdown for them. The information doesn’t exist prior to 2010 and I only go up to 2015 for the nct so that is all I will import.  I plan to get a rough idea on the breakdown and apply it to my database. [10]  Data from dvp.csv"
   ]
  },
  {
   "cell_type": "markdown",
   "metadata": {},
   "source": [
    "#### Sex\n",
    "\n",
    "I obtained the 2018 information from https://statbank.cso.ie/px/pxeirestat/Statire/SelectVarVal/saveselections.asp [11] From the above it can be seen that 53% of males and 47% of females held full driving licences. Data from driver.csv"
   ]
  },
  {
   "cell_type": "markdown",
   "metadata": {},
   "source": [
    "#### Licence Type\n",
    "\n",
    "Overall, 92% of licences held in 2018 were Full and 8% were Provisional.  The provisional licences were more evenly split with approximately 50% of each sex.  Data from driver.csv"
   ]
  },
  {
   "cell_type": "markdown",
   "metadata": {},
   "source": [
    "#### Mileage\n",
    "\n",
    "Another variable I will add to my data is mileage and it will be split between petrol and diesel. I sourced the information from https://statbank.cso.ie/px/pxeirestat/Statire/SelectVarVal/saveselections.asp [12] and tidied it up to suit my requirements as I think total mileage will have an effect on the pass/fail rate. The average km per year over a 14-year period (The information only goes to 2015 at the moment) for a both fuel types is 16,539.  Petrol is 13,479 and diesel is 19,598. All units are in kilometres.  Data from avgmile.csv"
   ]
  },
  {
   "cell_type": "markdown",
   "metadata": {},
   "source": [
    "#### Service\n",
    "\n",
    "There was an addendum to the RSA nct data which stated \"Another factor that is relevant is that an estimated 1/3 of customers do not service their cars before testing\" This had an effect on the pass rates with \"the failure rate of these is, on average 11% higher than those that have been serviced ahead of the test.\"  I have created a column within the data set to reflect the third who have not serviced it.  I have yet to figure out how to add in the 11% increase in failure rate that this leads to.  [13]\n",
    "\n"
   ]
  },
  {
   "cell_type": "markdown",
   "metadata": {},
   "source": [
    "#### Expected\n",
    "\n",
    "Using everything I have learned I created a column called Expected.  I put in a function that stated if a car had above a certain predetermined mileage, 165,440 its expected result would depend on whether or not it had a service prior to the nct.  I chose 165,440 km as it was the average mileage after 10 years.  Ten years as that is when cars have to be tested annually."
   ]
  },
  {
   "cell_type": "markdown",
   "metadata": {},
   "source": [
    "### Note on calculation of figures\n",
    "I have stored all my workings on the variables within this dataset in the same repository as this file should you wish to see them.  I wanted to keep the clutter to a minimum so did not include it here but it is available for viewing.  They are all excel csv file format.  \n",
    "* avgmile.csv has my workings on the average petrol and diesel.  \n",
    "* driver.csv has the breakdown between male and female licences. \n",
    "* dvp.csv holds the 2010 to 2015 fuel type data. \n",
    "* Hyundai.csv has the percentages per year when working out the skewing of the year pass rates.  \n",
    "* Make Model data 2018.csv has all the NCT data for Hyundai Santa Fe only.  \n",
    "* nct.csv and nct.18.csv are the same file containing all the information from the NCT with the headings removed.  They are working files before I delete unwanted columns.  \n",
    "* nctdata.csv is the same as nct18 but the unnecessary columns removed. "
   ]
  },
  {
   "cell_type": "markdown",
   "metadata": {},
   "source": [
    "Import the data and libraries."
   ]
  },
  {
   "cell_type": "code",
   "execution_count": 1,
   "metadata": {},
   "outputs": [],
   "source": [
    "#Import libraries needed\n",
    "import numpy as np\n",
    "import pandas as pd\n",
    "import matplotlib.pyplot as plt\n",
    "import seaborn as sns\n",
    "from scipy import stats\n",
    "\n",
    "%matplotlib inline"
   ]
  },
  {
   "cell_type": "code",
   "execution_count": 2,
   "metadata": {},
   "outputs": [
    {
     "data": {
      "text/plain": [
       "'C:\\\\Users\\\\Rebecca\\\\Desktop\\\\Prog Data 2019\\\\Programming-for-Data-Analysis-Project-2019'"
      ]
     },
     "execution_count": 2,
     "metadata": {},
     "output_type": "execute_result"
    }
   ],
   "source": [
    "pwd"
   ]
  },
  {
   "cell_type": "code",
   "execution_count": 3,
   "metadata": {},
   "outputs": [],
   "source": [
    "import os\n",
    "import csv"
   ]
  },
  {
   "cell_type": "code",
   "execution_count": 4,
   "metadata": {},
   "outputs": [],
   "source": [
    "#import csv -  I used this method as when I loaded it originally it was throwing up an error. I eventually realised it was a few lines of text which was at the start of the file.  I deleted it and the error message went.\n",
    "# https://github.com/llSourcell/tensorflow_chatbot/issues/17\n",
    "#df = pd.read_csv(r\"C:/Users/Rebecca/Desktop/Prog Data 2019/Programming-for-Data-Analysis-Project-2019/nct18.csv\", delimiter = ',' , encoding = 'unicode_escape')\n",
    "#print (df)"
   ]
  },
  {
   "cell_type": "markdown",
   "metadata": {},
   "source": [
    "#### Create the dataframe\n",
    "\n",
    "There are two methods demonstrated here to create a data frame.  The first one is to create it at once in its entirety and the other is to build it cell by cell.  I prefer the first method as it is tidier but have included the other also as a demonstration and a revision method for myself.  Both dataframes have the same information.  The all in once cell dataframe is labelled as df5 and the cell by cell one is simply df.  I adapted code from https://medium.com/@bingobee01/pandas-tricks-and-tips-a7b87c3748ea [19]\n",
    "\n"
   ]
  },
  {
   "cell_type": "code",
   "execution_count": 5,
   "metadata": {},
   "outputs": [
    {
     "name": "stdout",
     "output_type": "stream",
     "text": [
      "     Year    Fuel      Status     Sex Service Licence_type  Mileage Expected\n",
      "0    2012  Diesel        Fail  Female     Yes         Full    62914     Pass\n",
      "1    2010  Diesel        Fail  Female      No         Full    36133     Fail\n",
      "2    2006  Diesel        Pass    Male     Yes         Full   114279     Pass\n",
      "3    2006  Diesel        Fail  Female     Yes         Full   106308     Pass\n",
      "4    2005  Diesel        Fail  Female     Yes         Full    79570     Pass\n",
      "5    2006  Diesel        Fail  Female      No         Full   129282     Fail\n",
      "6    2004  Diesel        Fail  Female      No      Learner    43814     Fail\n",
      "7    2007  Diesel        Fail    Male     Yes         Full   133235     Pass\n",
      "8    2007  Diesel        Fail    Male     Yes         Full    19937     Pass\n",
      "9    2006  Diesel        Fail    Male     Yes         Full     3691     Pass\n",
      "10   2003  Diesel        Fail    Male     Yes         Full    77594     Pass\n",
      "11   2007  Diesel  Incomplete  Female     Yes         Full    69833     Pass\n",
      "12   2006  Petrol        Pass    Male     Yes         Full    23599     Pass\n",
      "13   2004  Petrol        Fail  Female     Yes      Learner   125585     Pass\n",
      "14   2004  Diesel        Fail  Female     Yes         Full   117772     Pass\n",
      "15   2007  Diesel        Pass    Male     Yes         Full    56702     Pass\n",
      "16   2005  Petrol        Fail  Female      No         Full   100560     Fail\n",
      "17   2013  Diesel        Fail  Female     Yes         Full    33480     Pass\n",
      "18   2010  Diesel        Pass  Female     Yes         Full    90283     Pass\n",
      "19   2006  Diesel        Pass  Female      No         Full    38907     Fail\n",
      "20   2014  Petrol        Pass    Male      No         Full    25028     Fail\n",
      "21   2005  Diesel        Fail    Male     Yes         Full    27370     Pass\n",
      "22   2007  Diesel        Fail  Female     Yes         Full    40162     Pass\n",
      "23   2006  Diesel        Fail    Male     Yes         Full    26339     Pass\n",
      "24   2008  Diesel        Fail  Female     Yes         Full    71593     Pass\n",
      "25   2006  Diesel        Fail  Female      No         Full   111170     Fail\n",
      "26   2014  Diesel        Fail  Female      No         Full     5117     Fail\n",
      "27   2006  Diesel        Fail  Female     Yes         Full   118150     Pass\n",
      "28   2004  Petrol        Fail  Female      No         Full   139343     Fail\n",
      "29   2006  Diesel        Pass    Male     Yes         Full    36455     Pass\n",
      "..    ...     ...         ...     ...     ...          ...      ...      ...\n",
      "470  2001  Diesel        Pass    Male      No         Full   191949     Fail\n",
      "471  2005  Diesel        Fail    Male     Yes         Full   121739     Pass\n",
      "472  2014  Diesel        Pass  Female      No         Full    28530     Fail\n",
      "473  2005  Diesel        Fail    Male     Yes         Full    97923     Pass\n",
      "474  2007  Petrol        Pass    Male      No         Full    29285     Fail\n",
      "475  2014  Diesel        Fail    Male     Yes         Full    25646     Pass\n",
      "476  2004  Diesel        Pass    Male      No         Full    59274     Fail\n",
      "477  2007  Diesel        Pass  Female     Yes         Full    76858     Pass\n",
      "478  2006  Diesel        Fail  Female     Yes         Full   118948     Pass\n",
      "479  2006  Petrol        Fail    Male     Yes         Full    26916     Pass\n",
      "480  2012  Diesel        Pass  Female      No         Full    42506     Fail\n",
      "481  2005  Diesel        Fail  Female     Yes      Learner   173822     Fail\n",
      "482  2006  Diesel        Fail    Male      No         Full   101494     Fail\n",
      "483  2006  Diesel        Fail  Female     Yes         Full   131276     Pass\n",
      "484  2007  Diesel        Pass    Male     Yes         Full    95922     Pass\n",
      "485  2007  Diesel        Pass    Male     Yes         Full    63068     Pass\n",
      "486  2002  Diesel        Fail  Female      No         Full    57909     Fail\n",
      "487  2005  Diesel        Pass  Female     Yes         Full    69117     Pass\n",
      "488  2002  Diesel        Fail    Male     Yes         Full   171153     Fail\n",
      "489  2015  Diesel        Fail  Female     Yes      Learner     2509     Pass\n",
      "490  2013  Diesel        Fail  Female     Yes         Full    39688     Pass\n",
      "491  2006  Diesel        Fail  Female      No         Full   137552     Fail\n",
      "492  2005  Diesel        Fail  Female      No         Full    99413     Fail\n",
      "493  2005  Diesel        Fail  Female     Yes         Full    84520     Pass\n",
      "494  2007  Diesel        Fail    Male     Yes         Full   143374     Pass\n",
      "495  2003  Diesel        Fail    Male      No         Full   159995     Fail\n",
      "496  2007  Diesel        Pass  Female      No         Full    56508     Fail\n",
      "497  2007  Diesel        Pass  Female      No         Full    27683     Fail\n",
      "498  2007  Diesel        Fail  Female      No         Full    46800     Fail\n",
      "499  2006  Diesel        Pass    Male     Yes         Full    49834     Pass\n",
      "\n",
      "[500 rows x 8 columns]\n"
     ]
    }
   ],
   "source": [
    "# Create the data frame with some of the columns.\n",
    "df5 = pd.DataFrame(columns=[\"Year\", \"Fuel\", \"Status\", \"Sex\", \"Service\"])\n",
    "\n",
    "\n",
    "# Populate the data with the number of cars per year.\n",
    "df5[\"Year\"] = np.random.choice([\"2001\", \"2002\",\"2003\",\"2004\",\"2005\",\"2006\",\"2007\",\"2008\",\"2009\",2010,2011,2012,2013,2014,2015], p=[0.004, 0.02, 0.044, 0.087, 0.149, 0.187, 0.221, 0.091, 0.012, 0.031, 0.009, 0.036, 0.013, 0.083, 0.013], size=(500))\n",
    "\n",
    "# Create the fuel types\n",
    "fuel = [\"Petrol\", \"Diesel\"]\n",
    "\n",
    "# Populate the Fuel column with petrol and diesel, more diesel cars so do the weights accordingly.\n",
    "df5[\"Fuel\"] = np.random.choice(fuel, 500, p=[0.24, 0.76])\n",
    "\n",
    "# Create the status types\n",
    "status = [\"Pass\", \"Fail\", \"Incomplete\"]\n",
    "\n",
    "# Populate the status column with their different values.\n",
    "df5[\"Status\"] = np.random.choice(status, 500, p=[0.36, 0.63, 0.01])\n",
    "\n",
    "# Create the sexes\n",
    "sex = [\"Male\", \"Female\"]\n",
    "\n",
    "# Populate the column\n",
    "df5[\"Sex\"] = np.random.choice(sex, 500, p=[0.53, 0.47])\n",
    "\n",
    "# Create the licence_type categories\n",
    "Licence_Type = [\"Full\", \"Learner\"]\n",
    "\n",
    "# Populate it\n",
    "df5[\"Licence_type\"] = np.random.choice(Licence_Type, 500, p=[0.92, 0.08])\n",
    "\n",
    "# Define a function to map the mileage values.  I have calculated that the average mile for one year is 16544 and applied it for the newest model.  I have then increased it each year going backwards.  This will ensure that a 2002 car *could* have a higher mileage than a 2015.\n",
    "# I had some issues with dictionary aspect so got advice [14] \n",
    "def set_value(row_number, assigned_value):\n",
    "    return np.random.randint(1,assigned_value[row_number])\n",
    "\n",
    "# Create the dictionary\n",
    "year_dictionary ={\"2001\" : 248085, \"2002\" : 231546, \"2003\" : 215007, \"2004\" : 198468, \"2005\" : 181929, \"2006\": 165390, \"2007\" : 148851, \"2008\" : 132312, \"2009\" :115773,\"2010\" :99234, \"2011\" :82695, \"2012\" :66156, \"2013\" :49617, \"2014\" :33078, \"2015\" :16539}\n",
    "\n",
    "df5[\"Mileage\"] = df5[\"Year\"].apply(set_value, args =(year_dictionary, )) \n",
    "\n",
    "# Create the service types (Prior to nct)\n",
    "Service = [\"Yes\", \"No\"]\n",
    "\n",
    "# Populate the service column.  Skew the data according to the NCT data which states the percentages of those who pre service.\n",
    "df5[\"Service\"] = np.random.choice(Service, 500, p=[0.67, 0.33])\n",
    "\n",
    "# Create a condition which stated that if the mileage is below a certain amount and service is yes then it is expected that it will pass. [15]\n",
    "df5['Expected'] = 'Fail'\n",
    "df5.at[df5[(df5['Mileage']<165390) & (df5['Service'] == 'Yes')].index,'Expected'] = 'Pass'\n",
    "df5\n",
    "\n",
    "print (df5)"
   ]
  },
  {
   "cell_type": "code",
   "execution_count": 6,
   "metadata": {},
   "outputs": [
    {
     "data": {
      "text/html": [
       "<div>\n",
       "<style scoped>\n",
       "    .dataframe tbody tr th:only-of-type {\n",
       "        vertical-align: middle;\n",
       "    }\n",
       "\n",
       "    .dataframe tbody tr th {\n",
       "        vertical-align: top;\n",
       "    }\n",
       "\n",
       "    .dataframe thead th {\n",
       "        text-align: right;\n",
       "    }\n",
       "</style>\n",
       "<table border=\"1\" class=\"dataframe\">\n",
       "  <thead>\n",
       "    <tr style=\"text-align: right;\">\n",
       "      <th></th>\n",
       "      <th>Year</th>\n",
       "      <th>Fuel</th>\n",
       "      <th>Status</th>\n",
       "      <th>Sex</th>\n",
       "      <th>Licence_type</th>\n",
       "      <th>Mileage</th>\n",
       "      <th>Service</th>\n",
       "      <th>Expected</th>\n",
       "    </tr>\n",
       "  </thead>\n",
       "  <tbody>\n",
       "  </tbody>\n",
       "</table>\n",
       "</div>"
      ],
      "text/plain": [
       "Empty DataFrame\n",
       "Columns: [Year, Fuel, Status, Sex, Licence_type, Mileage, Service, Expected]\n",
       "Index: []"
      ]
     },
     "execution_count": 6,
     "metadata": {},
     "output_type": "execute_result"
    }
   ],
   "source": [
    "# Second method to creating dataframe.\n",
    "df = pd.DataFrame(columns= [\"Year\", \"Fuel\", \"Status\", \"Sex\", \"Licence_type\", \"Mileage\", \"Service\", \"Expected\"]) #gives headings to each of the columns\n",
    "df"
   ]
  },
  {
   "cell_type": "code",
   "execution_count": 7,
   "metadata": {},
   "outputs": [],
   "source": [
    "# Populate the data with the number of cars per year.\n",
    "df[\"Year\"] = np.random.choice([\"2001\", \"2002\",\"2003\",\"2004\",\"2005\",\"2006\",\"2007\",\"2008\",\"2009\",2010,2011,2012,2013,2014,2015], p=[0.004, 0.02, 0.044, 0.087, 0.149, 0.187, 0.221, 0.091, 0.012, 0.031, 0.009, 0.036, 0.013, 0.083, 0.013], size=(500))"
   ]
  },
  {
   "cell_type": "code",
   "execution_count": 8,
   "metadata": {},
   "outputs": [
    {
     "data": {
      "text/plain": [
       "Year            object\n",
       "Fuel            object\n",
       "Status          object\n",
       "Sex             object\n",
       "Licence_type    object\n",
       "Mileage         object\n",
       "Service         object\n",
       "Expected        object\n",
       "dtype: object"
      ]
     },
     "execution_count": 8,
     "metadata": {},
     "output_type": "execute_result"
    }
   ],
   "source": [
    "df.dtypes "
   ]
  },
  {
   "cell_type": "code",
   "execution_count": 9,
   "metadata": {},
   "outputs": [],
   "source": [
    "# Create the fuel types\n",
    "fuel = [\"Petrol\", \"Diesel\"]"
   ]
  },
  {
   "cell_type": "code",
   "execution_count": 10,
   "metadata": {},
   "outputs": [],
   "source": [
    "# Populate the Fuel column with petrol and diesel, more diesel cars so do the weights accordingly.\n",
    "df[\"Fuel\"] = np.random.choice(fuel, 500, p=[0.24, 0.76])"
   ]
  },
  {
   "cell_type": "code",
   "execution_count": 11,
   "metadata": {},
   "outputs": [],
   "source": [
    "# Create the status types\n",
    "status = [\"Pass\", \"Fail\", \"Incomplete\"]"
   ]
  },
  {
   "cell_type": "code",
   "execution_count": 12,
   "metadata": {},
   "outputs": [],
   "source": [
    "# Populate the status column \n",
    "df[\"Status\"] = np.random.choice(status, 500, p=[0.36, 0.63, 0.01])"
   ]
  },
  {
   "cell_type": "code",
   "execution_count": 13,
   "metadata": {},
   "outputs": [],
   "source": [
    "# Create the sexes\n",
    "sex = [\"Male\", \"Female\"]"
   ]
  },
  {
   "cell_type": "code",
   "execution_count": 14,
   "metadata": {},
   "outputs": [],
   "source": [
    "# Populate the column\n",
    "df[\"Sex\"] = np.random.choice(sex, 500, p=[0.53, 0.47])"
   ]
  },
  {
   "cell_type": "code",
   "execution_count": 15,
   "metadata": {},
   "outputs": [],
   "source": [
    "# Create the licence_type categories\n",
    "Licence_type = [\"Full\", \"Learner\"]"
   ]
  },
  {
   "cell_type": "code",
   "execution_count": 16,
   "metadata": {},
   "outputs": [],
   "source": [
    "# Populate it\n",
    "df[\"Licence_type\"] = np.random.choice(Licence_type, 500, p=[0.92, 0.08])"
   ]
  },
  {
   "cell_type": "code",
   "execution_count": 17,
   "metadata": {},
   "outputs": [],
   "source": [
    "# Define a function to map the mileage values.  I have calculated that the average km for one year is 16539 and applied it for the newest model.  I have then increased it each year going backwards.  This will ensure that a 2002 car could have a higher mileage than a 2015.\n",
    "def set_value(row_number, assigned_value):\n",
    "    return np.random.randint(1,assigned_value[row_number])\n",
    "\n",
    "#Create the dictionary\n",
    "year_dictionary ={'2001' : 248085, '2002' : 231546, '2003' : 215007, \"2004\" : 198468, \"2005\" : 181929, \"2006\": 165390, \"2007\" : 148851, \"2008\" : 132312, \"2009\" :115773,\"2010\" :99234, \"2011\" :82695, \"2012\" :66156, \"2013\" :49617, \"2014\" :33078, \"2015\" :16539}\n",
    "\n",
    "df[\"Mileage\"] = df[\"Year\"].apply(set_value, args =(year_dictionary, )) "
   ]
  },
  {
   "cell_type": "code",
   "execution_count": 18,
   "metadata": {},
   "outputs": [
    {
     "data": {
      "text/html": [
       "<div>\n",
       "<style scoped>\n",
       "    .dataframe tbody tr th:only-of-type {\n",
       "        vertical-align: middle;\n",
       "    }\n",
       "\n",
       "    .dataframe tbody tr th {\n",
       "        vertical-align: top;\n",
       "    }\n",
       "\n",
       "    .dataframe thead th {\n",
       "        text-align: right;\n",
       "    }\n",
       "</style>\n",
       "<table border=\"1\" class=\"dataframe\">\n",
       "  <thead>\n",
       "    <tr style=\"text-align: right;\">\n",
       "      <th></th>\n",
       "      <th>Year</th>\n",
       "      <th>Fuel</th>\n",
       "      <th>Status</th>\n",
       "      <th>Sex</th>\n",
       "      <th>Licence_type</th>\n",
       "      <th>Mileage</th>\n",
       "      <th>Service</th>\n",
       "      <th>Expected</th>\n",
       "    </tr>\n",
       "  </thead>\n",
       "  <tbody>\n",
       "    <tr>\n",
       "      <th>0</th>\n",
       "      <td>2006</td>\n",
       "      <td>Petrol</td>\n",
       "      <td>Fail</td>\n",
       "      <td>Female</td>\n",
       "      <td>Full</td>\n",
       "      <td>111160</td>\n",
       "      <td>No</td>\n",
       "      <td>NaN</td>\n",
       "    </tr>\n",
       "    <tr>\n",
       "      <th>1</th>\n",
       "      <td>2006</td>\n",
       "      <td>Diesel</td>\n",
       "      <td>Pass</td>\n",
       "      <td>Male</td>\n",
       "      <td>Learner</td>\n",
       "      <td>105957</td>\n",
       "      <td>Yes</td>\n",
       "      <td>NaN</td>\n",
       "    </tr>\n",
       "    <tr>\n",
       "      <th>2</th>\n",
       "      <td>2006</td>\n",
       "      <td>Diesel</td>\n",
       "      <td>Pass</td>\n",
       "      <td>Female</td>\n",
       "      <td>Full</td>\n",
       "      <td>29202</td>\n",
       "      <td>No</td>\n",
       "      <td>NaN</td>\n",
       "    </tr>\n",
       "    <tr>\n",
       "      <th>3</th>\n",
       "      <td>2008</td>\n",
       "      <td>Petrol</td>\n",
       "      <td>Fail</td>\n",
       "      <td>Female</td>\n",
       "      <td>Full</td>\n",
       "      <td>7475</td>\n",
       "      <td>Yes</td>\n",
       "      <td>NaN</td>\n",
       "    </tr>\n",
       "    <tr>\n",
       "      <th>4</th>\n",
       "      <td>2012</td>\n",
       "      <td>Diesel</td>\n",
       "      <td>Fail</td>\n",
       "      <td>Male</td>\n",
       "      <td>Full</td>\n",
       "      <td>41131</td>\n",
       "      <td>No</td>\n",
       "      <td>NaN</td>\n",
       "    </tr>\n",
       "    <tr>\n",
       "      <th>5</th>\n",
       "      <td>2006</td>\n",
       "      <td>Diesel</td>\n",
       "      <td>Fail</td>\n",
       "      <td>Male</td>\n",
       "      <td>Full</td>\n",
       "      <td>144253</td>\n",
       "      <td>Yes</td>\n",
       "      <td>NaN</td>\n",
       "    </tr>\n",
       "    <tr>\n",
       "      <th>6</th>\n",
       "      <td>2013</td>\n",
       "      <td>Diesel</td>\n",
       "      <td>Fail</td>\n",
       "      <td>Male</td>\n",
       "      <td>Full</td>\n",
       "      <td>48324</td>\n",
       "      <td>No</td>\n",
       "      <td>NaN</td>\n",
       "    </tr>\n",
       "    <tr>\n",
       "      <th>7</th>\n",
       "      <td>2008</td>\n",
       "      <td>Diesel</td>\n",
       "      <td>Fail</td>\n",
       "      <td>Male</td>\n",
       "      <td>Full</td>\n",
       "      <td>41644</td>\n",
       "      <td>Yes</td>\n",
       "      <td>NaN</td>\n",
       "    </tr>\n",
       "    <tr>\n",
       "      <th>8</th>\n",
       "      <td>2014</td>\n",
       "      <td>Diesel</td>\n",
       "      <td>Fail</td>\n",
       "      <td>Female</td>\n",
       "      <td>Full</td>\n",
       "      <td>26390</td>\n",
       "      <td>Yes</td>\n",
       "      <td>NaN</td>\n",
       "    </tr>\n",
       "    <tr>\n",
       "      <th>9</th>\n",
       "      <td>2005</td>\n",
       "      <td>Petrol</td>\n",
       "      <td>Pass</td>\n",
       "      <td>Female</td>\n",
       "      <td>Full</td>\n",
       "      <td>106702</td>\n",
       "      <td>Yes</td>\n",
       "      <td>NaN</td>\n",
       "    </tr>\n",
       "    <tr>\n",
       "      <th>10</th>\n",
       "      <td>2008</td>\n",
       "      <td>Diesel</td>\n",
       "      <td>Pass</td>\n",
       "      <td>Female</td>\n",
       "      <td>Full</td>\n",
       "      <td>83155</td>\n",
       "      <td>Yes</td>\n",
       "      <td>NaN</td>\n",
       "    </tr>\n",
       "    <tr>\n",
       "      <th>11</th>\n",
       "      <td>2008</td>\n",
       "      <td>Diesel</td>\n",
       "      <td>Fail</td>\n",
       "      <td>Male</td>\n",
       "      <td>Full</td>\n",
       "      <td>56478</td>\n",
       "      <td>No</td>\n",
       "      <td>NaN</td>\n",
       "    </tr>\n",
       "    <tr>\n",
       "      <th>12</th>\n",
       "      <td>2007</td>\n",
       "      <td>Petrol</td>\n",
       "      <td>Pass</td>\n",
       "      <td>Male</td>\n",
       "      <td>Learner</td>\n",
       "      <td>20103</td>\n",
       "      <td>Yes</td>\n",
       "      <td>NaN</td>\n",
       "    </tr>\n",
       "    <tr>\n",
       "      <th>13</th>\n",
       "      <td>2007</td>\n",
       "      <td>Diesel</td>\n",
       "      <td>Fail</td>\n",
       "      <td>Male</td>\n",
       "      <td>Full</td>\n",
       "      <td>133402</td>\n",
       "      <td>Yes</td>\n",
       "      <td>NaN</td>\n",
       "    </tr>\n",
       "    <tr>\n",
       "      <th>14</th>\n",
       "      <td>2007</td>\n",
       "      <td>Diesel</td>\n",
       "      <td>Fail</td>\n",
       "      <td>Male</td>\n",
       "      <td>Full</td>\n",
       "      <td>65359</td>\n",
       "      <td>Yes</td>\n",
       "      <td>NaN</td>\n",
       "    </tr>\n",
       "    <tr>\n",
       "      <th>15</th>\n",
       "      <td>2006</td>\n",
       "      <td>Diesel</td>\n",
       "      <td>Pass</td>\n",
       "      <td>Male</td>\n",
       "      <td>Full</td>\n",
       "      <td>33504</td>\n",
       "      <td>No</td>\n",
       "      <td>NaN</td>\n",
       "    </tr>\n",
       "    <tr>\n",
       "      <th>16</th>\n",
       "      <td>2007</td>\n",
       "      <td>Diesel</td>\n",
       "      <td>Fail</td>\n",
       "      <td>Female</td>\n",
       "      <td>Full</td>\n",
       "      <td>101294</td>\n",
       "      <td>Yes</td>\n",
       "      <td>NaN</td>\n",
       "    </tr>\n",
       "    <tr>\n",
       "      <th>17</th>\n",
       "      <td>2005</td>\n",
       "      <td>Diesel</td>\n",
       "      <td>Fail</td>\n",
       "      <td>Male</td>\n",
       "      <td>Full</td>\n",
       "      <td>96888</td>\n",
       "      <td>No</td>\n",
       "      <td>NaN</td>\n",
       "    </tr>\n",
       "    <tr>\n",
       "      <th>18</th>\n",
       "      <td>2012</td>\n",
       "      <td>Diesel</td>\n",
       "      <td>Pass</td>\n",
       "      <td>Male</td>\n",
       "      <td>Full</td>\n",
       "      <td>13749</td>\n",
       "      <td>Yes</td>\n",
       "      <td>NaN</td>\n",
       "    </tr>\n",
       "    <tr>\n",
       "      <th>19</th>\n",
       "      <td>2005</td>\n",
       "      <td>Diesel</td>\n",
       "      <td>Pass</td>\n",
       "      <td>Female</td>\n",
       "      <td>Full</td>\n",
       "      <td>76334</td>\n",
       "      <td>Yes</td>\n",
       "      <td>NaN</td>\n",
       "    </tr>\n",
       "    <tr>\n",
       "      <th>20</th>\n",
       "      <td>2007</td>\n",
       "      <td>Diesel</td>\n",
       "      <td>Fail</td>\n",
       "      <td>Male</td>\n",
       "      <td>Full</td>\n",
       "      <td>56014</td>\n",
       "      <td>Yes</td>\n",
       "      <td>NaN</td>\n",
       "    </tr>\n",
       "    <tr>\n",
       "      <th>21</th>\n",
       "      <td>2008</td>\n",
       "      <td>Petrol</td>\n",
       "      <td>Fail</td>\n",
       "      <td>Male</td>\n",
       "      <td>Full</td>\n",
       "      <td>122386</td>\n",
       "      <td>Yes</td>\n",
       "      <td>NaN</td>\n",
       "    </tr>\n",
       "    <tr>\n",
       "      <th>22</th>\n",
       "      <td>2004</td>\n",
       "      <td>Diesel</td>\n",
       "      <td>Pass</td>\n",
       "      <td>Male</td>\n",
       "      <td>Full</td>\n",
       "      <td>78895</td>\n",
       "      <td>Yes</td>\n",
       "      <td>NaN</td>\n",
       "    </tr>\n",
       "    <tr>\n",
       "      <th>23</th>\n",
       "      <td>2005</td>\n",
       "      <td>Petrol</td>\n",
       "      <td>Fail</td>\n",
       "      <td>Female</td>\n",
       "      <td>Full</td>\n",
       "      <td>139231</td>\n",
       "      <td>Yes</td>\n",
       "      <td>NaN</td>\n",
       "    </tr>\n",
       "    <tr>\n",
       "      <th>24</th>\n",
       "      <td>2004</td>\n",
       "      <td>Diesel</td>\n",
       "      <td>Fail</td>\n",
       "      <td>Female</td>\n",
       "      <td>Full</td>\n",
       "      <td>179273</td>\n",
       "      <td>No</td>\n",
       "      <td>NaN</td>\n",
       "    </tr>\n",
       "    <tr>\n",
       "      <th>25</th>\n",
       "      <td>2004</td>\n",
       "      <td>Diesel</td>\n",
       "      <td>Fail</td>\n",
       "      <td>Male</td>\n",
       "      <td>Full</td>\n",
       "      <td>6154</td>\n",
       "      <td>Yes</td>\n",
       "      <td>NaN</td>\n",
       "    </tr>\n",
       "    <tr>\n",
       "      <th>26</th>\n",
       "      <td>2012</td>\n",
       "      <td>Diesel</td>\n",
       "      <td>Fail</td>\n",
       "      <td>Female</td>\n",
       "      <td>Full</td>\n",
       "      <td>20709</td>\n",
       "      <td>Yes</td>\n",
       "      <td>NaN</td>\n",
       "    </tr>\n",
       "    <tr>\n",
       "      <th>27</th>\n",
       "      <td>2007</td>\n",
       "      <td>Petrol</td>\n",
       "      <td>Fail</td>\n",
       "      <td>Female</td>\n",
       "      <td>Full</td>\n",
       "      <td>16992</td>\n",
       "      <td>Yes</td>\n",
       "      <td>NaN</td>\n",
       "    </tr>\n",
       "    <tr>\n",
       "      <th>28</th>\n",
       "      <td>2007</td>\n",
       "      <td>Diesel</td>\n",
       "      <td>Pass</td>\n",
       "      <td>Male</td>\n",
       "      <td>Full</td>\n",
       "      <td>69883</td>\n",
       "      <td>Yes</td>\n",
       "      <td>NaN</td>\n",
       "    </tr>\n",
       "    <tr>\n",
       "      <th>29</th>\n",
       "      <td>2006</td>\n",
       "      <td>Diesel</td>\n",
       "      <td>Fail</td>\n",
       "      <td>Male</td>\n",
       "      <td>Full</td>\n",
       "      <td>3013</td>\n",
       "      <td>No</td>\n",
       "      <td>NaN</td>\n",
       "    </tr>\n",
       "    <tr>\n",
       "      <th>...</th>\n",
       "      <td>...</td>\n",
       "      <td>...</td>\n",
       "      <td>...</td>\n",
       "      <td>...</td>\n",
       "      <td>...</td>\n",
       "      <td>...</td>\n",
       "      <td>...</td>\n",
       "      <td>...</td>\n",
       "    </tr>\n",
       "    <tr>\n",
       "      <th>470</th>\n",
       "      <td>2013</td>\n",
       "      <td>Diesel</td>\n",
       "      <td>Pass</td>\n",
       "      <td>Female</td>\n",
       "      <td>Learner</td>\n",
       "      <td>31910</td>\n",
       "      <td>Yes</td>\n",
       "      <td>NaN</td>\n",
       "    </tr>\n",
       "    <tr>\n",
       "      <th>471</th>\n",
       "      <td>2005</td>\n",
       "      <td>Diesel</td>\n",
       "      <td>Fail</td>\n",
       "      <td>Male</td>\n",
       "      <td>Full</td>\n",
       "      <td>104775</td>\n",
       "      <td>No</td>\n",
       "      <td>NaN</td>\n",
       "    </tr>\n",
       "    <tr>\n",
       "      <th>472</th>\n",
       "      <td>2012</td>\n",
       "      <td>Petrol</td>\n",
       "      <td>Pass</td>\n",
       "      <td>Male</td>\n",
       "      <td>Full</td>\n",
       "      <td>9093</td>\n",
       "      <td>Yes</td>\n",
       "      <td>NaN</td>\n",
       "    </tr>\n",
       "    <tr>\n",
       "      <th>473</th>\n",
       "      <td>2012</td>\n",
       "      <td>Diesel</td>\n",
       "      <td>Fail</td>\n",
       "      <td>Female</td>\n",
       "      <td>Full</td>\n",
       "      <td>35961</td>\n",
       "      <td>Yes</td>\n",
       "      <td>NaN</td>\n",
       "    </tr>\n",
       "    <tr>\n",
       "      <th>474</th>\n",
       "      <td>2014</td>\n",
       "      <td>Petrol</td>\n",
       "      <td>Incomplete</td>\n",
       "      <td>Male</td>\n",
       "      <td>Full</td>\n",
       "      <td>26023</td>\n",
       "      <td>No</td>\n",
       "      <td>NaN</td>\n",
       "    </tr>\n",
       "    <tr>\n",
       "      <th>475</th>\n",
       "      <td>2007</td>\n",
       "      <td>Diesel</td>\n",
       "      <td>Pass</td>\n",
       "      <td>Female</td>\n",
       "      <td>Learner</td>\n",
       "      <td>125459</td>\n",
       "      <td>Yes</td>\n",
       "      <td>NaN</td>\n",
       "    </tr>\n",
       "    <tr>\n",
       "      <th>476</th>\n",
       "      <td>2005</td>\n",
       "      <td>Diesel</td>\n",
       "      <td>Pass</td>\n",
       "      <td>Female</td>\n",
       "      <td>Full</td>\n",
       "      <td>114067</td>\n",
       "      <td>Yes</td>\n",
       "      <td>NaN</td>\n",
       "    </tr>\n",
       "    <tr>\n",
       "      <th>477</th>\n",
       "      <td>2005</td>\n",
       "      <td>Petrol</td>\n",
       "      <td>Pass</td>\n",
       "      <td>Female</td>\n",
       "      <td>Full</td>\n",
       "      <td>177020</td>\n",
       "      <td>Yes</td>\n",
       "      <td>NaN</td>\n",
       "    </tr>\n",
       "    <tr>\n",
       "      <th>478</th>\n",
       "      <td>2014</td>\n",
       "      <td>Petrol</td>\n",
       "      <td>Pass</td>\n",
       "      <td>Female</td>\n",
       "      <td>Full</td>\n",
       "      <td>22375</td>\n",
       "      <td>Yes</td>\n",
       "      <td>NaN</td>\n",
       "    </tr>\n",
       "    <tr>\n",
       "      <th>479</th>\n",
       "      <td>2010</td>\n",
       "      <td>Diesel</td>\n",
       "      <td>Fail</td>\n",
       "      <td>Female</td>\n",
       "      <td>Full</td>\n",
       "      <td>2041</td>\n",
       "      <td>Yes</td>\n",
       "      <td>NaN</td>\n",
       "    </tr>\n",
       "    <tr>\n",
       "      <th>480</th>\n",
       "      <td>2005</td>\n",
       "      <td>Petrol</td>\n",
       "      <td>Fail</td>\n",
       "      <td>Male</td>\n",
       "      <td>Full</td>\n",
       "      <td>33827</td>\n",
       "      <td>Yes</td>\n",
       "      <td>NaN</td>\n",
       "    </tr>\n",
       "    <tr>\n",
       "      <th>481</th>\n",
       "      <td>2007</td>\n",
       "      <td>Diesel</td>\n",
       "      <td>Fail</td>\n",
       "      <td>Male</td>\n",
       "      <td>Learner</td>\n",
       "      <td>88166</td>\n",
       "      <td>Yes</td>\n",
       "      <td>NaN</td>\n",
       "    </tr>\n",
       "    <tr>\n",
       "      <th>482</th>\n",
       "      <td>2005</td>\n",
       "      <td>Petrol</td>\n",
       "      <td>Pass</td>\n",
       "      <td>Male</td>\n",
       "      <td>Full</td>\n",
       "      <td>43656</td>\n",
       "      <td>Yes</td>\n",
       "      <td>NaN</td>\n",
       "    </tr>\n",
       "    <tr>\n",
       "      <th>483</th>\n",
       "      <td>2004</td>\n",
       "      <td>Diesel</td>\n",
       "      <td>Fail</td>\n",
       "      <td>Male</td>\n",
       "      <td>Full</td>\n",
       "      <td>65010</td>\n",
       "      <td>No</td>\n",
       "      <td>NaN</td>\n",
       "    </tr>\n",
       "    <tr>\n",
       "      <th>484</th>\n",
       "      <td>2006</td>\n",
       "      <td>Petrol</td>\n",
       "      <td>Pass</td>\n",
       "      <td>Male</td>\n",
       "      <td>Full</td>\n",
       "      <td>54926</td>\n",
       "      <td>Yes</td>\n",
       "      <td>NaN</td>\n",
       "    </tr>\n",
       "    <tr>\n",
       "      <th>485</th>\n",
       "      <td>2007</td>\n",
       "      <td>Diesel</td>\n",
       "      <td>Fail</td>\n",
       "      <td>Female</td>\n",
       "      <td>Full</td>\n",
       "      <td>48543</td>\n",
       "      <td>No</td>\n",
       "      <td>NaN</td>\n",
       "    </tr>\n",
       "    <tr>\n",
       "      <th>486</th>\n",
       "      <td>2005</td>\n",
       "      <td>Petrol</td>\n",
       "      <td>Fail</td>\n",
       "      <td>Male</td>\n",
       "      <td>Full</td>\n",
       "      <td>177854</td>\n",
       "      <td>Yes</td>\n",
       "      <td>NaN</td>\n",
       "    </tr>\n",
       "    <tr>\n",
       "      <th>487</th>\n",
       "      <td>2006</td>\n",
       "      <td>Petrol</td>\n",
       "      <td>Fail</td>\n",
       "      <td>Female</td>\n",
       "      <td>Full</td>\n",
       "      <td>34590</td>\n",
       "      <td>Yes</td>\n",
       "      <td>NaN</td>\n",
       "    </tr>\n",
       "    <tr>\n",
       "      <th>488</th>\n",
       "      <td>2008</td>\n",
       "      <td>Diesel</td>\n",
       "      <td>Fail</td>\n",
       "      <td>Male</td>\n",
       "      <td>Full</td>\n",
       "      <td>85696</td>\n",
       "      <td>Yes</td>\n",
       "      <td>NaN</td>\n",
       "    </tr>\n",
       "    <tr>\n",
       "      <th>489</th>\n",
       "      <td>2005</td>\n",
       "      <td>Diesel</td>\n",
       "      <td>Fail</td>\n",
       "      <td>Male</td>\n",
       "      <td>Full</td>\n",
       "      <td>107418</td>\n",
       "      <td>Yes</td>\n",
       "      <td>NaN</td>\n",
       "    </tr>\n",
       "    <tr>\n",
       "      <th>490</th>\n",
       "      <td>2006</td>\n",
       "      <td>Diesel</td>\n",
       "      <td>Fail</td>\n",
       "      <td>Male</td>\n",
       "      <td>Full</td>\n",
       "      <td>9321</td>\n",
       "      <td>Yes</td>\n",
       "      <td>NaN</td>\n",
       "    </tr>\n",
       "    <tr>\n",
       "      <th>491</th>\n",
       "      <td>2014</td>\n",
       "      <td>Diesel</td>\n",
       "      <td>Pass</td>\n",
       "      <td>Male</td>\n",
       "      <td>Full</td>\n",
       "      <td>25720</td>\n",
       "      <td>Yes</td>\n",
       "      <td>NaN</td>\n",
       "    </tr>\n",
       "    <tr>\n",
       "      <th>492</th>\n",
       "      <td>2012</td>\n",
       "      <td>Diesel</td>\n",
       "      <td>Fail</td>\n",
       "      <td>Male</td>\n",
       "      <td>Full</td>\n",
       "      <td>21747</td>\n",
       "      <td>No</td>\n",
       "      <td>NaN</td>\n",
       "    </tr>\n",
       "    <tr>\n",
       "      <th>493</th>\n",
       "      <td>2010</td>\n",
       "      <td>Diesel</td>\n",
       "      <td>Pass</td>\n",
       "      <td>Female</td>\n",
       "      <td>Full</td>\n",
       "      <td>31036</td>\n",
       "      <td>Yes</td>\n",
       "      <td>NaN</td>\n",
       "    </tr>\n",
       "    <tr>\n",
       "      <th>494</th>\n",
       "      <td>2003</td>\n",
       "      <td>Diesel</td>\n",
       "      <td>Fail</td>\n",
       "      <td>Male</td>\n",
       "      <td>Full</td>\n",
       "      <td>93547</td>\n",
       "      <td>No</td>\n",
       "      <td>NaN</td>\n",
       "    </tr>\n",
       "    <tr>\n",
       "      <th>495</th>\n",
       "      <td>2005</td>\n",
       "      <td>Diesel</td>\n",
       "      <td>Pass</td>\n",
       "      <td>Male</td>\n",
       "      <td>Full</td>\n",
       "      <td>44660</td>\n",
       "      <td>No</td>\n",
       "      <td>NaN</td>\n",
       "    </tr>\n",
       "    <tr>\n",
       "      <th>496</th>\n",
       "      <td>2006</td>\n",
       "      <td>Diesel</td>\n",
       "      <td>Pass</td>\n",
       "      <td>Male</td>\n",
       "      <td>Full</td>\n",
       "      <td>131685</td>\n",
       "      <td>Yes</td>\n",
       "      <td>NaN</td>\n",
       "    </tr>\n",
       "    <tr>\n",
       "      <th>497</th>\n",
       "      <td>2007</td>\n",
       "      <td>Diesel</td>\n",
       "      <td>Fail</td>\n",
       "      <td>Male</td>\n",
       "      <td>Learner</td>\n",
       "      <td>93019</td>\n",
       "      <td>Yes</td>\n",
       "      <td>NaN</td>\n",
       "    </tr>\n",
       "    <tr>\n",
       "      <th>498</th>\n",
       "      <td>2013</td>\n",
       "      <td>Diesel</td>\n",
       "      <td>Fail</td>\n",
       "      <td>Female</td>\n",
       "      <td>Full</td>\n",
       "      <td>39421</td>\n",
       "      <td>Yes</td>\n",
       "      <td>NaN</td>\n",
       "    </tr>\n",
       "    <tr>\n",
       "      <th>499</th>\n",
       "      <td>2007</td>\n",
       "      <td>Diesel</td>\n",
       "      <td>Fail</td>\n",
       "      <td>Male</td>\n",
       "      <td>Full</td>\n",
       "      <td>47963</td>\n",
       "      <td>No</td>\n",
       "      <td>NaN</td>\n",
       "    </tr>\n",
       "  </tbody>\n",
       "</table>\n",
       "<p>500 rows × 8 columns</p>\n",
       "</div>"
      ],
      "text/plain": [
       "     Year    Fuel      Status     Sex Licence_type  Mileage Service Expected\n",
       "0    2006  Petrol        Fail  Female         Full   111160      No      NaN\n",
       "1    2006  Diesel        Pass    Male      Learner   105957     Yes      NaN\n",
       "2    2006  Diesel        Pass  Female         Full    29202      No      NaN\n",
       "3    2008  Petrol        Fail  Female         Full     7475     Yes      NaN\n",
       "4    2012  Diesel        Fail    Male         Full    41131      No      NaN\n",
       "5    2006  Diesel        Fail    Male         Full   144253     Yes      NaN\n",
       "6    2013  Diesel        Fail    Male         Full    48324      No      NaN\n",
       "7    2008  Diesel        Fail    Male         Full    41644     Yes      NaN\n",
       "8    2014  Diesel        Fail  Female         Full    26390     Yes      NaN\n",
       "9    2005  Petrol        Pass  Female         Full   106702     Yes      NaN\n",
       "10   2008  Diesel        Pass  Female         Full    83155     Yes      NaN\n",
       "11   2008  Diesel        Fail    Male         Full    56478      No      NaN\n",
       "12   2007  Petrol        Pass    Male      Learner    20103     Yes      NaN\n",
       "13   2007  Diesel        Fail    Male         Full   133402     Yes      NaN\n",
       "14   2007  Diesel        Fail    Male         Full    65359     Yes      NaN\n",
       "15   2006  Diesel        Pass    Male         Full    33504      No      NaN\n",
       "16   2007  Diesel        Fail  Female         Full   101294     Yes      NaN\n",
       "17   2005  Diesel        Fail    Male         Full    96888      No      NaN\n",
       "18   2012  Diesel        Pass    Male         Full    13749     Yes      NaN\n",
       "19   2005  Diesel        Pass  Female         Full    76334     Yes      NaN\n",
       "20   2007  Diesel        Fail    Male         Full    56014     Yes      NaN\n",
       "21   2008  Petrol        Fail    Male         Full   122386     Yes      NaN\n",
       "22   2004  Diesel        Pass    Male         Full    78895     Yes      NaN\n",
       "23   2005  Petrol        Fail  Female         Full   139231     Yes      NaN\n",
       "24   2004  Diesel        Fail  Female         Full   179273      No      NaN\n",
       "25   2004  Diesel        Fail    Male         Full     6154     Yes      NaN\n",
       "26   2012  Diesel        Fail  Female         Full    20709     Yes      NaN\n",
       "27   2007  Petrol        Fail  Female         Full    16992     Yes      NaN\n",
       "28   2007  Diesel        Pass    Male         Full    69883     Yes      NaN\n",
       "29   2006  Diesel        Fail    Male         Full     3013      No      NaN\n",
       "..    ...     ...         ...     ...          ...      ...     ...      ...\n",
       "470  2013  Diesel        Pass  Female      Learner    31910     Yes      NaN\n",
       "471  2005  Diesel        Fail    Male         Full   104775      No      NaN\n",
       "472  2012  Petrol        Pass    Male         Full     9093     Yes      NaN\n",
       "473  2012  Diesel        Fail  Female         Full    35961     Yes      NaN\n",
       "474  2014  Petrol  Incomplete    Male         Full    26023      No      NaN\n",
       "475  2007  Diesel        Pass  Female      Learner   125459     Yes      NaN\n",
       "476  2005  Diesel        Pass  Female         Full   114067     Yes      NaN\n",
       "477  2005  Petrol        Pass  Female         Full   177020     Yes      NaN\n",
       "478  2014  Petrol        Pass  Female         Full    22375     Yes      NaN\n",
       "479  2010  Diesel        Fail  Female         Full     2041     Yes      NaN\n",
       "480  2005  Petrol        Fail    Male         Full    33827     Yes      NaN\n",
       "481  2007  Diesel        Fail    Male      Learner    88166     Yes      NaN\n",
       "482  2005  Petrol        Pass    Male         Full    43656     Yes      NaN\n",
       "483  2004  Diesel        Fail    Male         Full    65010      No      NaN\n",
       "484  2006  Petrol        Pass    Male         Full    54926     Yes      NaN\n",
       "485  2007  Diesel        Fail  Female         Full    48543      No      NaN\n",
       "486  2005  Petrol        Fail    Male         Full   177854     Yes      NaN\n",
       "487  2006  Petrol        Fail  Female         Full    34590     Yes      NaN\n",
       "488  2008  Diesel        Fail    Male         Full    85696     Yes      NaN\n",
       "489  2005  Diesel        Fail    Male         Full   107418     Yes      NaN\n",
       "490  2006  Diesel        Fail    Male         Full     9321     Yes      NaN\n",
       "491  2014  Diesel        Pass    Male         Full    25720     Yes      NaN\n",
       "492  2012  Diesel        Fail    Male         Full    21747      No      NaN\n",
       "493  2010  Diesel        Pass  Female         Full    31036     Yes      NaN\n",
       "494  2003  Diesel        Fail    Male         Full    93547      No      NaN\n",
       "495  2005  Diesel        Pass    Male         Full    44660      No      NaN\n",
       "496  2006  Diesel        Pass    Male         Full   131685     Yes      NaN\n",
       "497  2007  Diesel        Fail    Male      Learner    93019     Yes      NaN\n",
       "498  2013  Diesel        Fail  Female         Full    39421     Yes      NaN\n",
       "499  2007  Diesel        Fail    Male         Full    47963      No      NaN\n",
       "\n",
       "[500 rows x 8 columns]"
      ]
     },
     "execution_count": 18,
     "metadata": {},
     "output_type": "execute_result"
    }
   ],
   "source": [
    "# Create the service types (Prior to nct)\n",
    "Service = [\"Yes\", \"No\"]\n",
    "\n",
    "# Populate the service column \n",
    "df[\"Service\"] = np.random.choice(Service, 500, p=[0.67, 0.33])\n",
    "df"
   ]
  },
  {
   "cell_type": "code",
   "execution_count": 19,
   "metadata": {},
   "outputs": [
    {
     "data": {
      "text/html": [
       "<div>\n",
       "<style scoped>\n",
       "    .dataframe tbody tr th:only-of-type {\n",
       "        vertical-align: middle;\n",
       "    }\n",
       "\n",
       "    .dataframe tbody tr th {\n",
       "        vertical-align: top;\n",
       "    }\n",
       "\n",
       "    .dataframe thead th {\n",
       "        text-align: right;\n",
       "    }\n",
       "</style>\n",
       "<table border=\"1\" class=\"dataframe\">\n",
       "  <thead>\n",
       "    <tr style=\"text-align: right;\">\n",
       "      <th></th>\n",
       "      <th>Year</th>\n",
       "      <th>Fuel</th>\n",
       "      <th>Status</th>\n",
       "      <th>Sex</th>\n",
       "      <th>Licence_type</th>\n",
       "      <th>Mileage</th>\n",
       "      <th>Service</th>\n",
       "      <th>Expected</th>\n",
       "    </tr>\n",
       "  </thead>\n",
       "  <tbody>\n",
       "    <tr>\n",
       "      <th>0</th>\n",
       "      <td>2006</td>\n",
       "      <td>Petrol</td>\n",
       "      <td>Fail</td>\n",
       "      <td>Female</td>\n",
       "      <td>Full</td>\n",
       "      <td>111160</td>\n",
       "      <td>No</td>\n",
       "      <td>Fail</td>\n",
       "    </tr>\n",
       "    <tr>\n",
       "      <th>1</th>\n",
       "      <td>2006</td>\n",
       "      <td>Diesel</td>\n",
       "      <td>Pass</td>\n",
       "      <td>Male</td>\n",
       "      <td>Learner</td>\n",
       "      <td>105957</td>\n",
       "      <td>Yes</td>\n",
       "      <td>Pass</td>\n",
       "    </tr>\n",
       "    <tr>\n",
       "      <th>2</th>\n",
       "      <td>2006</td>\n",
       "      <td>Diesel</td>\n",
       "      <td>Pass</td>\n",
       "      <td>Female</td>\n",
       "      <td>Full</td>\n",
       "      <td>29202</td>\n",
       "      <td>No</td>\n",
       "      <td>Fail</td>\n",
       "    </tr>\n",
       "    <tr>\n",
       "      <th>3</th>\n",
       "      <td>2008</td>\n",
       "      <td>Petrol</td>\n",
       "      <td>Fail</td>\n",
       "      <td>Female</td>\n",
       "      <td>Full</td>\n",
       "      <td>7475</td>\n",
       "      <td>Yes</td>\n",
       "      <td>Pass</td>\n",
       "    </tr>\n",
       "    <tr>\n",
       "      <th>4</th>\n",
       "      <td>2012</td>\n",
       "      <td>Diesel</td>\n",
       "      <td>Fail</td>\n",
       "      <td>Male</td>\n",
       "      <td>Full</td>\n",
       "      <td>41131</td>\n",
       "      <td>No</td>\n",
       "      <td>Fail</td>\n",
       "    </tr>\n",
       "    <tr>\n",
       "      <th>5</th>\n",
       "      <td>2006</td>\n",
       "      <td>Diesel</td>\n",
       "      <td>Fail</td>\n",
       "      <td>Male</td>\n",
       "      <td>Full</td>\n",
       "      <td>144253</td>\n",
       "      <td>Yes</td>\n",
       "      <td>Pass</td>\n",
       "    </tr>\n",
       "    <tr>\n",
       "      <th>6</th>\n",
       "      <td>2013</td>\n",
       "      <td>Diesel</td>\n",
       "      <td>Fail</td>\n",
       "      <td>Male</td>\n",
       "      <td>Full</td>\n",
       "      <td>48324</td>\n",
       "      <td>No</td>\n",
       "      <td>Fail</td>\n",
       "    </tr>\n",
       "    <tr>\n",
       "      <th>7</th>\n",
       "      <td>2008</td>\n",
       "      <td>Diesel</td>\n",
       "      <td>Fail</td>\n",
       "      <td>Male</td>\n",
       "      <td>Full</td>\n",
       "      <td>41644</td>\n",
       "      <td>Yes</td>\n",
       "      <td>Pass</td>\n",
       "    </tr>\n",
       "    <tr>\n",
       "      <th>8</th>\n",
       "      <td>2014</td>\n",
       "      <td>Diesel</td>\n",
       "      <td>Fail</td>\n",
       "      <td>Female</td>\n",
       "      <td>Full</td>\n",
       "      <td>26390</td>\n",
       "      <td>Yes</td>\n",
       "      <td>Pass</td>\n",
       "    </tr>\n",
       "    <tr>\n",
       "      <th>9</th>\n",
       "      <td>2005</td>\n",
       "      <td>Petrol</td>\n",
       "      <td>Pass</td>\n",
       "      <td>Female</td>\n",
       "      <td>Full</td>\n",
       "      <td>106702</td>\n",
       "      <td>Yes</td>\n",
       "      <td>Pass</td>\n",
       "    </tr>\n",
       "    <tr>\n",
       "      <th>10</th>\n",
       "      <td>2008</td>\n",
       "      <td>Diesel</td>\n",
       "      <td>Pass</td>\n",
       "      <td>Female</td>\n",
       "      <td>Full</td>\n",
       "      <td>83155</td>\n",
       "      <td>Yes</td>\n",
       "      <td>Pass</td>\n",
       "    </tr>\n",
       "    <tr>\n",
       "      <th>11</th>\n",
       "      <td>2008</td>\n",
       "      <td>Diesel</td>\n",
       "      <td>Fail</td>\n",
       "      <td>Male</td>\n",
       "      <td>Full</td>\n",
       "      <td>56478</td>\n",
       "      <td>No</td>\n",
       "      <td>Fail</td>\n",
       "    </tr>\n",
       "    <tr>\n",
       "      <th>12</th>\n",
       "      <td>2007</td>\n",
       "      <td>Petrol</td>\n",
       "      <td>Pass</td>\n",
       "      <td>Male</td>\n",
       "      <td>Learner</td>\n",
       "      <td>20103</td>\n",
       "      <td>Yes</td>\n",
       "      <td>Pass</td>\n",
       "    </tr>\n",
       "    <tr>\n",
       "      <th>13</th>\n",
       "      <td>2007</td>\n",
       "      <td>Diesel</td>\n",
       "      <td>Fail</td>\n",
       "      <td>Male</td>\n",
       "      <td>Full</td>\n",
       "      <td>133402</td>\n",
       "      <td>Yes</td>\n",
       "      <td>Pass</td>\n",
       "    </tr>\n",
       "    <tr>\n",
       "      <th>14</th>\n",
       "      <td>2007</td>\n",
       "      <td>Diesel</td>\n",
       "      <td>Fail</td>\n",
       "      <td>Male</td>\n",
       "      <td>Full</td>\n",
       "      <td>65359</td>\n",
       "      <td>Yes</td>\n",
       "      <td>Pass</td>\n",
       "    </tr>\n",
       "    <tr>\n",
       "      <th>15</th>\n",
       "      <td>2006</td>\n",
       "      <td>Diesel</td>\n",
       "      <td>Pass</td>\n",
       "      <td>Male</td>\n",
       "      <td>Full</td>\n",
       "      <td>33504</td>\n",
       "      <td>No</td>\n",
       "      <td>Fail</td>\n",
       "    </tr>\n",
       "    <tr>\n",
       "      <th>16</th>\n",
       "      <td>2007</td>\n",
       "      <td>Diesel</td>\n",
       "      <td>Fail</td>\n",
       "      <td>Female</td>\n",
       "      <td>Full</td>\n",
       "      <td>101294</td>\n",
       "      <td>Yes</td>\n",
       "      <td>Pass</td>\n",
       "    </tr>\n",
       "    <tr>\n",
       "      <th>17</th>\n",
       "      <td>2005</td>\n",
       "      <td>Diesel</td>\n",
       "      <td>Fail</td>\n",
       "      <td>Male</td>\n",
       "      <td>Full</td>\n",
       "      <td>96888</td>\n",
       "      <td>No</td>\n",
       "      <td>Fail</td>\n",
       "    </tr>\n",
       "    <tr>\n",
       "      <th>18</th>\n",
       "      <td>2012</td>\n",
       "      <td>Diesel</td>\n",
       "      <td>Pass</td>\n",
       "      <td>Male</td>\n",
       "      <td>Full</td>\n",
       "      <td>13749</td>\n",
       "      <td>Yes</td>\n",
       "      <td>Pass</td>\n",
       "    </tr>\n",
       "    <tr>\n",
       "      <th>19</th>\n",
       "      <td>2005</td>\n",
       "      <td>Diesel</td>\n",
       "      <td>Pass</td>\n",
       "      <td>Female</td>\n",
       "      <td>Full</td>\n",
       "      <td>76334</td>\n",
       "      <td>Yes</td>\n",
       "      <td>Pass</td>\n",
       "    </tr>\n",
       "    <tr>\n",
       "      <th>20</th>\n",
       "      <td>2007</td>\n",
       "      <td>Diesel</td>\n",
       "      <td>Fail</td>\n",
       "      <td>Male</td>\n",
       "      <td>Full</td>\n",
       "      <td>56014</td>\n",
       "      <td>Yes</td>\n",
       "      <td>Pass</td>\n",
       "    </tr>\n",
       "    <tr>\n",
       "      <th>21</th>\n",
       "      <td>2008</td>\n",
       "      <td>Petrol</td>\n",
       "      <td>Fail</td>\n",
       "      <td>Male</td>\n",
       "      <td>Full</td>\n",
       "      <td>122386</td>\n",
       "      <td>Yes</td>\n",
       "      <td>Pass</td>\n",
       "    </tr>\n",
       "    <tr>\n",
       "      <th>22</th>\n",
       "      <td>2004</td>\n",
       "      <td>Diesel</td>\n",
       "      <td>Pass</td>\n",
       "      <td>Male</td>\n",
       "      <td>Full</td>\n",
       "      <td>78895</td>\n",
       "      <td>Yes</td>\n",
       "      <td>Pass</td>\n",
       "    </tr>\n",
       "    <tr>\n",
       "      <th>23</th>\n",
       "      <td>2005</td>\n",
       "      <td>Petrol</td>\n",
       "      <td>Fail</td>\n",
       "      <td>Female</td>\n",
       "      <td>Full</td>\n",
       "      <td>139231</td>\n",
       "      <td>Yes</td>\n",
       "      <td>Pass</td>\n",
       "    </tr>\n",
       "    <tr>\n",
       "      <th>24</th>\n",
       "      <td>2004</td>\n",
       "      <td>Diesel</td>\n",
       "      <td>Fail</td>\n",
       "      <td>Female</td>\n",
       "      <td>Full</td>\n",
       "      <td>179273</td>\n",
       "      <td>No</td>\n",
       "      <td>Fail</td>\n",
       "    </tr>\n",
       "    <tr>\n",
       "      <th>25</th>\n",
       "      <td>2004</td>\n",
       "      <td>Diesel</td>\n",
       "      <td>Fail</td>\n",
       "      <td>Male</td>\n",
       "      <td>Full</td>\n",
       "      <td>6154</td>\n",
       "      <td>Yes</td>\n",
       "      <td>Pass</td>\n",
       "    </tr>\n",
       "    <tr>\n",
       "      <th>26</th>\n",
       "      <td>2012</td>\n",
       "      <td>Diesel</td>\n",
       "      <td>Fail</td>\n",
       "      <td>Female</td>\n",
       "      <td>Full</td>\n",
       "      <td>20709</td>\n",
       "      <td>Yes</td>\n",
       "      <td>Pass</td>\n",
       "    </tr>\n",
       "    <tr>\n",
       "      <th>27</th>\n",
       "      <td>2007</td>\n",
       "      <td>Petrol</td>\n",
       "      <td>Fail</td>\n",
       "      <td>Female</td>\n",
       "      <td>Full</td>\n",
       "      <td>16992</td>\n",
       "      <td>Yes</td>\n",
       "      <td>Pass</td>\n",
       "    </tr>\n",
       "    <tr>\n",
       "      <th>28</th>\n",
       "      <td>2007</td>\n",
       "      <td>Diesel</td>\n",
       "      <td>Pass</td>\n",
       "      <td>Male</td>\n",
       "      <td>Full</td>\n",
       "      <td>69883</td>\n",
       "      <td>Yes</td>\n",
       "      <td>Pass</td>\n",
       "    </tr>\n",
       "    <tr>\n",
       "      <th>29</th>\n",
       "      <td>2006</td>\n",
       "      <td>Diesel</td>\n",
       "      <td>Fail</td>\n",
       "      <td>Male</td>\n",
       "      <td>Full</td>\n",
       "      <td>3013</td>\n",
       "      <td>No</td>\n",
       "      <td>Fail</td>\n",
       "    </tr>\n",
       "    <tr>\n",
       "      <th>...</th>\n",
       "      <td>...</td>\n",
       "      <td>...</td>\n",
       "      <td>...</td>\n",
       "      <td>...</td>\n",
       "      <td>...</td>\n",
       "      <td>...</td>\n",
       "      <td>...</td>\n",
       "      <td>...</td>\n",
       "    </tr>\n",
       "    <tr>\n",
       "      <th>470</th>\n",
       "      <td>2013</td>\n",
       "      <td>Diesel</td>\n",
       "      <td>Pass</td>\n",
       "      <td>Female</td>\n",
       "      <td>Learner</td>\n",
       "      <td>31910</td>\n",
       "      <td>Yes</td>\n",
       "      <td>Pass</td>\n",
       "    </tr>\n",
       "    <tr>\n",
       "      <th>471</th>\n",
       "      <td>2005</td>\n",
       "      <td>Diesel</td>\n",
       "      <td>Fail</td>\n",
       "      <td>Male</td>\n",
       "      <td>Full</td>\n",
       "      <td>104775</td>\n",
       "      <td>No</td>\n",
       "      <td>Fail</td>\n",
       "    </tr>\n",
       "    <tr>\n",
       "      <th>472</th>\n",
       "      <td>2012</td>\n",
       "      <td>Petrol</td>\n",
       "      <td>Pass</td>\n",
       "      <td>Male</td>\n",
       "      <td>Full</td>\n",
       "      <td>9093</td>\n",
       "      <td>Yes</td>\n",
       "      <td>Pass</td>\n",
       "    </tr>\n",
       "    <tr>\n",
       "      <th>473</th>\n",
       "      <td>2012</td>\n",
       "      <td>Diesel</td>\n",
       "      <td>Fail</td>\n",
       "      <td>Female</td>\n",
       "      <td>Full</td>\n",
       "      <td>35961</td>\n",
       "      <td>Yes</td>\n",
       "      <td>Pass</td>\n",
       "    </tr>\n",
       "    <tr>\n",
       "      <th>474</th>\n",
       "      <td>2014</td>\n",
       "      <td>Petrol</td>\n",
       "      <td>Incomplete</td>\n",
       "      <td>Male</td>\n",
       "      <td>Full</td>\n",
       "      <td>26023</td>\n",
       "      <td>No</td>\n",
       "      <td>Fail</td>\n",
       "    </tr>\n",
       "    <tr>\n",
       "      <th>475</th>\n",
       "      <td>2007</td>\n",
       "      <td>Diesel</td>\n",
       "      <td>Pass</td>\n",
       "      <td>Female</td>\n",
       "      <td>Learner</td>\n",
       "      <td>125459</td>\n",
       "      <td>Yes</td>\n",
       "      <td>Pass</td>\n",
       "    </tr>\n",
       "    <tr>\n",
       "      <th>476</th>\n",
       "      <td>2005</td>\n",
       "      <td>Diesel</td>\n",
       "      <td>Pass</td>\n",
       "      <td>Female</td>\n",
       "      <td>Full</td>\n",
       "      <td>114067</td>\n",
       "      <td>Yes</td>\n",
       "      <td>Pass</td>\n",
       "    </tr>\n",
       "    <tr>\n",
       "      <th>477</th>\n",
       "      <td>2005</td>\n",
       "      <td>Petrol</td>\n",
       "      <td>Pass</td>\n",
       "      <td>Female</td>\n",
       "      <td>Full</td>\n",
       "      <td>177020</td>\n",
       "      <td>Yes</td>\n",
       "      <td>Fail</td>\n",
       "    </tr>\n",
       "    <tr>\n",
       "      <th>478</th>\n",
       "      <td>2014</td>\n",
       "      <td>Petrol</td>\n",
       "      <td>Pass</td>\n",
       "      <td>Female</td>\n",
       "      <td>Full</td>\n",
       "      <td>22375</td>\n",
       "      <td>Yes</td>\n",
       "      <td>Pass</td>\n",
       "    </tr>\n",
       "    <tr>\n",
       "      <th>479</th>\n",
       "      <td>2010</td>\n",
       "      <td>Diesel</td>\n",
       "      <td>Fail</td>\n",
       "      <td>Female</td>\n",
       "      <td>Full</td>\n",
       "      <td>2041</td>\n",
       "      <td>Yes</td>\n",
       "      <td>Pass</td>\n",
       "    </tr>\n",
       "    <tr>\n",
       "      <th>480</th>\n",
       "      <td>2005</td>\n",
       "      <td>Petrol</td>\n",
       "      <td>Fail</td>\n",
       "      <td>Male</td>\n",
       "      <td>Full</td>\n",
       "      <td>33827</td>\n",
       "      <td>Yes</td>\n",
       "      <td>Pass</td>\n",
       "    </tr>\n",
       "    <tr>\n",
       "      <th>481</th>\n",
       "      <td>2007</td>\n",
       "      <td>Diesel</td>\n",
       "      <td>Fail</td>\n",
       "      <td>Male</td>\n",
       "      <td>Learner</td>\n",
       "      <td>88166</td>\n",
       "      <td>Yes</td>\n",
       "      <td>Pass</td>\n",
       "    </tr>\n",
       "    <tr>\n",
       "      <th>482</th>\n",
       "      <td>2005</td>\n",
       "      <td>Petrol</td>\n",
       "      <td>Pass</td>\n",
       "      <td>Male</td>\n",
       "      <td>Full</td>\n",
       "      <td>43656</td>\n",
       "      <td>Yes</td>\n",
       "      <td>Pass</td>\n",
       "    </tr>\n",
       "    <tr>\n",
       "      <th>483</th>\n",
       "      <td>2004</td>\n",
       "      <td>Diesel</td>\n",
       "      <td>Fail</td>\n",
       "      <td>Male</td>\n",
       "      <td>Full</td>\n",
       "      <td>65010</td>\n",
       "      <td>No</td>\n",
       "      <td>Fail</td>\n",
       "    </tr>\n",
       "    <tr>\n",
       "      <th>484</th>\n",
       "      <td>2006</td>\n",
       "      <td>Petrol</td>\n",
       "      <td>Pass</td>\n",
       "      <td>Male</td>\n",
       "      <td>Full</td>\n",
       "      <td>54926</td>\n",
       "      <td>Yes</td>\n",
       "      <td>Pass</td>\n",
       "    </tr>\n",
       "    <tr>\n",
       "      <th>485</th>\n",
       "      <td>2007</td>\n",
       "      <td>Diesel</td>\n",
       "      <td>Fail</td>\n",
       "      <td>Female</td>\n",
       "      <td>Full</td>\n",
       "      <td>48543</td>\n",
       "      <td>No</td>\n",
       "      <td>Fail</td>\n",
       "    </tr>\n",
       "    <tr>\n",
       "      <th>486</th>\n",
       "      <td>2005</td>\n",
       "      <td>Petrol</td>\n",
       "      <td>Fail</td>\n",
       "      <td>Male</td>\n",
       "      <td>Full</td>\n",
       "      <td>177854</td>\n",
       "      <td>Yes</td>\n",
       "      <td>Fail</td>\n",
       "    </tr>\n",
       "    <tr>\n",
       "      <th>487</th>\n",
       "      <td>2006</td>\n",
       "      <td>Petrol</td>\n",
       "      <td>Fail</td>\n",
       "      <td>Female</td>\n",
       "      <td>Full</td>\n",
       "      <td>34590</td>\n",
       "      <td>Yes</td>\n",
       "      <td>Pass</td>\n",
       "    </tr>\n",
       "    <tr>\n",
       "      <th>488</th>\n",
       "      <td>2008</td>\n",
       "      <td>Diesel</td>\n",
       "      <td>Fail</td>\n",
       "      <td>Male</td>\n",
       "      <td>Full</td>\n",
       "      <td>85696</td>\n",
       "      <td>Yes</td>\n",
       "      <td>Pass</td>\n",
       "    </tr>\n",
       "    <tr>\n",
       "      <th>489</th>\n",
       "      <td>2005</td>\n",
       "      <td>Diesel</td>\n",
       "      <td>Fail</td>\n",
       "      <td>Male</td>\n",
       "      <td>Full</td>\n",
       "      <td>107418</td>\n",
       "      <td>Yes</td>\n",
       "      <td>Pass</td>\n",
       "    </tr>\n",
       "    <tr>\n",
       "      <th>490</th>\n",
       "      <td>2006</td>\n",
       "      <td>Diesel</td>\n",
       "      <td>Fail</td>\n",
       "      <td>Male</td>\n",
       "      <td>Full</td>\n",
       "      <td>9321</td>\n",
       "      <td>Yes</td>\n",
       "      <td>Pass</td>\n",
       "    </tr>\n",
       "    <tr>\n",
       "      <th>491</th>\n",
       "      <td>2014</td>\n",
       "      <td>Diesel</td>\n",
       "      <td>Pass</td>\n",
       "      <td>Male</td>\n",
       "      <td>Full</td>\n",
       "      <td>25720</td>\n",
       "      <td>Yes</td>\n",
       "      <td>Pass</td>\n",
       "    </tr>\n",
       "    <tr>\n",
       "      <th>492</th>\n",
       "      <td>2012</td>\n",
       "      <td>Diesel</td>\n",
       "      <td>Fail</td>\n",
       "      <td>Male</td>\n",
       "      <td>Full</td>\n",
       "      <td>21747</td>\n",
       "      <td>No</td>\n",
       "      <td>Fail</td>\n",
       "    </tr>\n",
       "    <tr>\n",
       "      <th>493</th>\n",
       "      <td>2010</td>\n",
       "      <td>Diesel</td>\n",
       "      <td>Pass</td>\n",
       "      <td>Female</td>\n",
       "      <td>Full</td>\n",
       "      <td>31036</td>\n",
       "      <td>Yes</td>\n",
       "      <td>Pass</td>\n",
       "    </tr>\n",
       "    <tr>\n",
       "      <th>494</th>\n",
       "      <td>2003</td>\n",
       "      <td>Diesel</td>\n",
       "      <td>Fail</td>\n",
       "      <td>Male</td>\n",
       "      <td>Full</td>\n",
       "      <td>93547</td>\n",
       "      <td>No</td>\n",
       "      <td>Fail</td>\n",
       "    </tr>\n",
       "    <tr>\n",
       "      <th>495</th>\n",
       "      <td>2005</td>\n",
       "      <td>Diesel</td>\n",
       "      <td>Pass</td>\n",
       "      <td>Male</td>\n",
       "      <td>Full</td>\n",
       "      <td>44660</td>\n",
       "      <td>No</td>\n",
       "      <td>Fail</td>\n",
       "    </tr>\n",
       "    <tr>\n",
       "      <th>496</th>\n",
       "      <td>2006</td>\n",
       "      <td>Diesel</td>\n",
       "      <td>Pass</td>\n",
       "      <td>Male</td>\n",
       "      <td>Full</td>\n",
       "      <td>131685</td>\n",
       "      <td>Yes</td>\n",
       "      <td>Pass</td>\n",
       "    </tr>\n",
       "    <tr>\n",
       "      <th>497</th>\n",
       "      <td>2007</td>\n",
       "      <td>Diesel</td>\n",
       "      <td>Fail</td>\n",
       "      <td>Male</td>\n",
       "      <td>Learner</td>\n",
       "      <td>93019</td>\n",
       "      <td>Yes</td>\n",
       "      <td>Pass</td>\n",
       "    </tr>\n",
       "    <tr>\n",
       "      <th>498</th>\n",
       "      <td>2013</td>\n",
       "      <td>Diesel</td>\n",
       "      <td>Fail</td>\n",
       "      <td>Female</td>\n",
       "      <td>Full</td>\n",
       "      <td>39421</td>\n",
       "      <td>Yes</td>\n",
       "      <td>Pass</td>\n",
       "    </tr>\n",
       "    <tr>\n",
       "      <th>499</th>\n",
       "      <td>2007</td>\n",
       "      <td>Diesel</td>\n",
       "      <td>Fail</td>\n",
       "      <td>Male</td>\n",
       "      <td>Full</td>\n",
       "      <td>47963</td>\n",
       "      <td>No</td>\n",
       "      <td>Fail</td>\n",
       "    </tr>\n",
       "  </tbody>\n",
       "</table>\n",
       "<p>500 rows × 8 columns</p>\n",
       "</div>"
      ],
      "text/plain": [
       "     Year    Fuel      Status     Sex Licence_type  Mileage Service Expected\n",
       "0    2006  Petrol        Fail  Female         Full   111160      No     Fail\n",
       "1    2006  Diesel        Pass    Male      Learner   105957     Yes     Pass\n",
       "2    2006  Diesel        Pass  Female         Full    29202      No     Fail\n",
       "3    2008  Petrol        Fail  Female         Full     7475     Yes     Pass\n",
       "4    2012  Diesel        Fail    Male         Full    41131      No     Fail\n",
       "5    2006  Diesel        Fail    Male         Full   144253     Yes     Pass\n",
       "6    2013  Diesel        Fail    Male         Full    48324      No     Fail\n",
       "7    2008  Diesel        Fail    Male         Full    41644     Yes     Pass\n",
       "8    2014  Diesel        Fail  Female         Full    26390     Yes     Pass\n",
       "9    2005  Petrol        Pass  Female         Full   106702     Yes     Pass\n",
       "10   2008  Diesel        Pass  Female         Full    83155     Yes     Pass\n",
       "11   2008  Diesel        Fail    Male         Full    56478      No     Fail\n",
       "12   2007  Petrol        Pass    Male      Learner    20103     Yes     Pass\n",
       "13   2007  Diesel        Fail    Male         Full   133402     Yes     Pass\n",
       "14   2007  Diesel        Fail    Male         Full    65359     Yes     Pass\n",
       "15   2006  Diesel        Pass    Male         Full    33504      No     Fail\n",
       "16   2007  Diesel        Fail  Female         Full   101294     Yes     Pass\n",
       "17   2005  Diesel        Fail    Male         Full    96888      No     Fail\n",
       "18   2012  Diesel        Pass    Male         Full    13749     Yes     Pass\n",
       "19   2005  Diesel        Pass  Female         Full    76334     Yes     Pass\n",
       "20   2007  Diesel        Fail    Male         Full    56014     Yes     Pass\n",
       "21   2008  Petrol        Fail    Male         Full   122386     Yes     Pass\n",
       "22   2004  Diesel        Pass    Male         Full    78895     Yes     Pass\n",
       "23   2005  Petrol        Fail  Female         Full   139231     Yes     Pass\n",
       "24   2004  Diesel        Fail  Female         Full   179273      No     Fail\n",
       "25   2004  Diesel        Fail    Male         Full     6154     Yes     Pass\n",
       "26   2012  Diesel        Fail  Female         Full    20709     Yes     Pass\n",
       "27   2007  Petrol        Fail  Female         Full    16992     Yes     Pass\n",
       "28   2007  Diesel        Pass    Male         Full    69883     Yes     Pass\n",
       "29   2006  Diesel        Fail    Male         Full     3013      No     Fail\n",
       "..    ...     ...         ...     ...          ...      ...     ...      ...\n",
       "470  2013  Diesel        Pass  Female      Learner    31910     Yes     Pass\n",
       "471  2005  Diesel        Fail    Male         Full   104775      No     Fail\n",
       "472  2012  Petrol        Pass    Male         Full     9093     Yes     Pass\n",
       "473  2012  Diesel        Fail  Female         Full    35961     Yes     Pass\n",
       "474  2014  Petrol  Incomplete    Male         Full    26023      No     Fail\n",
       "475  2007  Diesel        Pass  Female      Learner   125459     Yes     Pass\n",
       "476  2005  Diesel        Pass  Female         Full   114067     Yes     Pass\n",
       "477  2005  Petrol        Pass  Female         Full   177020     Yes     Fail\n",
       "478  2014  Petrol        Pass  Female         Full    22375     Yes     Pass\n",
       "479  2010  Diesel        Fail  Female         Full     2041     Yes     Pass\n",
       "480  2005  Petrol        Fail    Male         Full    33827     Yes     Pass\n",
       "481  2007  Diesel        Fail    Male      Learner    88166     Yes     Pass\n",
       "482  2005  Petrol        Pass    Male         Full    43656     Yes     Pass\n",
       "483  2004  Diesel        Fail    Male         Full    65010      No     Fail\n",
       "484  2006  Petrol        Pass    Male         Full    54926     Yes     Pass\n",
       "485  2007  Diesel        Fail  Female         Full    48543      No     Fail\n",
       "486  2005  Petrol        Fail    Male         Full   177854     Yes     Fail\n",
       "487  2006  Petrol        Fail  Female         Full    34590     Yes     Pass\n",
       "488  2008  Diesel        Fail    Male         Full    85696     Yes     Pass\n",
       "489  2005  Diesel        Fail    Male         Full   107418     Yes     Pass\n",
       "490  2006  Diesel        Fail    Male         Full     9321     Yes     Pass\n",
       "491  2014  Diesel        Pass    Male         Full    25720     Yes     Pass\n",
       "492  2012  Diesel        Fail    Male         Full    21747      No     Fail\n",
       "493  2010  Diesel        Pass  Female         Full    31036     Yes     Pass\n",
       "494  2003  Diesel        Fail    Male         Full    93547      No     Fail\n",
       "495  2005  Diesel        Pass    Male         Full    44660      No     Fail\n",
       "496  2006  Diesel        Pass    Male         Full   131685     Yes     Pass\n",
       "497  2007  Diesel        Fail    Male      Learner    93019     Yes     Pass\n",
       "498  2013  Diesel        Fail  Female         Full    39421     Yes     Pass\n",
       "499  2007  Diesel        Fail    Male         Full    47963      No     Fail\n",
       "\n",
       "[500 rows x 8 columns]"
      ]
     },
     "execution_count": 19,
     "metadata": {},
     "output_type": "execute_result"
    }
   ],
   "source": [
    "# Create the function to populate the Expected column [15]\n",
    "\n",
    "def fun(row):\n",
    "    if row[\"Mileage\"] <165390 and row['Service']==\"Yes\":\n",
    "        return \"Pass\"\n",
    "    else:\n",
    "        return \"Fail\"\n",
    "\n",
    "df[\"Expected\"] = df.apply(lambda row: fun(row), axis=1)\n",
    "df"
   ]
  },
  {
   "cell_type": "code",
   "execution_count": 20,
   "metadata": {},
   "outputs": [],
   "source": [
    "# Change datatype of year from object to integer so I can plot it. [16] \n",
    "df[\"Year\"] = df.Year.astype(int)"
   ]
  },
  {
   "cell_type": "code",
   "execution_count": 21,
   "metadata": {},
   "outputs": [
    {
     "data": {
      "text/plain": [
       "Year             int32\n",
       "Fuel            object\n",
       "Status          object\n",
       "Sex             object\n",
       "Licence_type    object\n",
       "Mileage          int64\n",
       "Service         object\n",
       "Expected        object\n",
       "dtype: object"
      ]
     },
     "execution_count": 21,
     "metadata": {},
     "output_type": "execute_result"
    }
   ],
   "source": [
    "df.dtypes"
   ]
  },
  {
   "cell_type": "code",
   "execution_count": 22,
   "metadata": {},
   "outputs": [],
   "source": [
    "# Change datetype for mileage from int64 to int32 [17] \n",
    "for col in [\"Mileage\"]:\n",
    "    df[col] = df[col].astype(\"int32\")"
   ]
  },
  {
   "cell_type": "code",
   "execution_count": 23,
   "metadata": {},
   "outputs": [
    {
     "data": {
      "text/plain": [
       "Year             int32\n",
       "Fuel            object\n",
       "Status          object\n",
       "Sex             object\n",
       "Licence_type    object\n",
       "Mileage          int32\n",
       "Service         object\n",
       "Expected        object\n",
       "dtype: object"
      ]
     },
     "execution_count": 23,
     "metadata": {},
     "output_type": "execute_result"
    }
   ],
   "source": [
    "df.dtypes "
   ]
  },
  {
   "cell_type": "code",
   "execution_count": 24,
   "metadata": {},
   "outputs": [
    {
     "name": "stdout",
     "output_type": "stream",
     "text": [
      "<class 'pandas.core.frame.DataFrame'>\n",
      "RangeIndex: 500 entries, 0 to 499\n",
      "Data columns (total 8 columns):\n",
      "Year            500 non-null int32\n",
      "Fuel            500 non-null object\n",
      "Status          500 non-null object\n",
      "Sex             500 non-null object\n",
      "Licence_type    500 non-null object\n",
      "Mileage         500 non-null int32\n",
      "Service         500 non-null object\n",
      "Expected        500 non-null object\n",
      "dtypes: int32(2), object(6)\n",
      "memory usage: 27.4+ KB\n"
     ]
    }
   ],
   "source": [
    "# Shape of the dataframe.\n",
    "df.shape\n",
    "\n",
    "# Data type of each column.\n",
    "df.dtypes\n",
    "\n",
    "# Number of null values.\n",
    "df.info()"
   ]
  },
  {
   "cell_type": "code",
   "execution_count": 71,
   "metadata": {},
   "outputs": [
    {
     "data": {
      "text/plain": [
       "array(['Female', 'Male'], dtype=object)"
      ]
     },
     "execution_count": 71,
     "metadata": {},
     "output_type": "execute_result"
    }
   ],
   "source": [
    "# Number of unique values of column Gender\n",
    "df.Sex.nunique()\n",
    "# 2\n",
    "\n",
    "# Unique values of column Gender\n",
    "df.Sex.unique()"
   ]
  },
  {
   "cell_type": "markdown",
   "metadata": {},
   "source": [
    "### Year"
   ]
  },
  {
   "cell_type": "code",
   "execution_count": 26,
   "metadata": {},
   "outputs": [
    {
     "data": {
      "text/plain": [
       "2006.892"
      ]
     },
     "execution_count": 26,
     "metadata": {},
     "output_type": "execute_result"
    }
   ],
   "source": [
    "df[\"Year\"].mean()"
   ]
  },
  {
   "cell_type": "code",
   "execution_count": 27,
   "metadata": {},
   "outputs": [
    {
     "data": {
      "image/png": "[encoded data removed]",
      "text/plain": [
       "<Figure size 720x360 with 1 Axes>"
      ]
     },
     "metadata": {
      "needs_background": "light"
     },
     "output_type": "display_data"
    }
   ],
   "source": [
    "# Histogram showing the years of manufacture\n",
    "\n",
    "plt.figure(figsize=(10,5))\n",
    "plt.hist(df.Year, bins=5)\n",
    "plt.xlabel('Year of Manufacture')\n",
    "plt.show()"
   ]
  },
  {
   "cell_type": "code",
   "execution_count": 28,
   "metadata": {},
   "outputs": [
    {
     "name": "stderr",
     "output_type": "stream",
     "text": [
      "C:\\Users\\Rebecca\\Anaconda3\\lib\\site-packages\\scipy\\stats\\stats.py:1713: FutureWarning: Using a non-tuple sequence for multidimensional indexing is deprecated; use `arr[tuple(seq)]` instead of `arr[seq]`. In the future this will be interpreted as an array index, `arr[np.array(seq)]`, which will result either in an error or a different result.\n",
      "  return np.add.reduce(sorted[indexer] * weights, axis=axis) / sumval\n"
     ]
    },
    {
     "data": {
      "image/png": "[encoded data removed]",
      "text/plain": [
       "<Figure size 720x432 with 1 Axes>"
      ]
     },
     "metadata": {
      "needs_background": "light"
     },
     "output_type": "display_data"
    }
   ],
   "source": [
    "# A KDE plot is a lot like a histogram, it estimates the probability density of a continuous variable. [18]\n",
    "plt.figure(figsize=(10,6))\n",
    "sns.kdeplot(df['Year'], label='Year')\n",
    "plt.xlabel('Year')\n",
    "plt.ylabel('Probability Density')\n",
    "plt.title('Probability density plot of the Year of Manufacture')\n",
    "plt.show()"
   ]
  },
  {
   "cell_type": "code",
   "execution_count": 29,
   "metadata": {},
   "outputs": [
    {
     "data": {
      "image/png": "[encoded data removed]",
      "text/plain": [
       "<Figure size 432x288 with 1 Axes>"
      ]
     },
     "metadata": {
      "needs_background": "light"
     },
     "output_type": "display_data"
    }
   ],
   "source": [
    "dataframe = df\n",
    "x = df.Year\n",
    "y = df.Mileage\n",
    "plt.scatter(x, y)\n",
    "plt.show()"
   ]
  },
  {
   "cell_type": "code",
   "execution_count": 30,
   "metadata": {},
   "outputs": [
    {
     "data": {
      "image/png": "[encoded data removed]",
      "text/plain": [
       "<Figure size 432x288 with 1 Axes>"
      ]
     },
     "metadata": {
      "needs_background": "light"
     },
     "output_type": "display_data"
    }
   ],
   "source": [
    "#https://ourcodingclub.github.io/2018/04/18/pandas-python-intro.html [28] Does year/mileage follow any line of regression? NO.\n",
    "\n",
    "from scipy.stats import linregress\n",
    "\n",
    "dataframe = df\n",
    "\n",
    "x = df.Year\n",
    "y = df.Mileage\n",
    "\n",
    "stats = linregress(x, y)\n",
    "\n",
    "m = stats.slope\n",
    "b = stats.intercept\n",
    "\n",
    "plt.scatter(x, y)\n",
    "plt.plot(x, m * x + b, color=\"red\")   # I've added a color argument here\n",
    "\n",
    "plt.show()\n",
    "\n",
    "# Or you can use plt.show()"
   ]
  },
  {
   "cell_type": "markdown",
   "metadata": {},
   "source": [
    "I synthesised this dataset using np.random.choice but skewed the values according to the percentages from the actual nct database.  These results are very interesting. The information from the actual RSA NCT statistics show that 2017 had the most amount of Santa Fe's for NCT with just over 22% for that year alone.  From the beginning of 2001 there was a steady climb in the number each year.  It peaked at 2007 and dropped sharply with a little surge in 2014 before again falling. At the risk of clouding the data and forcing my own opinions on it, I know I purchased the 2007 model (8 years ago) as there was a large price increase on the 2008 model compared to the 2007, as that was when tax began to be calculated on the emissions of a vehicle, rather than the cc. Also, there was a design upgrade which began with the 2006 model and did not change until 2012[20]. Some buyers may have preferred the newer looking model rather than the older one. Although 2005 model had almost 15% and 2006 almost 19% of all models tested.   There was a little surge in the 2012 registered models getting tested which could correspond to the new model.  There was a decrease in 2013 with a final peak in 2014.  I could speculate that the reason for this may be that car buyers may have been hesitant to buy a new model immediately until time had passed in order to see if there were any design flaws and if/how they could be rectified.  New cars are expensive so it would be prudent to wait and see how it fares.  The 2012 surge may be down to early adopters who like to use new products before others.\n",
    "\n",
    "Doesn't appear to be any correlation between mileage and year only that there is a climb on the total mileage year on year. \n",
    "\n",
    "In future, as the age of these cars increase, I would expect a drop off in their overall percentage of the total tested. They may become uneconomical to continue with where their running and maintenance costs become outweighed by the offer of trade in allowances, low finance options and extended warranty. The cost of motor tax will have an impact also. A 2007 Santa Fe annual car tax is €951, compared with €390 for a 2017 model.\n"
   ]
  },
  {
   "cell_type": "markdown",
   "metadata": {},
   "source": [
    "### Fuel"
   ]
  },
  {
   "cell_type": "code",
   "execution_count": 31,
   "metadata": {},
   "outputs": [
    {
     "data": {
      "text/plain": [
       "Fuel\n",
       "Diesel    382\n",
       "Petrol    118\n",
       "dtype: int64"
      ]
     },
     "execution_count": 31,
     "metadata": {},
     "output_type": "execute_result"
    }
   ],
   "source": [
    "df.groupby(by=\"Fuel\").size()"
   ]
  },
  {
   "cell_type": "code",
   "execution_count": 32,
   "metadata": {},
   "outputs": [
    {
     "data": {
      "text/plain": [
       "array(['Diesel', 'Diesel', 'Diesel', 'Diesel', 'Diesel', 'Petrol',\n",
       "       'Diesel', 'Diesel', 'Diesel', 'Petrol', 'Petrol', 'Diesel',\n",
       "       'Diesel', 'Diesel', 'Diesel', 'Diesel', 'Diesel', 'Diesel',\n",
       "       'Diesel', 'Petrol', 'Petrol', 'Diesel', 'Diesel', 'Petrol',\n",
       "       'Diesel', 'Petrol', 'Petrol', 'Petrol', 'Diesel', 'Diesel',\n",
       "       'Diesel', 'Petrol', 'Diesel', 'Diesel', 'Diesel', 'Diesel',\n",
       "       'Petrol', 'Diesel', 'Diesel', 'Diesel', 'Diesel', 'Diesel',\n",
       "       'Diesel', 'Diesel', 'Petrol', 'Diesel', 'Diesel', 'Petrol',\n",
       "       'Petrol', 'Diesel', 'Diesel', 'Petrol', 'Petrol', 'Petrol',\n",
       "       'Diesel', 'Diesel', 'Diesel', 'Diesel', 'Diesel', 'Diesel',\n",
       "       'Diesel', 'Diesel', 'Diesel', 'Petrol', 'Diesel', 'Diesel',\n",
       "       'Petrol', 'Diesel', 'Diesel', 'Petrol', 'Petrol', 'Diesel',\n",
       "       'Diesel', 'Diesel', 'Diesel', 'Diesel', 'Diesel', 'Diesel',\n",
       "       'Diesel', 'Diesel', 'Diesel', 'Diesel', 'Petrol', 'Petrol',\n",
       "       'Diesel', 'Petrol', 'Diesel', 'Diesel', 'Diesel', 'Diesel',\n",
       "       'Diesel', 'Diesel', 'Diesel', 'Diesel', 'Diesel', 'Diesel',\n",
       "       'Diesel', 'Diesel', 'Diesel', 'Diesel', 'Diesel', 'Petrol',\n",
       "       'Petrol', 'Diesel', 'Diesel', 'Diesel', 'Diesel', 'Diesel',\n",
       "       'Diesel', 'Diesel', 'Petrol', 'Diesel', 'Petrol', 'Diesel',\n",
       "       'Diesel', 'Diesel', 'Petrol', 'Diesel', 'Diesel', 'Diesel',\n",
       "       'Diesel', 'Petrol', 'Petrol', 'Diesel', 'Petrol', 'Petrol',\n",
       "       'Petrol', 'Petrol', 'Diesel', 'Diesel', 'Diesel', 'Diesel',\n",
       "       'Petrol', 'Diesel', 'Diesel', 'Diesel', 'Diesel', 'Diesel',\n",
       "       'Diesel', 'Diesel', 'Petrol', 'Diesel', 'Diesel', 'Petrol',\n",
       "       'Diesel', 'Petrol', 'Diesel', 'Petrol', 'Diesel', 'Petrol',\n",
       "       'Diesel', 'Diesel', 'Diesel', 'Diesel', 'Diesel', 'Diesel',\n",
       "       'Diesel', 'Diesel', 'Diesel', 'Petrol', 'Diesel', 'Diesel',\n",
       "       'Diesel', 'Diesel', 'Diesel', 'Diesel', 'Diesel', 'Diesel',\n",
       "       'Petrol', 'Petrol', 'Diesel', 'Diesel', 'Diesel', 'Diesel',\n",
       "       'Diesel', 'Diesel', 'Diesel', 'Diesel', 'Diesel', 'Diesel',\n",
       "       'Diesel', 'Diesel', 'Petrol', 'Diesel', 'Petrol', 'Diesel',\n",
       "       'Diesel', 'Diesel', 'Petrol', 'Diesel', 'Diesel', 'Diesel',\n",
       "       'Diesel', 'Diesel', 'Diesel', 'Petrol', 'Diesel', 'Diesel',\n",
       "       'Petrol', 'Diesel', 'Petrol', 'Diesel', 'Petrol', 'Diesel',\n",
       "       'Diesel', 'Diesel', 'Petrol', 'Diesel', 'Petrol', 'Diesel',\n",
       "       'Diesel', 'Petrol', 'Diesel', 'Petrol', 'Diesel', 'Petrol',\n",
       "       'Petrol', 'Diesel', 'Diesel', 'Petrol', 'Diesel', 'Diesel',\n",
       "       'Diesel', 'Diesel', 'Diesel', 'Diesel', 'Petrol', 'Diesel',\n",
       "       'Diesel', 'Diesel', 'Diesel', 'Diesel', 'Diesel', 'Diesel',\n",
       "       'Diesel', 'Diesel', 'Diesel', 'Diesel', 'Diesel', 'Diesel',\n",
       "       'Diesel', 'Diesel', 'Diesel', 'Diesel', 'Diesel', 'Diesel',\n",
       "       'Diesel', 'Diesel', 'Petrol', 'Diesel', 'Diesel', 'Diesel',\n",
       "       'Diesel', 'Diesel', 'Diesel', 'Petrol', 'Diesel', 'Petrol',\n",
       "       'Diesel', 'Diesel', 'Diesel', 'Diesel', 'Diesel', 'Petrol',\n",
       "       'Diesel', 'Diesel', 'Diesel', 'Diesel', 'Diesel', 'Diesel',\n",
       "       'Diesel', 'Diesel', 'Petrol', 'Diesel', 'Diesel', 'Diesel',\n",
       "       'Petrol', 'Diesel', 'Diesel', 'Petrol', 'Petrol', 'Diesel',\n",
       "       'Diesel', 'Diesel', 'Diesel', 'Diesel', 'Diesel', 'Diesel',\n",
       "       'Diesel', 'Petrol', 'Petrol', 'Diesel', 'Diesel', 'Diesel',\n",
       "       'Diesel', 'Diesel', 'Diesel', 'Diesel', 'Diesel', 'Diesel',\n",
       "       'Diesel', 'Petrol', 'Petrol', 'Diesel', 'Diesel', 'Diesel',\n",
       "       'Diesel', 'Diesel', 'Diesel', 'Diesel', 'Diesel', 'Petrol',\n",
       "       'Petrol', 'Petrol', 'Diesel', 'Diesel', 'Petrol', 'Diesel',\n",
       "       'Diesel', 'Petrol', 'Diesel', 'Diesel', 'Diesel', 'Diesel',\n",
       "       'Diesel', 'Petrol', 'Diesel', 'Petrol', 'Diesel', 'Diesel',\n",
       "       'Petrol', 'Diesel', 'Petrol', 'Petrol', 'Diesel', 'Diesel',\n",
       "       'Diesel', 'Diesel', 'Petrol', 'Diesel', 'Diesel', 'Diesel',\n",
       "       'Diesel', 'Diesel', 'Petrol', 'Diesel', 'Diesel', 'Diesel',\n",
       "       'Petrol', 'Diesel', 'Diesel', 'Diesel', 'Petrol', 'Petrol',\n",
       "       'Diesel', 'Diesel', 'Diesel', 'Petrol', 'Petrol', 'Diesel',\n",
       "       'Diesel', 'Diesel', 'Petrol', 'Diesel', 'Diesel', 'Diesel',\n",
       "       'Diesel', 'Diesel', 'Petrol', 'Diesel', 'Petrol', 'Diesel',\n",
       "       'Diesel', 'Petrol', 'Diesel', 'Petrol', 'Petrol', 'Diesel',\n",
       "       'Diesel', 'Diesel', 'Diesel', 'Diesel', 'Diesel', 'Petrol',\n",
       "       'Diesel', 'Diesel', 'Diesel', 'Diesel', 'Diesel', 'Petrol',\n",
       "       'Diesel', 'Diesel', 'Diesel', 'Diesel', 'Diesel', 'Diesel',\n",
       "       'Diesel', 'Diesel', 'Diesel', 'Diesel', 'Diesel', 'Diesel',\n",
       "       'Diesel', 'Diesel', 'Diesel', 'Diesel', 'Petrol', 'Diesel',\n",
       "       'Diesel', 'Petrol', 'Petrol', 'Diesel', 'Diesel', 'Diesel',\n",
       "       'Diesel', 'Diesel', 'Diesel', 'Diesel', 'Diesel', 'Diesel',\n",
       "       'Diesel', 'Petrol', 'Petrol', 'Petrol', 'Petrol', 'Diesel',\n",
       "       'Petrol', 'Diesel', 'Diesel', 'Diesel', 'Diesel', 'Diesel',\n",
       "       'Diesel', 'Diesel', 'Diesel', 'Petrol', 'Diesel', 'Diesel',\n",
       "       'Diesel', 'Petrol', 'Diesel', 'Diesel', 'Diesel', 'Diesel',\n",
       "       'Diesel', 'Diesel', 'Petrol', 'Petrol', 'Diesel', 'Diesel',\n",
       "       'Petrol', 'Diesel', 'Petrol', 'Diesel', 'Petrol', 'Diesel',\n",
       "       'Diesel', 'Diesel', 'Petrol', 'Diesel', 'Diesel', 'Diesel',\n",
       "       'Diesel', 'Diesel', 'Diesel', 'Diesel', 'Diesel', 'Diesel',\n",
       "       'Petrol', 'Petrol', 'Petrol', 'Diesel', 'Petrol', 'Diesel',\n",
       "       'Diesel', 'Petrol', 'Diesel', 'Petrol', 'Petrol', 'Diesel',\n",
       "       'Diesel', 'Diesel', 'Diesel', 'Petrol', 'Diesel', 'Diesel',\n",
       "       'Petrol', 'Petrol', 'Diesel', 'Diesel', 'Petrol', 'Diesel',\n",
       "       'Petrol', 'Diesel', 'Petrol', 'Diesel', 'Diesel', 'Petrol',\n",
       "       'Diesel', 'Petrol'], dtype='<U6')"
      ]
     },
     "execution_count": 32,
     "metadata": {},
     "output_type": "execute_result"
    }
   ],
   "source": [
    "fu = np.random.choice(fuel, 500, p=[0.24, 0.76])\n",
    "fu"
   ]
  },
  {
   "cell_type": "code",
   "execution_count": 33,
   "metadata": {},
   "outputs": [
    {
     "data": {
      "image/png": "[encoded data removed]",
      "text/plain": [
       "<Figure size 720x360 with 1 Axes>"
      ]
     },
     "metadata": {
      "needs_background": "light"
     },
     "output_type": "display_data"
    }
   ],
   "source": [
    "# Histogram showing the difference in fuel types\n",
    "\n",
    "plt.figure(figsize=(10,5))\n",
    "plt.hist(fu, bins=5)\n",
    "plt.xlabel(\"Fuel\")\n",
    "plt.show()"
   ]
  },
  {
   "cell_type": "code",
   "execution_count": 34,
   "metadata": {},
   "outputs": [
    {
     "data": {
      "text/plain": [
       "<matplotlib.axes._subplots.AxesSubplot at 0x18cc0093a58>"
      ]
     },
     "execution_count": 34,
     "metadata": {},
     "output_type": "execute_result"
    },
    {
     "data": {
      "image/png": "[encoded data removed]",
      "text/plain": [
       "<Figure size 432x288 with 1 Axes>"
      ]
     },
     "metadata": {
      "needs_background": "light"
     },
     "output_type": "display_data"
    }
   ],
   "source": [
    "# Use countplot to look at the different fuels each year. [22]\n",
    "sns.countplot('Year', hue='Fuel', data=df)"
   ]
  },
  {
   "cell_type": "markdown",
   "metadata": {},
   "source": [
    "Diesel cars far outweighed petrol.  Again, there were far more in 2007 as compared to other years.  Diesel cars are known to have more economical engines and better resale value.  This could account for the large difference in numbers. [21]  "
   ]
  },
  {
   "cell_type": "markdown",
   "metadata": {},
   "source": [
    "### Status"
   ]
  },
  {
   "cell_type": "code",
   "execution_count": 35,
   "metadata": {},
   "outputs": [
    {
     "data": {
      "text/plain": [
       "array(['Fail', 'Fail', 'Fail', 'Fail', 'Pass', 'Fail', 'Fail', 'Fail',\n",
       "       'Pass', 'Fail', 'Fail', 'Fail', 'Pass', 'Pass', 'Fail', 'Pass',\n",
       "       'Pass', 'Pass', 'Fail', 'Fail', 'Fail', 'Fail', 'Fail', 'Pass',\n",
       "       'Pass', 'Fail', 'Fail', 'Fail', 'Pass', 'Fail', 'Pass', 'Fail',\n",
       "       'Pass', 'Fail', 'Fail', 'Fail', 'Fail', 'Pass', 'Fail', 'Fail',\n",
       "       'Pass', 'Fail', 'Fail', 'Fail', 'Fail', 'Fail', 'Fail', 'Pass',\n",
       "       'Fail', 'Fail', 'Fail', 'Pass', 'Fail', 'Fail', 'Fail', 'Fail',\n",
       "       'Fail', 'Fail', 'Fail', 'Pass', 'Pass', 'Fail', 'Fail', 'Fail',\n",
       "       'Fail', 'Fail', 'Fail', 'Pass', 'Pass', 'Fail', 'Fail', 'Fail',\n",
       "       'Fail', 'Fail', 'Fail', 'Fail', 'Fail', 'Pass', 'Pass', 'Fail',\n",
       "       'Pass', 'Fail', 'Fail', 'Fail', 'Incomplete', 'Fail', 'Fail',\n",
       "       'Pass', 'Fail', 'Fail', 'Fail', 'Pass', 'Pass', 'Pass', 'Pass',\n",
       "       'Fail', 'Pass', 'Pass', 'Pass', 'Fail', 'Pass', 'Fail', 'Fail',\n",
       "       'Pass', 'Pass', 'Fail', 'Fail', 'Pass', 'Fail', 'Fail', 'Fail',\n",
       "       'Pass', 'Fail', 'Fail', 'Pass', 'Pass', 'Fail', 'Pass', 'Pass',\n",
       "       'Fail', 'Fail', 'Fail', 'Pass', 'Fail', 'Fail', 'Pass', 'Fail',\n",
       "       'Pass', 'Pass', 'Fail', 'Fail', 'Pass', 'Fail', 'Fail', 'Pass',\n",
       "       'Fail', 'Fail', 'Pass', 'Fail', 'Fail', 'Fail', 'Fail', 'Fail',\n",
       "       'Fail', 'Fail', 'Fail', 'Pass', 'Fail', 'Pass', 'Fail', 'Fail',\n",
       "       'Fail', 'Fail', 'Fail', 'Fail', 'Fail', 'Pass', 'Fail', 'Fail',\n",
       "       'Fail', 'Fail', 'Fail', 'Fail', 'Fail', 'Fail', 'Fail', 'Fail',\n",
       "       'Pass', 'Fail', 'Fail', 'Fail', 'Pass', 'Pass', 'Fail', 'Fail',\n",
       "       'Fail', 'Pass', 'Fail', 'Fail', 'Fail', 'Fail', 'Pass', 'Pass',\n",
       "       'Pass', 'Fail', 'Fail', 'Fail', 'Pass', 'Fail', 'Pass', 'Pass',\n",
       "       'Pass', 'Fail', 'Fail', 'Fail', 'Fail', 'Fail', 'Fail', 'Pass',\n",
       "       'Pass', 'Fail', 'Pass', 'Fail', 'Fail', 'Fail', 'Fail', 'Pass',\n",
       "       'Pass', 'Fail', 'Fail', 'Fail', 'Fail', 'Incomplete', 'Pass',\n",
       "       'Fail', 'Fail', 'Fail', 'Incomplete', 'Fail', 'Fail', 'Pass',\n",
       "       'Fail', 'Fail', 'Fail', 'Pass', 'Fail', 'Fail', 'Pass', 'Fail',\n",
       "       'Fail', 'Fail', 'Fail', 'Fail', 'Pass', 'Pass', 'Fail', 'Fail',\n",
       "       'Fail', 'Pass', 'Pass', 'Pass', 'Fail', 'Pass', 'Fail', 'Fail',\n",
       "       'Fail', 'Pass', 'Fail', 'Pass', 'Fail', 'Fail', 'Pass', 'Pass',\n",
       "       'Pass', 'Fail', 'Fail', 'Pass', 'Fail', 'Fail', 'Fail', 'Fail',\n",
       "       'Fail', 'Pass', 'Fail', 'Fail', 'Fail', 'Fail', 'Fail', 'Fail',\n",
       "       'Fail', 'Fail', 'Fail', 'Fail', 'Fail', 'Pass', 'Pass', 'Pass',\n",
       "       'Fail', 'Fail', 'Fail', 'Pass', 'Fail', 'Fail', 'Pass', 'Fail',\n",
       "       'Fail', 'Pass', 'Fail', 'Fail', 'Fail', 'Fail', 'Fail', 'Fail',\n",
       "       'Pass', 'Fail', 'Fail', 'Fail', 'Pass', 'Fail', 'Fail', 'Pass',\n",
       "       'Pass', 'Pass', 'Pass', 'Fail', 'Pass', 'Fail', 'Fail', 'Fail',\n",
       "       'Fail', 'Fail', 'Fail', 'Pass', 'Pass', 'Fail', 'Fail', 'Fail',\n",
       "       'Fail', 'Pass', 'Incomplete', 'Fail', 'Fail', 'Fail', 'Pass',\n",
       "       'Pass', 'Pass', 'Fail', 'Pass', 'Pass', 'Fail', 'Fail', 'Fail',\n",
       "       'Pass', 'Pass', 'Fail', 'Fail', 'Fail', 'Fail', 'Pass', 'Fail',\n",
       "       'Fail', 'Fail', 'Fail', 'Fail', 'Fail', 'Pass', 'Pass', 'Fail',\n",
       "       'Fail', 'Fail', 'Fail', 'Pass', 'Fail', 'Fail', 'Pass', 'Fail',\n",
       "       'Pass', 'Fail', 'Pass', 'Fail', 'Pass', 'Pass', 'Pass', 'Pass',\n",
       "       'Fail', 'Fail', 'Fail', 'Fail', 'Fail', 'Fail', 'Fail', 'Fail',\n",
       "       'Fail', 'Pass', 'Fail', 'Fail', 'Pass', 'Fail', 'Pass', 'Pass',\n",
       "       'Fail', 'Pass', 'Fail', 'Pass', 'Pass', 'Pass', 'Pass', 'Fail',\n",
       "       'Pass', 'Fail', 'Fail', 'Fail', 'Fail', 'Pass', 'Fail', 'Fail',\n",
       "       'Pass', 'Fail', 'Pass', 'Pass', 'Fail', 'Pass', 'Pass', 'Pass',\n",
       "       'Fail', 'Pass', 'Pass', 'Pass', 'Fail', 'Fail', 'Pass', 'Pass',\n",
       "       'Fail', 'Fail', 'Fail', 'Fail', 'Fail', 'Fail', 'Pass', 'Fail',\n",
       "       'Fail', 'Fail', 'Fail', 'Fail', 'Fail', 'Pass', 'Pass', 'Pass',\n",
       "       'Fail', 'Pass', 'Pass', 'Pass', 'Fail', 'Fail', 'Pass', 'Fail',\n",
       "       'Fail', 'Fail', 'Pass', 'Pass', 'Fail', 'Fail', 'Pass', 'Pass',\n",
       "       'Fail', 'Pass', 'Fail', 'Fail', 'Fail', 'Fail', 'Fail', 'Pass',\n",
       "       'Fail', 'Fail', 'Fail', 'Pass', 'Pass', 'Fail', 'Fail', 'Fail',\n",
       "       'Pass', 'Fail', 'Fail', 'Fail', 'Fail', 'Pass', 'Fail', 'Pass',\n",
       "       'Fail', 'Pass', 'Fail', 'Fail', 'Fail', 'Fail', 'Pass', 'Pass',\n",
       "       'Pass', 'Incomplete', 'Fail', 'Fail', 'Fail', 'Fail', 'Fail',\n",
       "       'Pass', 'Fail', 'Fail', 'Fail', 'Fail', 'Fail', 'Fail', 'Pass',\n",
       "       'Fail', 'Pass', 'Fail', 'Pass', 'Fail', 'Pass', 'Fail', 'Fail',\n",
       "       'Fail'], dtype='<U10')"
      ]
     },
     "execution_count": 35,
     "metadata": {},
     "output_type": "execute_result"
    }
   ],
   "source": [
    "stat= np.random.choice(status, 500, p=[0.36, 0.63, 0.01])\n",
    "stat"
   ]
  },
  {
   "cell_type": "code",
   "execution_count": 36,
   "metadata": {},
   "outputs": [
    {
     "data": {
      "image/png": "[encoded data removed]",
      "text/plain": [
       "<Figure size 720x360 with 1 Axes>"
      ]
     },
     "metadata": {
      "needs_background": "light"
     },
     "output_type": "display_data"
    }
   ],
   "source": [
    "# Histogram showing the Status of Tests\n",
    "\n",
    "plt.figure(figsize=(10,5))\n",
    "plt.hist(stat, bins=5)\n",
    "plt.xlabel('Status of Test')\n",
    "plt.show()"
   ]
  },
  {
   "cell_type": "code",
   "execution_count": 37,
   "metadata": {},
   "outputs": [
    {
     "data": {
      "text/plain": [
       "<matplotlib.axes._subplots.AxesSubplot at 0x18cc01a97b8>"
      ]
     },
     "execution_count": 37,
     "metadata": {},
     "output_type": "execute_result"
    },
    {
     "data": {
      "image/png": "[encoded data removed]",
      "text/plain": [
       "<Figure size 432x288 with 1 Axes>"
      ]
     },
     "metadata": {
      "needs_background": "light"
     },
     "output_type": "display_data"
    }
   ],
   "source": [
    "sns.countplot('Status', hue='Service', data=df)"
   ]
  },
  {
   "cell_type": "code",
   "execution_count": 38,
   "metadata": {},
   "outputs": [
    {
     "data": {
      "text/plain": [
       "<matplotlib.axes._subplots.AxesSubplot at 0x18cc0221588>"
      ]
     },
     "execution_count": 38,
     "metadata": {},
     "output_type": "execute_result"
    },
    {
     "data": {
      "image/png": "[encoded data removed]",
      "text/plain": [
       "<Figure size 432x288 with 1 Axes>"
      ]
     },
     "metadata": {
      "needs_background": "light"
     },
     "output_type": "display_data"
    }
   ],
   "source": [
    "sns.countplot('Year', hue='Status', data=df)"
   ]
  },
  {
   "cell_type": "code",
   "execution_count": 39,
   "metadata": {},
   "outputs": [
    {
     "name": "stderr",
     "output_type": "stream",
     "text": [
      "C:\\Users\\Rebecca\\Anaconda3\\lib\\site-packages\\numpy\\core\\_methods.py:140: RuntimeWarning: Degrees of freedom <= 0 for slice\n",
      "  keepdims=keepdims)\n",
      "C:\\Users\\Rebecca\\Anaconda3\\lib\\site-packages\\numpy\\core\\_methods.py:132: RuntimeWarning: invalid value encountered in double_scalars\n",
      "  ret = ret.dtype.type(ret / rcount)\n",
      "C:\\Users\\Rebecca\\Anaconda3\\lib\\site-packages\\statsmodels\\nonparametric\\bandwidths.py:20: RuntimeWarning: invalid value encountered in minimum\n",
      "  return np.minimum(np.std(X, axis=0, ddof=1), IQR)\n",
      "C:\\Users\\Rebecca\\Anaconda3\\lib\\site-packages\\numpy\\core\\fromnumeric.py:83: RuntimeWarning: invalid value encountered in reduce\n",
      "  return ufunc.reduce(obj, axis, dtype, out, **passkwargs)\n"
     ]
    },
    {
     "data": {
      "text/plain": [
       "<seaborn.axisgrid.FacetGrid at 0x18cc03048d0>"
      ]
     },
     "execution_count": 39,
     "metadata": {},
     "output_type": "execute_result"
    },
    {
     "data": {
      "image/png": "[encoded data removed]",
      "text/plain": [
       "<Figure size 715x216 with 3 Axes>"
      ]
     },
     "metadata": {
      "needs_background": "light"
     },
     "output_type": "display_data"
    }
   ],
   "source": [
    "\n",
    "# KDE plots of the tip distribution separated by status and fuel type\n",
    "g = sns.FacetGrid(df, col=\"Status\", hue=\"Fuel\") \n",
    "g.map(sns.distplot, \"Year\")\n",
    "g.add_legend() \n",
    "g.set(alpha=.5)"
   ]
  },
  {
   "cell_type": "markdown",
   "metadata": {},
   "source": [
    "Taken by itself it is evident that almost twice as many cars fail when compared to passing ones.  There was a very small percentage of incomplete 1%.  In the above countplot that seems to be following but there were some years where there were little to no incomplete.  That is interesting as I expected there to be a little amount every year but np.random.choice created the values. \n",
    "\n",
    "In the last graph I created a kde plot showing fuel type and status.  In the fail section petrol cars seem to have a higher failure rate when compared to diesel.  Diesel has one major peak in the Pass section in the 2007 cars tested which is when there was a higher rate of cars registered in that year.  But petrol cars have a steadier pass rate with less peaks from approximately the 2004 to 2009 model.  2015 model showed a huge peak for petrol cars with an incomplete for the NCT."
   ]
  },
  {
   "cell_type": "markdown",
   "metadata": {},
   "source": [
    "### Sex"
   ]
  },
  {
   "cell_type": "code",
   "execution_count": 40,
   "metadata": {},
   "outputs": [
    {
     "data": {
      "text/plain": [
       "array(['Female', 'Male', 'Male', 'Female', 'Male', 'Female', 'Female',\n",
       "       'Female', 'Female', 'Female', 'Female', 'Female', 'Male', 'Male',\n",
       "       'Female', 'Female', 'Female', 'Male', 'Male', 'Female', 'Female',\n",
       "       'Female', 'Female', 'Male', 'Female', 'Female', 'Male', 'Female',\n",
       "       'Male', 'Male', 'Male', 'Male', 'Male', 'Male', 'Male', 'Male',\n",
       "       'Male', 'Male', 'Female', 'Female', 'Male', 'Male', 'Female',\n",
       "       'Female', 'Female', 'Female', 'Male', 'Male', 'Female', 'Male',\n",
       "       'Female', 'Male', 'Male', 'Male', 'Male', 'Male', 'Female',\n",
       "       'Female', 'Female', 'Female', 'Female', 'Female', 'Male', 'Female',\n",
       "       'Female', 'Female', 'Male', 'Male', 'Male', 'Male', 'Male', 'Male',\n",
       "       'Male', 'Female', 'Male', 'Male', 'Male', 'Male', 'Female',\n",
       "       'Female', 'Female', 'Male', 'Male', 'Female', 'Male', 'Male',\n",
       "       'Male', 'Male', 'Male', 'Male', 'Female', 'Female', 'Male', 'Male',\n",
       "       'Male', 'Male', 'Male', 'Female', 'Female', 'Male', 'Male',\n",
       "       'Female', 'Female', 'Male', 'Female', 'Female', 'Female', 'Male',\n",
       "       'Male', 'Male', 'Male', 'Female', 'Female', 'Female', 'Female',\n",
       "       'Female', 'Male', 'Female', 'Female', 'Male', 'Female', 'Female',\n",
       "       'Female', 'Male', 'Female', 'Male', 'Female', 'Male', 'Female',\n",
       "       'Male', 'Male', 'Male', 'Male', 'Male', 'Female', 'Male', 'Female',\n",
       "       'Female', 'Male', 'Male', 'Male', 'Male', 'Female', 'Female',\n",
       "       'Male', 'Female', 'Male', 'Female', 'Female', 'Male', 'Male',\n",
       "       'Female', 'Male', 'Female', 'Female', 'Female', 'Male', 'Female',\n",
       "       'Female', 'Female', 'Female', 'Female', 'Male', 'Male', 'Female',\n",
       "       'Male', 'Male', 'Female', 'Male', 'Female', 'Female', 'Female',\n",
       "       'Male', 'Female', 'Female', 'Male', 'Female', 'Male', 'Male',\n",
       "       'Male', 'Male', 'Female', 'Female', 'Female', 'Male', 'Female',\n",
       "       'Male', 'Male', 'Male', 'Male', 'Male', 'Male', 'Female', 'Male',\n",
       "       'Female', 'Female', 'Male', 'Male', 'Male', 'Male', 'Male',\n",
       "       'Female', 'Female', 'Male', 'Female', 'Male', 'Male', 'Female',\n",
       "       'Female', 'Male', 'Male', 'Male', 'Male', 'Female', 'Male', 'Male',\n",
       "       'Female', 'Male', 'Male', 'Female', 'Male', 'Female', 'Male',\n",
       "       'Male', 'Male', 'Male', 'Male', 'Male', 'Male', 'Female', 'Male',\n",
       "       'Male', 'Male', 'Female', 'Male', 'Female', 'Male', 'Female',\n",
       "       'Male', 'Male', 'Female', 'Female', 'Male', 'Male', 'Male',\n",
       "       'Female', 'Female', 'Male', 'Male', 'Female', 'Male', 'Female',\n",
       "       'Female', 'Female', 'Female', 'Male', 'Male', 'Male', 'Male',\n",
       "       'Male', 'Female', 'Male', 'Female', 'Female', 'Female', 'Female',\n",
       "       'Male', 'Male', 'Female', 'Female', 'Male', 'Female', 'Male',\n",
       "       'Female', 'Female', 'Female', 'Male', 'Male', 'Male', 'Female',\n",
       "       'Female', 'Male', 'Male', 'Male', 'Female', 'Female', 'Female',\n",
       "       'Female', 'Male', 'Female', 'Female', 'Male', 'Male', 'Male',\n",
       "       'Female', 'Male', 'Male', 'Male', 'Male', 'Male', 'Male', 'Male',\n",
       "       'Male', 'Female', 'Female', 'Female', 'Female', 'Female', 'Male',\n",
       "       'Female', 'Male', 'Female', 'Male', 'Male', 'Female', 'Male',\n",
       "       'Male', 'Female', 'Female', 'Male', 'Female', 'Male', 'Male',\n",
       "       'Female', 'Female', 'Male', 'Female', 'Male', 'Male', 'Male',\n",
       "       'Male', 'Female', 'Female', 'Male', 'Female', 'Male', 'Female',\n",
       "       'Female', 'Female', 'Male', 'Female', 'Male', 'Male', 'Female',\n",
       "       'Female', 'Male', 'Female', 'Male', 'Female', 'Male', 'Male',\n",
       "       'Male', 'Female', 'Female', 'Male', 'Female', 'Male', 'Male',\n",
       "       'Female', 'Female', 'Male', 'Male', 'Male', 'Male', 'Female',\n",
       "       'Female', 'Male', 'Male', 'Female', 'Male', 'Male', 'Female',\n",
       "       'Female', 'Male', 'Female', 'Male', 'Male', 'Male', 'Female',\n",
       "       'Male', 'Male', 'Male', 'Male', 'Male', 'Female', 'Female', 'Male',\n",
       "       'Male', 'Male', 'Male', 'Female', 'Male', 'Male', 'Male', 'Female',\n",
       "       'Male', 'Female', 'Male', 'Male', 'Female', 'Female', 'Female',\n",
       "       'Female', 'Male', 'Female', 'Male', 'Female', 'Female', 'Male',\n",
       "       'Female', 'Female', 'Male', 'Female', 'Male', 'Female', 'Female',\n",
       "       'Female', 'Male', 'Female', 'Female', 'Male', 'Female', 'Female',\n",
       "       'Female', 'Male', 'Male', 'Female', 'Male', 'Male', 'Male', 'Male',\n",
       "       'Male', 'Male', 'Female', 'Male', 'Male', 'Male', 'Male', 'Female',\n",
       "       'Female', 'Male', 'Male', 'Male', 'Male', 'Male', 'Male', 'Female',\n",
       "       'Male', 'Male', 'Female', 'Female', 'Male', 'Male', 'Male',\n",
       "       'Female', 'Male', 'Male', 'Male', 'Female', 'Female', 'Female',\n",
       "       'Male', 'Female', 'Male', 'Female', 'Male', 'Female', 'Female',\n",
       "       'Male', 'Female', 'Male', 'Female', 'Female', 'Female', 'Female',\n",
       "       'Female', 'Male', 'Female', 'Female', 'Male', 'Female', 'Female',\n",
       "       'Female', 'Female', 'Female', 'Male', 'Female', 'Male', 'Female',\n",
       "       'Male', 'Male', 'Female', 'Male', 'Male', 'Female', 'Male', 'Male',\n",
       "       'Male', 'Female', 'Female'], dtype='<U6')"
      ]
     },
     "execution_count": 40,
     "metadata": {},
     "output_type": "execute_result"
    }
   ],
   "source": [
    "gen =np.random.choice(sex, 500, p=[0.53, 0.47])\n",
    "gen"
   ]
  },
  {
   "cell_type": "code",
   "execution_count": 41,
   "metadata": {},
   "outputs": [
    {
     "data": {
      "image/png": "[encoded data removed]",
      "text/plain": [
       "<Figure size 720x360 with 1 Axes>"
      ]
     },
     "metadata": {
      "needs_background": "light"
     },
     "output_type": "display_data"
    }
   ],
   "source": [
    "# Histogram showing the difference in the genders\n",
    "\n",
    "plt.figure(figsize=(10,5))\n",
    "plt.hist(gen, bins=5)\n",
    "plt.xlabel(\"Gender\")\n",
    "plt.show()"
   ]
  },
  {
   "cell_type": "code",
   "execution_count": 42,
   "metadata": {},
   "outputs": [
    {
     "data": {
      "text/plain": [
       "<seaborn.axisgrid.FacetGrid at 0x18cbfb09080>"
      ]
     },
     "execution_count": 42,
     "metadata": {},
     "output_type": "execute_result"
    },
    {
     "data": {
      "image/png": "[encoded data removed]",
      "text/plain": [
       "<Figure size 499x216 with 2 Axes>"
      ]
     },
     "metadata": {
      "needs_background": "light"
     },
     "output_type": "display_data"
    }
   ],
   "source": [
    "# KDE plots of the tip distribution separated by year and fuel type\n",
    "g = sns.FacetGrid(df, col=\"Sex\", hue=\"Fuel\") \n",
    "g.map(sns.distplot, \"Year\")\n",
    "g.add_legend() \n",
    "g.set(alpha=.5)"
   ]
  },
  {
   "cell_type": "code",
   "execution_count": 43,
   "metadata": {},
   "outputs": [
    {
     "data": {
      "text/plain": [
       "<seaborn.axisgrid.PairGrid at 0x18cc044e550>"
      ]
     },
     "execution_count": 43,
     "metadata": {},
     "output_type": "execute_result"
    },
    {
     "data": {
      "image/png": "[encoded data removed]",
      "text/plain": [
       "<Figure size 432.625x360 with 6 Axes>"
      ]
     },
     "metadata": {
      "needs_background": "light"
     },
     "output_type": "display_data"
    }
   ],
   "source": [
    "# Use pairplot to plot the differences in the genders for year and mileage. [23]\n",
    "sns.pairplot(df, \"Sex\")"
   ]
  },
  {
   "cell_type": "markdown",
   "metadata": {},
   "source": [
    "As discussed further up the split between male and female was 53% to 47%.  I have recreated that again using np.random.choice.  From the above graphs it seems that females tend to prefer diesel a little more than petrol.  Males tended to prefer diesel up to 2007/08 approximately but then switched to petrol.  Could have something to do with the changing tax bands.  The mileage was very close between the genders.  "
   ]
  },
  {
   "cell_type": "markdown",
   "metadata": {},
   "source": [
    "### Licence Type"
   ]
  },
  {
   "cell_type": "code",
   "execution_count": 44,
   "metadata": {},
   "outputs": [
    {
     "data": {
      "text/plain": [
       "array(['Full', 'Full', 'Full', 'Full', 'Full', 'Full', 'Full', 'Full',\n",
       "       'Full', 'Full', 'Full', 'Full', 'Full', 'Learner', 'Full', 'Full',\n",
       "       'Full', 'Learner', 'Learner', 'Full', 'Full', 'Full', 'Full',\n",
       "       'Full', 'Full', 'Full', 'Full', 'Full', 'Full', 'Full', 'Full',\n",
       "       'Full', 'Full', 'Full', 'Full', 'Full', 'Full', 'Full', 'Full',\n",
       "       'Full', 'Full', 'Full', 'Full', 'Full', 'Full', 'Full', 'Full',\n",
       "       'Full', 'Full', 'Full', 'Full', 'Full', 'Full', 'Full', 'Full',\n",
       "       'Full', 'Full', 'Full', 'Full', 'Full', 'Full', 'Full', 'Full',\n",
       "       'Full', 'Full', 'Full', 'Full', 'Full', 'Full', 'Full', 'Full',\n",
       "       'Full', 'Full', 'Full', 'Full', 'Full', 'Full', 'Full', 'Full',\n",
       "       'Learner', 'Full', 'Full', 'Full', 'Full', 'Full', 'Full',\n",
       "       'Learner', 'Full', 'Full', 'Full', 'Learner', 'Full', 'Full',\n",
       "       'Full', 'Full', 'Full', 'Learner', 'Full', 'Learner', 'Full',\n",
       "       'Full', 'Full', 'Full', 'Full', 'Full', 'Full', 'Full', 'Full',\n",
       "       'Full', 'Full', 'Full', 'Full', 'Full', 'Full', 'Full', 'Full',\n",
       "       'Full', 'Full', 'Full', 'Full', 'Full', 'Full', 'Full', 'Full',\n",
       "       'Full', 'Full', 'Full', 'Full', 'Full', 'Full', 'Full', 'Full',\n",
       "       'Full', 'Full', 'Full', 'Full', 'Full', 'Full', 'Full', 'Full',\n",
       "       'Full', 'Full', 'Full', 'Full', 'Full', 'Full', 'Full', 'Full',\n",
       "       'Full', 'Full', 'Full', 'Full', 'Full', 'Full', 'Full', 'Full',\n",
       "       'Full', 'Full', 'Full', 'Full', 'Full', 'Full', 'Learner', 'Full',\n",
       "       'Full', 'Full', 'Full', 'Full', 'Full', 'Full', 'Full', 'Full',\n",
       "       'Full', 'Full', 'Full', 'Full', 'Full', 'Full', 'Full', 'Full',\n",
       "       'Full', 'Full', 'Full', 'Full', 'Full', 'Full', 'Full', 'Full',\n",
       "       'Full', 'Full', 'Full', 'Full', 'Full', 'Full', 'Full', 'Full',\n",
       "       'Learner', 'Full', 'Full', 'Full', 'Full', 'Learner', 'Full',\n",
       "       'Full', 'Full', 'Full', 'Full', 'Learner', 'Learner', 'Full',\n",
       "       'Full', 'Full', 'Learner', 'Full', 'Full', 'Full', 'Full', 'Full',\n",
       "       'Full', 'Full', 'Learner', 'Full', 'Learner', 'Full', 'Full',\n",
       "       'Full', 'Full', 'Full', 'Full', 'Full', 'Full', 'Learner', 'Full',\n",
       "       'Learner', 'Full', 'Full', 'Full', 'Full', 'Full', 'Full', 'Full',\n",
       "       'Full', 'Full', 'Full', 'Full', 'Full', 'Full', 'Full', 'Full',\n",
       "       'Full', 'Full', 'Full', 'Full', 'Full', 'Full', 'Full', 'Full',\n",
       "       'Full', 'Full', 'Full', 'Learner', 'Full', 'Full', 'Learner',\n",
       "       'Full', 'Full', 'Full', 'Full', 'Full', 'Full', 'Full', 'Full',\n",
       "       'Full', 'Full', 'Full', 'Full', 'Full', 'Full', 'Full', 'Full',\n",
       "       'Full', 'Full', 'Full', 'Full', 'Full', 'Full', 'Full', 'Full',\n",
       "       'Full', 'Full', 'Full', 'Full', 'Full', 'Full', 'Full', 'Full',\n",
       "       'Full', 'Full', 'Full', 'Full', 'Full', 'Full', 'Full', 'Full',\n",
       "       'Full', 'Full', 'Full', 'Full', 'Full', 'Full', 'Full', 'Full',\n",
       "       'Full', 'Full', 'Full', 'Full', 'Full', 'Full', 'Full', 'Full',\n",
       "       'Full', 'Full', 'Full', 'Learner', 'Learner', 'Full', 'Full',\n",
       "       'Full', 'Full', 'Full', 'Full', 'Full', 'Full', 'Full', 'Full',\n",
       "       'Full', 'Full', 'Full', 'Full', 'Full', 'Full', 'Full', 'Full',\n",
       "       'Full', 'Full', 'Learner', 'Full', 'Full', 'Learner', 'Full',\n",
       "       'Full', 'Learner', 'Full', 'Full', 'Full', 'Full', 'Full', 'Full',\n",
       "       'Learner', 'Full', 'Full', 'Full', 'Full', 'Full', 'Full',\n",
       "       'Learner', 'Full', 'Full', 'Full', 'Full', 'Full', 'Full', 'Full',\n",
       "       'Full', 'Full', 'Full', 'Full', 'Full', 'Full', 'Full', 'Full',\n",
       "       'Full', 'Full', 'Full', 'Full', 'Full', 'Full', 'Full', 'Full',\n",
       "       'Full', 'Full', 'Full', 'Full', 'Full', 'Full', 'Full', 'Full',\n",
       "       'Full', 'Full', 'Full', 'Full', 'Full', 'Full', 'Full', 'Full',\n",
       "       'Full', 'Learner', 'Full', 'Full', 'Full', 'Full', 'Full', 'Full',\n",
       "       'Full', 'Full', 'Full', 'Full', 'Full', 'Full', 'Full', 'Full',\n",
       "       'Full', 'Full', 'Full', 'Full', 'Full', 'Full', 'Full', 'Full',\n",
       "       'Full', 'Full', 'Full', 'Full', 'Full', 'Full', 'Full', 'Full',\n",
       "       'Full', 'Learner', 'Full', 'Full', 'Full', 'Full', 'Full', 'Full',\n",
       "       'Full', 'Full', 'Full', 'Full', 'Learner', 'Full', 'Full', 'Full',\n",
       "       'Full', 'Full', 'Full', 'Full', 'Full', 'Learner', 'Full', 'Full',\n",
       "       'Full', 'Full', 'Full', 'Full', 'Full', 'Full', 'Full', 'Full',\n",
       "       'Full', 'Full', 'Full', 'Full', 'Full', 'Full', 'Full', 'Full',\n",
       "       'Full', 'Full', 'Full', 'Full', 'Full', 'Full', 'Full', 'Full',\n",
       "       'Full', 'Full', 'Full', 'Full', 'Full', 'Full', 'Full', 'Full',\n",
       "       'Full', 'Full', 'Full', 'Full', 'Full', 'Full', 'Full'],\n",
       "      dtype='<U7')"
      ]
     },
     "execution_count": 44,
     "metadata": {},
     "output_type": "execute_result"
    }
   ],
   "source": [
    "lt= np.random.choice(Licence_type, 500, p=[0.92, 0.08])\n",
    "lt"
   ]
  },
  {
   "cell_type": "code",
   "execution_count": 45,
   "metadata": {},
   "outputs": [
    {
     "data": {
      "image/png": "[encoded data removed]",
      "text/plain": [
       "<Figure size 720x360 with 1 Axes>"
      ]
     },
     "metadata": {
      "needs_background": "light"
     },
     "output_type": "display_data"
    }
   ],
   "source": [
    "# Histogram showing Licence Types\n",
    "\n",
    "plt.figure(figsize=(10,5))\n",
    "plt.hist(lt, bins=5)\n",
    "plt.xlabel('Licence Type')\n",
    "plt.show()"
   ]
  },
  {
   "cell_type": "code",
   "execution_count": 46,
   "metadata": {},
   "outputs": [
    {
     "data": {
      "text/plain": [
       "<seaborn.axisgrid.FacetGrid at 0x18cc066bcf8>"
      ]
     },
     "execution_count": 46,
     "metadata": {},
     "output_type": "execute_result"
    },
    {
     "data": {
      "image/png": "[encoded data removed]",
      "text/plain": [
       "<Figure size 499x216 with 2 Axes>"
      ]
     },
     "metadata": {
      "needs_background": "light"
     },
     "output_type": "display_data"
    }
   ],
   "source": [
    "# KDE plots of the tip distribution separated by Licence Type and fuel\n",
    "g = sns.FacetGrid(df, col=\"Licence_type\", hue=\"Fuel\") \n",
    "g.map(sns.distplot, \"Year\")\n",
    "g.add_legend() \n",
    "g.set(alpha=.5)"
   ]
  },
  {
   "cell_type": "markdown",
   "metadata": {},
   "source": [
    "92% of licences held in Ireland were full with the remaining 8% provisional.  Learners tended to prefer petrol engines between 2004 and 2008 models approximately.  Similar to the gender spread, there was an almost even number of diesel and petrol split in the full licence category.  "
   ]
  },
  {
   "cell_type": "markdown",
   "metadata": {},
   "source": [
    "### Mileage"
   ]
  },
  {
   "cell_type": "code",
   "execution_count": 47,
   "metadata": {},
   "outputs": [
    {
     "data": {
      "text/plain": [
       "Text(0.5, 1.0, 'Mileage')"
      ]
     },
     "execution_count": 47,
     "metadata": {},
     "output_type": "execute_result"
    },
    {
     "data": {
      "image/png": "[encoded data removed]",
      "text/plain": [
       "<Figure size 432x288 with 1 Axes>"
      ]
     },
     "metadata": {
      "needs_background": "light"
     },
     "output_type": "display_data"
    }
   ],
   "source": [
    "#Another way to look at the information for mileage and see what the function in the dataframe created [24] \n",
    "plt.plot(df.Mileage) # Plot the spread of Mileage\n",
    "plt.ylabel(\"Mileage\") # name the y label\n",
    "plt.title(\"Mileage\") # give the plot a title"
   ]
  },
  {
   "cell_type": "code",
   "execution_count": 48,
   "metadata": {},
   "outputs": [
    {
     "data": {
      "image/png": "[encoded data removed]",
      "text/plain": [
       "<Figure size 864x576 with 1 Axes>"
      ]
     },
     "metadata": {},
     "output_type": "display_data"
    }
   ],
   "source": [
    "plt.figure(figsize=(12,8), facecolor='w', edgecolor='k', clear='True')\n",
    "plt.hist(df.Mileage,  bins=50)\n",
    "plt.xlabel(\"Mileage\")\n",
    "plt.show()"
   ]
  },
  {
   "cell_type": "code",
   "execution_count": 50,
   "metadata": {},
   "outputs": [
    {
     "data": {
      "text/plain": [
       "<seaborn.axisgrid.JointGrid at 0x18cc1846390>"
      ]
     },
     "execution_count": 50,
     "metadata": {},
     "output_type": "execute_result"
    },
    {
     "data": {
      "image/png": "[encoded data removed]",
      "text/plain": [
       "<Figure size 432x432 with 3 Axes>"
      ]
     },
     "metadata": {
      "needs_background": "light"
     },
     "output_type": "display_data"
    }
   ],
   "source": [
    "# Is there any correlation between mileage and year? [25]\n",
    "g = sns.JointGrid(x=\"Year\", y=\"Mileage\", data=df) \n",
    "g.plot_joint(sns.regplot, order=2) \n",
    "g.plot_marginals(sns.distplot)\n",
    "\n",
    "# There doesn't appear to be any relationship between mileage and year."
   ]
  },
  {
   "cell_type": "code",
   "execution_count": 51,
   "metadata": {},
   "outputs": [
    {
     "data": {
      "text/plain": [
       "<seaborn.axisgrid.FacetGrid at 0x18cc19bcf28>"
      ]
     },
     "execution_count": 51,
     "metadata": {},
     "output_type": "execute_result"
    },
    {
     "data": {
      "image/png": "[encoded data removed]",
      "text/plain": [
       "<Figure size 504.625x216 with 2 Axes>"
      ]
     },
     "metadata": {
      "needs_background": "light"
     },
     "output_type": "display_data"
    }
   ],
   "source": [
    "# KDE plots of the tip distribution separated by Fuel type and sex\n",
    "g = sns.FacetGrid(df, col=\"Fuel\", hue=\"Sex\") \n",
    "g.map(sns.distplot, \"Mileage\")\n",
    "g.add_legend() \n",
    "g.set(alpha=.5)"
   ]
  },
  {
   "cell_type": "markdown",
   "metadata": {},
   "source": [
    "For lower mileage, more females tended to go for petrol engines compared to males.    "
   ]
  },
  {
   "cell_type": "code",
   "execution_count": 52,
   "metadata": {},
   "outputs": [
    {
     "data": {
      "text/plain": [
       "<seaborn.axisgrid.FacetGrid at 0x18cc1971b00>"
      ]
     },
     "execution_count": 52,
     "metadata": {},
     "output_type": "execute_result"
    },
    {
     "data": {
      "image/png": "[encoded data removed]",
      "text/plain": [
       "<Figure size 440x216 with 2 Axes>"
      ]
     },
     "metadata": {
      "needs_background": "light"
     },
     "output_type": "display_data"
    }
   ],
   "source": [
    "# KDE plots of the tip distribution separated by Fuel Type\n",
    "g = sns.FacetGrid(df, col=\"Fuel\") \n",
    "g.map(sns.distplot, \"Mileage\")\n",
    "g.add_legend() \n",
    "g.set(alpha=.5)"
   ]
  },
  {
   "cell_type": "code",
   "execution_count": 72,
   "metadata": {},
   "outputs": [
    {
     "data": {
      "text/plain": [
       "<seaborn.axisgrid.FacetGrid at 0x18cc1b1b5f8>"
      ]
     },
     "execution_count": 72,
     "metadata": {},
     "output_type": "execute_result"
    },
    {
     "data": {
      "image/png": "[encoded data removed]",
      "text/plain": [
       "<Figure size 516.875x216 with 2 Axes>"
      ]
     },
     "metadata": {},
     "output_type": "display_data"
    }
   ],
   "source": [
    "# KDE plots of the tip distribution separated by Fuel Type  and Status\n",
    "g = sns.FacetGrid(df, col=\"Fuel\", hue = \"Status\") \n",
    "g.map(sns.distplot, \"Year\")\n",
    "g.add_legend() \n",
    "g.set(alpha=.5)"
   ]
  },
  {
   "cell_type": "markdown",
   "metadata": {},
   "source": [
    "There seems to be a small spread of incomplete for the petrol engines, the most noticeable is 2015.  The diesel has a wider range of incomplete, ranging from 2005 to 2015 approximately."
   ]
  },
  {
   "cell_type": "code",
   "execution_count": 54,
   "metadata": {},
   "outputs": [
    {
     "data": {
      "image/png": "[encoded data removed]",
      "text/plain": [
       "<Figure size 432x288 with 1 Axes>"
      ]
     },
     "metadata": {},
     "output_type": "display_data"
    }
   ],
   "source": [
    "# Using boxplot to view the spread of the mileage per year [26]\n",
    "sns.set_style(\"whitegrid\")\n",
    "sns.boxplot(x=\"Year\", y=\"Mileage\", data = df)\n",
    "sns.despine()\n",
    "plt.show()"
   ]
  },
  {
   "cell_type": "markdown",
   "metadata": {},
   "source": [
    "Using box plots to look at the total bill but able to see the minimum, first quartile, median, third quartile, and maximum. Shows outliers and what their values are.  The above has a lot of information.  Just taking 2007 as an example, the median mileage for that year was approximately 76,000km, which is indicated by the thick black line just above the 75000 mark.  The green shaded area begins with the first quartile.  The top of the rectangle is the third quartile.  The median separates the upper half from the lower half.  If all the values within the dataset are laid out in order the one in the middle is the median. The first quartile is the median of the values before the median detailed in the lines above here. The third quartile is the median of the values of the area above the median. The interquartile Range begins at the first quartile and ends at the third quartile, taking in the median.  The diamond shapes in some of the years are known as an outliner."
   ]
  },
  {
   "cell_type": "code",
   "execution_count": 55,
   "metadata": {},
   "outputs": [
    {
     "data": {
      "image/png": "[encoded data removed]",
      "text/plain": [
       "<Figure size 432x288 with 4 Axes>"
      ]
     },
     "metadata": {},
     "output_type": "display_data"
    },
    {
     "data": {
      "image/png": "[encoded data removed]",
      "text/plain": [
       "<Figure size 432x288 with 2 Axes>"
      ]
     },
     "metadata": {},
     "output_type": "display_data"
    }
   ],
   "source": [
    "# box plots\n",
    "# Graphs for the Year and Mileage\n",
    "df.plot(kind='box', subplots=True, layout=(2,2), sharex=False, sharey=False)\n",
    "plt.show()\n",
    "\n",
    "# histograms \n",
    "df.hist()\n",
    "plt.show()"
   ]
  },
  {
   "cell_type": "markdown",
   "metadata": {},
   "source": [
    "The median year is approximately 2007 and median mileage is approximately 75,000km.  "
   ]
  },
  {
   "cell_type": "markdown",
   "metadata": {},
   "source": [
    "### Service"
   ]
  },
  {
   "cell_type": "code",
   "execution_count": 56,
   "metadata": {},
   "outputs": [
    {
     "data": {
      "text/plain": [
       "array(['Yes', 'No', 'No', 'No', 'No', 'Yes', 'Yes', 'Yes', 'Yes', 'Yes',\n",
       "       'No', 'No', 'No', 'Yes', 'No', 'Yes', 'No', 'Yes', 'Yes', 'Yes',\n",
       "       'No', 'Yes', 'Yes', 'No', 'Yes', 'Yes', 'Yes', 'No', 'Yes', 'Yes',\n",
       "       'No', 'Yes', 'Yes', 'Yes', 'No', 'No', 'Yes', 'Yes', 'No', 'Yes',\n",
       "       'Yes', 'Yes', 'Yes', 'Yes', 'Yes', 'Yes', 'Yes', 'No', 'Yes', 'No',\n",
       "       'Yes', 'No', 'No', 'Yes', 'Yes', 'Yes', 'Yes', 'Yes', 'No', 'No',\n",
       "       'No', 'Yes', 'Yes', 'Yes', 'Yes', 'No', 'Yes', 'Yes', 'Yes', 'Yes',\n",
       "       'Yes', 'Yes', 'Yes', 'No', 'No', 'No', 'Yes', 'Yes', 'No', 'Yes',\n",
       "       'No', 'No', 'Yes', 'Yes', 'Yes', 'Yes', 'Yes', 'Yes', 'Yes', 'Yes',\n",
       "       'Yes', 'Yes', 'No', 'No', 'Yes', 'Yes', 'No', 'No', 'No', 'No',\n",
       "       'No', 'No', 'No', 'No', 'No', 'Yes', 'Yes', 'Yes', 'No', 'Yes',\n",
       "       'Yes', 'Yes', 'Yes', 'Yes', 'Yes', 'No', 'Yes', 'Yes', 'No', 'Yes',\n",
       "       'Yes', 'No', 'No', 'No', 'Yes', 'Yes', 'No', 'No', 'No', 'Yes',\n",
       "       'No', 'Yes', 'Yes', 'Yes', 'Yes', 'Yes', 'Yes', 'No', 'No', 'Yes',\n",
       "       'Yes', 'No', 'No', 'Yes', 'Yes', 'Yes', 'Yes', 'Yes', 'Yes', 'Yes',\n",
       "       'No', 'Yes', 'No', 'Yes', 'Yes', 'Yes', 'Yes', 'Yes', 'Yes', 'Yes',\n",
       "       'No', 'No', 'Yes', 'No', 'Yes', 'Yes', 'Yes', 'Yes', 'Yes', 'Yes',\n",
       "       'Yes', 'Yes', 'Yes', 'Yes', 'Yes', 'Yes', 'No', 'Yes', 'Yes', 'No',\n",
       "       'Yes', 'No', 'Yes', 'Yes', 'Yes', 'No', 'Yes', 'Yes', 'No', 'No',\n",
       "       'No', 'Yes', 'Yes', 'Yes', 'Yes', 'No', 'Yes', 'Yes', 'Yes', 'No',\n",
       "       'Yes', 'Yes', 'Yes', 'Yes', 'Yes', 'Yes', 'Yes', 'Yes', 'Yes',\n",
       "       'No', 'No', 'Yes', 'Yes', 'Yes', 'Yes', 'Yes', 'Yes', 'No', 'Yes',\n",
       "       'Yes', 'Yes', 'Yes', 'Yes', 'Yes', 'Yes', 'Yes', 'Yes', 'Yes',\n",
       "       'No', 'Yes', 'No', 'Yes', 'Yes', 'No', 'Yes', 'Yes', 'Yes', 'Yes',\n",
       "       'Yes', 'No', 'Yes', 'Yes', 'Yes', 'Yes', 'No', 'No', 'Yes', 'No',\n",
       "       'No', 'Yes', 'Yes', 'Yes', 'Yes', 'Yes', 'No', 'Yes', 'Yes', 'No',\n",
       "       'No', 'Yes', 'No', 'No', 'No', 'No', 'Yes', 'Yes', 'Yes', 'No',\n",
       "       'No', 'Yes', 'Yes', 'Yes', 'Yes', 'Yes', 'Yes', 'Yes', 'Yes',\n",
       "       'Yes', 'No', 'Yes', 'No', 'Yes', 'Yes', 'Yes', 'Yes', 'No', 'Yes',\n",
       "       'Yes', 'Yes', 'Yes', 'No', 'No', 'No', 'No', 'Yes', 'No', 'Yes',\n",
       "       'No', 'No', 'No', 'No', 'Yes', 'Yes', 'No', 'No', 'No', 'Yes',\n",
       "       'Yes', 'No', 'No', 'Yes', 'Yes', 'No', 'No', 'Yes', 'No', 'Yes',\n",
       "       'No', 'No', 'No', 'Yes', 'Yes', 'Yes', 'Yes', 'No', 'Yes', 'No',\n",
       "       'No', 'No', 'No', 'No', 'No', 'Yes', 'Yes', 'No', 'Yes', 'Yes',\n",
       "       'Yes', 'Yes', 'No', 'Yes', 'Yes', 'Yes', 'Yes', 'Yes', 'Yes',\n",
       "       'Yes', 'Yes', 'No', 'Yes', 'Yes', 'No', 'Yes', 'Yes', 'No', 'No',\n",
       "       'Yes', 'No', 'No', 'Yes', 'Yes', 'Yes', 'Yes', 'Yes', 'Yes', 'Yes',\n",
       "       'Yes', 'Yes', 'Yes', 'No', 'Yes', 'Yes', 'Yes', 'No', 'Yes', 'Yes',\n",
       "       'Yes', 'Yes', 'Yes', 'Yes', 'Yes', 'Yes', 'Yes', 'No', 'Yes',\n",
       "       'Yes', 'Yes', 'Yes', 'Yes', 'Yes', 'Yes', 'No', 'Yes', 'Yes',\n",
       "       'Yes', 'No', 'Yes', 'Yes', 'No', 'No', 'No', 'Yes', 'No', 'Yes',\n",
       "       'Yes', 'No', 'No', 'Yes', 'Yes', 'Yes', 'Yes', 'Yes', 'Yes', 'Yes',\n",
       "       'No', 'Yes', 'Yes', 'No', 'Yes', 'Yes', 'Yes', 'Yes', 'Yes', 'Yes',\n",
       "       'Yes', 'No', 'Yes', 'No', 'Yes', 'Yes', 'Yes', 'Yes', 'Yes', 'Yes',\n",
       "       'Yes', 'Yes', 'Yes', 'Yes', 'Yes', 'Yes', 'No', 'Yes', 'Yes', 'No',\n",
       "       'Yes', 'No', 'Yes', 'Yes', 'Yes', 'Yes', 'Yes', 'Yes', 'Yes',\n",
       "       'Yes', 'Yes', 'Yes', 'Yes', 'No', 'No', 'Yes', 'No', 'Yes', 'Yes',\n",
       "       'Yes', 'Yes', 'Yes', 'Yes', 'Yes', 'Yes', 'No', 'No', 'No', 'No',\n",
       "       'Yes', 'Yes', 'Yes', 'Yes', 'No', 'Yes', 'Yes', 'Yes', 'No', 'No',\n",
       "       'Yes', 'No', 'Yes', 'Yes', 'No', 'Yes', 'Yes', 'No', 'No', 'Yes',\n",
       "       'No', 'Yes', 'No', 'No', 'No', 'Yes', 'Yes'], dtype='<U3')"
      ]
     },
     "execution_count": 56,
     "metadata": {},
     "output_type": "execute_result"
    }
   ],
   "source": [
    "ser= np.random.choice(Service, 500, p=[0.67, 0.33])\n",
    "ser"
   ]
  },
  {
   "cell_type": "code",
   "execution_count": 57,
   "metadata": {},
   "outputs": [
    {
     "data": {
      "image/png": "[encoded data removed]",
      "text/plain": [
       "<Figure size 720x360 with 1 Axes>"
      ]
     },
     "metadata": {},
     "output_type": "display_data"
    }
   ],
   "source": [
    "# Histogram showing the difference in the levels of cars that got a service prior to NCT\n",
    "\n",
    "plt.figure(figsize=(10,5))\n",
    "plt.hist(ser, bins=5)\n",
    "plt.xlabel('Service')\n",
    "plt.show()"
   ]
  },
  {
   "cell_type": "code",
   "execution_count": 58,
   "metadata": {},
   "outputs": [
    {
     "data": {
      "image/png": "[encoded data removed]",
      "text/plain": [
       "<Figure size 864x432 with 2 Axes>"
      ]
     },
     "metadata": {},
     "output_type": "display_data"
    }
   ],
   "source": [
    "# Use facetgrid to see if there is any pattern to mileage, service and year of vehicle. [27]\n",
    "(df.pipe(sns.FacetGrid, \n",
    "       col='Service', \n",
    "       col_wrap=4, \n",
    "       aspect=.5, \n",
    "       height=6)\n",
    " .map(plt.scatter, 'Year', 'Mileage', s=20)\n",
    " .fig.subplots_adjust(wspace=.2, hspace=.2)\n",
    ")\n"
   ]
  },
  {
   "cell_type": "markdown",
   "metadata": {},
   "source": [
    "A lot more cars received servicing prior to the nct than did not. The 2003/04 the car with the most mileage (200000) did not receive a service. "
   ]
  },
  {
   "cell_type": "code",
   "execution_count": 59,
   "metadata": {},
   "outputs": [
    {
     "data": {
      "text/plain": [
       "<seaborn.axisgrid.FacetGrid at 0x18cc1fe7240>"
      ]
     },
     "execution_count": 59,
     "metadata": {},
     "output_type": "execute_result"
    },
    {
     "data": {
      "image/png": "[encoded data removed]",
      "text/plain": [
       "<Figure size 701.25x216 with 3 Axes>"
      ]
     },
     "metadata": {},
     "output_type": "display_data"
    }
   ],
   "source": [
    "# KDE plots of the tip distribution separated by day and sex\n",
    "g = sns.FacetGrid(df, col=\"Status\", hue=\"Service\") \n",
    "g.map(sns.distplot, \"Year\")\n",
    "g.add_legend() \n",
    "g.set(alpha=.5)"
   ]
  },
  {
   "cell_type": "markdown",
   "metadata": {},
   "source": [
    "A lot of the cars around 2005 to 2008 approximately whose owners didn't service failed the nct.  The shape of distribution for both fail and pass are quite similar.  The interesting part here is the incomplete section.  All of the ones which did not finish the test had services.  I am very surprised by this. I would have expected it to be mostly cars which had not been serviced beforehand."
   ]
  },
  {
   "cell_type": "markdown",
   "metadata": {},
   "source": [
    "### Expected"
   ]
  },
  {
   "cell_type": "code",
   "execution_count": 60,
   "metadata": {},
   "outputs": [
    {
     "data": {
      "text/plain": [
       "0      Fail\n",
       "1      Pass\n",
       "2      Fail\n",
       "3      Pass\n",
       "4      Fail\n",
       "5      Pass\n",
       "6      Fail\n",
       "7      Pass\n",
       "8      Pass\n",
       "9      Pass\n",
       "10     Pass\n",
       "11     Fail\n",
       "12     Pass\n",
       "13     Pass\n",
       "14     Pass\n",
       "15     Fail\n",
       "16     Pass\n",
       "17     Fail\n",
       "18     Pass\n",
       "19     Pass\n",
       "20     Pass\n",
       "21     Pass\n",
       "22     Pass\n",
       "23     Pass\n",
       "24     Fail\n",
       "25     Pass\n",
       "26     Pass\n",
       "27     Pass\n",
       "28     Pass\n",
       "29     Fail\n",
       "       ... \n",
       "470    Pass\n",
       "471    Fail\n",
       "472    Pass\n",
       "473    Pass\n",
       "474    Fail\n",
       "475    Pass\n",
       "476    Pass\n",
       "477    Fail\n",
       "478    Pass\n",
       "479    Pass\n",
       "480    Pass\n",
       "481    Pass\n",
       "482    Pass\n",
       "483    Fail\n",
       "484    Pass\n",
       "485    Fail\n",
       "486    Fail\n",
       "487    Pass\n",
       "488    Pass\n",
       "489    Pass\n",
       "490    Pass\n",
       "491    Pass\n",
       "492    Fail\n",
       "493    Pass\n",
       "494    Fail\n",
       "495    Fail\n",
       "496    Pass\n",
       "497    Pass\n",
       "498    Pass\n",
       "499    Fail\n",
       "Length: 500, dtype: object"
      ]
     },
     "execution_count": 60,
     "metadata": {},
     "output_type": "execute_result"
    }
   ],
   "source": [
    "expect= df.apply(lambda row: fun(row), axis=1)\n",
    "expect"
   ]
  },
  {
   "cell_type": "code",
   "execution_count": 61,
   "metadata": {},
   "outputs": [
    {
     "data": {
      "text/plain": [
       "<matplotlib.axes._subplots.AxesSubplot at 0x18cc2144588>"
      ]
     },
     "execution_count": 61,
     "metadata": {},
     "output_type": "execute_result"
    },
    {
     "data": {
      "image/png": "[encoded data removed]",
      "text/plain": [
       "<Figure size 432x288 with 1 Axes>"
      ]
     },
     "metadata": {},
     "output_type": "display_data"
    }
   ],
   "source": [
    "sns.countplot(expect, data=df)"
   ]
  },
  {
   "cell_type": "code",
   "execution_count": 62,
   "metadata": {},
   "outputs": [
    {
     "data": {
      "text/plain": [
       "<matplotlib.axes._subplots.AxesSubplot at 0x18cc21a8e80>"
      ]
     },
     "execution_count": 62,
     "metadata": {},
     "output_type": "execute_result"
    },
    {
     "data": {
      "image/png": "[encoded data removed]",
      "text/plain": [
       "<Figure size 432x288 with 1 Axes>"
      ]
     },
     "metadata": {},
     "output_type": "display_data"
    }
   ],
   "source": [
    "sns.countplot(expect, hue='Year', data=df)"
   ]
  },
  {
   "cell_type": "code",
   "execution_count": 63,
   "metadata": {},
   "outputs": [
    {
     "data": {
      "text/plain": [
       "<matplotlib.axes._subplots.AxesSubplot at 0x18cc2254748>"
      ]
     },
     "execution_count": 63,
     "metadata": {},
     "output_type": "execute_result"
    },
    {
     "data": {
      "image/png": "[encoded data removed]",
      "text/plain": [
       "<Figure size 432x288 with 1 Axes>"
      ]
     },
     "metadata": {},
     "output_type": "display_data"
    }
   ],
   "source": [
    "sns.countplot('Year', hue='Expected', data=df)"
   ]
  },
  {
   "cell_type": "markdown",
   "metadata": {},
   "source": [
    "The first half of the time series depicted above shows the expected fail at a higher rate than pass.  This changed for the 2008 models onwards.  May indicate that a higher level of newer cars are getting serviced prior to the nct and have all issues already addressed. Or probable lower mileage rates mean there is less wear and tear on cars and therefore in a better condition."
   ]
  },
  {
   "cell_type": "code",
   "execution_count": 64,
   "metadata": {},
   "outputs": [
    {
     "data": {
      "image/png": "[encoded data removed]",
      "text/plain": [
       "<Figure size 444.875x360 with 6 Axes>"
      ]
     },
     "metadata": {},
     "output_type": "display_data"
    }
   ],
   "source": [
    "sns.pairplot(df, hue=\"Status\", kind=\"Expected\")\n",
    "plt.show()"
   ]
  },
  {
   "cell_type": "code",
   "execution_count": 65,
   "metadata": {},
   "outputs": [
    {
     "data": {
      "text/plain": [
       "<seaborn.axisgrid.FacetGrid at 0x18cc24eab00>"
      ]
     },
     "execution_count": 65,
     "metadata": {},
     "output_type": "execute_result"
    },
    {
     "data": {
      "image/png": "[encoded data removed]",
      "text/plain": [
       "<Figure size 516.875x216 with 2 Axes>"
      ]
     },
     "metadata": {},
     "output_type": "display_data"
    }
   ],
   "source": [
    "# KDE plots of the tip distribution separated by Status and Sex\n",
    "g = sns.FacetGrid(df, col=\"Sex\", hue=\"Status\") \n",
    "g.map(sns.distplot, \"Mileage\")\n",
    "g.add_legend() \n",
    "g.set(alpha=1)"
   ]
  },
  {
   "cell_type": "markdown",
   "metadata": {},
   "source": [
    "All of the incomplete cars belonged to males and mileage for them was between 10,000 km to 100,000 so the mileage was not very high.  overall cars owned by males tended to do larger amount of km with the total well over 250,000 compared to females who tend to peter out around 200,000.  More mileage may indicate a diesel car.  "
   ]
  },
  {
   "cell_type": "code",
   "execution_count": 66,
   "metadata": {},
   "outputs": [
    {
     "data": {
      "text/plain": [
       "<seaborn.axisgrid.FacetGrid at 0x18cc248ce80>"
      ]
     },
     "execution_count": 66,
     "metadata": {},
     "output_type": "execute_result"
    },
    {
     "data": {
      "image/png": "[encoded data removed]",
      "text/plain": [
       "<Figure size 495.75x216 with 2 Axes>"
      ]
     },
     "metadata": {},
     "output_type": "display_data"
    }
   ],
   "source": [
    "# KDE plots of the tip distribution separated by Status and Sex\n",
    "g = sns.FacetGrid(df, col=\"Sex\", hue=\"Fuel\") \n",
    "g.map(sns.distplot, \"Mileage\")\n",
    "g.add_legend() \n",
    "g.set(alpha=1)"
   ]
  },
  {
   "cell_type": "markdown",
   "metadata": {},
   "source": [
    "Males tend to purchase more diesel cars than females, do more overall mileage but have slightly lower rates of nct failure but have most, if not all, of the incompletes. "
   ]
  },
  {
   "cell_type": "code",
   "execution_count": 67,
   "metadata": {},
   "outputs": [
    {
     "data": {
      "text/plain": [
       "<seaborn.axisgrid.FacetGrid at 0x18cbfacf6d8>"
      ]
     },
     "execution_count": 67,
     "metadata": {},
     "output_type": "execute_result"
    },
    {
     "data": {
      "image/png": "[encoded data removed]",
      "text/plain": [
       "<Figure size 706.5x216 with 3 Axes>"
      ]
     },
     "metadata": {},
     "output_type": "display_data"
    }
   ],
   "source": [
    "# KDE plots of the tip distribution separated by Status and Expected\n",
    "g = sns.FacetGrid(df, col=\"Status\", hue=\"Expected\") \n",
    "g.map(sns.distplot, \"Year\")\n",
    "g.add_legend() \n",
    "g.set(alpha=.5)"
   ]
  },
  {
   "cell_type": "markdown",
   "metadata": {},
   "source": [
    "##### The year, fuel type and mileage do seem to have an effect on the final result.  The newer cars are more likely to pass the NCT on the first attempt as they have lower mileage.  Fuel type would have the effect that diesel cars do more travelling so higher mileage.  Servicing prior to the test does have a big impact also.  Using my own car as a control to measure my findings against this seems to hold true.  In 2013,  my car was 6 years old.  It was diesel and had average mileage for its age. It passed first time without a service prior to the NCT.  In 2015 it again passed first time.  However, the next 3 tests did not pass the first time. As the mileage increased the rate of first-time pass decreased. Again, there was no pre service any time."
   ]
  },
  {
   "cell_type": "markdown",
   "metadata": {},
   "source": [
    "### Conclusion:\n",
    "\n",
    "I think the data I used was too text based and did not have enough numerical values.  I should have added in an age spread or converted the results for expected and status to 1 and 0 and then could have further analysed them.  This would have then allowed me to analyse any relationships between the variables to a better degree and then I could have applied it towards machine learning.  Unfortunately, I did not realise this until near the end of the project when the deadline was up, otherwise I would have redone it all.  The service column was interesting but only looked at services immediately prior to the nct.  I could have added in another variable which stated whether or not the car was regularly maintained.  This, I feel, would also have had a bearing on the pass/fail rate.  I wasted a lot of time at the start importing the original database and tidying it up to then realise it probably wasn't even required but it was a good learning experience for future projects so I wouldn't count it as a total loss.  I have included it in the repository as that is where all my workings for the variables came from.  \n",
    "\n",
    "This was a very difficult project for me to do.  On the surface it seems straight forward but I overthought it a lot trying to decide what the brief wanted so I am not even sure if I fulfilled it. But it was very interesting to create a dataframe and factor in variables.  \n",
    "\n",
    "I will create another dataframe in my own time once I receive feedback from this and have a better idea what is required and what the finished project should look like.  \n",
    "\n",
    "I took in the comments from my last assignment and have changed the way I referenced items, used a larger sample size, deleted empty cells, used graphs to better show the text data, made more use of headings and all documentation is in notebook with the README only for instructions on how to run file."
   ]
  },
  {
   "cell_type": "code",
   "execution_count": null,
   "metadata": {},
   "outputs": [],
   "source": []
  },
  {
   "cell_type": "markdown",
   "metadata": {},
   "source": [
    "References\n",
    "\n",
    "[1] McGraw-Hill Concise Dictionary of Modern Medicine. © 2002 by The McGraw-Hill Companies, Inc.  Available at https://medical-dictionary.thefreedictionary.com/data+synthesis. Accessed 3rd December 2019.\n",
    "\n",
    "[2] Tirthajyoti Sarkar Dec 19, 2018, Synthetic data generation — a must-have skill for new data scientists, Stanford, MIT\n",
    "Available at https://towardsdatascience.com/synthetic-data-generation-a-must-have-skill-for-new-data-scientists-915896c0c1ae  Accessed 3rd December 2019.\n",
    "\n",
    "[3] Citizens Information, 2018, National Car Test. Available at https://www.citizensinformation.ie/en/travel_and_recreation/vehicle_standards/national_car_test.html Accessed 25th November 2019.\n",
    "\n",
    "[4] RSA/Commercial Vehicle Roadworthiness Testing.  About the CVRT.  Available at https://www.cvrt.ie/en/About-CVRT/Pages/What%20is%20the%20CVRT.aspx Accessed 25th November 2019.\n",
    "\n",
    "[5] NCT, Yearly Test Statistics.  Available at https://www.ncts.ie/1127. Accessed 20th November 2019.\n",
    "\n",
    "[6] Central Statistics Office,2018,  ROA10: National Car Test Results by Test Centre, Year and Statistic.  Available at https://statbank.cso.ie/px/pxeirestat/Statire/SelectVarVal/Define.asp?maintable=ROA10&PLanguage=   Accessed 20th November 2019.\n",
    "\n",
    "[7] RSA, NCT Statistics & Annual Reviews. Available at https://www.rsa.ie/RSA/Your-Vehicle/Your-Vehicle-/NCT-Statistics-/  Accessed 20th November 2019.\n",
    "\n",
    "[8] Central Statistice Office, 2018. ROA04: Current Full and Learner Permit Driving Licences by Age Group, Sex, Year and Statistic.  Available at https://statbank.cso.ie/px/pxeirestat/Statire/SelectVarVal/Define.asp?Maintable=ROA04&Planguage=0 Accessed 26th November 2019.\n",
    "\n",
    "[9] RSA, NCT Statistics & Annual Reviews. Available at https://www.rsa.ie/RSA/Your-Vehicle/Your-Vehicle-/NCT-Statistics-/  Accessed 20th November 2019.\n",
    "\n",
    "[10] Central Statistics Office, 2018.  THA17: Road Traffic Volumes by Fuel Type, County of Ownership, Year of Registration, Type of Vehicle, Year and Statistic Available at https://statbank.cso.ie/px/pxeirestat/Statire/SelectVarVal/Define.asp?maintable=THA17&PLanguage=0 Accessed 26th November 2019.\n",
    "\n",
    "[11] Central Statistics Office, 2018. ROA04: Current Full and Learner Permit Driving Licences by Age Group, Sex, Year and Statistic.  Available at https://statbank.cso.ie/px/pxeirestat/Statire/SelectVarVal/Define.asp?Maintable=ROA04&Planguage=0  Accessed 26th November 2019.\n",
    "\n",
    "[12] Central Statistics Office, 2018. TEA27: New and Secondhand Vehicles by Taxation Class, Type of Fuel and Year.  Available at https://statbank.cso.ie/px/pxeirestat/statire/SelectVarVal/Define.asp?Maintable=tea27&PLanguage=0  Accessed 26th November 2019.\n",
    "\n",
    "[13] RSA How does the pass/fail rates at NCT compare to the UK and Northern Ireland? Available at https://www.rsa.ie/Documents/Press%20Office/Note%20regarding%20the%20variances%20in%20Pass%20%20and%20fail%20rates%20at%20NCTS.pdf Accessed 26th November 2019.\n",
    "\n",
    "[14] Stackoverflow, Python, how to apply this formula to every line in the database so each line gives a different value rather than the same one for each year. 2019. Available at https://stackoverflow.com/questions/59181287/python-how-to-apply-this-formula-to-every-line-in-the-database-so-each-line-giv Accessed 4th December 2019.\n",
    "\n",
    "[15] Stackoverflow, Trying to create a predetermined answer from conditions relating to 2 other columns within a dataframe. 2019. Available at https://stackoverflow.com/questions/59268922/trying-to-create-a-predetermined-answer-from-conditions-relating-to-2-other-colu Accessed 11th December 2019.\n",
    "\n",
    "[16] Ritchie Ng, Changing Data Type in Pandas, 2017.  Available at https://www.ritchieng.com/pandas-changing-datatype/.  Accessed 6th December 2019.\n",
    "\n",
    "[17]  Stackoverflow, Python Pandas - Changing some column types to categories, 2015. Available at https://stackoverflow.com/questions/28910851/python-pandas-changing-some-column-types-to-categories  Accessed 8th December 2019.\n",
    "\n",
    "[18] Ben Keen, 2017, KDE and violin plots using seaborn. Available at http://benalexkeen.com/kde-and-violin-plots-using-seaborn/  Accessed 12th November 2019.\n",
    "\n",
    "[19] Adrian G, 2018, Pandas for time series data — tricks and tips.  Available at https://medium.com/@bingobee01/pandas-tricks-and-tips-a7b87c3748ea Accessed 25th November 2019.\n",
    "\n",
    "[20] Wikipedia, 2019, Hyundai Santa Fe. Available at https://en.wikipedia.org/wiki/Hyundai_Santa_Fe  Accessed 1st December 2019.\n",
    "\n",
    "[21] Diesel Information Hub, IS A DIESEL CHEAPER TO RUN THAN A PETROL?.  Available at https://dieselinformation.aecc.eu/is-a-diesel-cheaper-to-run-than-a-petrol/  Accessed 5th December 2019.\n",
    "\n",
    "[22] Tutorialspoint.com, Seaborn - Quick Guide.  Available at https://www.tutorialspoint.com/seaborn/seaborn_quick_guide.htm.  Accessed 30th November 2019.\n",
    "\n",
    "[23] Michael Waskom, seaborn.pairplot, 2018. Available at https://seaborn.pydata.org/generated/seaborn.pairplot.html.  Accessed 30th November 2019.\n",
    "\n",
    "[24] Matplotlib development team, Pyplot tutorial, 2018.  Available at https://matplotlib.org/3.1.1/tutorials/introductory/pyplot.html. Accessed 27th November 2019.\n",
    "\n",
    "[25] Slater Stich, Data Visualization in Python: Advanced Functionality in Seaborn, 2015.  Available at https://blog.insightdatascience.com/data-visualization-in-python-advanced-functionality-in-seaborn-20d217f1a9a6.  Accessed 26th November 2019\n",
    "\n",
    "[26] Michael Waskom, seaborn.boxplot, 2018.  Available at https://seaborn.pydata.org/generated/seaborn.boxplot.html Accessed 24th November 2019.\n",
    "\n",
    "[27] Michael Waskom, seaborn.FacetGrid, 2018.  Available at https://seaborn.pydata.org/generated/seaborn.FacetGrid.html#seaborn-facetgrid. Accessed 7th October 2019.\n",
    "\n",
    "[28] Declan V, 2018, Python Data Analysis with Pandas and Matplotlib.  Available from https://ourcodingclub.github.io/2018/04/18/pandas-python-intro.html.  Accessed 9th December 2019."
   ]
  },
  {
   "cell_type": "markdown",
   "metadata": {},
   "source": [
    "Additional Reading\n",
    "\n",
    "Stackoverflow, 2016, How to display full output in Jupyter, not only last result?.  Available at https://stackoverflow.com/questions/36786722/how-to-display-full-output-in-jupyter-not-only-last-result Accessed 26th November 2019.  Used when researching how to get all information for dataframe in one cell.\n",
    "\n",
    "Shubham Ranjan, Python | Creating a Pandas dataframe column based on a given condition. Available at https://www.geeksforgeeks.org/python-creating-a-pandas-dataframe-column-based-on-a-given-condition/ Accessed 3rd December 2019. Used when researching how to set milage variable in the dictionary.  \n",
    "\n",
    "\n",
    "Stackoverflow, How to get a random value from dictionary in python.  Available at https://stackoverflow.com/questions/4859292/how-to-get-a-random-value-from-dictionary-in-python Accessed 3rd December 2019. Used when researching how to set milage variable in the dictionary.  \n",
    "\n",
    "Brad Solomon, Python Histogram Plotting: NumPy, Matplotlib, Pandas & Seaborn, 2018.  Available from https://realpython.com/python-histograms/ Accessed 3rd December. Used to research plotting.\n",
    "\n",
    "Rohit Gupta, 2019, A Complete Python Seaborn Tutorial.  Available from https://www.c-sharpcorner.com/article/a-complete-python-seaborn-tutorial/.  Accessed 30th November 2019. Used when researching plotting.\n",
    "\n",
    "\n",
    "Seán McCárthaigh, 2019, Here are the cars most likely to pass the NCT - Hyundai Trajet owners look away now.  Available from https://www.thejournal.ie/nct-test-rates-4762569-Aug2019/.  Accessed 10th December 2019.\n",
    "\n",
    "\n",
    "Geeks World, 50 shades of matplotlib - The Master Plots (with full Python code).  Translated from https://habr.com/ru/post/468295/  Original Author Selva Prabhakaran. Available from https://geeks-world.github.io/articles/468295/index.html.  Accessed 28th November 2019\n",
    "\n",
    "Motor tax bands, cc based https://www.motortax.ie/OMT/motortaxinfotype.do.  Accessed 28th November 2019\n",
    "\n",
    "Motor tax bands, CO2 Emissions based https://www.motortax.ie/OMT/motortaxinfotype.do.  Accessed 28th November 2019\n"
   ]
  },
  {
   "cell_type": "code",
   "execution_count": null,
   "metadata": {},
   "outputs": [],
   "source": []
  },
  {
   "cell_type": "code",
   "execution_count": null,
   "metadata": {},
   "outputs": [],
   "source": []
  },
  {
   "cell_type": "code",
   "execution_count": null,
   "metadata": {},
   "outputs": [],
   "source": []
  },
  {
   "cell_type": "code",
   "execution_count": null,
   "metadata": {},
   "outputs": [],
   "source": []
  },
  {
   "cell_type": "code",
   "execution_count": null,
   "metadata": {},
   "outputs": [],
   "source": []
  }
 ],
 "metadata": {
  "kernelspec": {
   "display_name": "Python 3",
   "language": "python",
   "name": "python3"
  },
  "language_info": {
   "codemirror_mode": {
    "name": "ipython",
    "version": 3
   },
   "file_extension": ".py",
   "mimetype": "text/x-python",
   "name": "python",
   "nbconvert_exporter": "python",
   "pygments_lexer": "ipython3",
   "version": "3.7.1"
  }
 },
 "nbformat": 4,
 "nbformat_minor": 2
}
