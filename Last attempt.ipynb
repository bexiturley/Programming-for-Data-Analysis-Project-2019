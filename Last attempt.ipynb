{
 "cells": [
  {
   "cell_type": "markdown",
   "metadata": {},
   "source": [
    "## Programming for Data Analysis Project 2019\n",
    "\n",
    "\n",
    "### Problem Statement\n",
    "\n",
    "* Choose a real-world phenomenon that can be measured and for which you could collect at least one-hundred data points across at least four different variables.\n",
    "* Investigate the types of variables involved, their likely distributions, and their relationships with each other\n",
    "* Synthesise/simulate a data set as closely matching their properties as possible.\n",
    "* Detail your research and implement the simulation in a Jupyter notebook – the data set itself can simply be displayed in an output cell within the notebook.\n",
    "\n",
    "Note that this project is about simulation – you must synthesise a data set. Some students may already have some real-world data sets in their own files. It is okay to base your synthesised data set on these should you wish (please reference it if you do), but the main task in this project is to create a synthesised data set."
   ]
  },
  {
   "cell_type": "markdown",
   "metadata": {},
   "source": [
    "\n",
    "Programming for Data Analysis Project 2019\n",
    "\n",
    "The problem statement is to synthesise simulate a data set.  I looked up some definitions of syntheise to make sure I understood the requirements of the project.  \n",
    "\n",
    "It is a method that uses statistical techniques to combine results from different studies and obtain a quantitative estimate of the overall effect of a particular intervention or variable on a defined outcome—i.e., it is a statistical process for pooling data from many clinical trials to glean a clear answer. But there can be some cons.  Bias, potential for analytical sloppiness, lack of understanding of basic issues, failure to consider major covariates, and overstating the strengths and precision of the results. [1]\n",
    "\n",
    "Desired properties include:\n",
    "\n",
    "* It can be numerical, binary, or categorical (ordinal or non-ordinal).\n",
    "\n",
    "* The number of features and length of the dataset should be arbitrary.\n",
    "\n",
    "* It should preferably be random and the user should be able to choose a wide variety of statistical distribution to base this data upon i.e. the underlying random process can be precisely controlled and tuned.\n",
    "\n",
    "* If it is used for classification algorithms, then the degree of class separation should be controllable to make the learning problem easy or hard.\n",
    "\n",
    "* Random noise can be interjected in a controllable manner\n",
    "\n",
    "* For a regression problem, a complex, non-linear generative process can be used for sourcing the data.  [2]\n",
    "\n",
    "\n",
    "\n",
    "\n",
    "### Selection of Real World Phenomenon\n",
    "\n",
    "When we were given the problem statement I decided to look into the National Car Testing statics.  \n",
    "\n",
    "Recently, my own car had to undergo the NCT, it failed the first time but passed the retest.  I started to wonder that if there was any correlation between the car year of manufacture and pass rate.  \n",
    "\n",
    "As the 2019 year data is incomplete I chose 2018 instead.  My car had also done the nct in 2018 and once again it had failed the original test but passed the retest.\n",
    "\n",
    "\n",
    "#### Origin of the National Car Test (NCT)\n",
    "\n",
    "Compulsory car testing was introduced in Ireland in 2000 as part of an EU Directive that makes car testing compulsory in all member states. It is an offence to drive a car without displaying a National Car Testing Service disc, if the car is liable for testing. Offenders will face Class C fines, as well as penalty points.\n",
    "\n",
    "The test is called the National Car Test and is carried out on behalf of the Government by the National Car Testing Service Ltd (NCTS). The test is aimed at improving road safety and enhancing environmental protection. \n",
    "\n",
    "If a vehicle is over 4 years old it has to take a test.  From the vehicle being 4 years to under 10 years old it has to be tested every 2 years.  Once the vehicle gets to 10 years but less than 30, it then has to be tested every year.  Between 30 and 39 years old the vehicle must be tested every 2 years again and it can not be used for commercial purposes.  That would apply mostly to vintage cars that would be mostly for show only.  There are exemptions to the nct also.  Vehicles registered prior to 1st January 1980 so not need to be tested, cars permanently based on islands that are not connected to the mainland do not require testing and motor vehicles belonging to the Armed Forces, the Garda Síochána or the Fire Service are not subject to mandatory testing. [3]\n",
    "\n",
    "\n",
    "The National Car Test is separate to the CVRT (Commercial Vehicle Roadworthiness Test), which was formerly known as DoE (Department of Environment) Test.  The Commercial Vehicle Roadworthiness Test (CVRT) is a roadworthiness test for all commercial vehicles, buses with more than eight passenger seats and ambulances, all over one year old.  There are two types of commercial vehicle tests, one for Light Commercial Vehicles (LCVs) and one for Heavy Commercial Vehicles (HCVs).\n",
    " \n",
    "The LCV test is for:\n",
    "all small goods vehicles with a gross vehicle weight (GVW) of 3,500 kg or less\n",
    "\n",
    "The HCV test covers all other commercial vehicles including:\n",
    "goods vehicles over 3,500 kg GVW\n",
    "goods trailers over 3,500 kg GVW\n",
    "buses with more than eight passenger seats\n",
    "ambulances  [4]\n",
    "\n",
    "\n",
    "\n",
    "\n",
    "\n",
    "\n"
   ]
  },
  {
   "cell_type": "markdown",
   "metadata": {},
   "source": [
    "Initially, I began by looking at the the nct.ie to see what information was available.  There was a section on statistics which had the pass, fail refusal and fail dangerous rated for 2018.  I chose 2018 as the full figures for 2019 are not available yet.  [5]\n",
    "This was interesting but I wanted to see if a particular make/model out performed the rest of them or were they all broadly similar.  I then looked into the central statistics office statbank which not only provided the figures of pass/fail rates, it also broke them down by each centre. [6]\n",
    "\n",
    "This was very interesting but still not what I was looking for.  I then went to the RSA website which had the information I was looking for. [7]\n",
    "\n",
    "Female and male full and provisional licences [8]\n",
    "\n",
    "Before I even begin to look at the data there are some assumptions I have.  It will be interesting to see how it will turn out.  First, I expect that the newer cars will have a much higher pass rate than older ones.  I expect about half to fail the first time but the majority then pass the second time.  I expect of the ones which fail initially about 10% will be listed as fail dangerous.  This is based soley on my own observations from takling to my family and friends over the last few years."
   ]
  },
  {
   "cell_type": "markdown",
   "metadata": {},
   "source": [
    "#### Pass Rates\n",
    "\n",
    "From the information provided by the RSA for 2018 over all there was approximately a 49% pass rate, 50% fail and 1% incomplete. Within all years of Hyundai Santa Fe's it changed to an approximate 36% pass, 63% fail and 1% incomplete rate. I have factored this in when creating my data. [9] \n"
   ]
  },
  {
   "cell_type": "markdown",
   "metadata": {},
   "source": [
    "#### Year\n",
    "\n",
    "I took all the years available from the original csv file.  The cars tested began in 2001 and went up to 2015.  When constructing this variable I made sure to include the weightings per year as they were in the original data. "
   ]
  },
  {
   "cell_type": "markdown",
   "metadata": {},
   "source": [
    "#### Fuel Type\n",
    "\n",
    "There are two types of fuel which concern this dataset. Diesel and petrol.  I will have to add this variable as it is not included.  I again used statbank and got the breakdown for them. The information doesn not exist prior to 2010 and I only go up to 2015 for the nct so that is all I will import.  I plan to get a rough idea on the breakdown and apply it to my database. [10]  "
   ]
  },
  {
   "cell_type": "markdown",
   "metadata": {},
   "source": [
    "#### Sex\n",
    "\n",
    "I obtained the 2018 information from https://statbank.cso.ie/px/pxeirestat/Statire/SelectVarVal/saveselections.asp [11] From the above it can be seen that 53% of males and 47% of females held full driving licences. The provisional licences were more evenly split with approximately 50% of each sexes. Overall, 92% of licences held in 2018 were Full and 8% were Provisional."
   ]
  },
  {
   "cell_type": "markdown",
   "metadata": {},
   "source": [
    "#### Licence Type\n",
    "\n",
    " From the above it can be seen that 53% of males and 47% of females held full driving licences. The provisional licences were more evenly split with approximately 50% of each sexes. Overall, 92% of licences held in 2018 were Full and 8% were Provisional."
   ]
  },
  {
   "cell_type": "markdown",
   "metadata": {},
   "source": [
    "#### Mileage\n",
    "\n",
    "Another variable I will add to my data is mileage and it will be split between petrol and diesel. I sourced the information from https://statbank.cso.ie/px/pxeirestat/Statire/SelectVarVal/saveselections.asp [12] and tidyied it up to suit my requirements as I think total mileage will have an effect on the pass/fail rate. The average km per year over a 14 year period (The information only goes to 2015 at the moment) for a petrol car is 13,489 and diesel is 19,598.  All units are in kilometres."
   ]
  },
  {
   "cell_type": "markdown",
   "metadata": {},
   "source": [
    "#### Service\n",
    "\n",
    "There was an addendum to the RSA nct data which stated \"Another factor that is relevant is that an estimated 1/3 of customers do not service their cars before testing\" This had an effect on the pass rates with \"the failure rate of these is, on average 11% higher than those that have been serviced ahead of the test.\"  I have created a column within the data set to reflect the third who have not serviced it.  I have yet to figure out how to add in the 11% increase in failure rate that this leads to.  [13]\n",
    "\n"
   ]
  },
  {
   "cell_type": "markdown",
   "metadata": {},
   "source": [
    "### Note on calculation of figures\n",
    "I have stored all my workings on the variables within this dataset in the same repository as this file should you wish to see them.  I wanted to keep the clutter to a minimum so didnt not include it here but it is available for viewing."
   ]
  },
  {
   "cell_type": "code",
   "execution_count": null,
   "metadata": {},
   "outputs": [],
   "source": []
  },
  {
   "cell_type": "markdown",
   "metadata": {},
   "source": [
    "Import the data and libraries."
   ]
  },
  {
   "cell_type": "code",
   "execution_count": 2,
   "metadata": {},
   "outputs": [],
   "source": [
    "# Import all required libraries\n",
    "\n",
    "\n",
    "#Import libraries needed\n",
    "import numpy as np\n",
    "import pandas as pd\n",
    "import matplotlib.pyplot as plt\n",
    "import seaborn as sns\n",
    "from scipy import stats\n",
    "\n",
    "%matplotlib inline"
   ]
  },
  {
   "cell_type": "code",
   "execution_count": 3,
   "metadata": {},
   "outputs": [
    {
     "data": {
      "text/plain": [
       "'C:\\\\Users\\\\Rebecca\\\\Desktop\\\\Prog Data 2019\\\\Programming-for-Data-Analysis-Project-2019'"
      ]
     },
     "execution_count": 3,
     "metadata": {},
     "output_type": "execute_result"
    }
   ],
   "source": [
    "pwd"
   ]
  },
  {
   "cell_type": "code",
   "execution_count": 4,
   "metadata": {},
   "outputs": [],
   "source": [
    "import os\n",
    "import csv"
   ]
  },
  {
   "cell_type": "code",
   "execution_count": null,
   "metadata": {},
   "outputs": [],
   "source": []
  },
  {
   "cell_type": "code",
   "execution_count": 5,
   "metadata": {},
   "outputs": [],
   "source": [
    "#import csv -  I used this method as when I loaded it originally it was throwing up an error. I eventually realised it was a few lines of text which was at the start of the file.  I deleted it and the error message went.\n",
    "# https://github.com/llSourcell/tensorflow_chatbot/issues/17\n",
    "#df = pd.read_csv(r\"C:/Users/Rebecca/Desktop/Prog Data 2019/Programming-for-Data-Analysis-Project-2019/nct18.csv\", delimiter = ',' , encoding = 'unicode_escape')\n",
    "#print (df)"
   ]
  },
  {
   "cell_type": "markdown",
   "metadata": {},
   "source": [
    "#### Create the dataframe\n",
    "\n",
    "There are two methods demonstrated here to create a data frame.  The first one is to create it at once in its entirety and the other is to build it cell by cell.  I prefer the first method as it is tidyier but have included the other also as a demonstration and a revision method for myself.  Both dataframes have the same information.  The all in once cell dataframe is labelled as df5 and the cell by cell one is simply df.  I adapted code from https://medium.com/@bingobee01/pandas-tricks-and-tips-a7b87c3748ea [19]\n",
    "\n"
   ]
  },
  {
   "cell_type": "code",
   "execution_count": 6,
   "metadata": {},
   "outputs": [
    {
     "name": "stdout",
     "output_type": "stream",
     "text": [
      "     Year    Fuel Status     Sex Service Licence_type  Mileage Expected\n",
      "0    2006  Diesel   Fail    Male      No         Full     1548     Fail\n",
      "1    2007  Diesel   Fail    Male     Yes         Full    65602     Pass\n",
      "2    2007  Petrol   Fail  Female      No         Full    31930     Fail\n",
      "3    2007  Diesel   Fail    Male     Yes         Full   139547     Fail\n",
      "4    2006  Petrol   Fail    Male     Yes      Learner   109031     Fail\n",
      "5    2008  Diesel   Fail    Male     Yes         Full    34302     Pass\n",
      "6    2004  Diesel   Fail    Male     Yes         Full   186775     Fail\n",
      "7    2007  Diesel   Fail  Female     Yes         Full   131174     Fail\n",
      "8    2007  Diesel   Fail  Female     Yes         Full    70411     Pass\n",
      "9    2006  Petrol   Pass    Male     Yes      Learner   114842     Fail\n",
      "10   2007  Diesel   Fail    Male      No      Learner     4150     Fail\n",
      "11   2007  Diesel   Fail    Male      No         Full   138406     Fail\n",
      "12   2005  Diesel   Fail  Female     Yes         Full    29574     Pass\n",
      "13   2005  Diesel   Fail    Male     Yes         Full   172492     Fail\n",
      "14   2006  Diesel   Fail    Male     Yes         Full   147359     Fail\n",
      "15   2003  Diesel   Fail  Female     Yes         Full    45398     Pass\n",
      "16   2007  Diesel   Fail  Female      No         Full    55122     Fail\n",
      "17   2006  Petrol   Fail    Male     Yes      Learner   123662     Fail\n",
      "18   2012  Diesel   Fail    Male     Yes         Full    50857     Pass\n",
      "19   2008  Diesel   Fail  Female     Yes         Full    62464     Pass\n",
      "20   2006  Petrol   Pass    Male     Yes         Full    23679     Pass\n",
      "21   2015  Diesel   Pass    Male     Yes         Full     5278     Pass\n",
      "22   2004  Diesel   Pass  Female      No         Full    18918     Fail\n",
      "23   2006  Diesel   Fail    Male     Yes         Full   111012     Fail\n",
      "24   2015  Diesel   Fail  Female     Yes         Full     6020     Pass\n",
      "25   2007  Diesel   Pass    Male     Yes         Full    13383     Pass\n",
      "26   2006  Petrol   Fail  Female      No         Full   132597     Fail\n",
      "27   2007  Diesel   Fail  Female     Yes         Full     4329     Pass\n",
      "28   2006  Diesel   Fail    Male      No         Full    29147     Fail\n",
      "29   2007  Diesel   Fail    Male     Yes         Full    48900     Pass\n",
      "..    ...     ...    ...     ...     ...          ...      ...      ...\n",
      "470  2006  Petrol   Fail  Female      No         Full     4653     Fail\n",
      "471  2014  Diesel   Pass    Male     Yes         Full     5428     Pass\n",
      "472  2005  Diesel   Pass  Female     Yes         Full    84922     Pass\n",
      "473  2007  Diesel   Fail  Female      No         Full    11344     Fail\n",
      "474  2006  Diesel   Fail    Male      No         Full   163014     Fail\n",
      "475  2005  Petrol   Fail  Female     Yes         Full   180841     Fail\n",
      "476  2006  Petrol   Fail  Female     Yes         Full   141617     Fail\n",
      "477  2005  Diesel   Fail    Male      No         Full    29965     Fail\n",
      "478  2003  Petrol   Pass  Female     Yes         Full    67042     Pass\n",
      "479  2004  Diesel   Fail  Female     Yes      Learner     6512     Pass\n",
      "480  2006  Petrol   Fail    Male     Yes      Learner    17173     Pass\n",
      "481  2005  Petrol   Fail    Male     Yes         Full    85901     Pass\n",
      "482  2008  Diesel   Fail    Male      No         Full    84227     Fail\n",
      "483  2007  Diesel   Pass    Male     Yes         Full    62170     Pass\n",
      "484  2005  Diesel   Fail    Male     Yes         Full     6680     Pass\n",
      "485  2012  Petrol   Fail    Male     Yes      Learner    32165     Pass\n",
      "486  2014  Petrol   Pass  Female      No         Full     9176     Fail\n",
      "487  2006  Petrol   Fail  Female     Yes         Full   133069     Fail\n",
      "488  2004  Diesel   Fail    Male      No         Full   144360     Fail\n",
      "489  2008  Diesel   Fail  Female     Yes         Full    18415     Pass\n",
      "490  2012  Diesel   Fail    Male     Yes         Full    57269     Pass\n",
      "491  2007  Petrol   Fail    Male     Yes         Full    17070     Pass\n",
      "492  2005  Diesel   Fail    Male      No         Full    50271     Fail\n",
      "493  2008  Petrol   Fail  Female      No      Learner    44611     Fail\n",
      "494  2007  Diesel   Fail    Male     Yes         Full   133816     Fail\n",
      "495  2007  Diesel   Fail    Male     Yes         Full    71271     Pass\n",
      "496  2004  Petrol   Fail    Male     Yes         Full    35645     Pass\n",
      "497  2007  Diesel   Fail    Male     Yes         Full    55781     Pass\n",
      "498  2007  Diesel   Fail    Male     Yes         Full   119259     Fail\n",
      "499  2007  Petrol   Fail  Female     Yes         Full    75181     Pass\n",
      "\n",
      "[500 rows x 8 columns]\n"
     ]
    }
   ],
   "source": [
    "\n",
    "# Create the data frame with some of the columns.\n",
    "df5 = pd.DataFrame(columns=[\"Year\", \"Fuel\", \"Status\", \"Sex\", \"Service\"])\n",
    "\n",
    "\n",
    "# Populate the data with the number of cars per year.\n",
    "df5[\"Year\"] = np.random.choice([\"2001\", \"2002\",\"2003\",\"2004\",\"2005\",\"2006\",\"2007\",\"2008\",\"2009\",2010,2011,2012,2013,2014,2015], p=[0.004, 0.02, 0.044, 0.087, 0.149, 0.187, 0.221, 0.091, 0.012, 0.031, 0.009, 0.036, 0.013, 0.083, 0.013], size=(500))\n",
    "\n",
    "# Create the fuel types\n",
    "fuel = [\"Petrol\", \"Diesel\"]\n",
    "\n",
    "# Populate the Fuel column with petrol and diesel, more diesel cars so do the weights accordingly.\n",
    "df5[\"Fuel\"] = np.random.choice(fuel, 500, p=[0.24, 0.76])\n",
    "\n",
    "# Create the status types\n",
    "status = [\"Pass\", \"Fail\", \"Incomplete\"]\n",
    "\n",
    "# Populate the status column with their different values.\n",
    "df5[\"Status\"] = np.random.choice(status, 500, p=[0.36, 0.63, 0.01])\n",
    "\n",
    "# Create the sexes\n",
    "sex = [\"Male\", \"Female\"]\n",
    "\n",
    "# Populate the column\n",
    "df5[\"Sex\"] = np.random.choice(sex, 500, p=[0.53, 0.47])\n",
    "\n",
    "# Create the licence_type categories\n",
    "Licence_Type = [\"Full\", \"Learner\"]\n",
    "\n",
    "# Populate it\n",
    "df5[\"Licence_type\"] = np.random.choice(Licence_Type, 500, p=[0.92, 0.08])\n",
    "\n",
    "# Define a function to map the mileage values.  I have calculated that the average mile for one year is 16544 and applied it for the newest model.  I have then increased it each year going backwards.  This will ensure that a 2002 car *could* have a higher mileage than a 2015.\n",
    "# I had some issues with dictionary aspect so got advice [14] \n",
    "def set_value(row_number, assigned_value):\n",
    "    return np.random.randint(1,assigned_value[row_number])\n",
    "\n",
    "# Create the dictionary\n",
    "year_dictionary ={\"2001\" : 248160, \"2002\" : 231616, \"2003\" : 215072, \"2004\" : 198528, \"2005\" : 181984, \"2006\": 165440, \"2007\" : 148896, \"2008\" : 132352, \"2009\" :115808,\"2010\" :99264, \"2011\" :82720, \"2012\" :66176, \"2013\" :49632, \"2014\" :33088, \"2015\" :16544}\n",
    "\n",
    "df5[\"Mileage\"] = df5[\"Year\"].apply(set_value, args =(year_dictionary, )) \n",
    "\n",
    "# Create the service types (Prior to nct)\n",
    "Service = [\"Yes\", \"No\"]\n",
    "\n",
    "# Populate the service column.  Skew the data according to the NCT data which states the percentages of those who pre service.\n",
    "df5[\"Service\"] = np.random.choice(Service, 500, p=[0.67, 0.33])\n",
    "\n",
    "# Create a condition which stated that if the mileage is below a certain amount and service is yes then it is expected that it will pass. [15]\n",
    "df5['Expected'] = 'Fail'\n",
    "df5.at[df5[(df5['Mileage']<100000) & (df5['Service'] == 'Yes')].index,'Expected'] = 'Pass'\n",
    "df5\n",
    "\n",
    "print (df5)"
   ]
  },
  {
   "cell_type": "code",
   "execution_count": 7,
   "metadata": {},
   "outputs": [
    {
     "data": {
      "text/html": [
       "<div>\n",
       "<style scoped>\n",
       "    .dataframe tbody tr th:only-of-type {\n",
       "        vertical-align: middle;\n",
       "    }\n",
       "\n",
       "    .dataframe tbody tr th {\n",
       "        vertical-align: top;\n",
       "    }\n",
       "\n",
       "    .dataframe thead th {\n",
       "        text-align: right;\n",
       "    }\n",
       "</style>\n",
       "<table border=\"1\" class=\"dataframe\">\n",
       "  <thead>\n",
       "    <tr style=\"text-align: right;\">\n",
       "      <th></th>\n",
       "      <th>Year</th>\n",
       "      <th>Fuel</th>\n",
       "      <th>Status</th>\n",
       "      <th>Sex</th>\n",
       "      <th>Licence_type</th>\n",
       "      <th>Mileage</th>\n",
       "      <th>Service</th>\n",
       "      <th>Expected</th>\n",
       "    </tr>\n",
       "  </thead>\n",
       "  <tbody>\n",
       "  </tbody>\n",
       "</table>\n",
       "</div>"
      ],
      "text/plain": [
       "Empty DataFrame\n",
       "Columns: [Year, Fuel, Status, Sex, Licence_type, Mileage, Service, Expected]\n",
       "Index: []"
      ]
     },
     "execution_count": 7,
     "metadata": {},
     "output_type": "execute_result"
    }
   ],
   "source": [
    "# Second method to creating dataframe.\n",
    "df = pd.DataFrame(columns= [\"Year\", \"Fuel\", \"Status\", \"Sex\", \"Licence_type\", \"Mileage\", \"Service\", \"Expected\"]) #gives headings to each of the columns\n",
    "df"
   ]
  },
  {
   "cell_type": "code",
   "execution_count": 8,
   "metadata": {},
   "outputs": [],
   "source": [
    "# Populate the data with the number of cars per year.\n",
    "df[\"Year\"] = np.random.choice([\"2001\", \"2002\",\"2003\",\"2004\",\"2005\",\"2006\",\"2007\",\"2008\",\"2009\",2010,2011,2012,2013,2014,2015], p=[0.004, 0.02, 0.044, 0.087, 0.149, 0.187, 0.221, 0.091, 0.012, 0.031, 0.009, 0.036, 0.013, 0.083, 0.013], size=(500))"
   ]
  },
  {
   "cell_type": "code",
   "execution_count": 9,
   "metadata": {},
   "outputs": [
    {
     "data": {
      "text/plain": [
       "Year            object\n",
       "Fuel            object\n",
       "Status          object\n",
       "Sex             object\n",
       "Licence_type    object\n",
       "Mileage         object\n",
       "Service         object\n",
       "Expected        object\n",
       "dtype: object"
      ]
     },
     "execution_count": 9,
     "metadata": {},
     "output_type": "execute_result"
    }
   ],
   "source": [
    "df.dtypes "
   ]
  },
  {
   "cell_type": "code",
   "execution_count": 10,
   "metadata": {},
   "outputs": [],
   "source": [
    "# Create the fuel types\n",
    "fuel = [\"Petrol\", \"Diesel\"]\n",
    "\n"
   ]
  },
  {
   "cell_type": "code",
   "execution_count": 11,
   "metadata": {},
   "outputs": [],
   "source": [
    "# Populate the Fuel column with petrol and diesel, more diesel cars so do the weights accordingly.\n",
    "df[\"Fuel\"] = np.random.choice(fuel, 500, p=[0.24, 0.76])"
   ]
  },
  {
   "cell_type": "code",
   "execution_count": null,
   "metadata": {},
   "outputs": [],
   "source": []
  },
  {
   "cell_type": "code",
   "execution_count": 12,
   "metadata": {},
   "outputs": [],
   "source": [
    "# Create the status types\n",
    "status = [\"Pass\", \"Fail\", \"Incomplete\"]"
   ]
  },
  {
   "cell_type": "code",
   "execution_count": 13,
   "metadata": {},
   "outputs": [],
   "source": [
    "# Populate the status column \n",
    "df[\"Status\"] = np.random.choice(status, 500, p=[0.36, 0.63, 0.01])\n"
   ]
  },
  {
   "cell_type": "code",
   "execution_count": 14,
   "metadata": {},
   "outputs": [],
   "source": [
    "# Create the sexes\n",
    "sex = [\"Male\", \"Female\"]"
   ]
  },
  {
   "cell_type": "code",
   "execution_count": 15,
   "metadata": {},
   "outputs": [],
   "source": [
    "# Populate the column\n",
    "df[\"Sex\"] = np.random.choice(sex, 500, p=[0.53, 0.47])\n"
   ]
  },
  {
   "cell_type": "code",
   "execution_count": 16,
   "metadata": {},
   "outputs": [],
   "source": [
    "# Create the licence_type categories\n",
    "Licence_type = [\"Full\", \"Learner\"]"
   ]
  },
  {
   "cell_type": "code",
   "execution_count": 17,
   "metadata": {},
   "outputs": [],
   "source": [
    "# Populate it\n",
    "df[\"Licence_type\"] = np.random.choice(Licence_type, 500, p=[0.92, 0.08])\n"
   ]
  },
  {
   "cell_type": "code",
   "execution_count": 18,
   "metadata": {},
   "outputs": [],
   "source": [
    "# Define a function to map the mileage values.  I have calculated that the average mile for one year is 16544 and applied it for the newest model.  I have then increased it each year going backwards.  This will ensure that a 2002 car could have a higher mileage than a 2015.\n",
    "def set_value(row_number, assigned_value):\n",
    "    return np.random.randint(1,assigned_value[row_number])\n",
    "\n",
    "#Create the dictionary\n",
    "year_dictionary ={'2001' : 248160, '2002' : 231616, '2003' : 215072, \"2004\" : 198528, \"2005\" : 181984, \"2006\": 165440, \"2007\" : 148896, \"2008\" : 132352, \"2009\" :115808,\"2010\" :99264, \"2011\" :82720, \"2012\" :66176, \"2013\" :49632, \"2014\" :33088, \"2015\" :16544}\n",
    "\n",
    "df[\"Mileage\"] = df[\"Year\"].apply(set_value, args =(year_dictionary, )) \n",
    "\n"
   ]
  },
  {
   "cell_type": "code",
   "execution_count": 19,
   "metadata": {},
   "outputs": [
    {
     "data": {
      "text/html": [
       "<div>\n",
       "<style scoped>\n",
       "    .dataframe tbody tr th:only-of-type {\n",
       "        vertical-align: middle;\n",
       "    }\n",
       "\n",
       "    .dataframe tbody tr th {\n",
       "        vertical-align: top;\n",
       "    }\n",
       "\n",
       "    .dataframe thead th {\n",
       "        text-align: right;\n",
       "    }\n",
       "</style>\n",
       "<table border=\"1\" class=\"dataframe\">\n",
       "  <thead>\n",
       "    <tr style=\"text-align: right;\">\n",
       "      <th></th>\n",
       "      <th>Year</th>\n",
       "      <th>Fuel</th>\n",
       "      <th>Status</th>\n",
       "      <th>Sex</th>\n",
       "      <th>Licence_type</th>\n",
       "      <th>Mileage</th>\n",
       "      <th>Service</th>\n",
       "      <th>Expected</th>\n",
       "    </tr>\n",
       "  </thead>\n",
       "  <tbody>\n",
       "    <tr>\n",
       "      <th>0</th>\n",
       "      <td>2004</td>\n",
       "      <td>Petrol</td>\n",
       "      <td>Pass</td>\n",
       "      <td>Male</td>\n",
       "      <td>Full</td>\n",
       "      <td>87789</td>\n",
       "      <td>Yes</td>\n",
       "      <td>NaN</td>\n",
       "    </tr>\n",
       "    <tr>\n",
       "      <th>1</th>\n",
       "      <td>2004</td>\n",
       "      <td>Petrol</td>\n",
       "      <td>Fail</td>\n",
       "      <td>Female</td>\n",
       "      <td>Learner</td>\n",
       "      <td>124386</td>\n",
       "      <td>Yes</td>\n",
       "      <td>NaN</td>\n",
       "    </tr>\n",
       "    <tr>\n",
       "      <th>2</th>\n",
       "      <td>2006</td>\n",
       "      <td>Diesel</td>\n",
       "      <td>Fail</td>\n",
       "      <td>Female</td>\n",
       "      <td>Full</td>\n",
       "      <td>83637</td>\n",
       "      <td>Yes</td>\n",
       "      <td>NaN</td>\n",
       "    </tr>\n",
       "    <tr>\n",
       "      <th>3</th>\n",
       "      <td>2007</td>\n",
       "      <td>Diesel</td>\n",
       "      <td>Fail</td>\n",
       "      <td>Male</td>\n",
       "      <td>Learner</td>\n",
       "      <td>100189</td>\n",
       "      <td>Yes</td>\n",
       "      <td>NaN</td>\n",
       "    </tr>\n",
       "    <tr>\n",
       "      <th>4</th>\n",
       "      <td>2005</td>\n",
       "      <td>Petrol</td>\n",
       "      <td>Fail</td>\n",
       "      <td>Female</td>\n",
       "      <td>Full</td>\n",
       "      <td>72779</td>\n",
       "      <td>No</td>\n",
       "      <td>NaN</td>\n",
       "    </tr>\n",
       "    <tr>\n",
       "      <th>5</th>\n",
       "      <td>2005</td>\n",
       "      <td>Diesel</td>\n",
       "      <td>Fail</td>\n",
       "      <td>Female</td>\n",
       "      <td>Full</td>\n",
       "      <td>82536</td>\n",
       "      <td>Yes</td>\n",
       "      <td>NaN</td>\n",
       "    </tr>\n",
       "    <tr>\n",
       "      <th>6</th>\n",
       "      <td>2014</td>\n",
       "      <td>Diesel</td>\n",
       "      <td>Fail</td>\n",
       "      <td>Male</td>\n",
       "      <td>Learner</td>\n",
       "      <td>7994</td>\n",
       "      <td>Yes</td>\n",
       "      <td>NaN</td>\n",
       "    </tr>\n",
       "    <tr>\n",
       "      <th>7</th>\n",
       "      <td>2005</td>\n",
       "      <td>Petrol</td>\n",
       "      <td>Fail</td>\n",
       "      <td>Male</td>\n",
       "      <td>Full</td>\n",
       "      <td>110100</td>\n",
       "      <td>Yes</td>\n",
       "      <td>NaN</td>\n",
       "    </tr>\n",
       "    <tr>\n",
       "      <th>8</th>\n",
       "      <td>2007</td>\n",
       "      <td>Diesel</td>\n",
       "      <td>Pass</td>\n",
       "      <td>Male</td>\n",
       "      <td>Full</td>\n",
       "      <td>83049</td>\n",
       "      <td>Yes</td>\n",
       "      <td>NaN</td>\n",
       "    </tr>\n",
       "    <tr>\n",
       "      <th>9</th>\n",
       "      <td>2005</td>\n",
       "      <td>Diesel</td>\n",
       "      <td>Fail</td>\n",
       "      <td>Female</td>\n",
       "      <td>Full</td>\n",
       "      <td>94168</td>\n",
       "      <td>Yes</td>\n",
       "      <td>NaN</td>\n",
       "    </tr>\n",
       "    <tr>\n",
       "      <th>10</th>\n",
       "      <td>2006</td>\n",
       "      <td>Petrol</td>\n",
       "      <td>Pass</td>\n",
       "      <td>Male</td>\n",
       "      <td>Full</td>\n",
       "      <td>57907</td>\n",
       "      <td>No</td>\n",
       "      <td>NaN</td>\n",
       "    </tr>\n",
       "    <tr>\n",
       "      <th>11</th>\n",
       "      <td>2015</td>\n",
       "      <td>Diesel</td>\n",
       "      <td>Fail</td>\n",
       "      <td>Female</td>\n",
       "      <td>Full</td>\n",
       "      <td>172</td>\n",
       "      <td>No</td>\n",
       "      <td>NaN</td>\n",
       "    </tr>\n",
       "    <tr>\n",
       "      <th>12</th>\n",
       "      <td>2007</td>\n",
       "      <td>Diesel</td>\n",
       "      <td>Fail</td>\n",
       "      <td>Male</td>\n",
       "      <td>Full</td>\n",
       "      <td>14066</td>\n",
       "      <td>Yes</td>\n",
       "      <td>NaN</td>\n",
       "    </tr>\n",
       "    <tr>\n",
       "      <th>13</th>\n",
       "      <td>2007</td>\n",
       "      <td>Diesel</td>\n",
       "      <td>Fail</td>\n",
       "      <td>Male</td>\n",
       "      <td>Full</td>\n",
       "      <td>51662</td>\n",
       "      <td>Yes</td>\n",
       "      <td>NaN</td>\n",
       "    </tr>\n",
       "    <tr>\n",
       "      <th>14</th>\n",
       "      <td>2006</td>\n",
       "      <td>Diesel</td>\n",
       "      <td>Pass</td>\n",
       "      <td>Male</td>\n",
       "      <td>Full</td>\n",
       "      <td>36144</td>\n",
       "      <td>No</td>\n",
       "      <td>NaN</td>\n",
       "    </tr>\n",
       "    <tr>\n",
       "      <th>15</th>\n",
       "      <td>2010</td>\n",
       "      <td>Diesel</td>\n",
       "      <td>Fail</td>\n",
       "      <td>Female</td>\n",
       "      <td>Full</td>\n",
       "      <td>80219</td>\n",
       "      <td>Yes</td>\n",
       "      <td>NaN</td>\n",
       "    </tr>\n",
       "    <tr>\n",
       "      <th>16</th>\n",
       "      <td>2005</td>\n",
       "      <td>Diesel</td>\n",
       "      <td>Pass</td>\n",
       "      <td>Female</td>\n",
       "      <td>Full</td>\n",
       "      <td>88429</td>\n",
       "      <td>Yes</td>\n",
       "      <td>NaN</td>\n",
       "    </tr>\n",
       "    <tr>\n",
       "      <th>17</th>\n",
       "      <td>2007</td>\n",
       "      <td>Diesel</td>\n",
       "      <td>Fail</td>\n",
       "      <td>Male</td>\n",
       "      <td>Full</td>\n",
       "      <td>147757</td>\n",
       "      <td>Yes</td>\n",
       "      <td>NaN</td>\n",
       "    </tr>\n",
       "    <tr>\n",
       "      <th>18</th>\n",
       "      <td>2012</td>\n",
       "      <td>Petrol</td>\n",
       "      <td>Fail</td>\n",
       "      <td>Female</td>\n",
       "      <td>Full</td>\n",
       "      <td>14492</td>\n",
       "      <td>Yes</td>\n",
       "      <td>NaN</td>\n",
       "    </tr>\n",
       "    <tr>\n",
       "      <th>19</th>\n",
       "      <td>2006</td>\n",
       "      <td>Petrol</td>\n",
       "      <td>Pass</td>\n",
       "      <td>Male</td>\n",
       "      <td>Full</td>\n",
       "      <td>142477</td>\n",
       "      <td>Yes</td>\n",
       "      <td>NaN</td>\n",
       "    </tr>\n",
       "    <tr>\n",
       "      <th>20</th>\n",
       "      <td>2006</td>\n",
       "      <td>Diesel</td>\n",
       "      <td>Pass</td>\n",
       "      <td>Male</td>\n",
       "      <td>Full</td>\n",
       "      <td>143396</td>\n",
       "      <td>No</td>\n",
       "      <td>NaN</td>\n",
       "    </tr>\n",
       "    <tr>\n",
       "      <th>21</th>\n",
       "      <td>2005</td>\n",
       "      <td>Diesel</td>\n",
       "      <td>Pass</td>\n",
       "      <td>Male</td>\n",
       "      <td>Full</td>\n",
       "      <td>180219</td>\n",
       "      <td>Yes</td>\n",
       "      <td>NaN</td>\n",
       "    </tr>\n",
       "    <tr>\n",
       "      <th>22</th>\n",
       "      <td>2005</td>\n",
       "      <td>Diesel</td>\n",
       "      <td>Fail</td>\n",
       "      <td>Female</td>\n",
       "      <td>Full</td>\n",
       "      <td>49035</td>\n",
       "      <td>Yes</td>\n",
       "      <td>NaN</td>\n",
       "    </tr>\n",
       "    <tr>\n",
       "      <th>23</th>\n",
       "      <td>2014</td>\n",
       "      <td>Diesel</td>\n",
       "      <td>Fail</td>\n",
       "      <td>Female</td>\n",
       "      <td>Full</td>\n",
       "      <td>9356</td>\n",
       "      <td>Yes</td>\n",
       "      <td>NaN</td>\n",
       "    </tr>\n",
       "    <tr>\n",
       "      <th>24</th>\n",
       "      <td>2008</td>\n",
       "      <td>Diesel</td>\n",
       "      <td>Fail</td>\n",
       "      <td>Male</td>\n",
       "      <td>Full</td>\n",
       "      <td>47380</td>\n",
       "      <td>Yes</td>\n",
       "      <td>NaN</td>\n",
       "    </tr>\n",
       "    <tr>\n",
       "      <th>25</th>\n",
       "      <td>2006</td>\n",
       "      <td>Diesel</td>\n",
       "      <td>Pass</td>\n",
       "      <td>Male</td>\n",
       "      <td>Full</td>\n",
       "      <td>8270</td>\n",
       "      <td>No</td>\n",
       "      <td>NaN</td>\n",
       "    </tr>\n",
       "    <tr>\n",
       "      <th>26</th>\n",
       "      <td>2006</td>\n",
       "      <td>Petrol</td>\n",
       "      <td>Fail</td>\n",
       "      <td>Male</td>\n",
       "      <td>Full</td>\n",
       "      <td>19953</td>\n",
       "      <td>Yes</td>\n",
       "      <td>NaN</td>\n",
       "    </tr>\n",
       "    <tr>\n",
       "      <th>27</th>\n",
       "      <td>2003</td>\n",
       "      <td>Diesel</td>\n",
       "      <td>Fail</td>\n",
       "      <td>Male</td>\n",
       "      <td>Full</td>\n",
       "      <td>188602</td>\n",
       "      <td>Yes</td>\n",
       "      <td>NaN</td>\n",
       "    </tr>\n",
       "    <tr>\n",
       "      <th>28</th>\n",
       "      <td>2004</td>\n",
       "      <td>Diesel</td>\n",
       "      <td>Pass</td>\n",
       "      <td>Male</td>\n",
       "      <td>Full</td>\n",
       "      <td>142425</td>\n",
       "      <td>Yes</td>\n",
       "      <td>NaN</td>\n",
       "    </tr>\n",
       "    <tr>\n",
       "      <th>29</th>\n",
       "      <td>2010</td>\n",
       "      <td>Petrol</td>\n",
       "      <td>Pass</td>\n",
       "      <td>Male</td>\n",
       "      <td>Full</td>\n",
       "      <td>89438</td>\n",
       "      <td>No</td>\n",
       "      <td>NaN</td>\n",
       "    </tr>\n",
       "    <tr>\n",
       "      <th>...</th>\n",
       "      <td>...</td>\n",
       "      <td>...</td>\n",
       "      <td>...</td>\n",
       "      <td>...</td>\n",
       "      <td>...</td>\n",
       "      <td>...</td>\n",
       "      <td>...</td>\n",
       "      <td>...</td>\n",
       "    </tr>\n",
       "    <tr>\n",
       "      <th>470</th>\n",
       "      <td>2007</td>\n",
       "      <td>Diesel</td>\n",
       "      <td>Fail</td>\n",
       "      <td>Female</td>\n",
       "      <td>Full</td>\n",
       "      <td>122744</td>\n",
       "      <td>No</td>\n",
       "      <td>NaN</td>\n",
       "    </tr>\n",
       "    <tr>\n",
       "      <th>471</th>\n",
       "      <td>2005</td>\n",
       "      <td>Petrol</td>\n",
       "      <td>Pass</td>\n",
       "      <td>Male</td>\n",
       "      <td>Full</td>\n",
       "      <td>112570</td>\n",
       "      <td>No</td>\n",
       "      <td>NaN</td>\n",
       "    </tr>\n",
       "    <tr>\n",
       "      <th>472</th>\n",
       "      <td>2007</td>\n",
       "      <td>Petrol</td>\n",
       "      <td>Fail</td>\n",
       "      <td>Male</td>\n",
       "      <td>Full</td>\n",
       "      <td>147177</td>\n",
       "      <td>Yes</td>\n",
       "      <td>NaN</td>\n",
       "    </tr>\n",
       "    <tr>\n",
       "      <th>473</th>\n",
       "      <td>2014</td>\n",
       "      <td>Diesel</td>\n",
       "      <td>Pass</td>\n",
       "      <td>Male</td>\n",
       "      <td>Full</td>\n",
       "      <td>18506</td>\n",
       "      <td>No</td>\n",
       "      <td>NaN</td>\n",
       "    </tr>\n",
       "    <tr>\n",
       "      <th>474</th>\n",
       "      <td>2007</td>\n",
       "      <td>Diesel</td>\n",
       "      <td>Pass</td>\n",
       "      <td>Male</td>\n",
       "      <td>Full</td>\n",
       "      <td>78550</td>\n",
       "      <td>Yes</td>\n",
       "      <td>NaN</td>\n",
       "    </tr>\n",
       "    <tr>\n",
       "      <th>475</th>\n",
       "      <td>2004</td>\n",
       "      <td>Petrol</td>\n",
       "      <td>Fail</td>\n",
       "      <td>Male</td>\n",
       "      <td>Full</td>\n",
       "      <td>197017</td>\n",
       "      <td>Yes</td>\n",
       "      <td>NaN</td>\n",
       "    </tr>\n",
       "    <tr>\n",
       "      <th>476</th>\n",
       "      <td>2014</td>\n",
       "      <td>Diesel</td>\n",
       "      <td>Fail</td>\n",
       "      <td>Male</td>\n",
       "      <td>Full</td>\n",
       "      <td>32594</td>\n",
       "      <td>Yes</td>\n",
       "      <td>NaN</td>\n",
       "    </tr>\n",
       "    <tr>\n",
       "      <th>477</th>\n",
       "      <td>2006</td>\n",
       "      <td>Diesel</td>\n",
       "      <td>Fail</td>\n",
       "      <td>Male</td>\n",
       "      <td>Full</td>\n",
       "      <td>78298</td>\n",
       "      <td>Yes</td>\n",
       "      <td>NaN</td>\n",
       "    </tr>\n",
       "    <tr>\n",
       "      <th>478</th>\n",
       "      <td>2008</td>\n",
       "      <td>Diesel</td>\n",
       "      <td>Pass</td>\n",
       "      <td>Male</td>\n",
       "      <td>Full</td>\n",
       "      <td>29112</td>\n",
       "      <td>Yes</td>\n",
       "      <td>NaN</td>\n",
       "    </tr>\n",
       "    <tr>\n",
       "      <th>479</th>\n",
       "      <td>2014</td>\n",
       "      <td>Petrol</td>\n",
       "      <td>Pass</td>\n",
       "      <td>Male</td>\n",
       "      <td>Full</td>\n",
       "      <td>1209</td>\n",
       "      <td>Yes</td>\n",
       "      <td>NaN</td>\n",
       "    </tr>\n",
       "    <tr>\n",
       "      <th>480</th>\n",
       "      <td>2006</td>\n",
       "      <td>Diesel</td>\n",
       "      <td>Fail</td>\n",
       "      <td>Male</td>\n",
       "      <td>Full</td>\n",
       "      <td>128993</td>\n",
       "      <td>Yes</td>\n",
       "      <td>NaN</td>\n",
       "    </tr>\n",
       "    <tr>\n",
       "      <th>481</th>\n",
       "      <td>2007</td>\n",
       "      <td>Diesel</td>\n",
       "      <td>Fail</td>\n",
       "      <td>Female</td>\n",
       "      <td>Full</td>\n",
       "      <td>93827</td>\n",
       "      <td>Yes</td>\n",
       "      <td>NaN</td>\n",
       "    </tr>\n",
       "    <tr>\n",
       "      <th>482</th>\n",
       "      <td>2008</td>\n",
       "      <td>Diesel</td>\n",
       "      <td>Pass</td>\n",
       "      <td>Male</td>\n",
       "      <td>Full</td>\n",
       "      <td>46386</td>\n",
       "      <td>No</td>\n",
       "      <td>NaN</td>\n",
       "    </tr>\n",
       "    <tr>\n",
       "      <th>483</th>\n",
       "      <td>2007</td>\n",
       "      <td>Diesel</td>\n",
       "      <td>Fail</td>\n",
       "      <td>Male</td>\n",
       "      <td>Full</td>\n",
       "      <td>7911</td>\n",
       "      <td>Yes</td>\n",
       "      <td>NaN</td>\n",
       "    </tr>\n",
       "    <tr>\n",
       "      <th>484</th>\n",
       "      <td>2004</td>\n",
       "      <td>Diesel</td>\n",
       "      <td>Pass</td>\n",
       "      <td>Male</td>\n",
       "      <td>Full</td>\n",
       "      <td>126896</td>\n",
       "      <td>Yes</td>\n",
       "      <td>NaN</td>\n",
       "    </tr>\n",
       "    <tr>\n",
       "      <th>485</th>\n",
       "      <td>2003</td>\n",
       "      <td>Petrol</td>\n",
       "      <td>Fail</td>\n",
       "      <td>Male</td>\n",
       "      <td>Full</td>\n",
       "      <td>212153</td>\n",
       "      <td>Yes</td>\n",
       "      <td>NaN</td>\n",
       "    </tr>\n",
       "    <tr>\n",
       "      <th>486</th>\n",
       "      <td>2006</td>\n",
       "      <td>Diesel</td>\n",
       "      <td>Fail</td>\n",
       "      <td>Female</td>\n",
       "      <td>Full</td>\n",
       "      <td>30131</td>\n",
       "      <td>Yes</td>\n",
       "      <td>NaN</td>\n",
       "    </tr>\n",
       "    <tr>\n",
       "      <th>487</th>\n",
       "      <td>2012</td>\n",
       "      <td>Diesel</td>\n",
       "      <td>Fail</td>\n",
       "      <td>Female</td>\n",
       "      <td>Full</td>\n",
       "      <td>18904</td>\n",
       "      <td>Yes</td>\n",
       "      <td>NaN</td>\n",
       "    </tr>\n",
       "    <tr>\n",
       "      <th>488</th>\n",
       "      <td>2005</td>\n",
       "      <td>Petrol</td>\n",
       "      <td>Fail</td>\n",
       "      <td>Male</td>\n",
       "      <td>Full</td>\n",
       "      <td>106367</td>\n",
       "      <td>Yes</td>\n",
       "      <td>NaN</td>\n",
       "    </tr>\n",
       "    <tr>\n",
       "      <th>489</th>\n",
       "      <td>2005</td>\n",
       "      <td>Diesel</td>\n",
       "      <td>Fail</td>\n",
       "      <td>Female</td>\n",
       "      <td>Full</td>\n",
       "      <td>93972</td>\n",
       "      <td>Yes</td>\n",
       "      <td>NaN</td>\n",
       "    </tr>\n",
       "    <tr>\n",
       "      <th>490</th>\n",
       "      <td>2004</td>\n",
       "      <td>Diesel</td>\n",
       "      <td>Fail</td>\n",
       "      <td>Male</td>\n",
       "      <td>Learner</td>\n",
       "      <td>54463</td>\n",
       "      <td>No</td>\n",
       "      <td>NaN</td>\n",
       "    </tr>\n",
       "    <tr>\n",
       "      <th>491</th>\n",
       "      <td>2005</td>\n",
       "      <td>Diesel</td>\n",
       "      <td>Fail</td>\n",
       "      <td>Male</td>\n",
       "      <td>Full</td>\n",
       "      <td>118656</td>\n",
       "      <td>No</td>\n",
       "      <td>NaN</td>\n",
       "    </tr>\n",
       "    <tr>\n",
       "      <th>492</th>\n",
       "      <td>2010</td>\n",
       "      <td>Diesel</td>\n",
       "      <td>Fail</td>\n",
       "      <td>Female</td>\n",
       "      <td>Full</td>\n",
       "      <td>6319</td>\n",
       "      <td>No</td>\n",
       "      <td>NaN</td>\n",
       "    </tr>\n",
       "    <tr>\n",
       "      <th>493</th>\n",
       "      <td>2005</td>\n",
       "      <td>Diesel</td>\n",
       "      <td>Fail</td>\n",
       "      <td>Female</td>\n",
       "      <td>Full</td>\n",
       "      <td>129968</td>\n",
       "      <td>Yes</td>\n",
       "      <td>NaN</td>\n",
       "    </tr>\n",
       "    <tr>\n",
       "      <th>494</th>\n",
       "      <td>2003</td>\n",
       "      <td>Diesel</td>\n",
       "      <td>Pass</td>\n",
       "      <td>Female</td>\n",
       "      <td>Full</td>\n",
       "      <td>36810</td>\n",
       "      <td>Yes</td>\n",
       "      <td>NaN</td>\n",
       "    </tr>\n",
       "    <tr>\n",
       "      <th>495</th>\n",
       "      <td>2005</td>\n",
       "      <td>Diesel</td>\n",
       "      <td>Pass</td>\n",
       "      <td>Male</td>\n",
       "      <td>Learner</td>\n",
       "      <td>147443</td>\n",
       "      <td>Yes</td>\n",
       "      <td>NaN</td>\n",
       "    </tr>\n",
       "    <tr>\n",
       "      <th>496</th>\n",
       "      <td>2007</td>\n",
       "      <td>Diesel</td>\n",
       "      <td>Fail</td>\n",
       "      <td>Female</td>\n",
       "      <td>Full</td>\n",
       "      <td>48665</td>\n",
       "      <td>Yes</td>\n",
       "      <td>NaN</td>\n",
       "    </tr>\n",
       "    <tr>\n",
       "      <th>497</th>\n",
       "      <td>2015</td>\n",
       "      <td>Petrol</td>\n",
       "      <td>Fail</td>\n",
       "      <td>Female</td>\n",
       "      <td>Full</td>\n",
       "      <td>8066</td>\n",
       "      <td>Yes</td>\n",
       "      <td>NaN</td>\n",
       "    </tr>\n",
       "    <tr>\n",
       "      <th>498</th>\n",
       "      <td>2008</td>\n",
       "      <td>Diesel</td>\n",
       "      <td>Fail</td>\n",
       "      <td>Male</td>\n",
       "      <td>Full</td>\n",
       "      <td>122024</td>\n",
       "      <td>No</td>\n",
       "      <td>NaN</td>\n",
       "    </tr>\n",
       "    <tr>\n",
       "      <th>499</th>\n",
       "      <td>2005</td>\n",
       "      <td>Petrol</td>\n",
       "      <td>Fail</td>\n",
       "      <td>Female</td>\n",
       "      <td>Full</td>\n",
       "      <td>157850</td>\n",
       "      <td>No</td>\n",
       "      <td>NaN</td>\n",
       "    </tr>\n",
       "  </tbody>\n",
       "</table>\n",
       "<p>500 rows × 8 columns</p>\n",
       "</div>"
      ],
      "text/plain": [
       "     Year    Fuel Status     Sex Licence_type  Mileage Service Expected\n",
       "0    2004  Petrol   Pass    Male         Full    87789     Yes      NaN\n",
       "1    2004  Petrol   Fail  Female      Learner   124386     Yes      NaN\n",
       "2    2006  Diesel   Fail  Female         Full    83637     Yes      NaN\n",
       "3    2007  Diesel   Fail    Male      Learner   100189     Yes      NaN\n",
       "4    2005  Petrol   Fail  Female         Full    72779      No      NaN\n",
       "5    2005  Diesel   Fail  Female         Full    82536     Yes      NaN\n",
       "6    2014  Diesel   Fail    Male      Learner     7994     Yes      NaN\n",
       "7    2005  Petrol   Fail    Male         Full   110100     Yes      NaN\n",
       "8    2007  Diesel   Pass    Male         Full    83049     Yes      NaN\n",
       "9    2005  Diesel   Fail  Female         Full    94168     Yes      NaN\n",
       "10   2006  Petrol   Pass    Male         Full    57907      No      NaN\n",
       "11   2015  Diesel   Fail  Female         Full      172      No      NaN\n",
       "12   2007  Diesel   Fail    Male         Full    14066     Yes      NaN\n",
       "13   2007  Diesel   Fail    Male         Full    51662     Yes      NaN\n",
       "14   2006  Diesel   Pass    Male         Full    36144      No      NaN\n",
       "15   2010  Diesel   Fail  Female         Full    80219     Yes      NaN\n",
       "16   2005  Diesel   Pass  Female         Full    88429     Yes      NaN\n",
       "17   2007  Diesel   Fail    Male         Full   147757     Yes      NaN\n",
       "18   2012  Petrol   Fail  Female         Full    14492     Yes      NaN\n",
       "19   2006  Petrol   Pass    Male         Full   142477     Yes      NaN\n",
       "20   2006  Diesel   Pass    Male         Full   143396      No      NaN\n",
       "21   2005  Diesel   Pass    Male         Full   180219     Yes      NaN\n",
       "22   2005  Diesel   Fail  Female         Full    49035     Yes      NaN\n",
       "23   2014  Diesel   Fail  Female         Full     9356     Yes      NaN\n",
       "24   2008  Diesel   Fail    Male         Full    47380     Yes      NaN\n",
       "25   2006  Diesel   Pass    Male         Full     8270      No      NaN\n",
       "26   2006  Petrol   Fail    Male         Full    19953     Yes      NaN\n",
       "27   2003  Diesel   Fail    Male         Full   188602     Yes      NaN\n",
       "28   2004  Diesel   Pass    Male         Full   142425     Yes      NaN\n",
       "29   2010  Petrol   Pass    Male         Full    89438      No      NaN\n",
       "..    ...     ...    ...     ...          ...      ...     ...      ...\n",
       "470  2007  Diesel   Fail  Female         Full   122744      No      NaN\n",
       "471  2005  Petrol   Pass    Male         Full   112570      No      NaN\n",
       "472  2007  Petrol   Fail    Male         Full   147177     Yes      NaN\n",
       "473  2014  Diesel   Pass    Male         Full    18506      No      NaN\n",
       "474  2007  Diesel   Pass    Male         Full    78550     Yes      NaN\n",
       "475  2004  Petrol   Fail    Male         Full   197017     Yes      NaN\n",
       "476  2014  Diesel   Fail    Male         Full    32594     Yes      NaN\n",
       "477  2006  Diesel   Fail    Male         Full    78298     Yes      NaN\n",
       "478  2008  Diesel   Pass    Male         Full    29112     Yes      NaN\n",
       "479  2014  Petrol   Pass    Male         Full     1209     Yes      NaN\n",
       "480  2006  Diesel   Fail    Male         Full   128993     Yes      NaN\n",
       "481  2007  Diesel   Fail  Female         Full    93827     Yes      NaN\n",
       "482  2008  Diesel   Pass    Male         Full    46386      No      NaN\n",
       "483  2007  Diesel   Fail    Male         Full     7911     Yes      NaN\n",
       "484  2004  Diesel   Pass    Male         Full   126896     Yes      NaN\n",
       "485  2003  Petrol   Fail    Male         Full   212153     Yes      NaN\n",
       "486  2006  Diesel   Fail  Female         Full    30131     Yes      NaN\n",
       "487  2012  Diesel   Fail  Female         Full    18904     Yes      NaN\n",
       "488  2005  Petrol   Fail    Male         Full   106367     Yes      NaN\n",
       "489  2005  Diesel   Fail  Female         Full    93972     Yes      NaN\n",
       "490  2004  Diesel   Fail    Male      Learner    54463      No      NaN\n",
       "491  2005  Diesel   Fail    Male         Full   118656      No      NaN\n",
       "492  2010  Diesel   Fail  Female         Full     6319      No      NaN\n",
       "493  2005  Diesel   Fail  Female         Full   129968     Yes      NaN\n",
       "494  2003  Diesel   Pass  Female         Full    36810     Yes      NaN\n",
       "495  2005  Diesel   Pass    Male      Learner   147443     Yes      NaN\n",
       "496  2007  Diesel   Fail  Female         Full    48665     Yes      NaN\n",
       "497  2015  Petrol   Fail  Female         Full     8066     Yes      NaN\n",
       "498  2008  Diesel   Fail    Male         Full   122024      No      NaN\n",
       "499  2005  Petrol   Fail  Female         Full   157850      No      NaN\n",
       "\n",
       "[500 rows x 8 columns]"
      ]
     },
     "execution_count": 19,
     "metadata": {},
     "output_type": "execute_result"
    }
   ],
   "source": [
    "# Create the service types (Prior to nct)\n",
    "Service = [\"Yes\", \"No\"]\n",
    "\n",
    "# Populate the service column \n",
    "df[\"Service\"] = np.random.choice(Service, 500, p=[0.67, 0.33])\n",
    "df"
   ]
  },
  {
   "cell_type": "code",
   "execution_count": 20,
   "metadata": {},
   "outputs": [
    {
     "data": {
      "text/html": [
       "<div>\n",
       "<style scoped>\n",
       "    .dataframe tbody tr th:only-of-type {\n",
       "        vertical-align: middle;\n",
       "    }\n",
       "\n",
       "    .dataframe tbody tr th {\n",
       "        vertical-align: top;\n",
       "    }\n",
       "\n",
       "    .dataframe thead th {\n",
       "        text-align: right;\n",
       "    }\n",
       "</style>\n",
       "<table border=\"1\" class=\"dataframe\">\n",
       "  <thead>\n",
       "    <tr style=\"text-align: right;\">\n",
       "      <th></th>\n",
       "      <th>Year</th>\n",
       "      <th>Fuel</th>\n",
       "      <th>Status</th>\n",
       "      <th>Sex</th>\n",
       "      <th>Licence_type</th>\n",
       "      <th>Mileage</th>\n",
       "      <th>Service</th>\n",
       "      <th>Expected</th>\n",
       "    </tr>\n",
       "  </thead>\n",
       "  <tbody>\n",
       "    <tr>\n",
       "      <th>0</th>\n",
       "      <td>2004</td>\n",
       "      <td>Petrol</td>\n",
       "      <td>Pass</td>\n",
       "      <td>Male</td>\n",
       "      <td>Full</td>\n",
       "      <td>87789</td>\n",
       "      <td>Yes</td>\n",
       "      <td>Pass</td>\n",
       "    </tr>\n",
       "    <tr>\n",
       "      <th>1</th>\n",
       "      <td>2004</td>\n",
       "      <td>Petrol</td>\n",
       "      <td>Fail</td>\n",
       "      <td>Female</td>\n",
       "      <td>Learner</td>\n",
       "      <td>124386</td>\n",
       "      <td>Yes</td>\n",
       "      <td>Fail</td>\n",
       "    </tr>\n",
       "    <tr>\n",
       "      <th>2</th>\n",
       "      <td>2006</td>\n",
       "      <td>Diesel</td>\n",
       "      <td>Fail</td>\n",
       "      <td>Female</td>\n",
       "      <td>Full</td>\n",
       "      <td>83637</td>\n",
       "      <td>Yes</td>\n",
       "      <td>Pass</td>\n",
       "    </tr>\n",
       "    <tr>\n",
       "      <th>3</th>\n",
       "      <td>2007</td>\n",
       "      <td>Diesel</td>\n",
       "      <td>Fail</td>\n",
       "      <td>Male</td>\n",
       "      <td>Learner</td>\n",
       "      <td>100189</td>\n",
       "      <td>Yes</td>\n",
       "      <td>Fail</td>\n",
       "    </tr>\n",
       "    <tr>\n",
       "      <th>4</th>\n",
       "      <td>2005</td>\n",
       "      <td>Petrol</td>\n",
       "      <td>Fail</td>\n",
       "      <td>Female</td>\n",
       "      <td>Full</td>\n",
       "      <td>72779</td>\n",
       "      <td>No</td>\n",
       "      <td>Fail</td>\n",
       "    </tr>\n",
       "    <tr>\n",
       "      <th>5</th>\n",
       "      <td>2005</td>\n",
       "      <td>Diesel</td>\n",
       "      <td>Fail</td>\n",
       "      <td>Female</td>\n",
       "      <td>Full</td>\n",
       "      <td>82536</td>\n",
       "      <td>Yes</td>\n",
       "      <td>Pass</td>\n",
       "    </tr>\n",
       "    <tr>\n",
       "      <th>6</th>\n",
       "      <td>2014</td>\n",
       "      <td>Diesel</td>\n",
       "      <td>Fail</td>\n",
       "      <td>Male</td>\n",
       "      <td>Learner</td>\n",
       "      <td>7994</td>\n",
       "      <td>Yes</td>\n",
       "      <td>Pass</td>\n",
       "    </tr>\n",
       "    <tr>\n",
       "      <th>7</th>\n",
       "      <td>2005</td>\n",
       "      <td>Petrol</td>\n",
       "      <td>Fail</td>\n",
       "      <td>Male</td>\n",
       "      <td>Full</td>\n",
       "      <td>110100</td>\n",
       "      <td>Yes</td>\n",
       "      <td>Fail</td>\n",
       "    </tr>\n",
       "    <tr>\n",
       "      <th>8</th>\n",
       "      <td>2007</td>\n",
       "      <td>Diesel</td>\n",
       "      <td>Pass</td>\n",
       "      <td>Male</td>\n",
       "      <td>Full</td>\n",
       "      <td>83049</td>\n",
       "      <td>Yes</td>\n",
       "      <td>Pass</td>\n",
       "    </tr>\n",
       "    <tr>\n",
       "      <th>9</th>\n",
       "      <td>2005</td>\n",
       "      <td>Diesel</td>\n",
       "      <td>Fail</td>\n",
       "      <td>Female</td>\n",
       "      <td>Full</td>\n",
       "      <td>94168</td>\n",
       "      <td>Yes</td>\n",
       "      <td>Pass</td>\n",
       "    </tr>\n",
       "    <tr>\n",
       "      <th>10</th>\n",
       "      <td>2006</td>\n",
       "      <td>Petrol</td>\n",
       "      <td>Pass</td>\n",
       "      <td>Male</td>\n",
       "      <td>Full</td>\n",
       "      <td>57907</td>\n",
       "      <td>No</td>\n",
       "      <td>Fail</td>\n",
       "    </tr>\n",
       "    <tr>\n",
       "      <th>11</th>\n",
       "      <td>2015</td>\n",
       "      <td>Diesel</td>\n",
       "      <td>Fail</td>\n",
       "      <td>Female</td>\n",
       "      <td>Full</td>\n",
       "      <td>172</td>\n",
       "      <td>No</td>\n",
       "      <td>Fail</td>\n",
       "    </tr>\n",
       "    <tr>\n",
       "      <th>12</th>\n",
       "      <td>2007</td>\n",
       "      <td>Diesel</td>\n",
       "      <td>Fail</td>\n",
       "      <td>Male</td>\n",
       "      <td>Full</td>\n",
       "      <td>14066</td>\n",
       "      <td>Yes</td>\n",
       "      <td>Pass</td>\n",
       "    </tr>\n",
       "    <tr>\n",
       "      <th>13</th>\n",
       "      <td>2007</td>\n",
       "      <td>Diesel</td>\n",
       "      <td>Fail</td>\n",
       "      <td>Male</td>\n",
       "      <td>Full</td>\n",
       "      <td>51662</td>\n",
       "      <td>Yes</td>\n",
       "      <td>Pass</td>\n",
       "    </tr>\n",
       "    <tr>\n",
       "      <th>14</th>\n",
       "      <td>2006</td>\n",
       "      <td>Diesel</td>\n",
       "      <td>Pass</td>\n",
       "      <td>Male</td>\n",
       "      <td>Full</td>\n",
       "      <td>36144</td>\n",
       "      <td>No</td>\n",
       "      <td>Fail</td>\n",
       "    </tr>\n",
       "    <tr>\n",
       "      <th>15</th>\n",
       "      <td>2010</td>\n",
       "      <td>Diesel</td>\n",
       "      <td>Fail</td>\n",
       "      <td>Female</td>\n",
       "      <td>Full</td>\n",
       "      <td>80219</td>\n",
       "      <td>Yes</td>\n",
       "      <td>Pass</td>\n",
       "    </tr>\n",
       "    <tr>\n",
       "      <th>16</th>\n",
       "      <td>2005</td>\n",
       "      <td>Diesel</td>\n",
       "      <td>Pass</td>\n",
       "      <td>Female</td>\n",
       "      <td>Full</td>\n",
       "      <td>88429</td>\n",
       "      <td>Yes</td>\n",
       "      <td>Pass</td>\n",
       "    </tr>\n",
       "    <tr>\n",
       "      <th>17</th>\n",
       "      <td>2007</td>\n",
       "      <td>Diesel</td>\n",
       "      <td>Fail</td>\n",
       "      <td>Male</td>\n",
       "      <td>Full</td>\n",
       "      <td>147757</td>\n",
       "      <td>Yes</td>\n",
       "      <td>Fail</td>\n",
       "    </tr>\n",
       "    <tr>\n",
       "      <th>18</th>\n",
       "      <td>2012</td>\n",
       "      <td>Petrol</td>\n",
       "      <td>Fail</td>\n",
       "      <td>Female</td>\n",
       "      <td>Full</td>\n",
       "      <td>14492</td>\n",
       "      <td>Yes</td>\n",
       "      <td>Pass</td>\n",
       "    </tr>\n",
       "    <tr>\n",
       "      <th>19</th>\n",
       "      <td>2006</td>\n",
       "      <td>Petrol</td>\n",
       "      <td>Pass</td>\n",
       "      <td>Male</td>\n",
       "      <td>Full</td>\n",
       "      <td>142477</td>\n",
       "      <td>Yes</td>\n",
       "      <td>Fail</td>\n",
       "    </tr>\n",
       "    <tr>\n",
       "      <th>20</th>\n",
       "      <td>2006</td>\n",
       "      <td>Diesel</td>\n",
       "      <td>Pass</td>\n",
       "      <td>Male</td>\n",
       "      <td>Full</td>\n",
       "      <td>143396</td>\n",
       "      <td>No</td>\n",
       "      <td>Fail</td>\n",
       "    </tr>\n",
       "    <tr>\n",
       "      <th>21</th>\n",
       "      <td>2005</td>\n",
       "      <td>Diesel</td>\n",
       "      <td>Pass</td>\n",
       "      <td>Male</td>\n",
       "      <td>Full</td>\n",
       "      <td>180219</td>\n",
       "      <td>Yes</td>\n",
       "      <td>Fail</td>\n",
       "    </tr>\n",
       "    <tr>\n",
       "      <th>22</th>\n",
       "      <td>2005</td>\n",
       "      <td>Diesel</td>\n",
       "      <td>Fail</td>\n",
       "      <td>Female</td>\n",
       "      <td>Full</td>\n",
       "      <td>49035</td>\n",
       "      <td>Yes</td>\n",
       "      <td>Pass</td>\n",
       "    </tr>\n",
       "    <tr>\n",
       "      <th>23</th>\n",
       "      <td>2014</td>\n",
       "      <td>Diesel</td>\n",
       "      <td>Fail</td>\n",
       "      <td>Female</td>\n",
       "      <td>Full</td>\n",
       "      <td>9356</td>\n",
       "      <td>Yes</td>\n",
       "      <td>Pass</td>\n",
       "    </tr>\n",
       "    <tr>\n",
       "      <th>24</th>\n",
       "      <td>2008</td>\n",
       "      <td>Diesel</td>\n",
       "      <td>Fail</td>\n",
       "      <td>Male</td>\n",
       "      <td>Full</td>\n",
       "      <td>47380</td>\n",
       "      <td>Yes</td>\n",
       "      <td>Pass</td>\n",
       "    </tr>\n",
       "    <tr>\n",
       "      <th>25</th>\n",
       "      <td>2006</td>\n",
       "      <td>Diesel</td>\n",
       "      <td>Pass</td>\n",
       "      <td>Male</td>\n",
       "      <td>Full</td>\n",
       "      <td>8270</td>\n",
       "      <td>No</td>\n",
       "      <td>Fail</td>\n",
       "    </tr>\n",
       "    <tr>\n",
       "      <th>26</th>\n",
       "      <td>2006</td>\n",
       "      <td>Petrol</td>\n",
       "      <td>Fail</td>\n",
       "      <td>Male</td>\n",
       "      <td>Full</td>\n",
       "      <td>19953</td>\n",
       "      <td>Yes</td>\n",
       "      <td>Pass</td>\n",
       "    </tr>\n",
       "    <tr>\n",
       "      <th>27</th>\n",
       "      <td>2003</td>\n",
       "      <td>Diesel</td>\n",
       "      <td>Fail</td>\n",
       "      <td>Male</td>\n",
       "      <td>Full</td>\n",
       "      <td>188602</td>\n",
       "      <td>Yes</td>\n",
       "      <td>Fail</td>\n",
       "    </tr>\n",
       "    <tr>\n",
       "      <th>28</th>\n",
       "      <td>2004</td>\n",
       "      <td>Diesel</td>\n",
       "      <td>Pass</td>\n",
       "      <td>Male</td>\n",
       "      <td>Full</td>\n",
       "      <td>142425</td>\n",
       "      <td>Yes</td>\n",
       "      <td>Fail</td>\n",
       "    </tr>\n",
       "    <tr>\n",
       "      <th>29</th>\n",
       "      <td>2010</td>\n",
       "      <td>Petrol</td>\n",
       "      <td>Pass</td>\n",
       "      <td>Male</td>\n",
       "      <td>Full</td>\n",
       "      <td>89438</td>\n",
       "      <td>No</td>\n",
       "      <td>Fail</td>\n",
       "    </tr>\n",
       "    <tr>\n",
       "      <th>...</th>\n",
       "      <td>...</td>\n",
       "      <td>...</td>\n",
       "      <td>...</td>\n",
       "      <td>...</td>\n",
       "      <td>...</td>\n",
       "      <td>...</td>\n",
       "      <td>...</td>\n",
       "      <td>...</td>\n",
       "    </tr>\n",
       "    <tr>\n",
       "      <th>470</th>\n",
       "      <td>2007</td>\n",
       "      <td>Diesel</td>\n",
       "      <td>Fail</td>\n",
       "      <td>Female</td>\n",
       "      <td>Full</td>\n",
       "      <td>122744</td>\n",
       "      <td>No</td>\n",
       "      <td>Fail</td>\n",
       "    </tr>\n",
       "    <tr>\n",
       "      <th>471</th>\n",
       "      <td>2005</td>\n",
       "      <td>Petrol</td>\n",
       "      <td>Pass</td>\n",
       "      <td>Male</td>\n",
       "      <td>Full</td>\n",
       "      <td>112570</td>\n",
       "      <td>No</td>\n",
       "      <td>Fail</td>\n",
       "    </tr>\n",
       "    <tr>\n",
       "      <th>472</th>\n",
       "      <td>2007</td>\n",
       "      <td>Petrol</td>\n",
       "      <td>Fail</td>\n",
       "      <td>Male</td>\n",
       "      <td>Full</td>\n",
       "      <td>147177</td>\n",
       "      <td>Yes</td>\n",
       "      <td>Fail</td>\n",
       "    </tr>\n",
       "    <tr>\n",
       "      <th>473</th>\n",
       "      <td>2014</td>\n",
       "      <td>Diesel</td>\n",
       "      <td>Pass</td>\n",
       "      <td>Male</td>\n",
       "      <td>Full</td>\n",
       "      <td>18506</td>\n",
       "      <td>No</td>\n",
       "      <td>Fail</td>\n",
       "    </tr>\n",
       "    <tr>\n",
       "      <th>474</th>\n",
       "      <td>2007</td>\n",
       "      <td>Diesel</td>\n",
       "      <td>Pass</td>\n",
       "      <td>Male</td>\n",
       "      <td>Full</td>\n",
       "      <td>78550</td>\n",
       "      <td>Yes</td>\n",
       "      <td>Pass</td>\n",
       "    </tr>\n",
       "    <tr>\n",
       "      <th>475</th>\n",
       "      <td>2004</td>\n",
       "      <td>Petrol</td>\n",
       "      <td>Fail</td>\n",
       "      <td>Male</td>\n",
       "      <td>Full</td>\n",
       "      <td>197017</td>\n",
       "      <td>Yes</td>\n",
       "      <td>Fail</td>\n",
       "    </tr>\n",
       "    <tr>\n",
       "      <th>476</th>\n",
       "      <td>2014</td>\n",
       "      <td>Diesel</td>\n",
       "      <td>Fail</td>\n",
       "      <td>Male</td>\n",
       "      <td>Full</td>\n",
       "      <td>32594</td>\n",
       "      <td>Yes</td>\n",
       "      <td>Pass</td>\n",
       "    </tr>\n",
       "    <tr>\n",
       "      <th>477</th>\n",
       "      <td>2006</td>\n",
       "      <td>Diesel</td>\n",
       "      <td>Fail</td>\n",
       "      <td>Male</td>\n",
       "      <td>Full</td>\n",
       "      <td>78298</td>\n",
       "      <td>Yes</td>\n",
       "      <td>Pass</td>\n",
       "    </tr>\n",
       "    <tr>\n",
       "      <th>478</th>\n",
       "      <td>2008</td>\n",
       "      <td>Diesel</td>\n",
       "      <td>Pass</td>\n",
       "      <td>Male</td>\n",
       "      <td>Full</td>\n",
       "      <td>29112</td>\n",
       "      <td>Yes</td>\n",
       "      <td>Pass</td>\n",
       "    </tr>\n",
       "    <tr>\n",
       "      <th>479</th>\n",
       "      <td>2014</td>\n",
       "      <td>Petrol</td>\n",
       "      <td>Pass</td>\n",
       "      <td>Male</td>\n",
       "      <td>Full</td>\n",
       "      <td>1209</td>\n",
       "      <td>Yes</td>\n",
       "      <td>Pass</td>\n",
       "    </tr>\n",
       "    <tr>\n",
       "      <th>480</th>\n",
       "      <td>2006</td>\n",
       "      <td>Diesel</td>\n",
       "      <td>Fail</td>\n",
       "      <td>Male</td>\n",
       "      <td>Full</td>\n",
       "      <td>128993</td>\n",
       "      <td>Yes</td>\n",
       "      <td>Fail</td>\n",
       "    </tr>\n",
       "    <tr>\n",
       "      <th>481</th>\n",
       "      <td>2007</td>\n",
       "      <td>Diesel</td>\n",
       "      <td>Fail</td>\n",
       "      <td>Female</td>\n",
       "      <td>Full</td>\n",
       "      <td>93827</td>\n",
       "      <td>Yes</td>\n",
       "      <td>Pass</td>\n",
       "    </tr>\n",
       "    <tr>\n",
       "      <th>482</th>\n",
       "      <td>2008</td>\n",
       "      <td>Diesel</td>\n",
       "      <td>Pass</td>\n",
       "      <td>Male</td>\n",
       "      <td>Full</td>\n",
       "      <td>46386</td>\n",
       "      <td>No</td>\n",
       "      <td>Fail</td>\n",
       "    </tr>\n",
       "    <tr>\n",
       "      <th>483</th>\n",
       "      <td>2007</td>\n",
       "      <td>Diesel</td>\n",
       "      <td>Fail</td>\n",
       "      <td>Male</td>\n",
       "      <td>Full</td>\n",
       "      <td>7911</td>\n",
       "      <td>Yes</td>\n",
       "      <td>Pass</td>\n",
       "    </tr>\n",
       "    <tr>\n",
       "      <th>484</th>\n",
       "      <td>2004</td>\n",
       "      <td>Diesel</td>\n",
       "      <td>Pass</td>\n",
       "      <td>Male</td>\n",
       "      <td>Full</td>\n",
       "      <td>126896</td>\n",
       "      <td>Yes</td>\n",
       "      <td>Fail</td>\n",
       "    </tr>\n",
       "    <tr>\n",
       "      <th>485</th>\n",
       "      <td>2003</td>\n",
       "      <td>Petrol</td>\n",
       "      <td>Fail</td>\n",
       "      <td>Male</td>\n",
       "      <td>Full</td>\n",
       "      <td>212153</td>\n",
       "      <td>Yes</td>\n",
       "      <td>Fail</td>\n",
       "    </tr>\n",
       "    <tr>\n",
       "      <th>486</th>\n",
       "      <td>2006</td>\n",
       "      <td>Diesel</td>\n",
       "      <td>Fail</td>\n",
       "      <td>Female</td>\n",
       "      <td>Full</td>\n",
       "      <td>30131</td>\n",
       "      <td>Yes</td>\n",
       "      <td>Pass</td>\n",
       "    </tr>\n",
       "    <tr>\n",
       "      <th>487</th>\n",
       "      <td>2012</td>\n",
       "      <td>Diesel</td>\n",
       "      <td>Fail</td>\n",
       "      <td>Female</td>\n",
       "      <td>Full</td>\n",
       "      <td>18904</td>\n",
       "      <td>Yes</td>\n",
       "      <td>Pass</td>\n",
       "    </tr>\n",
       "    <tr>\n",
       "      <th>488</th>\n",
       "      <td>2005</td>\n",
       "      <td>Petrol</td>\n",
       "      <td>Fail</td>\n",
       "      <td>Male</td>\n",
       "      <td>Full</td>\n",
       "      <td>106367</td>\n",
       "      <td>Yes</td>\n",
       "      <td>Fail</td>\n",
       "    </tr>\n",
       "    <tr>\n",
       "      <th>489</th>\n",
       "      <td>2005</td>\n",
       "      <td>Diesel</td>\n",
       "      <td>Fail</td>\n",
       "      <td>Female</td>\n",
       "      <td>Full</td>\n",
       "      <td>93972</td>\n",
       "      <td>Yes</td>\n",
       "      <td>Pass</td>\n",
       "    </tr>\n",
       "    <tr>\n",
       "      <th>490</th>\n",
       "      <td>2004</td>\n",
       "      <td>Diesel</td>\n",
       "      <td>Fail</td>\n",
       "      <td>Male</td>\n",
       "      <td>Learner</td>\n",
       "      <td>54463</td>\n",
       "      <td>No</td>\n",
       "      <td>Fail</td>\n",
       "    </tr>\n",
       "    <tr>\n",
       "      <th>491</th>\n",
       "      <td>2005</td>\n",
       "      <td>Diesel</td>\n",
       "      <td>Fail</td>\n",
       "      <td>Male</td>\n",
       "      <td>Full</td>\n",
       "      <td>118656</td>\n",
       "      <td>No</td>\n",
       "      <td>Fail</td>\n",
       "    </tr>\n",
       "    <tr>\n",
       "      <th>492</th>\n",
       "      <td>2010</td>\n",
       "      <td>Diesel</td>\n",
       "      <td>Fail</td>\n",
       "      <td>Female</td>\n",
       "      <td>Full</td>\n",
       "      <td>6319</td>\n",
       "      <td>No</td>\n",
       "      <td>Fail</td>\n",
       "    </tr>\n",
       "    <tr>\n",
       "      <th>493</th>\n",
       "      <td>2005</td>\n",
       "      <td>Diesel</td>\n",
       "      <td>Fail</td>\n",
       "      <td>Female</td>\n",
       "      <td>Full</td>\n",
       "      <td>129968</td>\n",
       "      <td>Yes</td>\n",
       "      <td>Fail</td>\n",
       "    </tr>\n",
       "    <tr>\n",
       "      <th>494</th>\n",
       "      <td>2003</td>\n",
       "      <td>Diesel</td>\n",
       "      <td>Pass</td>\n",
       "      <td>Female</td>\n",
       "      <td>Full</td>\n",
       "      <td>36810</td>\n",
       "      <td>Yes</td>\n",
       "      <td>Pass</td>\n",
       "    </tr>\n",
       "    <tr>\n",
       "      <th>495</th>\n",
       "      <td>2005</td>\n",
       "      <td>Diesel</td>\n",
       "      <td>Pass</td>\n",
       "      <td>Male</td>\n",
       "      <td>Learner</td>\n",
       "      <td>147443</td>\n",
       "      <td>Yes</td>\n",
       "      <td>Fail</td>\n",
       "    </tr>\n",
       "    <tr>\n",
       "      <th>496</th>\n",
       "      <td>2007</td>\n",
       "      <td>Diesel</td>\n",
       "      <td>Fail</td>\n",
       "      <td>Female</td>\n",
       "      <td>Full</td>\n",
       "      <td>48665</td>\n",
       "      <td>Yes</td>\n",
       "      <td>Pass</td>\n",
       "    </tr>\n",
       "    <tr>\n",
       "      <th>497</th>\n",
       "      <td>2015</td>\n",
       "      <td>Petrol</td>\n",
       "      <td>Fail</td>\n",
       "      <td>Female</td>\n",
       "      <td>Full</td>\n",
       "      <td>8066</td>\n",
       "      <td>Yes</td>\n",
       "      <td>Pass</td>\n",
       "    </tr>\n",
       "    <tr>\n",
       "      <th>498</th>\n",
       "      <td>2008</td>\n",
       "      <td>Diesel</td>\n",
       "      <td>Fail</td>\n",
       "      <td>Male</td>\n",
       "      <td>Full</td>\n",
       "      <td>122024</td>\n",
       "      <td>No</td>\n",
       "      <td>Fail</td>\n",
       "    </tr>\n",
       "    <tr>\n",
       "      <th>499</th>\n",
       "      <td>2005</td>\n",
       "      <td>Petrol</td>\n",
       "      <td>Fail</td>\n",
       "      <td>Female</td>\n",
       "      <td>Full</td>\n",
       "      <td>157850</td>\n",
       "      <td>No</td>\n",
       "      <td>Fail</td>\n",
       "    </tr>\n",
       "  </tbody>\n",
       "</table>\n",
       "<p>500 rows × 8 columns</p>\n",
       "</div>"
      ],
      "text/plain": [
       "     Year    Fuel Status     Sex Licence_type  Mileage Service Expected\n",
       "0    2004  Petrol   Pass    Male         Full    87789     Yes     Pass\n",
       "1    2004  Petrol   Fail  Female      Learner   124386     Yes     Fail\n",
       "2    2006  Diesel   Fail  Female         Full    83637     Yes     Pass\n",
       "3    2007  Diesel   Fail    Male      Learner   100189     Yes     Fail\n",
       "4    2005  Petrol   Fail  Female         Full    72779      No     Fail\n",
       "5    2005  Diesel   Fail  Female         Full    82536     Yes     Pass\n",
       "6    2014  Diesel   Fail    Male      Learner     7994     Yes     Pass\n",
       "7    2005  Petrol   Fail    Male         Full   110100     Yes     Fail\n",
       "8    2007  Diesel   Pass    Male         Full    83049     Yes     Pass\n",
       "9    2005  Diesel   Fail  Female         Full    94168     Yes     Pass\n",
       "10   2006  Petrol   Pass    Male         Full    57907      No     Fail\n",
       "11   2015  Diesel   Fail  Female         Full      172      No     Fail\n",
       "12   2007  Diesel   Fail    Male         Full    14066     Yes     Pass\n",
       "13   2007  Diesel   Fail    Male         Full    51662     Yes     Pass\n",
       "14   2006  Diesel   Pass    Male         Full    36144      No     Fail\n",
       "15   2010  Diesel   Fail  Female         Full    80219     Yes     Pass\n",
       "16   2005  Diesel   Pass  Female         Full    88429     Yes     Pass\n",
       "17   2007  Diesel   Fail    Male         Full   147757     Yes     Fail\n",
       "18   2012  Petrol   Fail  Female         Full    14492     Yes     Pass\n",
       "19   2006  Petrol   Pass    Male         Full   142477     Yes     Fail\n",
       "20   2006  Diesel   Pass    Male         Full   143396      No     Fail\n",
       "21   2005  Diesel   Pass    Male         Full   180219     Yes     Fail\n",
       "22   2005  Diesel   Fail  Female         Full    49035     Yes     Pass\n",
       "23   2014  Diesel   Fail  Female         Full     9356     Yes     Pass\n",
       "24   2008  Diesel   Fail    Male         Full    47380     Yes     Pass\n",
       "25   2006  Diesel   Pass    Male         Full     8270      No     Fail\n",
       "26   2006  Petrol   Fail    Male         Full    19953     Yes     Pass\n",
       "27   2003  Diesel   Fail    Male         Full   188602     Yes     Fail\n",
       "28   2004  Diesel   Pass    Male         Full   142425     Yes     Fail\n",
       "29   2010  Petrol   Pass    Male         Full    89438      No     Fail\n",
       "..    ...     ...    ...     ...          ...      ...     ...      ...\n",
       "470  2007  Diesel   Fail  Female         Full   122744      No     Fail\n",
       "471  2005  Petrol   Pass    Male         Full   112570      No     Fail\n",
       "472  2007  Petrol   Fail    Male         Full   147177     Yes     Fail\n",
       "473  2014  Diesel   Pass    Male         Full    18506      No     Fail\n",
       "474  2007  Diesel   Pass    Male         Full    78550     Yes     Pass\n",
       "475  2004  Petrol   Fail    Male         Full   197017     Yes     Fail\n",
       "476  2014  Diesel   Fail    Male         Full    32594     Yes     Pass\n",
       "477  2006  Diesel   Fail    Male         Full    78298     Yes     Pass\n",
       "478  2008  Diesel   Pass    Male         Full    29112     Yes     Pass\n",
       "479  2014  Petrol   Pass    Male         Full     1209     Yes     Pass\n",
       "480  2006  Diesel   Fail    Male         Full   128993     Yes     Fail\n",
       "481  2007  Diesel   Fail  Female         Full    93827     Yes     Pass\n",
       "482  2008  Diesel   Pass    Male         Full    46386      No     Fail\n",
       "483  2007  Diesel   Fail    Male         Full     7911     Yes     Pass\n",
       "484  2004  Diesel   Pass    Male         Full   126896     Yes     Fail\n",
       "485  2003  Petrol   Fail    Male         Full   212153     Yes     Fail\n",
       "486  2006  Diesel   Fail  Female         Full    30131     Yes     Pass\n",
       "487  2012  Diesel   Fail  Female         Full    18904     Yes     Pass\n",
       "488  2005  Petrol   Fail    Male         Full   106367     Yes     Fail\n",
       "489  2005  Diesel   Fail  Female         Full    93972     Yes     Pass\n",
       "490  2004  Diesel   Fail    Male      Learner    54463      No     Fail\n",
       "491  2005  Diesel   Fail    Male         Full   118656      No     Fail\n",
       "492  2010  Diesel   Fail  Female         Full     6319      No     Fail\n",
       "493  2005  Diesel   Fail  Female         Full   129968     Yes     Fail\n",
       "494  2003  Diesel   Pass  Female         Full    36810     Yes     Pass\n",
       "495  2005  Diesel   Pass    Male      Learner   147443     Yes     Fail\n",
       "496  2007  Diesel   Fail  Female         Full    48665     Yes     Pass\n",
       "497  2015  Petrol   Fail  Female         Full     8066     Yes     Pass\n",
       "498  2008  Diesel   Fail    Male         Full   122024      No     Fail\n",
       "499  2005  Petrol   Fail  Female         Full   157850      No     Fail\n",
       "\n",
       "[500 rows x 8 columns]"
      ]
     },
     "execution_count": 20,
     "metadata": {},
     "output_type": "execute_result"
    }
   ],
   "source": [
    "# Create the function to populate the Expected column [15]\n",
    "\n",
    "def fun(row):\n",
    "    if row[\"Mileage\"] <100000 and row['Service']==\"Yes\":\n",
    "        return \"Pass\"\n",
    "    else:\n",
    "        return \"Fail\"\n",
    "\n",
    "df[\"Expected\"] = df.apply(lambda row: fun(row), axis=1)\n",
    "df"
   ]
  },
  {
   "cell_type": "code",
   "execution_count": 21,
   "metadata": {},
   "outputs": [],
   "source": [
    "# Change datatype of year from object to integer so I can plot it. [16] \n",
    "df[\"Year\"] = df.Year.astype(int)"
   ]
  },
  {
   "cell_type": "code",
   "execution_count": 22,
   "metadata": {},
   "outputs": [
    {
     "data": {
      "text/plain": [
       "Year             int32\n",
       "Fuel            object\n",
       "Status          object\n",
       "Sex             object\n",
       "Licence_type    object\n",
       "Mileage          int64\n",
       "Service         object\n",
       "Expected        object\n",
       "dtype: object"
      ]
     },
     "execution_count": 22,
     "metadata": {},
     "output_type": "execute_result"
    }
   ],
   "source": [
    "df.dtypes"
   ]
  },
  {
   "cell_type": "code",
   "execution_count": 23,
   "metadata": {},
   "outputs": [],
   "source": [
    "# Change datetype for mileage from int64 to int32 [17] \n",
    "for col in [\"Mileage\"]:\n",
    "    df[col] = df[col].astype(\"int32\")\n",
    "   "
   ]
  },
  {
   "cell_type": "code",
   "execution_count": 24,
   "metadata": {},
   "outputs": [
    {
     "data": {
      "text/plain": [
       "Year             int32\n",
       "Fuel            object\n",
       "Status          object\n",
       "Sex             object\n",
       "Licence_type    object\n",
       "Mileage          int32\n",
       "Service         object\n",
       "Expected        object\n",
       "dtype: object"
      ]
     },
     "execution_count": 24,
     "metadata": {},
     "output_type": "execute_result"
    }
   ],
   "source": [
    "df.dtypes "
   ]
  },
  {
   "cell_type": "code",
   "execution_count": 25,
   "metadata": {},
   "outputs": [
    {
     "name": "stdout",
     "output_type": "stream",
     "text": [
      "<class 'pandas.core.frame.DataFrame'>\n",
      "RangeIndex: 500 entries, 0 to 499\n",
      "Data columns (total 8 columns):\n",
      "Year            500 non-null int32\n",
      "Fuel            500 non-null object\n",
      "Status          500 non-null object\n",
      "Sex             500 non-null object\n",
      "Licence_type    500 non-null object\n",
      "Mileage         500 non-null int32\n",
      "Service         500 non-null object\n",
      "Expected        500 non-null object\n",
      "dtypes: int32(2), object(6)\n",
      "memory usage: 27.4+ KB\n"
     ]
    }
   ],
   "source": [
    "# Shape of the dataframe.\n",
    "df.shape\n",
    "\n",
    "# Data type of each column.\n",
    "df.dtypes\n",
    "\n",
    "# Number of null values.\n",
    "df.info()"
   ]
  },
  {
   "cell_type": "code",
   "execution_count": 26,
   "metadata": {},
   "outputs": [
    {
     "data": {
      "text/plain": [
       "array(['Male', 'Female'], dtype=object)"
      ]
     },
     "execution_count": 26,
     "metadata": {},
     "output_type": "execute_result"
    }
   ],
   "source": [
    "# Number of unique values of column Gender\n",
    "df.Sex.nunique()\n",
    "# 2\n",
    "\n",
    "# Unique values of column Gender\n",
    "df.Sex.unique()\n",
    "# array(['Male', 'Female'], dtype=object)"
   ]
  },
  {
   "cell_type": "markdown",
   "metadata": {},
   "source": [
    "### Year"
   ]
  },
  {
   "cell_type": "code",
   "execution_count": 27,
   "metadata": {},
   "outputs": [
    {
     "data": {
      "text/plain": [
       "2007.1"
      ]
     },
     "execution_count": 27,
     "metadata": {},
     "output_type": "execute_result"
    }
   ],
   "source": [
    "df[\"Year\"].mean()"
   ]
  },
  {
   "cell_type": "code",
   "execution_count": null,
   "metadata": {},
   "outputs": [],
   "source": []
  },
  {
   "cell_type": "code",
   "execution_count": 28,
   "metadata": {},
   "outputs": [
    {
     "data": {
      "image/png": "[encoded data removed]",
      "text/plain": [
       "<Figure size 720x360 with 1 Axes>"
      ]
     },
     "metadata": {
      "needs_background": "light"
     },
     "output_type": "display_data"
    }
   ],
   "source": [
    "# Histogram showing the years of manufacture\n",
    "\n",
    "plt.figure(figsize=(10,5))\n",
    "plt.hist(df.Year, bins=5)\n",
    "plt.xlabel('Year of Manufacture')\n",
    "plt.show()"
   ]
  },
  {
   "cell_type": "code",
   "execution_count": 29,
   "metadata": {},
   "outputs": [
    {
     "name": "stderr",
     "output_type": "stream",
     "text": [
      "C:\\Users\\Rebecca\\Anaconda3\\lib\\site-packages\\scipy\\stats\\stats.py:1713: FutureWarning: Using a non-tuple sequence for multidimensional indexing is deprecated; use `arr[tuple(seq)]` instead of `arr[seq]`. In the future this will be interpreted as an array index, `arr[np.array(seq)]`, which will result either in an error or a different result.\n",
      "  return np.add.reduce(sorted[indexer] * weights, axis=axis) / sumval\n"
     ]
    },
    {
     "data": {
      "image/png": "[encoded data removed]",
      "text/plain": [
       "<Figure size 720x432 with 1 Axes>"
      ]
     },
     "metadata": {
      "needs_background": "light"
     },
     "output_type": "display_data"
    }
   ],
   "source": [
    "\n",
    "# A KDE plot is a lot like a histogram, it estimates the probability density of a continuous variable. [18]\n",
    "plt.figure(figsize=(10,6))\n",
    "sns.kdeplot(df['Year'], label='Year')\n",
    "plt.xlabel('Year')\n",
    "plt.ylabel('Probability Density')\n",
    "plt.title('Probability density plot of the Year of Manufacture')\n",
    "plt.show()"
   ]
  },
  {
   "cell_type": "code",
   "execution_count": null,
   "metadata": {},
   "outputs": [],
   "source": []
  },
  {
   "cell_type": "code",
   "execution_count": 30,
   "metadata": {},
   "outputs": [
    {
     "data": {
      "image/png": "[encoded data removed]",
      "text/plain": [
       "<Figure size 432x288 with 1 Axes>"
      ]
     },
     "metadata": {
      "needs_background": "light"
     },
     "output_type": "display_data"
    }
   ],
   "source": [
    "\n",
    "dataframe = df\n",
    "x = df.Year\n",
    "y = df.Mileage\n",
    "plt.scatter(x, y)\n",
    "plt.show()"
   ]
  },
  {
   "cell_type": "code",
   "execution_count": 31,
   "metadata": {},
   "outputs": [
    {
     "data": {
      "image/png": "[encoded data removed]",
      "text/plain": [
       "<Figure size 432x288 with 1 Axes>"
      ]
     },
     "metadata": {
      "needs_background": "light"
     },
     "output_type": "display_data"
    }
   ],
   "source": [
    "#https://ourcodingclub.github.io/2018/04/18/pandas-python-intro.html\n",
    "\n",
    "from scipy.stats import linregress\n",
    "\n",
    "dataframe = df\n",
    "\n",
    "x = df.Year\n",
    "y = df.Mileage\n",
    "\n",
    "stats = linregress(x, y)\n",
    "\n",
    "m = stats.slope\n",
    "b = stats.intercept\n",
    "\n",
    "plt.scatter(x, y)\n",
    "plt.plot(x, m * x + b, color=\"red\")   # I've added a color argument hereplt.savefig(\"figure.png\")\n",
    "\n",
    "plt.show()\n",
    "\n",
    "# Or you can use plt.show()"
   ]
  },
  {
   "cell_type": "markdown",
   "metadata": {},
   "source": [
    "I synthesised this dataset using np.random.choice but skewed the values according to the percentages from the actual nct database.  These results are very interesting. The information from the actual RSA NCT statistics show that 2017 had the most amount of Santa Fe's for NCT with just over 22% for that year alone.  From the beginning of 2001 there was a steady climb in the number each year.  It peaked at 2007 and dropped sharply with a little surge in 2014 before again falling. At the risk of clouding the data and forcing my own opinions on it, I know I purchased the 2007 model (8 years ago) as there was a large price increase on the 2008 model compared to the 2007, as that was when tax began to be calculated on the emmissions of a vehicle, rather than the cc. Also, there was a design upgrade which began with the 2006 model and did not change until 2012[20]. Some buyers may have preferred the newer looking model rather than the older one. Although 2005 model had almost 15% and 2006 almost 19% of all models tested.   There was a little surge in the 2012 registered models getting tested which could correspond to the new model.  There was a decrease in 2013 with a final peak in 2014.  I could speculate that the reason for this may be that car buyers may have been hesitant to buy a new model immediately until time had passed in order to see if there were any design flaws and if/how they could be rectified.  New cars are expensive so it would be prudent to wait and see how it fares.  The 2012 surge may be down to early adopters who like to use new products before others.\n",
    "\n",
    "In future, as the age of these cars increase I would expect a drop off in their overall percentage of the total tested. They may become uneconimical to continue with where their running and maintenance costs become outweighed by the offer of trade in allownces, low finance options and extended warranty. The cost of motor tax will have an impact also. A 2007 Santa Fe annual car tax is €951, compared with €390 for a 2017 model.\n"
   ]
  },
  {
   "cell_type": "markdown",
   "metadata": {},
   "source": [
    "### Fuel"
   ]
  },
  {
   "cell_type": "code",
   "execution_count": 32,
   "metadata": {},
   "outputs": [
    {
     "data": {
      "text/plain": [
       "Fuel\n",
       "Diesel    381\n",
       "Petrol    119\n",
       "dtype: int64"
      ]
     },
     "execution_count": 32,
     "metadata": {},
     "output_type": "execute_result"
    }
   ],
   "source": [
    "df.groupby(by=\"Fuel\").size()"
   ]
  },
  {
   "cell_type": "code",
   "execution_count": 33,
   "metadata": {},
   "outputs": [
    {
     "data": {
      "text/plain": [
       "array(['Diesel', 'Diesel', 'Diesel', 'Diesel', 'Diesel', 'Diesel',\n",
       "       'Petrol', 'Petrol', 'Petrol', 'Diesel', 'Diesel', 'Diesel',\n",
       "       'Diesel', 'Petrol', 'Diesel', 'Petrol', 'Diesel', 'Diesel',\n",
       "       'Diesel', 'Petrol', 'Diesel', 'Diesel', 'Diesel', 'Petrol',\n",
       "       'Diesel', 'Petrol', 'Diesel', 'Diesel', 'Diesel', 'Petrol',\n",
       "       'Diesel', 'Petrol', 'Petrol', 'Diesel', 'Petrol', 'Diesel',\n",
       "       'Petrol', 'Diesel', 'Diesel', 'Diesel', 'Diesel', 'Diesel',\n",
       "       'Diesel', 'Diesel', 'Diesel', 'Diesel', 'Petrol', 'Diesel',\n",
       "       'Diesel', 'Petrol', 'Diesel', 'Diesel', 'Diesel', 'Diesel',\n",
       "       'Diesel', 'Diesel', 'Diesel', 'Diesel', 'Diesel', 'Diesel',\n",
       "       'Diesel', 'Diesel', 'Diesel', 'Petrol', 'Petrol', 'Diesel',\n",
       "       'Petrol', 'Diesel', 'Diesel', 'Diesel', 'Diesel', 'Diesel',\n",
       "       'Diesel', 'Diesel', 'Petrol', 'Petrol', 'Diesel', 'Petrol',\n",
       "       'Diesel', 'Diesel', 'Diesel', 'Petrol', 'Diesel', 'Diesel',\n",
       "       'Diesel', 'Diesel', 'Petrol', 'Diesel', 'Diesel', 'Diesel',\n",
       "       'Petrol', 'Diesel', 'Diesel', 'Petrol', 'Diesel', 'Diesel',\n",
       "       'Diesel', 'Diesel', 'Diesel', 'Diesel', 'Diesel', 'Diesel',\n",
       "       'Petrol', 'Petrol', 'Petrol', 'Diesel', 'Diesel', 'Diesel',\n",
       "       'Diesel', 'Diesel', 'Diesel', 'Diesel', 'Diesel', 'Diesel',\n",
       "       'Diesel', 'Diesel', 'Diesel', 'Diesel', 'Diesel', 'Diesel',\n",
       "       'Diesel', 'Diesel', 'Petrol', 'Diesel', 'Diesel', 'Diesel',\n",
       "       'Diesel', 'Diesel', 'Petrol', 'Petrol', 'Diesel', 'Diesel',\n",
       "       'Diesel', 'Diesel', 'Diesel', 'Petrol', 'Diesel', 'Petrol',\n",
       "       'Diesel', 'Diesel', 'Diesel', 'Diesel', 'Petrol', 'Petrol',\n",
       "       'Diesel', 'Petrol', 'Petrol', 'Petrol', 'Petrol', 'Petrol',\n",
       "       'Diesel', 'Petrol', 'Diesel', 'Diesel', 'Diesel', 'Petrol',\n",
       "       'Petrol', 'Diesel', 'Diesel', 'Diesel', 'Petrol', 'Diesel',\n",
       "       'Diesel', 'Petrol', 'Diesel', 'Diesel', 'Petrol', 'Diesel',\n",
       "       'Diesel', 'Petrol', 'Diesel', 'Diesel', 'Diesel', 'Diesel',\n",
       "       'Diesel', 'Petrol', 'Petrol', 'Diesel', 'Diesel', 'Diesel',\n",
       "       'Diesel', 'Petrol', 'Diesel', 'Diesel', 'Diesel', 'Petrol',\n",
       "       'Diesel', 'Diesel', 'Diesel', 'Diesel', 'Petrol', 'Diesel',\n",
       "       'Diesel', 'Diesel', 'Diesel', 'Diesel', 'Petrol', 'Diesel',\n",
       "       'Petrol', 'Diesel', 'Diesel', 'Diesel', 'Petrol', 'Diesel',\n",
       "       'Petrol', 'Diesel', 'Diesel', 'Petrol', 'Diesel', 'Diesel',\n",
       "       'Diesel', 'Diesel', 'Diesel', 'Diesel', 'Diesel', 'Diesel',\n",
       "       'Petrol', 'Diesel', 'Diesel', 'Petrol', 'Diesel', 'Diesel',\n",
       "       'Petrol', 'Diesel', 'Diesel', 'Diesel', 'Diesel', 'Diesel',\n",
       "       'Petrol', 'Diesel', 'Diesel', 'Diesel', 'Diesel', 'Petrol',\n",
       "       'Diesel', 'Diesel', 'Diesel', 'Petrol', 'Petrol', 'Petrol',\n",
       "       'Diesel', 'Diesel', 'Diesel', 'Diesel', 'Diesel', 'Diesel',\n",
       "       'Diesel', 'Petrol', 'Diesel', 'Diesel', 'Diesel', 'Petrol',\n",
       "       'Diesel', 'Diesel', 'Diesel', 'Diesel', 'Petrol', 'Diesel',\n",
       "       'Diesel', 'Diesel', 'Diesel', 'Diesel', 'Diesel', 'Diesel',\n",
       "       'Diesel', 'Diesel', 'Diesel', 'Diesel', 'Diesel', 'Diesel',\n",
       "       'Diesel', 'Diesel', 'Petrol', 'Diesel', 'Petrol', 'Diesel',\n",
       "       'Diesel', 'Diesel', 'Diesel', 'Diesel', 'Petrol', 'Diesel',\n",
       "       'Diesel', 'Diesel', 'Diesel', 'Diesel', 'Diesel', 'Diesel',\n",
       "       'Diesel', 'Diesel', 'Diesel', 'Petrol', 'Petrol', 'Diesel',\n",
       "       'Petrol', 'Petrol', 'Diesel', 'Petrol', 'Petrol', 'Petrol',\n",
       "       'Petrol', 'Diesel', 'Petrol', 'Diesel', 'Diesel', 'Diesel',\n",
       "       'Diesel', 'Diesel', 'Diesel', 'Diesel', 'Diesel', 'Petrol',\n",
       "       'Diesel', 'Petrol', 'Diesel', 'Diesel', 'Diesel', 'Diesel',\n",
       "       'Petrol', 'Petrol', 'Petrol', 'Diesel', 'Diesel', 'Diesel',\n",
       "       'Petrol', 'Diesel', 'Diesel', 'Petrol', 'Diesel', 'Petrol',\n",
       "       'Diesel', 'Diesel', 'Diesel', 'Petrol', 'Diesel', 'Diesel',\n",
       "       'Diesel', 'Diesel', 'Diesel', 'Diesel', 'Diesel', 'Diesel',\n",
       "       'Petrol', 'Diesel', 'Diesel', 'Diesel', 'Diesel', 'Petrol',\n",
       "       'Diesel', 'Diesel', 'Diesel', 'Petrol', 'Diesel', 'Diesel',\n",
       "       'Petrol', 'Diesel', 'Diesel', 'Diesel', 'Petrol', 'Diesel',\n",
       "       'Diesel', 'Diesel', 'Diesel', 'Diesel', 'Diesel', 'Petrol',\n",
       "       'Diesel', 'Diesel', 'Diesel', 'Diesel', 'Diesel', 'Diesel',\n",
       "       'Diesel', 'Diesel', 'Diesel', 'Diesel', 'Petrol', 'Diesel',\n",
       "       'Petrol', 'Petrol', 'Petrol', 'Petrol', 'Petrol', 'Petrol',\n",
       "       'Petrol', 'Diesel', 'Diesel', 'Diesel', 'Petrol', 'Diesel',\n",
       "       'Diesel', 'Diesel', 'Diesel', 'Diesel', 'Diesel', 'Diesel',\n",
       "       'Diesel', 'Petrol', 'Diesel', 'Diesel', 'Diesel', 'Diesel',\n",
       "       'Diesel', 'Diesel', 'Petrol', 'Petrol', 'Diesel', 'Diesel',\n",
       "       'Diesel', 'Diesel', 'Diesel', 'Diesel', 'Petrol', 'Diesel',\n",
       "       'Diesel', 'Petrol', 'Diesel', 'Diesel', 'Petrol', 'Diesel',\n",
       "       'Petrol', 'Petrol', 'Diesel', 'Petrol', 'Petrol', 'Diesel',\n",
       "       'Petrol', 'Diesel', 'Diesel', 'Diesel', 'Diesel', 'Petrol',\n",
       "       'Diesel', 'Diesel', 'Diesel', 'Diesel', 'Diesel', 'Diesel',\n",
       "       'Diesel', 'Petrol', 'Diesel', 'Diesel', 'Petrol', 'Diesel',\n",
       "       'Diesel', 'Diesel', 'Diesel', 'Diesel', 'Diesel', 'Diesel',\n",
       "       'Petrol', 'Petrol', 'Diesel', 'Diesel', 'Petrol', 'Petrol',\n",
       "       'Diesel', 'Diesel', 'Diesel', 'Diesel', 'Diesel', 'Petrol',\n",
       "       'Diesel', 'Diesel', 'Diesel', 'Diesel', 'Diesel', 'Petrol',\n",
       "       'Diesel', 'Diesel', 'Diesel', 'Diesel', 'Diesel', 'Diesel',\n",
       "       'Diesel', 'Diesel', 'Diesel', 'Diesel', 'Diesel', 'Diesel',\n",
       "       'Diesel', 'Petrol', 'Petrol', 'Diesel', 'Diesel', 'Petrol',\n",
       "       'Diesel', 'Petrol', 'Diesel', 'Diesel', 'Diesel', 'Diesel',\n",
       "       'Diesel', 'Diesel', 'Diesel', 'Diesel', 'Diesel', 'Diesel',\n",
       "       'Diesel', 'Diesel'], dtype='<U6')"
      ]
     },
     "execution_count": 33,
     "metadata": {},
     "output_type": "execute_result"
    }
   ],
   "source": [
    "fu = np.random.choice(fuel, 500, p=[0.24, 0.76])\n",
    "fu"
   ]
  },
  {
   "cell_type": "code",
   "execution_count": 34,
   "metadata": {},
   "outputs": [
    {
     "data": {
      "image/png": "[encoded data removed]",
      "text/plain": [
       "<Figure size 720x360 with 1 Axes>"
      ]
     },
     "metadata": {
      "needs_background": "light"
     },
     "output_type": "display_data"
    }
   ],
   "source": [
    "# Histogram showing the difference in fuel types\n",
    "\n",
    "plt.figure(figsize=(10,5))\n",
    "plt.hist(fu, bins=5)\n",
    "plt.xlabel(\"Fuel\")\n",
    "plt.show()"
   ]
  },
  {
   "cell_type": "code",
   "execution_count": 35,
   "metadata": {},
   "outputs": [
    {
     "data": {
      "text/plain": [
       "<matplotlib.axes._subplots.AxesSubplot at 0x231778e87b8>"
      ]
     },
     "execution_count": 35,
     "metadata": {},
     "output_type": "execute_result"
    },
    {
     "data": {
      "image/png": "[encoded data removed]",
      "text/plain": [
       "<Figure size 432x288 with 1 Axes>"
      ]
     },
     "metadata": {
      "needs_background": "light"
     },
     "output_type": "display_data"
    }
   ],
   "source": [
    "sns.countplot('Year', hue='Fuel', data=df)"
   ]
  },
  {
   "cell_type": "markdown",
   "metadata": {},
   "source": [
    "Diesel cars far outweighed petrol.  Again there were far more in 2007 as compared to other years.  Diesel cars are known to have more economical engines and better resale value.  This could account for the large difference in numbers. [21]  "
   ]
  },
  {
   "cell_type": "markdown",
   "metadata": {},
   "source": [
    "### Status"
   ]
  },
  {
   "cell_type": "code",
   "execution_count": 36,
   "metadata": {},
   "outputs": [
    {
     "data": {
      "text/plain": [
       "array(['Pass', 'Pass', 'Pass', 'Pass', 'Fail', 'Pass', 'Fail', 'Fail',\n",
       "       'Pass', 'Fail', 'Pass', 'Pass', 'Fail', 'Fail', 'Fail', 'Fail',\n",
       "       'Pass', 'Fail', 'Pass', 'Fail', 'Pass', 'Pass', 'Fail', 'Fail',\n",
       "       'Fail', 'Pass', 'Fail', 'Fail', 'Pass', 'Pass', 'Fail', 'Pass',\n",
       "       'Pass', 'Pass', 'Fail', 'Fail', 'Pass', 'Pass', 'Fail', 'Fail',\n",
       "       'Pass', 'Fail', 'Fail', 'Fail', 'Fail', 'Pass', 'Pass', 'Fail',\n",
       "       'Pass', 'Pass', 'Pass', 'Fail', 'Fail', 'Fail', 'Fail', 'Fail',\n",
       "       'Fail', 'Fail', 'Fail', 'Fail', 'Fail', 'Fail', 'Fail', 'Pass',\n",
       "       'Pass', 'Fail', 'Fail', 'Pass', 'Pass', 'Pass', 'Pass', 'Fail',\n",
       "       'Pass', 'Fail', 'Pass', 'Fail', 'Pass', 'Fail', 'Incomplete',\n",
       "       'Fail', 'Fail', 'Pass', 'Fail', 'Pass', 'Pass', 'Pass', 'Fail',\n",
       "       'Pass', 'Pass', 'Fail', 'Fail', 'Fail', 'Fail', 'Pass', 'Fail',\n",
       "       'Fail', 'Fail', 'Fail', 'Fail', 'Pass', 'Fail', 'Fail', 'Pass',\n",
       "       'Fail', 'Fail', 'Pass', 'Fail', 'Pass', 'Fail', 'Fail', 'Pass',\n",
       "       'Fail', 'Fail', 'Pass', 'Pass', 'Pass', 'Pass', 'Fail', 'Fail',\n",
       "       'Fail', 'Pass', 'Fail', 'Pass', 'Pass', 'Fail', 'Pass', 'Pass',\n",
       "       'Fail', 'Pass', 'Pass', 'Fail', 'Pass', 'Pass', 'Fail', 'Fail',\n",
       "       'Fail', 'Fail', 'Pass', 'Fail', 'Fail', 'Pass', 'Pass', 'Fail',\n",
       "       'Fail', 'Fail', 'Fail', 'Fail', 'Pass', 'Fail', 'Fail', 'Pass',\n",
       "       'Fail', 'Fail', 'Pass', 'Fail', 'Pass', 'Pass', 'Fail', 'Fail',\n",
       "       'Fail', 'Fail', 'Fail', 'Pass', 'Fail', 'Fail', 'Fail', 'Fail',\n",
       "       'Fail', 'Pass', 'Pass', 'Fail', 'Pass', 'Fail', 'Fail', 'Fail',\n",
       "       'Pass', 'Fail', 'Fail', 'Fail', 'Fail', 'Pass', 'Fail', 'Pass',\n",
       "       'Pass', 'Pass', 'Fail', 'Pass', 'Fail', 'Fail', 'Pass',\n",
       "       'Incomplete', 'Pass', 'Fail', 'Pass', 'Fail', 'Pass', 'Fail',\n",
       "       'Fail', 'Pass', 'Fail', 'Fail', 'Fail', 'Fail', 'Fail', 'Pass',\n",
       "       'Pass', 'Fail', 'Fail', 'Fail', 'Fail', 'Fail', 'Fail', 'Fail',\n",
       "       'Fail', 'Fail', 'Fail', 'Fail', 'Fail', 'Fail', 'Pass', 'Pass',\n",
       "       'Fail', 'Pass', 'Pass', 'Fail', 'Fail', 'Fail', 'Fail', 'Pass',\n",
       "       'Fail', 'Pass', 'Fail', 'Fail', 'Fail', 'Pass', 'Fail', 'Fail',\n",
       "       'Fail', 'Fail', 'Fail', 'Pass', 'Fail', 'Pass', 'Fail', 'Fail',\n",
       "       'Fail', 'Fail', 'Pass', 'Pass', 'Pass', 'Fail', 'Fail', 'Fail',\n",
       "       'Fail', 'Fail', 'Fail', 'Fail', 'Fail', 'Pass', 'Fail', 'Pass',\n",
       "       'Pass', 'Pass', 'Pass', 'Fail', 'Fail', 'Fail', 'Fail', 'Fail',\n",
       "       'Fail', 'Pass', 'Fail', 'Pass', 'Fail', 'Pass', 'Pass', 'Fail',\n",
       "       'Pass', 'Fail', 'Pass', 'Fail', 'Pass', 'Fail', 'Fail', 'Fail',\n",
       "       'Fail', 'Fail', 'Fail', 'Fail', 'Pass', 'Pass', 'Fail', 'Fail',\n",
       "       'Fail', 'Fail', 'Pass', 'Fail', 'Fail', 'Fail', 'Pass', 'Fail',\n",
       "       'Fail', 'Pass', 'Fail', 'Pass', 'Fail', 'Fail', 'Fail', 'Fail',\n",
       "       'Pass', 'Fail', 'Fail', 'Pass', 'Pass', 'Incomplete', 'Fail',\n",
       "       'Fail', 'Fail', 'Fail', 'Pass', 'Fail', 'Pass', 'Pass', 'Fail',\n",
       "       'Fail', 'Pass', 'Pass', 'Pass', 'Pass', 'Pass', 'Fail', 'Pass',\n",
       "       'Pass', 'Pass', 'Pass', 'Pass', 'Pass', 'Fail', 'Pass', 'Fail',\n",
       "       'Pass', 'Fail', 'Pass', 'Fail', 'Fail', 'Fail', 'Fail', 'Fail',\n",
       "       'Pass', 'Fail', 'Pass', 'Fail', 'Fail', 'Fail', 'Fail', 'Pass',\n",
       "       'Pass', 'Pass', 'Fail', 'Pass', 'Fail', 'Pass', 'Fail', 'Fail',\n",
       "       'Pass', 'Pass', 'Pass', 'Pass', 'Pass', 'Fail', 'Pass', 'Pass',\n",
       "       'Pass', 'Pass', 'Fail', 'Pass', 'Fail', 'Fail', 'Fail', 'Pass',\n",
       "       'Fail', 'Fail', 'Fail', 'Fail', 'Fail', 'Fail', 'Fail', 'Fail',\n",
       "       'Fail', 'Fail', 'Pass', 'Pass', 'Fail', 'Fail', 'Pass', 'Pass',\n",
       "       'Pass', 'Fail', 'Fail', 'Fail', 'Pass', 'Fail', 'Fail', 'Fail',\n",
       "       'Pass', 'Fail', 'Fail', 'Pass', 'Pass', 'Fail', 'Fail', 'Pass',\n",
       "       'Pass', 'Pass', 'Fail', 'Pass', 'Fail', 'Fail', 'Pass', 'Fail',\n",
       "       'Fail', 'Fail', 'Fail', 'Fail', 'Fail', 'Pass', 'Pass', 'Fail',\n",
       "       'Pass', 'Fail', 'Fail', 'Pass', 'Fail', 'Pass', 'Fail', 'Fail',\n",
       "       'Pass', 'Pass', 'Fail', 'Pass', 'Pass', 'Fail', 'Fail', 'Pass',\n",
       "       'Pass', 'Fail', 'Pass', 'Pass', 'Pass', 'Fail', 'Fail', 'Pass',\n",
       "       'Fail', 'Fail', 'Fail', 'Fail', 'Fail', 'Fail', 'Fail', 'Pass',\n",
       "       'Fail', 'Fail', 'Pass', 'Fail', 'Pass', 'Pass', 'Pass', 'Fail',\n",
       "       'Fail', 'Fail', 'Fail', 'Fail', 'Fail', 'Pass', 'Pass', 'Fail',\n",
       "       'Pass', 'Fail', 'Pass', 'Pass', 'Pass', 'Fail', 'Pass', 'Pass',\n",
       "       'Pass', 'Fail', 'Fail', 'Fail', 'Fail', 'Pass', 'Fail', 'Fail',\n",
       "       'Fail', 'Fail', 'Fail', 'Fail', 'Pass', 'Pass', 'Pass', 'Fail'],\n",
       "      dtype='<U10')"
      ]
     },
     "execution_count": 36,
     "metadata": {},
     "output_type": "execute_result"
    }
   ],
   "source": [
    "stat= np.random.choice(status, 500, p=[0.36, 0.63, 0.01])\n",
    "stat"
   ]
  },
  {
   "cell_type": "code",
   "execution_count": 37,
   "metadata": {},
   "outputs": [
    {
     "data": {
      "image/png": "[encoded data removed]",
      "text/plain": [
       "<Figure size 720x360 with 1 Axes>"
      ]
     },
     "metadata": {
      "needs_background": "light"
     },
     "output_type": "display_data"
    }
   ],
   "source": [
    "# Histogram showing the Status of Tests\n",
    "\n",
    "plt.figure(figsize=(10,5))\n",
    "plt.hist(stat, bins=5)\n",
    "plt.xlabel('Status of Test')\n",
    "plt.show()"
   ]
  },
  {
   "cell_type": "code",
   "execution_count": 38,
   "metadata": {},
   "outputs": [
    {
     "data": {
      "text/plain": [
       "<matplotlib.axes._subplots.AxesSubplot at 0x2317732ae80>"
      ]
     },
     "execution_count": 38,
     "metadata": {},
     "output_type": "execute_result"
    },
    {
     "data": {
      "image/png": "[encoded data removed]",
      "text/plain": [
       "<Figure size 432x288 with 1 Axes>"
      ]
     },
     "metadata": {
      "needs_background": "light"
     },
     "output_type": "display_data"
    }
   ],
   "source": [
    "sns.countplot('Status', hue='Service', data=df)"
   ]
  },
  {
   "cell_type": "code",
   "execution_count": 39,
   "metadata": {},
   "outputs": [
    {
     "data": {
      "text/plain": [
       "<matplotlib.axes._subplots.AxesSubplot at 0x23177a7b898>"
      ]
     },
     "execution_count": 39,
     "metadata": {},
     "output_type": "execute_result"
    },
    {
     "data": {
      "image/png": "[encoded data removed]",
      "text/plain": [
       "<Figure size 432x288 with 1 Axes>"
      ]
     },
     "metadata": {
      "needs_background": "light"
     },
     "output_type": "display_data"
    }
   ],
   "source": [
    "sns.countplot('Year', hue='Status', data=df)"
   ]
  },
  {
   "cell_type": "code",
   "execution_count": 40,
   "metadata": {},
   "outputs": [
    {
     "name": "stderr",
     "output_type": "stream",
     "text": [
      "C:\\Users\\Rebecca\\Anaconda3\\lib\\site-packages\\numpy\\core\\_methods.py:140: RuntimeWarning: Degrees of freedom <= 0 for slice\n",
      "  keepdims=keepdims)\n",
      "C:\\Users\\Rebecca\\Anaconda3\\lib\\site-packages\\numpy\\core\\_methods.py:132: RuntimeWarning: invalid value encountered in double_scalars\n",
      "  ret = ret.dtype.type(ret / rcount)\n",
      "C:\\Users\\Rebecca\\Anaconda3\\lib\\site-packages\\statsmodels\\nonparametric\\bandwidths.py:20: RuntimeWarning: invalid value encountered in minimum\n",
      "  return np.minimum(np.std(X, axis=0, ddof=1), IQR)\n",
      "C:\\Users\\Rebecca\\Anaconda3\\lib\\site-packages\\numpy\\core\\fromnumeric.py:83: RuntimeWarning: invalid value encountered in reduce\n",
      "  return ufunc.reduce(obj, axis, dtype, out, **passkwargs)\n"
     ]
    },
    {
     "data": {
      "text/plain": [
       "<seaborn.axisgrid.FacetGrid at 0x23177b39780>"
      ]
     },
     "execution_count": 40,
     "metadata": {},
     "output_type": "execute_result"
    },
    {
     "data": {
      "image/png": "[encoded data removed]",
      "text/plain": [
       "<Figure size 715x216 with 3 Axes>"
      ]
     },
     "metadata": {
      "needs_background": "light"
     },
     "output_type": "display_data"
    }
   ],
   "source": [
    "\n",
    "# KDE plots of the tip distribution separated by status and fuel type\n",
    "g = sns.FacetGrid(df, col=\"Status\", hue=\"Fuel\") \n",
    "g.map(sns.distplot, \"Year\")\n",
    "g.add_legend() \n",
    "g.set(alpha=.5)"
   ]
  },
  {
   "cell_type": "markdown",
   "metadata": {},
   "source": [
    "Taken by itself it is evident that almost twice as many cars fail when compared to passing ones.  There was a very small percentage of incomplete 1%.  In the above countplot that seems to be following but there were some years where there were little to no incomplete.  That is interesting as I expected there to be a little amount every year but np.random.choice created the values. \n",
    "\n",
    "In the last graph I created a kde plot showing fuel type and status.  In the fail section petrol cars seem to have a higher failure rate when compared to diesel.  Diesel has one major peak in the Pass section in the 2007 cars tested which is when there was a higher rate of cars registered in that year.  But petrol cars have a steadier pass rate with less peaks from approximately the 2004 to 2009 model.  2005 model showed a huge peak for petrol cars with an incomplete for the NCT.\n",
    "\n",
    "\n",
    "\n"
   ]
  },
  {
   "cell_type": "markdown",
   "metadata": {},
   "source": [
    "### Sex"
   ]
  },
  {
   "cell_type": "code",
   "execution_count": 41,
   "metadata": {},
   "outputs": [
    {
     "data": {
      "text/plain": [
       "array(['Male', 'Female', 'Female', 'Male', 'Male', 'Female', 'Male',\n",
       "       'Male', 'Female', 'Female', 'Male', 'Female', 'Female', 'Male',\n",
       "       'Female', 'Male', 'Male', 'Male', 'Male', 'Male', 'Male', 'Male',\n",
       "       'Female', 'Male', 'Male', 'Male', 'Male', 'Male', 'Female', 'Male',\n",
       "       'Male', 'Female', 'Male', 'Female', 'Male', 'Male', 'Male', 'Male',\n",
       "       'Male', 'Female', 'Male', 'Female', 'Female', 'Male', 'Female',\n",
       "       'Male', 'Female', 'Male', 'Male', 'Female', 'Male', 'Male',\n",
       "       'Female', 'Female', 'Female', 'Male', 'Male', 'Male', 'Female',\n",
       "       'Male', 'Male', 'Male', 'Female', 'Female', 'Female', 'Female',\n",
       "       'Male', 'Male', 'Female', 'Male', 'Male', 'Female', 'Male',\n",
       "       'Female', 'Male', 'Female', 'Female', 'Female', 'Male', 'Female',\n",
       "       'Male', 'Male', 'Male', 'Male', 'Male', 'Male', 'Male', 'Male',\n",
       "       'Male', 'Male', 'Male', 'Female', 'Female', 'Female', 'Male',\n",
       "       'Female', 'Female', 'Female', 'Male', 'Male', 'Female', 'Female',\n",
       "       'Female', 'Female', 'Male', 'Female', 'Female', 'Male', 'Male',\n",
       "       'Female', 'Male', 'Female', 'Female', 'Female', 'Male', 'Female',\n",
       "       'Male', 'Female', 'Male', 'Male', 'Male', 'Male', 'Male', 'Female',\n",
       "       'Male', 'Female', 'Female', 'Female', 'Female', 'Male', 'Male',\n",
       "       'Male', 'Female', 'Male', 'Female', 'Female', 'Female', 'Male',\n",
       "       'Female', 'Female', 'Female', 'Male', 'Female', 'Male', 'Female',\n",
       "       'Male', 'Male', 'Male', 'Male', 'Male', 'Male', 'Male', 'Male',\n",
       "       'Male', 'Female', 'Male', 'Female', 'Female', 'Female', 'Male',\n",
       "       'Male', 'Female', 'Male', 'Male', 'Male', 'Female', 'Male',\n",
       "       'Female', 'Male', 'Female', 'Female', 'Male', 'Female', 'Male',\n",
       "       'Male', 'Female', 'Male', 'Female', 'Female', 'Male', 'Male',\n",
       "       'Female', 'Male', 'Male', 'Female', 'Male', 'Female', 'Female',\n",
       "       'Male', 'Female', 'Female', 'Female', 'Male', 'Male', 'Female',\n",
       "       'Female', 'Female', 'Male', 'Female', 'Female', 'Male', 'Female',\n",
       "       'Male', 'Male', 'Male', 'Female', 'Male', 'Female', 'Female',\n",
       "       'Male', 'Female', 'Male', 'Male', 'Male', 'Female', 'Male',\n",
       "       'Female', 'Female', 'Male', 'Female', 'Female', 'Male', 'Male',\n",
       "       'Male', 'Female', 'Female', 'Male', 'Male', 'Male', 'Male',\n",
       "       'Female', 'Male', 'Male', 'Male', 'Female', 'Female', 'Female',\n",
       "       'Female', 'Female', 'Female', 'Female', 'Female', 'Female',\n",
       "       'Female', 'Male', 'Male', 'Female', 'Female', 'Male', 'Female',\n",
       "       'Male', 'Female', 'Male', 'Male', 'Female', 'Male', 'Female',\n",
       "       'Male', 'Male', 'Female', 'Female', 'Male', 'Male', 'Male', 'Male',\n",
       "       'Male', 'Male', 'Female', 'Male', 'Female', 'Male', 'Male', 'Male',\n",
       "       'Female', 'Female', 'Male', 'Male', 'Female', 'Male', 'Female',\n",
       "       'Male', 'Male', 'Male', 'Male', 'Male', 'Female', 'Male', 'Male',\n",
       "       'Female', 'Male', 'Male', 'Male', 'Female', 'Male', 'Female',\n",
       "       'Female', 'Female', 'Female', 'Male', 'Male', 'Male', 'Male',\n",
       "       'Male', 'Male', 'Female', 'Female', 'Female', 'Male', 'Male',\n",
       "       'Male', 'Female', 'Male', 'Female', 'Male', 'Male', 'Female',\n",
       "       'Female', 'Female', 'Female', 'Female', 'Female', 'Female', 'Male',\n",
       "       'Male', 'Female', 'Female', 'Female', 'Female', 'Male', 'Male',\n",
       "       'Male', 'Female', 'Male', 'Female', 'Female', 'Male', 'Female',\n",
       "       'Female', 'Female', 'Female', 'Male', 'Male', 'Male', 'Male',\n",
       "       'Female', 'Female', 'Male', 'Male', 'Male', 'Male', 'Male', 'Male',\n",
       "       'Female', 'Male', 'Male', 'Male', 'Female', 'Male', 'Female',\n",
       "       'Male', 'Male', 'Male', 'Male', 'Male', 'Male', 'Female', 'Male',\n",
       "       'Male', 'Male', 'Male', 'Male', 'Male', 'Male', 'Female', 'Female',\n",
       "       'Male', 'Male', 'Male', 'Female', 'Male', 'Female', 'Female',\n",
       "       'Male', 'Female', 'Female', 'Female', 'Male', 'Male', 'Male',\n",
       "       'Male', 'Female', 'Female', 'Male', 'Male', 'Female', 'Male',\n",
       "       'Male', 'Female', 'Male', 'Male', 'Male', 'Male', 'Female', 'Male',\n",
       "       'Female', 'Male', 'Female', 'Female', 'Male', 'Male', 'Male',\n",
       "       'Male', 'Male', 'Male', 'Male', 'Male', 'Male', 'Male', 'Female',\n",
       "       'Female', 'Male', 'Male', 'Female', 'Male', 'Female', 'Male',\n",
       "       'Female', 'Female', 'Male', 'Male', 'Male', 'Male', 'Female',\n",
       "       'Female', 'Male', 'Male', 'Male', 'Male', 'Female', 'Male', 'Male',\n",
       "       'Female', 'Female', 'Female', 'Female', 'Female', 'Male', 'Female',\n",
       "       'Male', 'Male', 'Male', 'Male', 'Female', 'Male', 'Female', 'Male',\n",
       "       'Male', 'Female', 'Male', 'Male', 'Male', 'Female', 'Male',\n",
       "       'Female', 'Male', 'Female', 'Male', 'Male', 'Male', 'Female',\n",
       "       'Male', 'Female', 'Male', 'Male', 'Female', 'Male', 'Female',\n",
       "       'Male', 'Male', 'Male', 'Female', 'Female', 'Female', 'Female',\n",
       "       'Female', 'Male', 'Female', 'Male', 'Male', 'Female', 'Male',\n",
       "       'Male', 'Female', 'Male', 'Female', 'Male', 'Female', 'Female',\n",
       "       'Female', 'Male'], dtype='<U6')"
      ]
     },
     "execution_count": 41,
     "metadata": {},
     "output_type": "execute_result"
    }
   ],
   "source": [
    "gen =np.random.choice(sex, 500, p=[0.53, 0.47])\n",
    "gen"
   ]
  },
  {
   "cell_type": "code",
   "execution_count": 42,
   "metadata": {},
   "outputs": [
    {
     "data": {
      "image/png": "[encoded data removed]",
      "text/plain": [
       "<Figure size 720x360 with 1 Axes>"
      ]
     },
     "metadata": {
      "needs_background": "light"
     },
     "output_type": "display_data"
    }
   ],
   "source": [
    "# Histogram showing the difference in the genders\n",
    "\n",
    "plt.figure(figsize=(10,5))\n",
    "plt.hist(gen, bins=5)\n",
    "plt.xlabel(\"Gender\")\n",
    "plt.show()"
   ]
  },
  {
   "cell_type": "code",
   "execution_count": 43,
   "metadata": {},
   "outputs": [
    {
     "data": {
      "text/plain": [
       "<seaborn.axisgrid.FacetGrid at 0x231773c69b0>"
      ]
     },
     "execution_count": 43,
     "metadata": {},
     "output_type": "execute_result"
    },
    {
     "data": {
      "image/png": "[encoded data removed]",
      "text/plain": [
       "<Figure size 499x216 with 2 Axes>"
      ]
     },
     "metadata": {
      "needs_background": "light"
     },
     "output_type": "display_data"
    }
   ],
   "source": [
    "\n",
    "# KDE plots of the tip distribution separated by year and fuel type\n",
    "g = sns.FacetGrid(df, col=\"Sex\", hue=\"Fuel\") \n",
    "g.map(sns.distplot, \"Year\")\n",
    "g.add_legend() \n",
    "g.set(alpha=.5)"
   ]
  },
  {
   "cell_type": "code",
   "execution_count": 44,
   "metadata": {},
   "outputs": [
    {
     "data": {
      "text/plain": [
       "<seaborn.axisgrid.PairGrid at 0x2317621ee80>"
      ]
     },
     "execution_count": 44,
     "metadata": {},
     "output_type": "execute_result"
    },
    {
     "data": {
      "image/png": "[encoded data removed]",
      "text/plain": [
       "<Figure size 432.625x360 with 6 Axes>"
      ]
     },
     "metadata": {
      "needs_background": "light"
     },
     "output_type": "display_data"
    }
   ],
   "source": [
    "\n",
    "sns.pairplot(df, \"Sex\")"
   ]
  },
  {
   "cell_type": "markdown",
   "metadata": {},
   "source": [
    "As discussed further up the split between male and female was 53% to 47%.  I have recreated that again using np.random.choice.  From the above graphs it seems that females tend to prefer diesel as opposed to petrol with males having an almost equal split.  The mileage was very close between the genders with males slightly higher.  "
   ]
  },
  {
   "cell_type": "markdown",
   "metadata": {},
   "source": [
    "### Licence Type"
   ]
  },
  {
   "cell_type": "code",
   "execution_count": 45,
   "metadata": {},
   "outputs": [
    {
     "data": {
      "text/plain": [
       "array(['Full', 'Full', 'Full', 'Full', 'Full', 'Full', 'Full', 'Full',\n",
       "       'Learner', 'Full', 'Full', 'Full', 'Full', 'Learner', 'Full',\n",
       "       'Full', 'Full', 'Full', 'Full', 'Full', 'Full', 'Full', 'Full',\n",
       "       'Full', 'Full', 'Full', 'Full', 'Full', 'Full', 'Full', 'Full',\n",
       "       'Learner', 'Full', 'Learner', 'Full', 'Full', 'Learner', 'Learner',\n",
       "       'Full', 'Full', 'Full', 'Full', 'Full', 'Full', 'Full', 'Full',\n",
       "       'Full', 'Full', 'Full', 'Full', 'Full', 'Full', 'Full', 'Full',\n",
       "       'Full', 'Full', 'Learner', 'Full', 'Full', 'Full', 'Full', 'Full',\n",
       "       'Full', 'Full', 'Full', 'Full', 'Full', 'Full', 'Full', 'Full',\n",
       "       'Full', 'Full', 'Full', 'Full', 'Full', 'Full', 'Full', 'Learner',\n",
       "       'Full', 'Full', 'Full', 'Full', 'Full', 'Full', 'Full', 'Full',\n",
       "       'Full', 'Full', 'Full', 'Full', 'Full', 'Full', 'Full', 'Full',\n",
       "       'Full', 'Full', 'Full', 'Full', 'Learner', 'Full', 'Full', 'Full',\n",
       "       'Full', 'Full', 'Full', 'Full', 'Full', 'Full', 'Full', 'Full',\n",
       "       'Full', 'Full', 'Full', 'Full', 'Full', 'Full', 'Full', 'Full',\n",
       "       'Full', 'Full', 'Full', 'Full', 'Full', 'Full', 'Full', 'Full',\n",
       "       'Full', 'Full', 'Full', 'Full', 'Full', 'Full', 'Full', 'Full',\n",
       "       'Full', 'Full', 'Full', 'Full', 'Full', 'Full', 'Full', 'Full',\n",
       "       'Full', 'Learner', 'Full', 'Full', 'Full', 'Full', 'Full',\n",
       "       'Learner', 'Full', 'Full', 'Full', 'Full', 'Full', 'Full', 'Full',\n",
       "       'Full', 'Full', 'Full', 'Full', 'Learner', 'Full', 'Full', 'Full',\n",
       "       'Full', 'Full', 'Full', 'Full', 'Full', 'Full', 'Full', 'Full',\n",
       "       'Full', 'Full', 'Full', 'Full', 'Learner', 'Full', 'Full', 'Full',\n",
       "       'Learner', 'Full', 'Full', 'Full', 'Full', 'Full', 'Full', 'Full',\n",
       "       'Full', 'Full', 'Full', 'Full', 'Full', 'Full', 'Full', 'Full',\n",
       "       'Full', 'Full', 'Full', 'Full', 'Full', 'Full', 'Learner', 'Full',\n",
       "       'Full', 'Full', 'Full', 'Full', 'Full', 'Full', 'Full', 'Full',\n",
       "       'Full', 'Full', 'Full', 'Full', 'Full', 'Full', 'Full', 'Full',\n",
       "       'Full', 'Full', 'Full', 'Full', 'Full', 'Full', 'Full', 'Full',\n",
       "       'Full', 'Learner', 'Full', 'Full', 'Full', 'Full', 'Learner',\n",
       "       'Learner', 'Full', 'Full', 'Full', 'Full', 'Full', 'Full', 'Full',\n",
       "       'Full', 'Full', 'Full', 'Full', 'Full', 'Full', 'Full', 'Full',\n",
       "       'Full', 'Full', 'Full', 'Full', 'Full', 'Full', 'Full', 'Full',\n",
       "       'Full', 'Full', 'Full', 'Full', 'Full', 'Full', 'Full', 'Full',\n",
       "       'Full', 'Full', 'Full', 'Learner', 'Full', 'Full', 'Full', 'Full',\n",
       "       'Full', 'Learner', 'Learner', 'Full', 'Full', 'Learner', 'Full',\n",
       "       'Full', 'Full', 'Full', 'Full', 'Full', 'Full', 'Full', 'Full',\n",
       "       'Learner', 'Full', 'Full', 'Full', 'Full', 'Full', 'Full', 'Full',\n",
       "       'Learner', 'Learner', 'Full', 'Full', 'Full', 'Full', 'Full',\n",
       "       'Full', 'Full', 'Full', 'Full', 'Full', 'Full', 'Full', 'Full',\n",
       "       'Learner', 'Full', 'Learner', 'Full', 'Full', 'Full', 'Full',\n",
       "       'Full', 'Full', 'Full', 'Full', 'Full', 'Full', 'Full', 'Full',\n",
       "       'Full', 'Full', 'Full', 'Full', 'Full', 'Learner', 'Full', 'Full',\n",
       "       'Full', 'Full', 'Full', 'Full', 'Full', 'Full', 'Full', 'Full',\n",
       "       'Full', 'Learner', 'Full', 'Full', 'Full', 'Full', 'Full', 'Full',\n",
       "       'Full', 'Full', 'Full', 'Full', 'Full', 'Full', 'Full', 'Full',\n",
       "       'Full', 'Full', 'Full', 'Full', 'Full', 'Full', 'Full', 'Full',\n",
       "       'Full', 'Full', 'Full', 'Full', 'Full', 'Full', 'Full', 'Full',\n",
       "       'Full', 'Full', 'Full', 'Learner', 'Full', 'Full', 'Learner',\n",
       "       'Full', 'Full', 'Full', 'Full', 'Full', 'Full', 'Full', 'Full',\n",
       "       'Full', 'Full', 'Full', 'Full', 'Full', 'Learner', 'Full',\n",
       "       'Learner', 'Full', 'Full', 'Full', 'Full', 'Full', 'Full', 'Full',\n",
       "       'Full', 'Full', 'Full', 'Full', 'Full', 'Full', 'Full', 'Full',\n",
       "       'Full', 'Full', 'Full', 'Full', 'Full', 'Full', 'Full', 'Full',\n",
       "       'Full', 'Full', 'Full', 'Full', 'Full', 'Full', 'Full', 'Full',\n",
       "       'Full', 'Full', 'Full', 'Full', 'Full', 'Full', 'Full', 'Full',\n",
       "       'Full', 'Learner', 'Full', 'Full', 'Full', 'Full', 'Full',\n",
       "       'Learner', 'Full', 'Full', 'Full', 'Full', 'Full', 'Full', 'Full',\n",
       "       'Full', 'Full', 'Full', 'Full', 'Full', 'Learner', 'Full', 'Full',\n",
       "       'Full', 'Full', 'Full', 'Full', 'Full', 'Full', 'Learner', 'Full',\n",
       "       'Full', 'Full', 'Full', 'Full', 'Full', 'Full', 'Full', 'Full',\n",
       "       'Full', 'Full', 'Full', 'Full', 'Full', 'Full', 'Full', 'Full',\n",
       "       'Full', 'Full', 'Full', 'Full', 'Full', 'Full', 'Full', 'Learner',\n",
       "       'Full', 'Full', 'Full', 'Full', 'Full', 'Full'], dtype='<U7')"
      ]
     },
     "execution_count": 45,
     "metadata": {},
     "output_type": "execute_result"
    }
   ],
   "source": [
    "lt= np.random.choice(Licence_type, 500, p=[0.92, 0.08])\n",
    "lt"
   ]
  },
  {
   "cell_type": "code",
   "execution_count": 46,
   "metadata": {},
   "outputs": [
    {
     "data": {
      "image/png": "[encoded data removed]",
      "text/plain": [
       "<Figure size 720x360 with 1 Axes>"
      ]
     },
     "metadata": {
      "needs_background": "light"
     },
     "output_type": "display_data"
    }
   ],
   "source": [
    "# Histogram showing Licence Types\n",
    "\n",
    "plt.figure(figsize=(10,5))\n",
    "plt.hist(lt, bins=5)\n",
    "plt.xlabel('Licence Type')\n",
    "plt.show()"
   ]
  },
  {
   "cell_type": "code",
   "execution_count": 47,
   "metadata": {},
   "outputs": [
    {
     "data": {
      "text/plain": [
       "<seaborn.axisgrid.FacetGrid at 0x23177e9d8d0>"
      ]
     },
     "execution_count": 47,
     "metadata": {},
     "output_type": "execute_result"
    },
    {
     "data": {
      "image/png": "[encoded data removed]",
      "text/plain": [
       "<Figure size 499x216 with 2 Axes>"
      ]
     },
     "metadata": {
      "needs_background": "light"
     },
     "output_type": "display_data"
    }
   ],
   "source": [
    "\n",
    "# KDE plots of the tip distribution separated by Licence Type and fuel\n",
    "g = sns.FacetGrid(df, col=\"Licence_type\", hue=\"Fuel\") \n",
    "g.map(sns.distplot, \"Year\")\n",
    "g.add_legend() \n",
    "g.set(alpha=.5)"
   ]
  },
  {
   "cell_type": "markdown",
   "metadata": {},
   "source": [
    "92% of licences held in Ireland were full with the remaining 8% provisional.  Learners tended to prefer petrol engines between 2004 and 2008 models approximately.  Similar to the gender spread, there was an almost even number of diesel and petrol split in the full licence category.  "
   ]
  },
  {
   "cell_type": "markdown",
   "metadata": {},
   "source": [
    "### Mileage"
   ]
  },
  {
   "cell_type": "code",
   "execution_count": 48,
   "metadata": {},
   "outputs": [
    {
     "data": {
      "text/plain": [
       "Text(0.5, 1.0, 'Mileage')"
      ]
     },
     "execution_count": 48,
     "metadata": {},
     "output_type": "execute_result"
    },
    {
     "data": {
      "image/png": "[encoded data removed]",
      "text/plain": [
       "<Figure size 432x288 with 1 Axes>"
      ]
     },
     "metadata": {
      "needs_background": "light"
     },
     "output_type": "display_data"
    }
   ],
   "source": [
    "#df.Mileage\n",
    "plt.plot(df.Mileage) # Plot the spread of Mileage\n",
    "plt.ylabel(\"Mileage\") # name the y label\n",
    "plt.title(\"Mileage\") # give the plot a title"
   ]
  },
  {
   "cell_type": "code",
   "execution_count": null,
   "metadata": {},
   "outputs": [],
   "source": []
  },
  {
   "cell_type": "code",
   "execution_count": null,
   "metadata": {},
   "outputs": [],
   "source": []
  },
  {
   "cell_type": "code",
   "execution_count": 49,
   "metadata": {},
   "outputs": [
    {
     "data": {
      "image/png": "[encoded data removed]",
      "text/plain": [
       "<Figure size 864x576 with 1 Axes>"
      ]
     },
     "metadata": {},
     "output_type": "display_data"
    }
   ],
   "source": [
    "plt.figure(figsize=(12,8), facecolor='w', edgecolor='k', clear='True')\n",
    "plt.hist(df.Mileage,  bins=50)\n",
    "plt.xlabel(\"Mileage\")\n",
    "plt.show()"
   ]
  },
  {
   "cell_type": "code",
   "execution_count": 50,
   "metadata": {},
   "outputs": [
    {
     "data": {
      "image/png": "[encoded data removed]",
      "text/plain": [
       "<Figure size 720x432 with 1 Axes>"
      ]
     },
     "metadata": {
      "needs_background": "light"
     },
     "output_type": "display_data"
    }
   ],
   "source": [
    "\n",
    "# A KDE plot is a lot like a histogram, it estimates the probability density of a continuous variable.\n",
    "plt.figure(figsize=(10,6))\n",
    "sns.kdeplot(df['Mileage'], label='Mileage')\n",
    "plt.xlabel('Mileage')\n",
    "plt.ylabel('Probability Density')\n",
    "plt.title('Probability density plot of the Mileage')\n",
    "plt.show()"
   ]
  },
  {
   "cell_type": "code",
   "execution_count": 51,
   "metadata": {},
   "outputs": [
    {
     "data": {
      "text/plain": [
       "<seaborn.axisgrid.JointGrid at 0x2317804a470>"
      ]
     },
     "execution_count": 51,
     "metadata": {},
     "output_type": "execute_result"
    },
    {
     "data": {
      "image/png": "[encoded data removed]",
      "text/plain": [
       "<Figure size 432x432 with 3 Axes>"
      ]
     },
     "metadata": {
      "needs_background": "light"
     },
     "output_type": "display_data"
    }
   ],
   "source": [
    "g = sns.JointGrid(x=\"Year\", y=\"Mileage\", data=df) \n",
    "g.plot_joint(sns.regplot, order=2) \n",
    "g.plot_marginals(sns.distplot)"
   ]
  },
  {
   "cell_type": "code",
   "execution_count": null,
   "metadata": {},
   "outputs": [],
   "source": []
  },
  {
   "cell_type": "code",
   "execution_count": 52,
   "metadata": {},
   "outputs": [
    {
     "data": {
      "text/plain": [
       "<seaborn.axisgrid.FacetGrid at 0x2317918eb70>"
      ]
     },
     "execution_count": 52,
     "metadata": {},
     "output_type": "execute_result"
    },
    {
     "data": {
      "image/png": "[encoded data removed]",
      "text/plain": [
       "<Figure size 504.625x216 with 2 Axes>"
      ]
     },
     "metadata": {
      "needs_background": "light"
     },
     "output_type": "display_data"
    }
   ],
   "source": [
    "# KDE plots of the tip distribution separated by Fuel type and sex\n",
    "g = sns.FacetGrid(df, col=\"Fuel\", hue=\"Sex\") \n",
    "g.map(sns.distplot, \"Mileage\")\n",
    "g.add_legend() \n",
    "g.set(alpha=.5)"
   ]
  },
  {
   "cell_type": "markdown",
   "metadata": {},
   "source": [
    "For lower mileage, more females tended to go for petrol engines compared to males.    "
   ]
  },
  {
   "cell_type": "code",
   "execution_count": 53,
   "metadata": {},
   "outputs": [
    {
     "data": {
      "text/plain": [
       "<seaborn.axisgrid.FacetGrid at 0x231794014e0>"
      ]
     },
     "execution_count": 53,
     "metadata": {},
     "output_type": "execute_result"
    },
    {
     "data": {
      "image/png": "[encoded data removed]",
      "text/plain": [
       "<Figure size 440x216 with 2 Axes>"
      ]
     },
     "metadata": {
      "needs_background": "light"
     },
     "output_type": "display_data"
    }
   ],
   "source": [
    "# KDE plots of the tip distribution separated by Fuel Type\n",
    "g = sns.FacetGrid(df, col=\"Fuel\") \n",
    "g.map(sns.distplot, \"Mileage\")\n",
    "g.add_legend() \n",
    "g.set(alpha=.5)"
   ]
  },
  {
   "cell_type": "code",
   "execution_count": 54,
   "metadata": {},
   "outputs": [
    {
     "data": {
      "text/plain": [
       "<seaborn.axisgrid.FacetGrid at 0x23179550518>"
      ]
     },
     "execution_count": 54,
     "metadata": {},
     "output_type": "execute_result"
    },
    {
     "data": {
      "image/png": "[encoded data removed]",
      "text/plain": [
       "<Figure size 523.625x216 with 2 Axes>"
      ]
     },
     "metadata": {
      "needs_background": "light"
     },
     "output_type": "display_data"
    }
   ],
   "source": [
    "# KDE plots of the tip distribution separated by Fuel Type  and Status\n",
    "g = sns.FacetGrid(df, col=\"Fuel\", hue = \"Status\") \n",
    "g.map(sns.distplot, \"Mileage\")\n",
    "g.add_legend() \n",
    "g.set(alpha=.5)"
   ]
  },
  {
   "cell_type": "code",
   "execution_count": 55,
   "metadata": {},
   "outputs": [
    {
     "data": {
      "image/png": "[encoded data removed]",
      "text/plain": [
       "<Figure size 432x288 with 1 Axes>"
      ]
     },
     "metadata": {},
     "output_type": "display_data"
    }
   ],
   "source": [
    "sns.set_style(\"whitegrid\")\n",
    "sns.boxplot(x=\"Year\", y=\"Mileage\", data = df)\n",
    "sns.despine()\n",
    "plt.show()"
   ]
  },
  {
   "cell_type": "code",
   "execution_count": null,
   "metadata": {},
   "outputs": [],
   "source": []
  },
  {
   "cell_type": "markdown",
   "metadata": {},
   "source": [
    "Using box plots to look at the total bill but able to see the minimum, first quartile, median, third quartile, and maximum. Shows outliers and what their values are.  The above has a lot of information.  Just taking 2007 as an example, the median mileage for that year was approximately 76,000km, which is indicated by the thick black line just above the 75000 mark.  The green shaded area begins with the first quartile.  The top of the rectangle is the third quartile.  The median separates the upper half from the lower half.  If all the values within the dataset are laid out in order the one in the middle is the median. The first quartile is the median of the values before the median detailed in the lines above here. The third quartile is the median of the values of the area above the median. The interquartile Range begins at the first quartile and ends at the third quartile, taking in the median.  The diamond shapes in some of the years are known as an outliner."
   ]
  },
  {
   "cell_type": "code",
   "execution_count": 56,
   "metadata": {},
   "outputs": [
    {
     "data": {
      "image/png": "[encoded data removed]",
      "text/plain": [
       "<Figure size 432x288 with 4 Axes>"
      ]
     },
     "metadata": {},
     "output_type": "display_data"
    },
    {
     "data": {
      "image/png": "[encoded data removed]",
      "text/plain": [
       "<Figure size 432x288 with 2 Axes>"
      ]
     },
     "metadata": {},
     "output_type": "display_data"
    }
   ],
   "source": [
    "\n",
    "# box plots\n",
    "# Graphs for the Year and Mileage\n",
    "df.plot(kind='box', subplots=True, layout=(2,2), sharex=False, sharey=False)\n",
    "plt.show()\n",
    "\n",
    "# histograms \n",
    "df.hist()\n",
    "plt.show()\n",
    "\n"
   ]
  },
  {
   "cell_type": "markdown",
   "metadata": {},
   "source": [
    "The median year is approximately 2007 and median mileage is approximately 75,000km.  "
   ]
  },
  {
   "cell_type": "markdown",
   "metadata": {},
   "source": [
    "### Service"
   ]
  },
  {
   "cell_type": "code",
   "execution_count": 57,
   "metadata": {},
   "outputs": [
    {
     "data": {
      "text/plain": [
       "array(['Yes', 'No', 'Yes', 'Yes', 'Yes', 'Yes', 'Yes', 'Yes', 'No', 'Yes',\n",
       "       'Yes', 'Yes', 'Yes', 'No', 'Yes', 'Yes', 'Yes', 'Yes', 'No', 'Yes',\n",
       "       'Yes', 'No', 'Yes', 'Yes', 'Yes', 'No', 'Yes', 'No', 'No', 'No',\n",
       "       'Yes', 'No', 'Yes', 'Yes', 'Yes', 'Yes', 'Yes', 'No', 'No', 'Yes',\n",
       "       'Yes', 'No', 'Yes', 'No', 'No', 'No', 'Yes', 'Yes', 'Yes', 'Yes',\n",
       "       'Yes', 'No', 'Yes', 'Yes', 'No', 'Yes', 'Yes', 'Yes', 'Yes', 'No',\n",
       "       'Yes', 'No', 'No', 'Yes', 'Yes', 'No', 'Yes', 'Yes', 'Yes', 'No',\n",
       "       'Yes', 'Yes', 'Yes', 'Yes', 'Yes', 'Yes', 'Yes', 'Yes', 'Yes',\n",
       "       'Yes', 'Yes', 'No', 'No', 'Yes', 'Yes', 'Yes', 'Yes', 'Yes', 'Yes',\n",
       "       'No', 'Yes', 'Yes', 'No', 'No', 'No', 'Yes', 'No', 'Yes', 'Yes',\n",
       "       'Yes', 'No', 'Yes', 'No', 'No', 'Yes', 'Yes', 'Yes', 'No', 'No',\n",
       "       'Yes', 'Yes', 'Yes', 'Yes', 'Yes', 'Yes', 'Yes', 'No', 'Yes',\n",
       "       'Yes', 'Yes', 'Yes', 'Yes', 'Yes', 'Yes', 'Yes', 'No', 'Yes', 'No',\n",
       "       'Yes', 'No', 'Yes', 'Yes', 'Yes', 'Yes', 'No', 'Yes', 'Yes', 'Yes',\n",
       "       'Yes', 'No', 'Yes', 'Yes', 'Yes', 'Yes', 'Yes', 'Yes', 'Yes',\n",
       "       'Yes', 'Yes', 'Yes', 'Yes', 'Yes', 'Yes', 'Yes', 'No', 'Yes',\n",
       "       'Yes', 'Yes', 'No', 'Yes', 'Yes', 'Yes', 'Yes', 'Yes', 'Yes',\n",
       "       'Yes', 'Yes', 'Yes', 'Yes', 'No', 'No', 'Yes', 'No', 'No', 'Yes',\n",
       "       'Yes', 'Yes', 'Yes', 'No', 'Yes', 'Yes', 'Yes', 'Yes', 'Yes',\n",
       "       'Yes', 'Yes', 'Yes', 'No', 'Yes', 'Yes', 'Yes', 'No', 'Yes', 'No',\n",
       "       'No', 'Yes', 'Yes', 'Yes', 'Yes', 'No', 'No', 'No', 'Yes', 'No',\n",
       "       'Yes', 'Yes', 'No', 'Yes', 'Yes', 'Yes', 'No', 'No', 'Yes', 'Yes',\n",
       "       'Yes', 'Yes', 'Yes', 'No', 'Yes', 'Yes', 'Yes', 'Yes', 'Yes',\n",
       "       'Yes', 'No', 'Yes', 'Yes', 'No', 'No', 'No', 'Yes', 'Yes', 'Yes',\n",
       "       'Yes', 'Yes', 'Yes', 'Yes', 'No', 'No', 'Yes', 'Yes', 'Yes', 'Yes',\n",
       "       'Yes', 'No', 'No', 'No', 'Yes', 'Yes', 'Yes', 'Yes', 'No', 'Yes',\n",
       "       'Yes', 'Yes', 'Yes', 'No', 'No', 'Yes', 'No', 'Yes', 'Yes', 'Yes',\n",
       "       'Yes', 'Yes', 'No', 'Yes', 'Yes', 'Yes', 'Yes', 'No', 'No', 'Yes',\n",
       "       'Yes', 'Yes', 'Yes', 'Yes', 'Yes', 'Yes', 'No', 'Yes', 'Yes',\n",
       "       'Yes', 'No', 'Yes', 'Yes', 'No', 'No', 'Yes', 'Yes', 'Yes', 'Yes',\n",
       "       'Yes', 'No', 'No', 'Yes', 'Yes', 'Yes', 'No', 'Yes', 'No', 'Yes',\n",
       "       'No', 'No', 'Yes', 'Yes', 'Yes', 'No', 'No', 'No', 'Yes', 'No',\n",
       "       'Yes', 'Yes', 'Yes', 'No', 'Yes', 'Yes', 'Yes', 'Yes', 'No', 'Yes',\n",
       "       'Yes', 'Yes', 'No', 'Yes', 'Yes', 'No', 'Yes', 'Yes', 'Yes', 'Yes',\n",
       "       'Yes', 'Yes', 'Yes', 'Yes', 'Yes', 'Yes', 'No', 'Yes', 'Yes', 'No',\n",
       "       'No', 'Yes', 'No', 'No', 'Yes', 'Yes', 'Yes', 'Yes', 'No', 'No',\n",
       "       'Yes', 'Yes', 'No', 'Yes', 'Yes', 'No', 'Yes', 'Yes', 'No', 'Yes',\n",
       "       'No', 'Yes', 'No', 'Yes', 'Yes', 'Yes', 'No', 'No', 'Yes', 'No',\n",
       "       'Yes', 'Yes', 'Yes', 'Yes', 'Yes', 'No', 'No', 'No', 'No', 'Yes',\n",
       "       'No', 'Yes', 'No', 'Yes', 'Yes', 'Yes', 'Yes', 'Yes', 'Yes', 'No',\n",
       "       'Yes', 'Yes', 'No', 'Yes', 'No', 'Yes', 'No', 'No', 'Yes', 'Yes',\n",
       "       'Yes', 'Yes', 'Yes', 'No', 'Yes', 'Yes', 'No', 'Yes', 'No', 'Yes',\n",
       "       'Yes', 'No', 'Yes', 'No', 'Yes', 'Yes', 'Yes', 'No', 'Yes', 'Yes',\n",
       "       'Yes', 'Yes', 'Yes', 'No', 'No', 'No', 'Yes', 'Yes', 'Yes', 'Yes',\n",
       "       'No', 'Yes', 'No', 'No', 'No', 'Yes', 'Yes', 'Yes', 'Yes', 'Yes',\n",
       "       'Yes', 'Yes', 'No', 'No', 'Yes', 'No', 'Yes', 'Yes', 'Yes', 'Yes',\n",
       "       'Yes', 'No', 'No', 'Yes', 'Yes', 'Yes', 'No', 'No', 'No', 'No',\n",
       "       'Yes', 'Yes', 'Yes', 'Yes', 'Yes', 'Yes', 'Yes', 'Yes', 'No',\n",
       "       'Yes', 'Yes', 'No', 'No', 'No', 'Yes', 'Yes', 'Yes', 'Yes', 'Yes',\n",
       "       'No', 'Yes', 'No', 'No', 'Yes', 'Yes', 'No', 'No', 'Yes', 'Yes',\n",
       "       'No', 'Yes', 'No', 'No', 'No', 'Yes', 'No', 'Yes', 'No'],\n",
       "      dtype='<U3')"
      ]
     },
     "execution_count": 57,
     "metadata": {},
     "output_type": "execute_result"
    }
   ],
   "source": [
    "ser= np.random.choice(Service, 500, p=[0.67, 0.33])\n",
    "ser"
   ]
  },
  {
   "cell_type": "code",
   "execution_count": 58,
   "metadata": {},
   "outputs": [
    {
     "data": {
      "image/png": "[encoded data removed]",
      "text/plain": [
       "<Figure size 720x360 with 1 Axes>"
      ]
     },
     "metadata": {},
     "output_type": "display_data"
    }
   ],
   "source": [
    "# Histogram showing the difference in the levels of cars that got a service prior to NCT\n",
    "\n",
    "plt.figure(figsize=(10,5))\n",
    "plt.hist(ser, bins=5)\n",
    "plt.xlabel('Service')\n",
    "plt.show()"
   ]
  },
  {
   "cell_type": "code",
   "execution_count": 59,
   "metadata": {},
   "outputs": [
    {
     "data": {
      "image/png": "[encoded data removed]",
      "text/plain": [
       "<Figure size 864x432 with 2 Axes>"
      ]
     },
     "metadata": {},
     "output_type": "display_data"
    }
   ],
   "source": [
    "(df.pipe(sns.FacetGrid, \n",
    "       col='Service', \n",
    "       col_wrap=4, \n",
    "       aspect=.5, \n",
    "       height=6)\n",
    " .map(plt.scatter, 'Year', 'Mileage', s=20)\n",
    " .fig.subplots_adjust(wspace=.2, hspace=.2)\n",
    ")\n"
   ]
  },
  {
   "cell_type": "markdown",
   "metadata": {},
   "source": [
    "A lot more cars received servicing prior to the nct than did not. The 2003/04 the car with the most mileage (200000) did not receive a service. "
   ]
  },
  {
   "cell_type": "code",
   "execution_count": 60,
   "metadata": {},
   "outputs": [
    {
     "data": {
      "text/plain": [
       "<seaborn.axisgrid.FacetGrid at 0x23179296b70>"
      ]
     },
     "execution_count": 60,
     "metadata": {},
     "output_type": "execute_result"
    },
    {
     "data": {
      "image/png": "[encoded data removed]",
      "text/plain": [
       "<Figure size 701.25x216 with 3 Axes>"
      ]
     },
     "metadata": {},
     "output_type": "display_data"
    }
   ],
   "source": [
    "\n",
    "# KDE plots of the tip distribution separated by day and sex\n",
    "g = sns.FacetGrid(df, col=\"Status\", hue=\"Service\") \n",
    "g.map(sns.distplot, \"Year\")\n",
    "g.add_legend() \n",
    "g.set(alpha=.5)"
   ]
  },
  {
   "cell_type": "markdown",
   "metadata": {},
   "source": [
    "A lot of the cars around 2005 to 2008 approximately whose owners didnt service failed the nct.  The shape of distribution for both fail and pass are quite similar.  The interesting part here is the incomplete section.  All of the ones which did not finish the test had services.  I am very surprised by this. I would have expected it to be mostly cars which had not been serviced before hand."
   ]
  },
  {
   "cell_type": "markdown",
   "metadata": {},
   "source": [
    "### Expected"
   ]
  },
  {
   "cell_type": "code",
   "execution_count": 61,
   "metadata": {},
   "outputs": [
    {
     "data": {
      "text/plain": [
       "0      Pass\n",
       "1      Fail\n",
       "2      Pass\n",
       "3      Fail\n",
       "4      Fail\n",
       "5      Pass\n",
       "6      Pass\n",
       "7      Fail\n",
       "8      Pass\n",
       "9      Pass\n",
       "10     Fail\n",
       "11     Fail\n",
       "12     Pass\n",
       "13     Pass\n",
       "14     Fail\n",
       "15     Pass\n",
       "16     Pass\n",
       "17     Fail\n",
       "18     Pass\n",
       "19     Fail\n",
       "20     Fail\n",
       "21     Fail\n",
       "22     Pass\n",
       "23     Pass\n",
       "24     Pass\n",
       "25     Fail\n",
       "26     Pass\n",
       "27     Fail\n",
       "28     Fail\n",
       "29     Fail\n",
       "       ... \n",
       "470    Fail\n",
       "471    Fail\n",
       "472    Fail\n",
       "473    Fail\n",
       "474    Pass\n",
       "475    Fail\n",
       "476    Pass\n",
       "477    Pass\n",
       "478    Pass\n",
       "479    Pass\n",
       "480    Fail\n",
       "481    Pass\n",
       "482    Fail\n",
       "483    Pass\n",
       "484    Fail\n",
       "485    Fail\n",
       "486    Pass\n",
       "487    Pass\n",
       "488    Fail\n",
       "489    Pass\n",
       "490    Fail\n",
       "491    Fail\n",
       "492    Fail\n",
       "493    Fail\n",
       "494    Pass\n",
       "495    Fail\n",
       "496    Pass\n",
       "497    Pass\n",
       "498    Fail\n",
       "499    Fail\n",
       "Length: 500, dtype: object"
      ]
     },
     "execution_count": 61,
     "metadata": {},
     "output_type": "execute_result"
    }
   ],
   "source": [
    "expect= df.apply(lambda row: fun(row), axis=1)\n",
    "expect"
   ]
  },
  {
   "cell_type": "code",
   "execution_count": null,
   "metadata": {},
   "outputs": [],
   "source": []
  },
  {
   "cell_type": "code",
   "execution_count": 62,
   "metadata": {},
   "outputs": [
    {
     "data": {
      "text/plain": [
       "<matplotlib.axes._subplots.AxesSubplot at 0x231799c1860>"
      ]
     },
     "execution_count": 62,
     "metadata": {},
     "output_type": "execute_result"
    },
    {
     "data": {
      "image/png": "[encoded data removed]",
      "text/plain": [
       "<Figure size 432x288 with 1 Axes>"
      ]
     },
     "metadata": {},
     "output_type": "display_data"
    }
   ],
   "source": [
    "sns.countplot(expect, data=df)"
   ]
  },
  {
   "cell_type": "code",
   "execution_count": 63,
   "metadata": {},
   "outputs": [
    {
     "data": {
      "text/plain": [
       "<matplotlib.axes._subplots.AxesSubplot at 0x231799f4668>"
      ]
     },
     "execution_count": 63,
     "metadata": {},
     "output_type": "execute_result"
    },
    {
     "data": {
      "image/png": "[encoded data removed]",
      "text/plain": [
       "<Figure size 432x288 with 1 Axes>"
      ]
     },
     "metadata": {},
     "output_type": "display_data"
    }
   ],
   "source": [
    "sns.countplot(expect, hue='Year', data=df)"
   ]
  },
  {
   "cell_type": "code",
   "execution_count": 64,
   "metadata": {},
   "outputs": [
    {
     "data": {
      "text/plain": [
       "<matplotlib.axes._subplots.AxesSubplot at 0x23179ac37f0>"
      ]
     },
     "execution_count": 64,
     "metadata": {},
     "output_type": "execute_result"
    },
    {
     "data": {
      "image/png": "[encoded data removed]",
      "text/plain": [
       "<Figure size 432x288 with 1 Axes>"
      ]
     },
     "metadata": {},
     "output_type": "display_data"
    }
   ],
   "source": [
    "sns.countplot('Year', hue='Expected', data=df)"
   ]
  },
  {
   "cell_type": "markdown",
   "metadata": {},
   "source": [
    "The first half of the time series depicted above shows the expected fail at a higher rate than pass.  This changed for the 2008 models onwards.  May indicate that a higher level of newer cars are getting serviced prior to the nct and have all issues already addressed. Or probable lower mileage rates mean theres less wear and tear on cars and therefore in a better condition."
   ]
  },
  {
   "cell_type": "code",
   "execution_count": 66,
   "metadata": {},
   "outputs": [
    {
     "data": {
      "image/png": "[encoded data removed]",
      "text/plain": [
       "<Figure size 444.875x360 with 6 Axes>"
      ]
     },
     "metadata": {},
     "output_type": "display_data"
    }
   ],
   "source": [
    "sns.pairplot(df, hue=\"Status\", kind=\"Expected\")\n",
    "plt.show()"
   ]
  },
  {
   "cell_type": "code",
   "execution_count": 81,
   "metadata": {},
   "outputs": [
    {
     "data": {
      "text/plain": [
       "<seaborn.axisgrid.FacetGrid at 0x2310c037be0>"
      ]
     },
     "execution_count": 81,
     "metadata": {},
     "output_type": "execute_result"
    },
    {
     "data": {
      "image/png": "[encoded data removed]",
      "text/plain": [
       "<Figure size 516.875x216 with 2 Axes>"
      ]
     },
     "metadata": {},
     "output_type": "display_data"
    }
   ],
   "source": [
    "# KDE plots of the tip distribution separated by Status and Sex\n",
    "g = sns.FacetGrid(df, col=\"Sex\", hue=\"Status\") \n",
    "g.map(sns.distplot, \"Mileage\")\n",
    "g.add_legend() \n",
    "g.set(alpha=1)"
   ]
  },
  {
   "cell_type": "markdown",
   "metadata": {},
   "source": [
    "All of the incomplete cars belonged to males and mileage for them was between 10,000 km to 100,000 so the mileage was not very high.  overall cars owned by males tended to do larger amount of km with the total well over 250,000 compared to females who tend to peter out around 200,000.  More mileage may indicate a diesel car.  "
   ]
  },
  {
   "cell_type": "code",
   "execution_count": 82,
   "metadata": {},
   "outputs": [
    {
     "data": {
      "text/plain": [
       "<seaborn.axisgrid.FacetGrid at 0x2310c0a51d0>"
      ]
     },
     "execution_count": 82,
     "metadata": {},
     "output_type": "execute_result"
    },
    {
     "data": {
      "image/png": "[encoded data removed]",
      "text/plain": [
       "<Figure size 495.75x216 with 2 Axes>"
      ]
     },
     "metadata": {},
     "output_type": "display_data"
    }
   ],
   "source": [
    "# KDE plots of the tip distribution separated by Status and Sex\n",
    "g = sns.FacetGrid(df, col=\"Sex\", hue=\"Fuel\") \n",
    "g.map(sns.distplot, \"Mileage\")\n",
    "g.add_legend() \n",
    "g.set(alpha=1)"
   ]
  },
  {
   "cell_type": "markdown",
   "metadata": {},
   "source": [
    "Males tend to purchase more diesel cars than females, do more overall mileage but have slightly lower rates of nct failure but have all of the incompletes. "
   ]
  },
  {
   "cell_type": "code",
   "execution_count": 80,
   "metadata": {},
   "outputs": [
    {
     "data": {
      "text/plain": [
       "<seaborn.axisgrid.FacetGrid at 0x2310bdecb70>"
      ]
     },
     "execution_count": 80,
     "metadata": {},
     "output_type": "execute_result"
    },
    {
     "data": {
      "image/png": "[encoded data removed]",
      "text/plain": [
       "<Figure size 706.5x216 with 3 Axes>"
      ]
     },
     "metadata": {},
     "output_type": "display_data"
    }
   ],
   "source": [
    "\n",
    "# KDE plots of the tip distribution separated by Status and Expected\n",
    "g = sns.FacetGrid(df, col=\"Status\", hue=\"Expected\") \n",
    "g.map(sns.distplot, \"Year\")\n",
    "g.add_legend() \n",
    "g.set(alpha=.5)"
   ]
  },
  {
   "cell_type": "markdown",
   "metadata": {},
   "source": [
    "The year, fuel type and mileage do seem to have an effect on the final result.  The newer cars are more likely to pass the NCT on the first attempt as they have lower mileage.  Fuel type would have the effect that diesel cars do more travelling so higher mileage.  Servicing prior to the test does have a big impact also.  Using my own car as a control to measure my findings against this seems to hold true.  In 2013,  my car was 6 years old.  It was diesel and had average mileage for its age. It passed first time without a service prior to the NCT.  In 2015 it again passed first time.  However the next 3 tests did not pass the first time. As the mileage increased the rate of first time pass decreased. Again, there was no pre service any time."
   ]
  },
  {
   "cell_type": "markdown",
   "metadata": {},
   "source": [
    "Conclusion:\n",
    "\n",
    "I think the data I used was too text based and did not have enough numerical values.  I should have added in an age spread or converted the results for expected and status to 1 and 0 and then could have further analyised them.  This would have then allowed me to analyise any relationships between the variables to a better degree and then I could have applied it towards machine learning.  Unfortunately, I did not realise this until near the end of the project when the deadline was up, otherwise I would have redone it all.  The service column was interesing but only looked at services immediately prior to the nct.  I could have added in another variable which stated whether or not the car was regularly maintained.  This, I feel, would also have had a baring on the pass/fail rate.  I wasted a lot of time at the start importing the original database and tidying it up to then realise it probably wasn't even required but it was a good learning experience for future projects so I wouldn't count it as a total loss.  I have included it in the repository as that is where all my workings for the variables came from.  \n",
    "\n",
    "This was a very difficult project for me to do.  On the surface it seems straight forward but I overthought it a lot trying to decide what the brief wanted so I am not even sure if I fulfilled it. But it was very interesting to create a dataframe and factor in variables.  \n",
    "\n",
    "I will create another dataframe in my own time once I receive feedback from this and have a better idea what is required and what the finished project should look like.  \n",
    "\n",
    "I took in the comments from my last assignment and have changed the way I referenced items, used a larger sample size, deleted empty cells, used graphs to better show the text data, made more use of headings and all documentation is in notebook with the README only for instructions on how to run file."
   ]
  },
  {
   "cell_type": "code",
   "execution_count": null,
   "metadata": {},
   "outputs": [],
   "source": []
  },
  {
   "cell_type": "markdown",
   "metadata": {},
   "source": [
    "References\n",
    "\n",
    "[1] McGraw-Hill Concise Dictionary of Modern Medicine. © 2002 by The McGraw-Hill Companies, Inc.  Available at https://medical-dictionary.thefreedictionary.com/data+synthesis. Accessed 3rd December 2019.\n",
    "\n",
    "[2] Tirthajyoti Sarkar Dec 19, 2018, Synthetic data generation — a must-have skill for new data scientists, Stanford, MIT\n",
    "Available at https://towardsdatascience.com/synthetic-data-generation-a-must-have-skill-for-new-data-scientists-915896c0c1ae  Accessed 3rd December 2019.\n",
    "\n",
    "[3] Citizens Information, 2018, National Car Test. Available at https://www.citizensinformation.ie/en/travel_and_recreation/vehicle_standards/national_car_test.html Accessed 25th November 2019.\n",
    "\n",
    "[4] RSA/Commercial Vehicle Roadworthiness Testing.  About the CVRT.  Available at https://www.cvrt.ie/en/About-CVRT/Pages/What%20is%20the%20CVRT.aspx Accessed 25th November 2019.\n",
    "\n",
    "[5] NCT, Yearly Test Statistics.  Available at https://www.ncts.ie/1127. Accessed 20th November 2019.\n",
    "\n",
    "[6] Central Statistics Office,2018,  ROA10: National Car Test Results by Test Centre, Year and Statistic.  Available at https://statbank.cso.ie/px/pxeirestat/Statire/SelectVarVal/Define.asp?maintable=ROA10&PLanguage=   Accessed 20th November 2019.\n",
    "\n",
    "[7] RSA, NCT Statistics & Annual Reviews. Available at https://www.rsa.ie/RSA/Your-Vehicle/Your-Vehicle-/NCT-Statistics-/  Accessed 20th November 2019.\n",
    "\n",
    "[8] Central Statistice Office, 2018. ROA04: Current Full and Learner Permit Driving Licences by Age Group, Sex, Year and Statistic.  Available at https://statbank.cso.ie/px/pxeirestat/Statire/SelectVarVal/Define.asp?Maintable=ROA04&Planguage=0 Accessed 26th November 2019.\n",
    "\n",
    "[9] RSA, NCT Statistics & Annual Reviews. Available at https://www.rsa.ie/RSA/Your-Vehicle/Your-Vehicle-/NCT-Statistics-/  Accessed 20th November 2019.\n",
    "\n",
    "[10] Central Statistics Office, 2018.  THA17: Road Traffic Volumes by Fuel Type, County of Ownership, Year of Registration, Type of Vehicle, Year and Statistic Available at https://statbank.cso.ie/px/pxeirestat/Statire/SelectVarVal/Define.asp?maintable=THA17&PLanguage=0 Accessed 26th November 2019.\n",
    "\n",
    "[11] Central Statistics Office, 2018. ROA04: Current Full and Learner Permit Driving Licences by Age Group, Sex, Year and Statistic.  Available at https://statbank.cso.ie/px/pxeirestat/Statire/SelectVarVal/Define.asp?Maintable=ROA04&Planguage=0  Accessed 26th November 2019.\n",
    "\n",
    "[12] Central Statistics Office, 2018. TEA27: New and Secondhand Vehicles by Taxation Class, Type of Fuel and Year.  Available at https://statbank.cso.ie/px/pxeirestat/statire/SelectVarVal/Define.asp?Maintable=tea27&PLanguage=0  Accessed 26th November 2019.\n",
    "\n",
    "[13] RSA How does the pass/fail rates at NCT compare to the UK and Northern Ireland? Available at https://www.rsa.ie/Documents/Press%20Office/Note%20regarding%20the%20variances%20in%20Pass%20%20and%20fail%20rates%20at%20NCTS.pdf Accessed 26th November 2019.\n",
    "\n",
    "[14] Stackoverflow, Python, how to apply this formula to every line in the database so each line gives a different value rather than the same one for each year. 2019. Available at https://stackoverflow.com/questions/59181287/python-how-to-apply-this-formula-to-every-line-in-the-database-so-each-line-giv Accessed 4th December 2019.\n",
    "\n",
    "[15] Stackoverflow, Trying to create a predetermined answer from conditions relating to 2 other columns within a dataframe. 2019. Available at https://stackoverflow.com/questions/59268922/trying-to-create-a-predetermined-answer-from-conditions-relating-to-2-other-colu Accessed 11th December 2019.\n",
    "\n",
    "[16] Ritchie Ng, Changing Data Type in Pandas, 2017.  Available at https://www.ritchieng.com/pandas-changing-datatype/.  Accessed 6th December 2019.\n",
    "\n",
    "[17]  Stackoverflow, Python Pandas - Changing some column types to categories, 2015. Available at https://stackoverflow.com/questions/28910851/python-pandas-changing-some-column-types-to-categories  Accessed 8th December 2019.\n",
    "\n",
    "[18] Ben Keen, 2017, KDE and violin plots using seaborn. Available at http://benalexkeen.com/kde-and-violin-plots-using-seaborn/  Accessed 12th November 2019.\n",
    "\n",
    "[19] Adrian G, 2018, Pandas for time series data — tricks and tips.  Available at https://medium.com/@bingobee01/pandas-tricks-and-tips-a7b87c3748ea Accessed 25th November 2019.\n",
    "\n",
    "[20] Wikipedia, 2019, Hyundai Santa Fe. Available at https://en.wikipedia.org/wiki/Hyundai_Santa_Fe  Accessed 1st December 2019.\n",
    "\n",
    "[21] Diesel Information Hub, IS A DIESEL CHEAPER TO RUN THAN A PETROL?.  Available at https://dieselinformation.aecc.eu/is-a-diesel-cheaper-to-run-than-a-petrol/  Accessed 5th December 2019."
   ]
  },
  {
   "cell_type": "markdown",
   "metadata": {},
   "source": [
    "Additional Reading\n",
    "\n",
    "Stackoverflow, 2016, How to display full output in Jupyter, not only last result?.  Available at https://stackoverflow.com/questions/36786722/how-to-display-full-output-in-jupyter-not-only-last-result Accessed 26th November 2019.  Used when researching how to get all information for dataframe in one cell.\n",
    "\n",
    "Shubham Ranjan, Python | Creating a Pandas dataframe column based on a given condition. Available at https://www.geeksforgeeks.org/python-creating-a-pandas-dataframe-column-based-on-a-given-condition/ Accessed 3rd December 2019. Used when researching how to set milage variable in the dictionary.  \n",
    "\n",
    "\n",
    "Stackoverflow, How to get a random value from dictionary in python.  Available at https://stackoverflow.com/questions/4859292/how-to-get-a-random-value-from-dictionary-in-python Accessed 3rd December 2019. Used when researching how to set milage variable in the dictionary.  \n",
    "\n",
    "Brad Solomon, Python Histogram Plotting: NumPy, Matplotlib, Pandas & Seaborn, 2018.  Available from https://realpython.com/python-histograms/ Accessed 3rd December. Used to research plotting.\n",
    "\n",
    "Rohit Gupta, 2019, A Complete Python Seaborn Tutorial.  Available from https://www.c-sharpcorner.com/article/a-complete-python-seaborn-tutorial/.  Accessed 30th November 2019. Used when researching plotting.\n",
    "\n",
    "\n",
    "Seán McCárthaigh, 2019, Here are the cars most likely to pass the NCT - Hyundai Trajet owners look away now.  Available from https://www.thejournal.ie/nct-test-rates-4762569-Aug2019/.  Accessed 10th December 2019.\n",
    "\n"
   ]
  },
  {
   "cell_type": "code",
   "execution_count": null,
   "metadata": {},
   "outputs": [],
   "source": []
  },
  {
   "cell_type": "code",
   "execution_count": null,
   "metadata": {},
   "outputs": [],
   "source": []
  },
  {
   "cell_type": "code",
   "execution_count": null,
   "metadata": {},
   "outputs": [],
   "source": []
  },
  {
   "cell_type": "code",
   "execution_count": null,
   "metadata": {},
   "outputs": [],
   "source": []
  },
  {
   "cell_type": "code",
   "execution_count": null,
   "metadata": {},
   "outputs": [],
   "source": []
  }
 ],
 "metadata": {
  "kernelspec": {
   "display_name": "Python 3",
   "language": "python",
   "name": "python3"
  },
  "language_info": {
   "codemirror_mode": {
    "name": "ipython",
    "version": 3
   },
   "file_extension": ".py",
   "mimetype": "text/x-python",
   "name": "python",
   "nbconvert_exporter": "python",
   "pygments_lexer": "ipython3",
   "version": "3.7.1"
  }
 },
 "nbformat": 4,
 "nbformat_minor": 2
}
