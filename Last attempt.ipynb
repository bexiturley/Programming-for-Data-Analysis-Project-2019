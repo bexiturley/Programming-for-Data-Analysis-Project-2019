{
 "cells": [
  {
   "cell_type": "markdown",
   "metadata": {},
   "source": [
    "Programming for Data Analysis Project 2019\n",
    "\n",
    "The problem statement is to synthesise simulate a data set.  I looked up some definitions of syntheise to make sure I understood the requirements of the project.  It is a method that uses statistical techniques to combine results from different studies and obtain a quantitative estimate of the overall effect of a particular intervention or variable on a defined outcome—i.e., it is a statistical process for pooling data from many clinical trials to glean a clear answer. https://medical-dictionary.thefreedictionary.com/data+synthesis.  But there can be some cons.  Bias, potential for analytical sloppiness, lack of understanding of basic issues, failure to consider major covariates, and overstating the strengths and precision of the results from Segen's Medical Dictionary.\n",
    "\n",
    "When we were given the problem statement I decided to look into the National Car Testing statics.  My own one had recently had to under go one and while it failed the first time it passed the retest.  I started to wonder that if there was any correlation between the car year of manufacture, model and pass rate.  As the 2019 year data is incomplete I chose 2018 instead.  My car had also done the nct in 2018 and once again it had failed the original test but passed the retest.\n",
    "\n",
    "Compulsory car testing was introduced in Ireland in 2000 as part of an EU Directive that makes car testing compulsory in all member states. It is an offence to drive a car without displaying a National Car Testing Service disc, if the car is liable for testing. Offenders will face Class C fines, as well as penalty points.\n",
    "\n",
    "The test is called the National Car Test and is carried out on behalf of the Government by the National Car Testing Service Ltd (NCTS). The test is aimed at improving road safety and enhancing environmental protection. \n",
    "\n",
    "If a vehicle is over 4 years old it has to take a test.  From the vehicle being 4 years to under 10 years old it has to be tested every 2 years.  Once the vehicle gets to 10 years but less than 30, it then has to be tested every year.  Between 30 and 39 years old the vehicle must be tested every 2 years again and it can not be used for commercial purposes.  That would apply mostly to vintage cars that would be mostly for show only.  There are exemptions to the nct also.  Vehicles registered prior to 1st January 1980 so not need to be tested, cars permanently based on islands that are not connected to the mainland do not require testing and motor vehicles belonging to the Armed Forces, the Garda Síochána or the Fire Service are not subject to mandatory testing.\n",
    "\n",
    "https://www.citizensinformation.ie/en/travel_and_recreation/vehicle_standards/national_car_test.html\n",
    "\n",
    "The National Car Test is separate to the CVRT (Commercial Vehicle Roadworthiness Test), which was formerly known as DoE (Department of Environment) Test.  The Commercial Vehicle Roadworthiness Test (CVRT) is a roadworthiness test for all commercial vehicles, buses with more than eight passenger seats and ambulances, all over one year old.  There are two types of commercial vehicle tests, one for Light Commercial Vehicles (LCVs) and one for Heavy Commercial Vehicles (HCVs).\n",
    " \n",
    "The LCV test is for:\n",
    "all small goods vehicles with a gross vehicle weight (GVW) of 3,500 kg or less\n",
    "\n",
    "The HCV test covers all other commercial vehicles including:\n",
    "goods vehicles over 3,500 kg GVW\n",
    "goods trailers over 3,500 kg GVW\n",
    "buses with more than eight passenger seats\n",
    "ambulances\n",
    "\n",
    "https://www.cvrt.ie/en/About-CVRT/Pages/What%20is%20the%20CVRT.aspx\n",
    "\n",
    "\n",
    "\n",
    "\n"
   ]
  },
  {
   "cell_type": "markdown",
   "metadata": {},
   "source": [
    "Initially, I began by looking at the the nct.ie to see what information was available.  There was a section on statistics which had the pass, fail refusal and fail dangerous rated for 2018.  https://www.ncts.ie/1127\n",
    "This was interesting but I wanted to see if a particular make/model out performed the rest of them or were they all broadly similar.  I then looked into the central statistics office statbank which not only provided the figures of pass/fail rates, it also broke them down by each centre. https://statbank.cso.ie/px/pxeirestat/Statire/SelectVarVal/Define.asp?maintable=ROA10&PLanguage=0  \n",
    "\n",
    "This was very interesting but still not what I was looking for.  I then went to the RSA website which had the information I was looking for. https://www.rsa.ie/RSA/Your-Vehicle/Your-Vehicle-/NCT-Statistics-/\n",
    "\n",
    "https://statbank.cso.ie/px/pxeirestat/Statire/SelectVarVal/saveselections.asp Female and male full and provisional licences\n",
    "\n",
    "Before I even begin to look at the data there are some assumptions I have.  It will be interesting to see how it will turn out.  First, I expect that the newer cars will have a much higher pass rate than older ones.  I expect about half to fail the first time but the majority then pass the second time.  I expect of the ones which fail initially about 10% will be listed as fail dangerous.  This is based soley on my own observations from takling to my family and friends over the last few years."
   ]
  },
  {
   "cell_type": "markdown",
   "metadata": {},
   "source": [
    "Pass Rates\n",
    "\n",
    "From the information provided by the RSA for 2018 over all there was approximately a 49% pass rate, 50% fail and 1% incomplete. Within all years of Hyundai Santa Fe's it changed to an approximate 36% pass, 63% fail and 1% incomplete rate. I have factored this in when creating my data.  This information is available from https://www.rsa.ie/RSA/Your-Vehicle/Your-Vehicle-/NCT-Statistics-/\n"
   ]
  },
  {
   "cell_type": "markdown",
   "metadata": {},
   "source": [
    "Year\n",
    "\n",
    "I took all the years available from the original csv file.  The cars tested began in 2001 and went up to 2015. "
   ]
  },
  {
   "cell_type": "markdown",
   "metadata": {},
   "source": [
    "Fuel Type\n",
    "\n",
    "There are two types of fuel which concern this dataset. Diesel and petrol.  I will have to add this variable as it is not included.  I again used statbank and got the breakdown for them. The information doesn not exist prior to 2010 and I only go up to 2015 for the nct so that is all I will import.  I plan to get a rough idea on the breakdown and apply it to my database.  I sourced this information from https://statbank.cso.ie/px/pxeirestat/statire/SelectVarVal/saveselections.asp\n"
   ]
  },
  {
   "cell_type": "markdown",
   "metadata": {},
   "source": [
    "Sex\n",
    "\n",
    "I obtained the 2018 information from https://statbank.cso.ie/px/pxeirestat/Statire/SelectVarVal/saveselections.asp From the above it can be seen that 53% of males and 47% of females held full driving licences. The provisional licences were more evenly split with approximately 50% of each sexes. Overall, 92% of licences held in 2018 were Full and 8% were Provisional."
   ]
  },
  {
   "cell_type": "markdown",
   "metadata": {},
   "source": [
    "Mileage\n",
    "\n",
    "Another variable I will add to my data is mileage and it will be split between petrol and diesel. I sourced the information from https://statbank.cso.ie/px/pxeirestat/Statire/SelectVarVal/saveselections.asp and tidyied it up to suit my requirements as I think total mileage will have an effect on the pass/fail rate. The average km per year over a 14 year period (The information only goes to 2015 at the moment) for a petrol car is 13,489 and diesel is 19,598."
   ]
  },
  {
   "cell_type": "markdown",
   "metadata": {},
   "source": [
    "Service\n",
    "\n",
    "There was an addendum to the nct data which stated \"Another factor that is relevant is that an estimated 1/3 of customers do not service their cars before testing\" This had an effect on the pass rates with \"the failure rate of these is, on average 11% higher than those that have been serviced ahead of the test.\"  I have created a column within the data set to reflect the third who have not serviced it.  I have yet to figure out how to add in the 11% increase in failure rate that this leads to.  \n",
    "\n"
   ]
  },
  {
   "cell_type": "code",
   "execution_count": null,
   "metadata": {},
   "outputs": [],
   "source": []
  },
  {
   "cell_type": "code",
   "execution_count": null,
   "metadata": {},
   "outputs": [],
   "source": []
  },
  {
   "cell_type": "markdown",
   "metadata": {},
   "source": [
    "Import the data, libraries and rearrange."
   ]
  },
  {
   "cell_type": "code",
   "execution_count": 237,
   "metadata": {},
   "outputs": [],
   "source": [
    "# Import all required libraries\n",
    "\n",
    "\n",
    "#Import libraries needed\n",
    "import numpy as np\n",
    "import pandas as pd\n",
    "import matplotlib.pyplot as plt\n",
    "import seaborn as sns\n",
    "from scipy import stats\n",
    "\n",
    "%matplotlib inline"
   ]
  },
  {
   "cell_type": "code",
   "execution_count": 238,
   "metadata": {},
   "outputs": [
    {
     "data": {
      "text/plain": [
       "'C:\\\\Users\\\\Rebecca\\\\Desktop\\\\Prog Data 2019\\\\Programming-for-Data-Analysis-Project-2019'"
      ]
     },
     "execution_count": 238,
     "metadata": {},
     "output_type": "execute_result"
    }
   ],
   "source": [
    "pwd"
   ]
  },
  {
   "cell_type": "code",
   "execution_count": 239,
   "metadata": {},
   "outputs": [],
   "source": [
    "import os\n",
    "import csv"
   ]
  },
  {
   "cell_type": "code",
   "execution_count": null,
   "metadata": {},
   "outputs": [],
   "source": []
  },
  {
   "cell_type": "code",
   "execution_count": 240,
   "metadata": {},
   "outputs": [],
   "source": [
    "#import csv -  I used this method as when I loaded it originally it was throwing up an error. I eventually realised it was a few lines of text which was at the start of the file.  I deleted it and the error message went.\n",
    "# https://github.com/llSourcell/tensorflow_chatbot/issues/17\n",
    "#df = pd.read_csv(r\"C:/Users/Rebecca/Desktop/Prog Data 2019/Programming-for-Data-Analysis-Project-2019/nct18.csv\", delimiter = ',' , encoding = 'unicode_escape')\n",
    "#print (df)"
   ]
  },
  {
   "cell_type": "markdown",
   "metadata": {},
   "source": [
    "There are two methods demonstrated here to create a data frame.  One is to create it at once in its entirety and the other is to build it cell by cell.  I prefer this method as it is tidyier but have included the other also as a demonstration and a revision method for myself.  Both dataframes have the same information.  The all in once cell dataframe is labelled as df5 and the cell by cell one is simply df.\n",
    "\n",
    "Create Data Frame"
   ]
  },
  {
   "cell_type": "code",
   "execution_count": 288,
   "metadata": {},
   "outputs": [
    {
     "name": "stdout",
     "output_type": "stream",
     "text": [
      "     Year    Fuel      Status     Sex Service Licence_type  Mileage Expected\n",
      "0    2004  Diesel        Fail  Female     Yes         Full    22834     Pass\n",
      "1    2004  Petrol        Pass    Male     Yes         Full   158411     Fail\n",
      "2    2007  Diesel        Pass    Male      No         Full    54573     Fail\n",
      "3    2004  Diesel        Fail    Male     Yes         Full   148324     Fail\n",
      "4    2005  Petrol        Pass    Male      No         Full   122241     Fail\n",
      "5    2007  Diesel        Fail  Female     Yes         Full   114549     Fail\n",
      "6    2005  Diesel        Fail    Male     Yes         Full    10504     Pass\n",
      "7    2006  Diesel        Fail  Female      No         Full    79952     Fail\n",
      "8    2007  Diesel        Pass  Female     Yes         Full   132053     Fail\n",
      "9    2007  Diesel        Fail  Female     Yes      Learner    28148     Pass\n",
      "10   2007  Petrol        Fail    Male      No      Learner    27712     Fail\n",
      "11   2006  Petrol  Incomplete  Female     Yes         Full   135891     Fail\n",
      "12   2005  Diesel        Pass  Female      No         Full   138148     Fail\n",
      "13   2006  Diesel        Fail  Female      No         Full    75900     Fail\n",
      "14   2005  Diesel        Fail  Female     Yes         Full   162713     Fail\n",
      "15   2006  Diesel        Pass  Female      No         Full    60053     Fail\n",
      "16   2006  Diesel        Fail  Female     Yes         Full    82613     Pass\n",
      "17   2007  Diesel        Fail  Female     Yes         Full   141901     Fail\n",
      "18   2006  Diesel        Fail  Female     Yes         Full   118458     Fail\n",
      "19   2005  Petrol        Pass    Male     Yes         Full    10852     Pass\n",
      "20   2007  Diesel        Fail    Male     Yes         Full   101588     Fail\n",
      "21   2006  Diesel        Fail    Male      No         Full    82416     Fail\n",
      "22   2007  Petrol        Fail    Male     Yes         Full   115547     Fail\n",
      "23   2003  Diesel        Fail    Male     Yes         Full     8306     Pass\n",
      "24   2006  Petrol        Pass  Female     Yes         Full   119806     Fail\n",
      "25   2004  Petrol        Fail    Male     Yes         Full    67653     Pass\n",
      "26   2006  Diesel        Pass  Female      No         Full    34883     Fail\n",
      "27   2008  Diesel        Pass    Male     Yes         Full    31704     Pass\n",
      "28   2007  Diesel        Fail    Male     Yes         Full    63490     Pass\n",
      "29   2006  Diesel        Pass    Male     Yes         Full    96600     Pass\n",
      "..    ...     ...         ...     ...     ...          ...      ...      ...\n",
      "470  2004  Diesel        Fail  Female      No         Full   125832     Fail\n",
      "471  2006  Petrol        Fail  Female     Yes         Full   137708     Fail\n",
      "472  2007  Diesel        Fail  Female     Yes         Full    82575     Pass\n",
      "473  2004  Diesel        Fail  Female      No         Full   163974     Fail\n",
      "474  2006  Diesel        Fail    Male      No         Full    90120     Fail\n",
      "475  2004  Diesel        Fail    Male     Yes         Full    30665     Pass\n",
      "476  2014  Diesel        Fail    Male     Yes         Full     9641     Pass\n",
      "477  2014  Diesel        Fail  Female     Yes      Learner     8163     Pass\n",
      "478  2007  Diesel        Fail    Male      No         Full    15828     Fail\n",
      "479  2006  Diesel        Fail    Male     Yes      Learner    57721     Pass\n",
      "480  2003  Diesel        Pass  Female     Yes         Full    38542     Pass\n",
      "481  2006  Petrol        Fail    Male     Yes      Learner   110093     Fail\n",
      "482  2007  Diesel        Fail    Male     Yes         Full    88945     Pass\n",
      "483  2014  Diesel        Pass    Male     Yes         Full    30395     Pass\n",
      "484  2005  Diesel        Pass    Male     Yes         Full    42467     Pass\n",
      "485  2014  Petrol        Pass  Female     Yes         Full     9171     Pass\n",
      "486  2010  Diesel        Fail    Male     Yes         Full    68691     Pass\n",
      "487  2007  Diesel        Pass  Female     Yes         Full    92287     Pass\n",
      "488  2003  Diesel        Pass    Male      No         Full   195861     Fail\n",
      "489  2014  Diesel        Fail    Male     Yes         Full    12753     Pass\n",
      "490  2014  Petrol        Fail    Male     Yes         Full    12641     Pass\n",
      "491  2007  Diesel        Pass    Male     Yes         Full   129740     Fail\n",
      "492  2015  Diesel        Pass    Male      No         Full    16209     Fail\n",
      "493  2007  Diesel        Pass    Male     Yes         Full   103619     Fail\n",
      "494  2006  Petrol        Pass    Male      No      Learner   109917     Fail\n",
      "495  2005  Petrol        Fail    Male      No         Full   101396     Fail\n",
      "496  2008  Petrol        Fail    Male     Yes         Full   103917     Fail\n",
      "497  2007  Diesel        Fail    Male      No      Learner    16860     Fail\n",
      "498  2008  Diesel        Fail    Male      No         Full   103709     Fail\n",
      "499  2014  Diesel        Fail    Male      No         Full     4768     Fail\n",
      "\n",
      "[500 rows x 8 columns]\n"
     ]
    }
   ],
   "source": [
    "\n",
    "# Create the data frame with some of the columns.\n",
    "df5 = pd.DataFrame(columns=[\"Year\", \"Fuel\", \"Status\", \"Sex\", \"Service\"])\n",
    "\n",
    "\n",
    "\n",
    "# Populate the data with the number of cars per year.\n",
    "df5[\"Year\"] = np.random.choice([\"2001\", \"2002\",\"2003\",\"2004\",\"2005\",\"2006\",\"2007\",\"2008\",\"2009\",2010,2011,2012,2013,2014,2015], p=[0.004, 0.02, 0.044, 0.087, 0.149, 0.187, 0.221, 0.091, 0.012, 0.031, 0.009, 0.036, 0.013, 0.083, 0.013], size=(500))\n",
    "\n",
    "\n",
    "# Create the fuel types\n",
    "fuel = [\"Petrol\", \"Diesel\"]\n",
    "\n",
    "# Populate the Fuel column with petrol and diesel, more diesel cars so do the weights accordingly.\n",
    "df5[\"Fuel\"] = np.random.choice(fuel, 500, p=[0.24, 0.76])\n",
    "\n",
    "\n",
    "\n",
    "# Create the status types\n",
    "status = [\"Pass\", \"Fail\", \"Incomplete\"]\n",
    "\n",
    "# Populate the status column with their different values.\n",
    "df5[\"Status\"] = np.random.choice(status, 500, p=[0.36, 0.63, 0.01])\n",
    "\n",
    "# Create the sexes\n",
    "sex = [\"Male\", \"Female\"]\n",
    "\n",
    "# Populate the column\n",
    "df5[\"Sex\"] = np.random.choice(sex, 500, p=[0.53, 0.47])\n",
    "\n",
    "# Create the licence_type categories\n",
    "Licence_Type = [\"Full\", \"Learner\"]\n",
    "\n",
    "# Populate it\n",
    "df5[\"Licence_type\"] = np.random.choice(Licence_Type, 500, p=[0.92, 0.08])\n",
    "\n",
    "# Define a function to map the mileage values.  I have calculated that the average mile for one year is 16544 and applied it for the newest model.  I have then increased it each year going backwards.  This will ensure that a 2002 car could have a higher mileage than a 2015.\n",
    "def set_value(row_number, assigned_value):\n",
    "    return np.random.randint(1,assigned_value[row_number])\n",
    "\n",
    "#Create the dictionary\n",
    "year_dictionary ={'2001' : 248160, '2002' : 231616, '2003' : 215072, \"2004\" : 198528, \"2005\" : 181984, \"2006\": 165440, \"2007\" : 148896, \"2008\" : 132352, \"2009\" :115808,\"2010\" :99264, \"2011\" :82720, \"2012\" :66176, \"2013\" :49632, \"2014\" :33088, \"2015\" :16544}\n",
    "\n",
    "df5[\"Mileage\"] = df5[\"Year\"].apply(set_value, args =(year_dictionary, )) \n",
    "\n",
    "# Create the service types (Prior to nct)\n",
    "Service = [\"Yes\", \"No\"]\n",
    "\n",
    "# Populate the service column.  Skew the data according to the NCT data which states the percentages of those who pre service.\n",
    "df5[\"Service\"] = np.random.choice(Service, 500, p=[0.67, 0.33])\n",
    "\n",
    "\n",
    "df5['Expected'] = 'Fail'\n",
    "df5.at[df5[(df5['Mileage']<100000) & (df5['Service'] == 'Yes')].index,'Expected'] = 'Pass'\n",
    "df5\n",
    "\n",
    "print (df5)"
   ]
  },
  {
   "cell_type": "code",
   "execution_count": 289,
   "metadata": {},
   "outputs": [
    {
     "data": {
      "text/html": [
       "<div>\n",
       "<style scoped>\n",
       "    .dataframe tbody tr th:only-of-type {\n",
       "        vertical-align: middle;\n",
       "    }\n",
       "\n",
       "    .dataframe tbody tr th {\n",
       "        vertical-align: top;\n",
       "    }\n",
       "\n",
       "    .dataframe thead th {\n",
       "        text-align: right;\n",
       "    }\n",
       "</style>\n",
       "<table border=\"1\" class=\"dataframe\">\n",
       "  <thead>\n",
       "    <tr style=\"text-align: right;\">\n",
       "      <th></th>\n",
       "      <th>Year</th>\n",
       "      <th>Fuel</th>\n",
       "      <th>Status</th>\n",
       "      <th>Sex</th>\n",
       "      <th>Licence_type</th>\n",
       "      <th>Mileage</th>\n",
       "      <th>Service</th>\n",
       "      <th>Expected</th>\n",
       "    </tr>\n",
       "  </thead>\n",
       "  <tbody>\n",
       "  </tbody>\n",
       "</table>\n",
       "</div>"
      ],
      "text/plain": [
       "Empty DataFrame\n",
       "Columns: [Year, Fuel, Status, Sex, Licence_type, Mileage, Service, Expected]\n",
       "Index: []"
      ]
     },
     "execution_count": 289,
     "metadata": {},
     "output_type": "execute_result"
    }
   ],
   "source": [
    "df = pd.DataFrame(columns= [\"Year\", \"Fuel\", \"Status\", \"Sex\", \"Licence_type\", \"Mileage\", \"Service\", \"Expected\"]) #gives headings to each of the columns\n",
    "df"
   ]
  },
  {
   "cell_type": "code",
   "execution_count": 290,
   "metadata": {},
   "outputs": [],
   "source": [
    "# Populate the data with the number of cars per year.\n",
    "df[\"Year\"] = np.random.choice([\"2001\", \"2002\",\"2003\",\"2004\",\"2005\",\"2006\",\"2007\",\"2008\",\"2009\",2010,2011,2012,2013,2014,2015], p=[0.004, 0.02, 0.044, 0.087, 0.149, 0.187, 0.221, 0.091, 0.012, 0.031, 0.009, 0.036, 0.013, 0.083, 0.013], size=(500))"
   ]
  },
  {
   "cell_type": "code",
   "execution_count": 244,
   "metadata": {},
   "outputs": [
    {
     "data": {
      "text/plain": [
       "Year            object\n",
       "Fuel            object\n",
       "Status          object\n",
       "Sex             object\n",
       "Licence_type    object\n",
       "Mileage         object\n",
       "Service         object\n",
       "Expected        object\n",
       "dtype: object"
      ]
     },
     "execution_count": 244,
     "metadata": {},
     "output_type": "execute_result"
    }
   ],
   "source": [
    "df.dtypes "
   ]
  },
  {
   "cell_type": "code",
   "execution_count": 245,
   "metadata": {},
   "outputs": [],
   "source": [
    "# Create the fuel types\n",
    "fuel = [\"Petrol\", \"Diesel\"]\n",
    "\n"
   ]
  },
  {
   "cell_type": "code",
   "execution_count": 246,
   "metadata": {},
   "outputs": [],
   "source": [
    "# Populate the Fuel column with petrol and diesel, more diesel cars so do the weights accordingly.\n",
    "df[\"Fuel\"] = np.random.choice(fuel, 500, p=[0.24, 0.76])"
   ]
  },
  {
   "cell_type": "code",
   "execution_count": null,
   "metadata": {},
   "outputs": [],
   "source": []
  },
  {
   "cell_type": "code",
   "execution_count": 247,
   "metadata": {},
   "outputs": [],
   "source": [
    "# Create the status types\n",
    "status = [\"Pass\", \"Fail\", \"Incomplete\"]"
   ]
  },
  {
   "cell_type": "code",
   "execution_count": 248,
   "metadata": {},
   "outputs": [],
   "source": [
    "# Populate the status column \n",
    "df[\"Status\"] = np.random.choice(status, 500, p=[0.36, 0.63, 0.01])\n"
   ]
  },
  {
   "cell_type": "code",
   "execution_count": 249,
   "metadata": {},
   "outputs": [],
   "source": [
    "# Create the sexes\n",
    "sex = [\"Male\", \"Female\"]"
   ]
  },
  {
   "cell_type": "code",
   "execution_count": 250,
   "metadata": {},
   "outputs": [],
   "source": [
    "# Populate the column\n",
    "df[\"Sex\"] = np.random.choice(sex, 500, p=[0.53, 0.47])\n"
   ]
  },
  {
   "cell_type": "code",
   "execution_count": 251,
   "metadata": {},
   "outputs": [],
   "source": [
    "# Create the licence_type categories\n",
    "Licence_type = [\"Full\", \"Learner\"]"
   ]
  },
  {
   "cell_type": "code",
   "execution_count": 252,
   "metadata": {},
   "outputs": [],
   "source": [
    "# Populate it\n",
    "df[\"Licence_type\"] = np.random.choice(Licence_type, 500, p=[0.92, 0.08])\n"
   ]
  },
  {
   "cell_type": "code",
   "execution_count": 253,
   "metadata": {},
   "outputs": [],
   "source": [
    "# Define a function to map the mileage values.  I have calculated that the average mile for one year is 16544 and applied it for the newest model.  I have then increased it each year going backwards.  This will ensure that a 2002 car could have a higher mileage than a 2015.\n",
    "def set_value(row_number, assigned_value):\n",
    "    return np.random.randint(1,assigned_value[row_number])\n",
    "\n",
    "#Create the dictionary\n",
    "year_dictionary ={'2001' : 248160, '2002' : 231616, '2003' : 215072, \"2004\" : 198528, \"2005\" : 181984, \"2006\": 165440, \"2007\" : 148896, \"2008\" : 132352, \"2009\" :115808,\"2010\" :99264, \"2011\" :82720, \"2012\" :66176, \"2013\" :49632, \"2014\" :33088, \"2015\" :16544}\n",
    "\n",
    "df[\"Mileage\"] = df[\"Year\"].apply(set_value, args =(year_dictionary, )) \n",
    "\n"
   ]
  },
  {
   "cell_type": "code",
   "execution_count": 254,
   "metadata": {},
   "outputs": [
    {
     "data": {
      "text/html": [
       "<div>\n",
       "<style scoped>\n",
       "    .dataframe tbody tr th:only-of-type {\n",
       "        vertical-align: middle;\n",
       "    }\n",
       "\n",
       "    .dataframe tbody tr th {\n",
       "        vertical-align: top;\n",
       "    }\n",
       "\n",
       "    .dataframe thead th {\n",
       "        text-align: right;\n",
       "    }\n",
       "</style>\n",
       "<table border=\"1\" class=\"dataframe\">\n",
       "  <thead>\n",
       "    <tr style=\"text-align: right;\">\n",
       "      <th></th>\n",
       "      <th>Year</th>\n",
       "      <th>Fuel</th>\n",
       "      <th>Status</th>\n",
       "      <th>Sex</th>\n",
       "      <th>Licence_type</th>\n",
       "      <th>Mileage</th>\n",
       "      <th>Service</th>\n",
       "      <th>Expected</th>\n",
       "    </tr>\n",
       "  </thead>\n",
       "  <tbody>\n",
       "    <tr>\n",
       "      <th>0</th>\n",
       "      <td>2005</td>\n",
       "      <td>Diesel</td>\n",
       "      <td>Pass</td>\n",
       "      <td>Female</td>\n",
       "      <td>Full</td>\n",
       "      <td>138832</td>\n",
       "      <td>Yes</td>\n",
       "      <td>NaN</td>\n",
       "    </tr>\n",
       "    <tr>\n",
       "      <th>1</th>\n",
       "      <td>2002</td>\n",
       "      <td>Diesel</td>\n",
       "      <td>Pass</td>\n",
       "      <td>Male</td>\n",
       "      <td>Full</td>\n",
       "      <td>226395</td>\n",
       "      <td>Yes</td>\n",
       "      <td>NaN</td>\n",
       "    </tr>\n",
       "    <tr>\n",
       "      <th>2</th>\n",
       "      <td>2004</td>\n",
       "      <td>Diesel</td>\n",
       "      <td>Fail</td>\n",
       "      <td>Female</td>\n",
       "      <td>Full</td>\n",
       "      <td>194941</td>\n",
       "      <td>Yes</td>\n",
       "      <td>NaN</td>\n",
       "    </tr>\n",
       "    <tr>\n",
       "      <th>3</th>\n",
       "      <td>2005</td>\n",
       "      <td>Diesel</td>\n",
       "      <td>Fail</td>\n",
       "      <td>Male</td>\n",
       "      <td>Full</td>\n",
       "      <td>108043</td>\n",
       "      <td>Yes</td>\n",
       "      <td>NaN</td>\n",
       "    </tr>\n",
       "    <tr>\n",
       "      <th>4</th>\n",
       "      <td>2008</td>\n",
       "      <td>Diesel</td>\n",
       "      <td>Fail</td>\n",
       "      <td>Female</td>\n",
       "      <td>Full</td>\n",
       "      <td>58484</td>\n",
       "      <td>No</td>\n",
       "      <td>NaN</td>\n",
       "    </tr>\n",
       "    <tr>\n",
       "      <th>5</th>\n",
       "      <td>2007</td>\n",
       "      <td>Diesel</td>\n",
       "      <td>Pass</td>\n",
       "      <td>Male</td>\n",
       "      <td>Full</td>\n",
       "      <td>66066</td>\n",
       "      <td>Yes</td>\n",
       "      <td>NaN</td>\n",
       "    </tr>\n",
       "    <tr>\n",
       "      <th>6</th>\n",
       "      <td>2015</td>\n",
       "      <td>Diesel</td>\n",
       "      <td>Pass</td>\n",
       "      <td>Male</td>\n",
       "      <td>Full</td>\n",
       "      <td>13527</td>\n",
       "      <td>Yes</td>\n",
       "      <td>NaN</td>\n",
       "    </tr>\n",
       "    <tr>\n",
       "      <th>7</th>\n",
       "      <td>2012</td>\n",
       "      <td>Petrol</td>\n",
       "      <td>Fail</td>\n",
       "      <td>Male</td>\n",
       "      <td>Full</td>\n",
       "      <td>62292</td>\n",
       "      <td>No</td>\n",
       "      <td>NaN</td>\n",
       "    </tr>\n",
       "    <tr>\n",
       "      <th>8</th>\n",
       "      <td>2008</td>\n",
       "      <td>Petrol</td>\n",
       "      <td>Fail</td>\n",
       "      <td>Male</td>\n",
       "      <td>Full</td>\n",
       "      <td>104952</td>\n",
       "      <td>No</td>\n",
       "      <td>NaN</td>\n",
       "    </tr>\n",
       "    <tr>\n",
       "      <th>9</th>\n",
       "      <td>2005</td>\n",
       "      <td>Diesel</td>\n",
       "      <td>Pass</td>\n",
       "      <td>Male</td>\n",
       "      <td>Full</td>\n",
       "      <td>141657</td>\n",
       "      <td>Yes</td>\n",
       "      <td>NaN</td>\n",
       "    </tr>\n",
       "    <tr>\n",
       "      <th>10</th>\n",
       "      <td>2006</td>\n",
       "      <td>Diesel</td>\n",
       "      <td>Fail</td>\n",
       "      <td>Female</td>\n",
       "      <td>Full</td>\n",
       "      <td>46956</td>\n",
       "      <td>No</td>\n",
       "      <td>NaN</td>\n",
       "    </tr>\n",
       "    <tr>\n",
       "      <th>11</th>\n",
       "      <td>2010</td>\n",
       "      <td>Diesel</td>\n",
       "      <td>Pass</td>\n",
       "      <td>Female</td>\n",
       "      <td>Full</td>\n",
       "      <td>31824</td>\n",
       "      <td>Yes</td>\n",
       "      <td>NaN</td>\n",
       "    </tr>\n",
       "    <tr>\n",
       "      <th>12</th>\n",
       "      <td>2006</td>\n",
       "      <td>Diesel</td>\n",
       "      <td>Fail</td>\n",
       "      <td>Male</td>\n",
       "      <td>Learner</td>\n",
       "      <td>117150</td>\n",
       "      <td>Yes</td>\n",
       "      <td>NaN</td>\n",
       "    </tr>\n",
       "    <tr>\n",
       "      <th>13</th>\n",
       "      <td>2005</td>\n",
       "      <td>Petrol</td>\n",
       "      <td>Fail</td>\n",
       "      <td>Female</td>\n",
       "      <td>Learner</td>\n",
       "      <td>131050</td>\n",
       "      <td>Yes</td>\n",
       "      <td>NaN</td>\n",
       "    </tr>\n",
       "    <tr>\n",
       "      <th>14</th>\n",
       "      <td>2007</td>\n",
       "      <td>Diesel</td>\n",
       "      <td>Fail</td>\n",
       "      <td>Male</td>\n",
       "      <td>Full</td>\n",
       "      <td>25840</td>\n",
       "      <td>Yes</td>\n",
       "      <td>NaN</td>\n",
       "    </tr>\n",
       "    <tr>\n",
       "      <th>15</th>\n",
       "      <td>2010</td>\n",
       "      <td>Diesel</td>\n",
       "      <td>Pass</td>\n",
       "      <td>Female</td>\n",
       "      <td>Full</td>\n",
       "      <td>72012</td>\n",
       "      <td>No</td>\n",
       "      <td>NaN</td>\n",
       "    </tr>\n",
       "    <tr>\n",
       "      <th>16</th>\n",
       "      <td>2005</td>\n",
       "      <td>Petrol</td>\n",
       "      <td>Fail</td>\n",
       "      <td>Female</td>\n",
       "      <td>Full</td>\n",
       "      <td>57421</td>\n",
       "      <td>No</td>\n",
       "      <td>NaN</td>\n",
       "    </tr>\n",
       "    <tr>\n",
       "      <th>17</th>\n",
       "      <td>2008</td>\n",
       "      <td>Diesel</td>\n",
       "      <td>Fail</td>\n",
       "      <td>Male</td>\n",
       "      <td>Full</td>\n",
       "      <td>27501</td>\n",
       "      <td>No</td>\n",
       "      <td>NaN</td>\n",
       "    </tr>\n",
       "    <tr>\n",
       "      <th>18</th>\n",
       "      <td>2006</td>\n",
       "      <td>Diesel</td>\n",
       "      <td>Pass</td>\n",
       "      <td>Female</td>\n",
       "      <td>Full</td>\n",
       "      <td>31222</td>\n",
       "      <td>No</td>\n",
       "      <td>NaN</td>\n",
       "    </tr>\n",
       "    <tr>\n",
       "      <th>19</th>\n",
       "      <td>2012</td>\n",
       "      <td>Petrol</td>\n",
       "      <td>Fail</td>\n",
       "      <td>Male</td>\n",
       "      <td>Full</td>\n",
       "      <td>1742</td>\n",
       "      <td>Yes</td>\n",
       "      <td>NaN</td>\n",
       "    </tr>\n",
       "    <tr>\n",
       "      <th>20</th>\n",
       "      <td>2012</td>\n",
       "      <td>Petrol</td>\n",
       "      <td>Pass</td>\n",
       "      <td>Male</td>\n",
       "      <td>Full</td>\n",
       "      <td>28240</td>\n",
       "      <td>No</td>\n",
       "      <td>NaN</td>\n",
       "    </tr>\n",
       "    <tr>\n",
       "      <th>21</th>\n",
       "      <td>2008</td>\n",
       "      <td>Diesel</td>\n",
       "      <td>Fail</td>\n",
       "      <td>Female</td>\n",
       "      <td>Full</td>\n",
       "      <td>70593</td>\n",
       "      <td>Yes</td>\n",
       "      <td>NaN</td>\n",
       "    </tr>\n",
       "    <tr>\n",
       "      <th>22</th>\n",
       "      <td>2008</td>\n",
       "      <td>Petrol</td>\n",
       "      <td>Pass</td>\n",
       "      <td>Male</td>\n",
       "      <td>Full</td>\n",
       "      <td>30540</td>\n",
       "      <td>Yes</td>\n",
       "      <td>NaN</td>\n",
       "    </tr>\n",
       "    <tr>\n",
       "      <th>23</th>\n",
       "      <td>2007</td>\n",
       "      <td>Petrol</td>\n",
       "      <td>Pass</td>\n",
       "      <td>Male</td>\n",
       "      <td>Full</td>\n",
       "      <td>72769</td>\n",
       "      <td>Yes</td>\n",
       "      <td>NaN</td>\n",
       "    </tr>\n",
       "    <tr>\n",
       "      <th>24</th>\n",
       "      <td>2006</td>\n",
       "      <td>Diesel</td>\n",
       "      <td>Fail</td>\n",
       "      <td>Female</td>\n",
       "      <td>Full</td>\n",
       "      <td>12003</td>\n",
       "      <td>Yes</td>\n",
       "      <td>NaN</td>\n",
       "    </tr>\n",
       "    <tr>\n",
       "      <th>25</th>\n",
       "      <td>2007</td>\n",
       "      <td>Diesel</td>\n",
       "      <td>Pass</td>\n",
       "      <td>Female</td>\n",
       "      <td>Full</td>\n",
       "      <td>7761</td>\n",
       "      <td>No</td>\n",
       "      <td>NaN</td>\n",
       "    </tr>\n",
       "    <tr>\n",
       "      <th>26</th>\n",
       "      <td>2004</td>\n",
       "      <td>Petrol</td>\n",
       "      <td>Fail</td>\n",
       "      <td>Male</td>\n",
       "      <td>Full</td>\n",
       "      <td>36511</td>\n",
       "      <td>Yes</td>\n",
       "      <td>NaN</td>\n",
       "    </tr>\n",
       "    <tr>\n",
       "      <th>27</th>\n",
       "      <td>2007</td>\n",
       "      <td>Petrol</td>\n",
       "      <td>Fail</td>\n",
       "      <td>Female</td>\n",
       "      <td>Full</td>\n",
       "      <td>25829</td>\n",
       "      <td>No</td>\n",
       "      <td>NaN</td>\n",
       "    </tr>\n",
       "    <tr>\n",
       "      <th>28</th>\n",
       "      <td>2006</td>\n",
       "      <td>Diesel</td>\n",
       "      <td>Fail</td>\n",
       "      <td>Female</td>\n",
       "      <td>Full</td>\n",
       "      <td>24414</td>\n",
       "      <td>Yes</td>\n",
       "      <td>NaN</td>\n",
       "    </tr>\n",
       "    <tr>\n",
       "      <th>29</th>\n",
       "      <td>2005</td>\n",
       "      <td>Diesel</td>\n",
       "      <td>Fail</td>\n",
       "      <td>Female</td>\n",
       "      <td>Full</td>\n",
       "      <td>34756</td>\n",
       "      <td>Yes</td>\n",
       "      <td>NaN</td>\n",
       "    </tr>\n",
       "    <tr>\n",
       "      <th>...</th>\n",
       "      <td>...</td>\n",
       "      <td>...</td>\n",
       "      <td>...</td>\n",
       "      <td>...</td>\n",
       "      <td>...</td>\n",
       "      <td>...</td>\n",
       "      <td>...</td>\n",
       "      <td>...</td>\n",
       "    </tr>\n",
       "    <tr>\n",
       "      <th>470</th>\n",
       "      <td>2006</td>\n",
       "      <td>Diesel</td>\n",
       "      <td>Fail</td>\n",
       "      <td>Female</td>\n",
       "      <td>Full</td>\n",
       "      <td>73284</td>\n",
       "      <td>Yes</td>\n",
       "      <td>NaN</td>\n",
       "    </tr>\n",
       "    <tr>\n",
       "      <th>471</th>\n",
       "      <td>2007</td>\n",
       "      <td>Diesel</td>\n",
       "      <td>Pass</td>\n",
       "      <td>Male</td>\n",
       "      <td>Full</td>\n",
       "      <td>59671</td>\n",
       "      <td>No</td>\n",
       "      <td>NaN</td>\n",
       "    </tr>\n",
       "    <tr>\n",
       "      <th>472</th>\n",
       "      <td>2007</td>\n",
       "      <td>Petrol</td>\n",
       "      <td>Fail</td>\n",
       "      <td>Female</td>\n",
       "      <td>Full</td>\n",
       "      <td>17248</td>\n",
       "      <td>No</td>\n",
       "      <td>NaN</td>\n",
       "    </tr>\n",
       "    <tr>\n",
       "      <th>473</th>\n",
       "      <td>2006</td>\n",
       "      <td>Petrol</td>\n",
       "      <td>Fail</td>\n",
       "      <td>Male</td>\n",
       "      <td>Learner</td>\n",
       "      <td>44558</td>\n",
       "      <td>No</td>\n",
       "      <td>NaN</td>\n",
       "    </tr>\n",
       "    <tr>\n",
       "      <th>474</th>\n",
       "      <td>2005</td>\n",
       "      <td>Diesel</td>\n",
       "      <td>Fail</td>\n",
       "      <td>Male</td>\n",
       "      <td>Full</td>\n",
       "      <td>91648</td>\n",
       "      <td>Yes</td>\n",
       "      <td>NaN</td>\n",
       "    </tr>\n",
       "    <tr>\n",
       "      <th>475</th>\n",
       "      <td>2007</td>\n",
       "      <td>Petrol</td>\n",
       "      <td>Pass</td>\n",
       "      <td>Male</td>\n",
       "      <td>Full</td>\n",
       "      <td>89087</td>\n",
       "      <td>Yes</td>\n",
       "      <td>NaN</td>\n",
       "    </tr>\n",
       "    <tr>\n",
       "      <th>476</th>\n",
       "      <td>2008</td>\n",
       "      <td>Diesel</td>\n",
       "      <td>Pass</td>\n",
       "      <td>Female</td>\n",
       "      <td>Full</td>\n",
       "      <td>81100</td>\n",
       "      <td>Yes</td>\n",
       "      <td>NaN</td>\n",
       "    </tr>\n",
       "    <tr>\n",
       "      <th>477</th>\n",
       "      <td>2008</td>\n",
       "      <td>Diesel</td>\n",
       "      <td>Fail</td>\n",
       "      <td>Male</td>\n",
       "      <td>Full</td>\n",
       "      <td>107743</td>\n",
       "      <td>Yes</td>\n",
       "      <td>NaN</td>\n",
       "    </tr>\n",
       "    <tr>\n",
       "      <th>478</th>\n",
       "      <td>2004</td>\n",
       "      <td>Diesel</td>\n",
       "      <td>Pass</td>\n",
       "      <td>Male</td>\n",
       "      <td>Full</td>\n",
       "      <td>24806</td>\n",
       "      <td>No</td>\n",
       "      <td>NaN</td>\n",
       "    </tr>\n",
       "    <tr>\n",
       "      <th>479</th>\n",
       "      <td>2002</td>\n",
       "      <td>Diesel</td>\n",
       "      <td>Fail</td>\n",
       "      <td>Male</td>\n",
       "      <td>Full</td>\n",
       "      <td>186768</td>\n",
       "      <td>Yes</td>\n",
       "      <td>NaN</td>\n",
       "    </tr>\n",
       "    <tr>\n",
       "      <th>480</th>\n",
       "      <td>2005</td>\n",
       "      <td>Diesel</td>\n",
       "      <td>Fail</td>\n",
       "      <td>Male</td>\n",
       "      <td>Full</td>\n",
       "      <td>57087</td>\n",
       "      <td>Yes</td>\n",
       "      <td>NaN</td>\n",
       "    </tr>\n",
       "    <tr>\n",
       "      <th>481</th>\n",
       "      <td>2007</td>\n",
       "      <td>Diesel</td>\n",
       "      <td>Fail</td>\n",
       "      <td>Female</td>\n",
       "      <td>Full</td>\n",
       "      <td>59984</td>\n",
       "      <td>Yes</td>\n",
       "      <td>NaN</td>\n",
       "    </tr>\n",
       "    <tr>\n",
       "      <th>482</th>\n",
       "      <td>2005</td>\n",
       "      <td>Petrol</td>\n",
       "      <td>Fail</td>\n",
       "      <td>Male</td>\n",
       "      <td>Full</td>\n",
       "      <td>135408</td>\n",
       "      <td>Yes</td>\n",
       "      <td>NaN</td>\n",
       "    </tr>\n",
       "    <tr>\n",
       "      <th>483</th>\n",
       "      <td>2006</td>\n",
       "      <td>Petrol</td>\n",
       "      <td>Pass</td>\n",
       "      <td>Female</td>\n",
       "      <td>Learner</td>\n",
       "      <td>141908</td>\n",
       "      <td>Yes</td>\n",
       "      <td>NaN</td>\n",
       "    </tr>\n",
       "    <tr>\n",
       "      <th>484</th>\n",
       "      <td>2006</td>\n",
       "      <td>Diesel</td>\n",
       "      <td>Fail</td>\n",
       "      <td>Male</td>\n",
       "      <td>Full</td>\n",
       "      <td>76695</td>\n",
       "      <td>No</td>\n",
       "      <td>NaN</td>\n",
       "    </tr>\n",
       "    <tr>\n",
       "      <th>485</th>\n",
       "      <td>2007</td>\n",
       "      <td>Diesel</td>\n",
       "      <td>Pass</td>\n",
       "      <td>Female</td>\n",
       "      <td>Full</td>\n",
       "      <td>19996</td>\n",
       "      <td>Yes</td>\n",
       "      <td>NaN</td>\n",
       "    </tr>\n",
       "    <tr>\n",
       "      <th>486</th>\n",
       "      <td>2012</td>\n",
       "      <td>Diesel</td>\n",
       "      <td>Fail</td>\n",
       "      <td>Male</td>\n",
       "      <td>Full</td>\n",
       "      <td>5756</td>\n",
       "      <td>Yes</td>\n",
       "      <td>NaN</td>\n",
       "    </tr>\n",
       "    <tr>\n",
       "      <th>487</th>\n",
       "      <td>2007</td>\n",
       "      <td>Diesel</td>\n",
       "      <td>Pass</td>\n",
       "      <td>Male</td>\n",
       "      <td>Learner</td>\n",
       "      <td>54347</td>\n",
       "      <td>Yes</td>\n",
       "      <td>NaN</td>\n",
       "    </tr>\n",
       "    <tr>\n",
       "      <th>488</th>\n",
       "      <td>2015</td>\n",
       "      <td>Diesel</td>\n",
       "      <td>Fail</td>\n",
       "      <td>Female</td>\n",
       "      <td>Full</td>\n",
       "      <td>15539</td>\n",
       "      <td>Yes</td>\n",
       "      <td>NaN</td>\n",
       "    </tr>\n",
       "    <tr>\n",
       "      <th>489</th>\n",
       "      <td>2005</td>\n",
       "      <td>Petrol</td>\n",
       "      <td>Fail</td>\n",
       "      <td>Female</td>\n",
       "      <td>Full</td>\n",
       "      <td>75633</td>\n",
       "      <td>Yes</td>\n",
       "      <td>NaN</td>\n",
       "    </tr>\n",
       "    <tr>\n",
       "      <th>490</th>\n",
       "      <td>2009</td>\n",
       "      <td>Petrol</td>\n",
       "      <td>Fail</td>\n",
       "      <td>Male</td>\n",
       "      <td>Full</td>\n",
       "      <td>93285</td>\n",
       "      <td>No</td>\n",
       "      <td>NaN</td>\n",
       "    </tr>\n",
       "    <tr>\n",
       "      <th>491</th>\n",
       "      <td>2007</td>\n",
       "      <td>Diesel</td>\n",
       "      <td>Pass</td>\n",
       "      <td>Female</td>\n",
       "      <td>Full</td>\n",
       "      <td>4257</td>\n",
       "      <td>Yes</td>\n",
       "      <td>NaN</td>\n",
       "    </tr>\n",
       "    <tr>\n",
       "      <th>492</th>\n",
       "      <td>2008</td>\n",
       "      <td>Diesel</td>\n",
       "      <td>Fail</td>\n",
       "      <td>Female</td>\n",
       "      <td>Full</td>\n",
       "      <td>40796</td>\n",
       "      <td>Yes</td>\n",
       "      <td>NaN</td>\n",
       "    </tr>\n",
       "    <tr>\n",
       "      <th>493</th>\n",
       "      <td>2007</td>\n",
       "      <td>Diesel</td>\n",
       "      <td>Fail</td>\n",
       "      <td>Female</td>\n",
       "      <td>Full</td>\n",
       "      <td>40715</td>\n",
       "      <td>No</td>\n",
       "      <td>NaN</td>\n",
       "    </tr>\n",
       "    <tr>\n",
       "      <th>494</th>\n",
       "      <td>2006</td>\n",
       "      <td>Diesel</td>\n",
       "      <td>Fail</td>\n",
       "      <td>Female</td>\n",
       "      <td>Full</td>\n",
       "      <td>90450</td>\n",
       "      <td>Yes</td>\n",
       "      <td>NaN</td>\n",
       "    </tr>\n",
       "    <tr>\n",
       "      <th>495</th>\n",
       "      <td>2006</td>\n",
       "      <td>Diesel</td>\n",
       "      <td>Pass</td>\n",
       "      <td>Male</td>\n",
       "      <td>Full</td>\n",
       "      <td>107158</td>\n",
       "      <td>Yes</td>\n",
       "      <td>NaN</td>\n",
       "    </tr>\n",
       "    <tr>\n",
       "      <th>496</th>\n",
       "      <td>2008</td>\n",
       "      <td>Diesel</td>\n",
       "      <td>Pass</td>\n",
       "      <td>Male</td>\n",
       "      <td>Full</td>\n",
       "      <td>124272</td>\n",
       "      <td>Yes</td>\n",
       "      <td>NaN</td>\n",
       "    </tr>\n",
       "    <tr>\n",
       "      <th>497</th>\n",
       "      <td>2014</td>\n",
       "      <td>Diesel</td>\n",
       "      <td>Pass</td>\n",
       "      <td>Female</td>\n",
       "      <td>Full</td>\n",
       "      <td>4175</td>\n",
       "      <td>No</td>\n",
       "      <td>NaN</td>\n",
       "    </tr>\n",
       "    <tr>\n",
       "      <th>498</th>\n",
       "      <td>2005</td>\n",
       "      <td>Diesel</td>\n",
       "      <td>Pass</td>\n",
       "      <td>Female</td>\n",
       "      <td>Full</td>\n",
       "      <td>62814</td>\n",
       "      <td>Yes</td>\n",
       "      <td>NaN</td>\n",
       "    </tr>\n",
       "    <tr>\n",
       "      <th>499</th>\n",
       "      <td>2006</td>\n",
       "      <td>Petrol</td>\n",
       "      <td>Incomplete</td>\n",
       "      <td>Female</td>\n",
       "      <td>Full</td>\n",
       "      <td>87720</td>\n",
       "      <td>Yes</td>\n",
       "      <td>NaN</td>\n",
       "    </tr>\n",
       "  </tbody>\n",
       "</table>\n",
       "<p>500 rows × 8 columns</p>\n",
       "</div>"
      ],
      "text/plain": [
       "     Year    Fuel      Status     Sex Licence_type  Mileage Service Expected\n",
       "0    2005  Diesel        Pass  Female         Full   138832     Yes      NaN\n",
       "1    2002  Diesel        Pass    Male         Full   226395     Yes      NaN\n",
       "2    2004  Diesel        Fail  Female         Full   194941     Yes      NaN\n",
       "3    2005  Diesel        Fail    Male         Full   108043     Yes      NaN\n",
       "4    2008  Diesel        Fail  Female         Full    58484      No      NaN\n",
       "5    2007  Diesel        Pass    Male         Full    66066     Yes      NaN\n",
       "6    2015  Diesel        Pass    Male         Full    13527     Yes      NaN\n",
       "7    2012  Petrol        Fail    Male         Full    62292      No      NaN\n",
       "8    2008  Petrol        Fail    Male         Full   104952      No      NaN\n",
       "9    2005  Diesel        Pass    Male         Full   141657     Yes      NaN\n",
       "10   2006  Diesel        Fail  Female         Full    46956      No      NaN\n",
       "11   2010  Diesel        Pass  Female         Full    31824     Yes      NaN\n",
       "12   2006  Diesel        Fail    Male      Learner   117150     Yes      NaN\n",
       "13   2005  Petrol        Fail  Female      Learner   131050     Yes      NaN\n",
       "14   2007  Diesel        Fail    Male         Full    25840     Yes      NaN\n",
       "15   2010  Diesel        Pass  Female         Full    72012      No      NaN\n",
       "16   2005  Petrol        Fail  Female         Full    57421      No      NaN\n",
       "17   2008  Diesel        Fail    Male         Full    27501      No      NaN\n",
       "18   2006  Diesel        Pass  Female         Full    31222      No      NaN\n",
       "19   2012  Petrol        Fail    Male         Full     1742     Yes      NaN\n",
       "20   2012  Petrol        Pass    Male         Full    28240      No      NaN\n",
       "21   2008  Diesel        Fail  Female         Full    70593     Yes      NaN\n",
       "22   2008  Petrol        Pass    Male         Full    30540     Yes      NaN\n",
       "23   2007  Petrol        Pass    Male         Full    72769     Yes      NaN\n",
       "24   2006  Diesel        Fail  Female         Full    12003     Yes      NaN\n",
       "25   2007  Diesel        Pass  Female         Full     7761      No      NaN\n",
       "26   2004  Petrol        Fail    Male         Full    36511     Yes      NaN\n",
       "27   2007  Petrol        Fail  Female         Full    25829      No      NaN\n",
       "28   2006  Diesel        Fail  Female         Full    24414     Yes      NaN\n",
       "29   2005  Diesel        Fail  Female         Full    34756     Yes      NaN\n",
       "..    ...     ...         ...     ...          ...      ...     ...      ...\n",
       "470  2006  Diesel        Fail  Female         Full    73284     Yes      NaN\n",
       "471  2007  Diesel        Pass    Male         Full    59671      No      NaN\n",
       "472  2007  Petrol        Fail  Female         Full    17248      No      NaN\n",
       "473  2006  Petrol        Fail    Male      Learner    44558      No      NaN\n",
       "474  2005  Diesel        Fail    Male         Full    91648     Yes      NaN\n",
       "475  2007  Petrol        Pass    Male         Full    89087     Yes      NaN\n",
       "476  2008  Diesel        Pass  Female         Full    81100     Yes      NaN\n",
       "477  2008  Diesel        Fail    Male         Full   107743     Yes      NaN\n",
       "478  2004  Diesel        Pass    Male         Full    24806      No      NaN\n",
       "479  2002  Diesel        Fail    Male         Full   186768     Yes      NaN\n",
       "480  2005  Diesel        Fail    Male         Full    57087     Yes      NaN\n",
       "481  2007  Diesel        Fail  Female         Full    59984     Yes      NaN\n",
       "482  2005  Petrol        Fail    Male         Full   135408     Yes      NaN\n",
       "483  2006  Petrol        Pass  Female      Learner   141908     Yes      NaN\n",
       "484  2006  Diesel        Fail    Male         Full    76695      No      NaN\n",
       "485  2007  Diesel        Pass  Female         Full    19996     Yes      NaN\n",
       "486  2012  Diesel        Fail    Male         Full     5756     Yes      NaN\n",
       "487  2007  Diesel        Pass    Male      Learner    54347     Yes      NaN\n",
       "488  2015  Diesel        Fail  Female         Full    15539     Yes      NaN\n",
       "489  2005  Petrol        Fail  Female         Full    75633     Yes      NaN\n",
       "490  2009  Petrol        Fail    Male         Full    93285      No      NaN\n",
       "491  2007  Diesel        Pass  Female         Full     4257     Yes      NaN\n",
       "492  2008  Diesel        Fail  Female         Full    40796     Yes      NaN\n",
       "493  2007  Diesel        Fail  Female         Full    40715      No      NaN\n",
       "494  2006  Diesel        Fail  Female         Full    90450     Yes      NaN\n",
       "495  2006  Diesel        Pass    Male         Full   107158     Yes      NaN\n",
       "496  2008  Diesel        Pass    Male         Full   124272     Yes      NaN\n",
       "497  2014  Diesel        Pass  Female         Full     4175      No      NaN\n",
       "498  2005  Diesel        Pass  Female         Full    62814     Yes      NaN\n",
       "499  2006  Petrol  Incomplete  Female         Full    87720     Yes      NaN\n",
       "\n",
       "[500 rows x 8 columns]"
      ]
     },
     "execution_count": 254,
     "metadata": {},
     "output_type": "execute_result"
    }
   ],
   "source": [
    "# Create the service types (Prior to nct)\n",
    "Service = [\"Yes\", \"No\"]\n",
    "\n",
    "# Populate the service column \n",
    "df[\"Service\"] = np.random.choice(Service, 500, p=[0.67, 0.33])\n",
    "df"
   ]
  },
  {
   "cell_type": "code",
   "execution_count": null,
   "metadata": {},
   "outputs": [],
   "source": []
  },
  {
   "cell_type": "code",
   "execution_count": null,
   "metadata": {},
   "outputs": [],
   "source": []
  },
  {
   "cell_type": "code",
   "execution_count": null,
   "metadata": {},
   "outputs": [],
   "source": [
    "\n"
   ]
  },
  {
   "cell_type": "code",
   "execution_count": null,
   "metadata": {},
   "outputs": [],
   "source": []
  },
  {
   "cell_type": "code",
   "execution_count": 255,
   "metadata": {},
   "outputs": [
    {
     "data": {
      "text/plain": [
       "Year            object\n",
       "Fuel            object\n",
       "Status          object\n",
       "Sex             object\n",
       "Licence_type    object\n",
       "Mileage          int64\n",
       "Service         object\n",
       "Expected        object\n",
       "dtype: object"
      ]
     },
     "execution_count": 255,
     "metadata": {},
     "output_type": "execute_result"
    }
   ],
   "source": [
    "df.dtypes "
   ]
  },
  {
   "cell_type": "code",
   "execution_count": 256,
   "metadata": {},
   "outputs": [
    {
     "data": {
      "text/html": [
       "<div>\n",
       "<style scoped>\n",
       "    .dataframe tbody tr th:only-of-type {\n",
       "        vertical-align: middle;\n",
       "    }\n",
       "\n",
       "    .dataframe tbody tr th {\n",
       "        vertical-align: top;\n",
       "    }\n",
       "\n",
       "    .dataframe thead th {\n",
       "        text-align: right;\n",
       "    }\n",
       "</style>\n",
       "<table border=\"1\" class=\"dataframe\">\n",
       "  <thead>\n",
       "    <tr style=\"text-align: right;\">\n",
       "      <th></th>\n",
       "      <th>Year</th>\n",
       "      <th>Fuel</th>\n",
       "      <th>Status</th>\n",
       "      <th>Sex</th>\n",
       "      <th>Licence_type</th>\n",
       "      <th>Mileage</th>\n",
       "      <th>Service</th>\n",
       "      <th>Expected</th>\n",
       "    </tr>\n",
       "  </thead>\n",
       "  <tbody>\n",
       "    <tr>\n",
       "      <th>0</th>\n",
       "      <td>2005</td>\n",
       "      <td>Diesel</td>\n",
       "      <td>Pass</td>\n",
       "      <td>Female</td>\n",
       "      <td>Full</td>\n",
       "      <td>138832</td>\n",
       "      <td>Yes</td>\n",
       "      <td>Fail</td>\n",
       "    </tr>\n",
       "    <tr>\n",
       "      <th>1</th>\n",
       "      <td>2002</td>\n",
       "      <td>Diesel</td>\n",
       "      <td>Pass</td>\n",
       "      <td>Male</td>\n",
       "      <td>Full</td>\n",
       "      <td>226395</td>\n",
       "      <td>Yes</td>\n",
       "      <td>Fail</td>\n",
       "    </tr>\n",
       "    <tr>\n",
       "      <th>2</th>\n",
       "      <td>2004</td>\n",
       "      <td>Diesel</td>\n",
       "      <td>Fail</td>\n",
       "      <td>Female</td>\n",
       "      <td>Full</td>\n",
       "      <td>194941</td>\n",
       "      <td>Yes</td>\n",
       "      <td>Fail</td>\n",
       "    </tr>\n",
       "    <tr>\n",
       "      <th>3</th>\n",
       "      <td>2005</td>\n",
       "      <td>Diesel</td>\n",
       "      <td>Fail</td>\n",
       "      <td>Male</td>\n",
       "      <td>Full</td>\n",
       "      <td>108043</td>\n",
       "      <td>Yes</td>\n",
       "      <td>Fail</td>\n",
       "    </tr>\n",
       "    <tr>\n",
       "      <th>4</th>\n",
       "      <td>2008</td>\n",
       "      <td>Diesel</td>\n",
       "      <td>Fail</td>\n",
       "      <td>Female</td>\n",
       "      <td>Full</td>\n",
       "      <td>58484</td>\n",
       "      <td>No</td>\n",
       "      <td>Fail</td>\n",
       "    </tr>\n",
       "    <tr>\n",
       "      <th>5</th>\n",
       "      <td>2007</td>\n",
       "      <td>Diesel</td>\n",
       "      <td>Pass</td>\n",
       "      <td>Male</td>\n",
       "      <td>Full</td>\n",
       "      <td>66066</td>\n",
       "      <td>Yes</td>\n",
       "      <td>Pass</td>\n",
       "    </tr>\n",
       "    <tr>\n",
       "      <th>6</th>\n",
       "      <td>2015</td>\n",
       "      <td>Diesel</td>\n",
       "      <td>Pass</td>\n",
       "      <td>Male</td>\n",
       "      <td>Full</td>\n",
       "      <td>13527</td>\n",
       "      <td>Yes</td>\n",
       "      <td>Pass</td>\n",
       "    </tr>\n",
       "    <tr>\n",
       "      <th>7</th>\n",
       "      <td>2012</td>\n",
       "      <td>Petrol</td>\n",
       "      <td>Fail</td>\n",
       "      <td>Male</td>\n",
       "      <td>Full</td>\n",
       "      <td>62292</td>\n",
       "      <td>No</td>\n",
       "      <td>Fail</td>\n",
       "    </tr>\n",
       "    <tr>\n",
       "      <th>8</th>\n",
       "      <td>2008</td>\n",
       "      <td>Petrol</td>\n",
       "      <td>Fail</td>\n",
       "      <td>Male</td>\n",
       "      <td>Full</td>\n",
       "      <td>104952</td>\n",
       "      <td>No</td>\n",
       "      <td>Fail</td>\n",
       "    </tr>\n",
       "    <tr>\n",
       "      <th>9</th>\n",
       "      <td>2005</td>\n",
       "      <td>Diesel</td>\n",
       "      <td>Pass</td>\n",
       "      <td>Male</td>\n",
       "      <td>Full</td>\n",
       "      <td>141657</td>\n",
       "      <td>Yes</td>\n",
       "      <td>Fail</td>\n",
       "    </tr>\n",
       "    <tr>\n",
       "      <th>10</th>\n",
       "      <td>2006</td>\n",
       "      <td>Diesel</td>\n",
       "      <td>Fail</td>\n",
       "      <td>Female</td>\n",
       "      <td>Full</td>\n",
       "      <td>46956</td>\n",
       "      <td>No</td>\n",
       "      <td>Fail</td>\n",
       "    </tr>\n",
       "    <tr>\n",
       "      <th>11</th>\n",
       "      <td>2010</td>\n",
       "      <td>Diesel</td>\n",
       "      <td>Pass</td>\n",
       "      <td>Female</td>\n",
       "      <td>Full</td>\n",
       "      <td>31824</td>\n",
       "      <td>Yes</td>\n",
       "      <td>Pass</td>\n",
       "    </tr>\n",
       "    <tr>\n",
       "      <th>12</th>\n",
       "      <td>2006</td>\n",
       "      <td>Diesel</td>\n",
       "      <td>Fail</td>\n",
       "      <td>Male</td>\n",
       "      <td>Learner</td>\n",
       "      <td>117150</td>\n",
       "      <td>Yes</td>\n",
       "      <td>Fail</td>\n",
       "    </tr>\n",
       "    <tr>\n",
       "      <th>13</th>\n",
       "      <td>2005</td>\n",
       "      <td>Petrol</td>\n",
       "      <td>Fail</td>\n",
       "      <td>Female</td>\n",
       "      <td>Learner</td>\n",
       "      <td>131050</td>\n",
       "      <td>Yes</td>\n",
       "      <td>Fail</td>\n",
       "    </tr>\n",
       "    <tr>\n",
       "      <th>14</th>\n",
       "      <td>2007</td>\n",
       "      <td>Diesel</td>\n",
       "      <td>Fail</td>\n",
       "      <td>Male</td>\n",
       "      <td>Full</td>\n",
       "      <td>25840</td>\n",
       "      <td>Yes</td>\n",
       "      <td>Pass</td>\n",
       "    </tr>\n",
       "    <tr>\n",
       "      <th>15</th>\n",
       "      <td>2010</td>\n",
       "      <td>Diesel</td>\n",
       "      <td>Pass</td>\n",
       "      <td>Female</td>\n",
       "      <td>Full</td>\n",
       "      <td>72012</td>\n",
       "      <td>No</td>\n",
       "      <td>Fail</td>\n",
       "    </tr>\n",
       "    <tr>\n",
       "      <th>16</th>\n",
       "      <td>2005</td>\n",
       "      <td>Petrol</td>\n",
       "      <td>Fail</td>\n",
       "      <td>Female</td>\n",
       "      <td>Full</td>\n",
       "      <td>57421</td>\n",
       "      <td>No</td>\n",
       "      <td>Fail</td>\n",
       "    </tr>\n",
       "    <tr>\n",
       "      <th>17</th>\n",
       "      <td>2008</td>\n",
       "      <td>Diesel</td>\n",
       "      <td>Fail</td>\n",
       "      <td>Male</td>\n",
       "      <td>Full</td>\n",
       "      <td>27501</td>\n",
       "      <td>No</td>\n",
       "      <td>Fail</td>\n",
       "    </tr>\n",
       "    <tr>\n",
       "      <th>18</th>\n",
       "      <td>2006</td>\n",
       "      <td>Diesel</td>\n",
       "      <td>Pass</td>\n",
       "      <td>Female</td>\n",
       "      <td>Full</td>\n",
       "      <td>31222</td>\n",
       "      <td>No</td>\n",
       "      <td>Fail</td>\n",
       "    </tr>\n",
       "    <tr>\n",
       "      <th>19</th>\n",
       "      <td>2012</td>\n",
       "      <td>Petrol</td>\n",
       "      <td>Fail</td>\n",
       "      <td>Male</td>\n",
       "      <td>Full</td>\n",
       "      <td>1742</td>\n",
       "      <td>Yes</td>\n",
       "      <td>Pass</td>\n",
       "    </tr>\n",
       "    <tr>\n",
       "      <th>20</th>\n",
       "      <td>2012</td>\n",
       "      <td>Petrol</td>\n",
       "      <td>Pass</td>\n",
       "      <td>Male</td>\n",
       "      <td>Full</td>\n",
       "      <td>28240</td>\n",
       "      <td>No</td>\n",
       "      <td>Fail</td>\n",
       "    </tr>\n",
       "    <tr>\n",
       "      <th>21</th>\n",
       "      <td>2008</td>\n",
       "      <td>Diesel</td>\n",
       "      <td>Fail</td>\n",
       "      <td>Female</td>\n",
       "      <td>Full</td>\n",
       "      <td>70593</td>\n",
       "      <td>Yes</td>\n",
       "      <td>Pass</td>\n",
       "    </tr>\n",
       "    <tr>\n",
       "      <th>22</th>\n",
       "      <td>2008</td>\n",
       "      <td>Petrol</td>\n",
       "      <td>Pass</td>\n",
       "      <td>Male</td>\n",
       "      <td>Full</td>\n",
       "      <td>30540</td>\n",
       "      <td>Yes</td>\n",
       "      <td>Pass</td>\n",
       "    </tr>\n",
       "    <tr>\n",
       "      <th>23</th>\n",
       "      <td>2007</td>\n",
       "      <td>Petrol</td>\n",
       "      <td>Pass</td>\n",
       "      <td>Male</td>\n",
       "      <td>Full</td>\n",
       "      <td>72769</td>\n",
       "      <td>Yes</td>\n",
       "      <td>Pass</td>\n",
       "    </tr>\n",
       "    <tr>\n",
       "      <th>24</th>\n",
       "      <td>2006</td>\n",
       "      <td>Diesel</td>\n",
       "      <td>Fail</td>\n",
       "      <td>Female</td>\n",
       "      <td>Full</td>\n",
       "      <td>12003</td>\n",
       "      <td>Yes</td>\n",
       "      <td>Pass</td>\n",
       "    </tr>\n",
       "    <tr>\n",
       "      <th>25</th>\n",
       "      <td>2007</td>\n",
       "      <td>Diesel</td>\n",
       "      <td>Pass</td>\n",
       "      <td>Female</td>\n",
       "      <td>Full</td>\n",
       "      <td>7761</td>\n",
       "      <td>No</td>\n",
       "      <td>Fail</td>\n",
       "    </tr>\n",
       "    <tr>\n",
       "      <th>26</th>\n",
       "      <td>2004</td>\n",
       "      <td>Petrol</td>\n",
       "      <td>Fail</td>\n",
       "      <td>Male</td>\n",
       "      <td>Full</td>\n",
       "      <td>36511</td>\n",
       "      <td>Yes</td>\n",
       "      <td>Pass</td>\n",
       "    </tr>\n",
       "    <tr>\n",
       "      <th>27</th>\n",
       "      <td>2007</td>\n",
       "      <td>Petrol</td>\n",
       "      <td>Fail</td>\n",
       "      <td>Female</td>\n",
       "      <td>Full</td>\n",
       "      <td>25829</td>\n",
       "      <td>No</td>\n",
       "      <td>Fail</td>\n",
       "    </tr>\n",
       "    <tr>\n",
       "      <th>28</th>\n",
       "      <td>2006</td>\n",
       "      <td>Diesel</td>\n",
       "      <td>Fail</td>\n",
       "      <td>Female</td>\n",
       "      <td>Full</td>\n",
       "      <td>24414</td>\n",
       "      <td>Yes</td>\n",
       "      <td>Pass</td>\n",
       "    </tr>\n",
       "    <tr>\n",
       "      <th>29</th>\n",
       "      <td>2005</td>\n",
       "      <td>Diesel</td>\n",
       "      <td>Fail</td>\n",
       "      <td>Female</td>\n",
       "      <td>Full</td>\n",
       "      <td>34756</td>\n",
       "      <td>Yes</td>\n",
       "      <td>Pass</td>\n",
       "    </tr>\n",
       "    <tr>\n",
       "      <th>...</th>\n",
       "      <td>...</td>\n",
       "      <td>...</td>\n",
       "      <td>...</td>\n",
       "      <td>...</td>\n",
       "      <td>...</td>\n",
       "      <td>...</td>\n",
       "      <td>...</td>\n",
       "      <td>...</td>\n",
       "    </tr>\n",
       "    <tr>\n",
       "      <th>470</th>\n",
       "      <td>2006</td>\n",
       "      <td>Diesel</td>\n",
       "      <td>Fail</td>\n",
       "      <td>Female</td>\n",
       "      <td>Full</td>\n",
       "      <td>73284</td>\n",
       "      <td>Yes</td>\n",
       "      <td>Pass</td>\n",
       "    </tr>\n",
       "    <tr>\n",
       "      <th>471</th>\n",
       "      <td>2007</td>\n",
       "      <td>Diesel</td>\n",
       "      <td>Pass</td>\n",
       "      <td>Male</td>\n",
       "      <td>Full</td>\n",
       "      <td>59671</td>\n",
       "      <td>No</td>\n",
       "      <td>Fail</td>\n",
       "    </tr>\n",
       "    <tr>\n",
       "      <th>472</th>\n",
       "      <td>2007</td>\n",
       "      <td>Petrol</td>\n",
       "      <td>Fail</td>\n",
       "      <td>Female</td>\n",
       "      <td>Full</td>\n",
       "      <td>17248</td>\n",
       "      <td>No</td>\n",
       "      <td>Fail</td>\n",
       "    </tr>\n",
       "    <tr>\n",
       "      <th>473</th>\n",
       "      <td>2006</td>\n",
       "      <td>Petrol</td>\n",
       "      <td>Fail</td>\n",
       "      <td>Male</td>\n",
       "      <td>Learner</td>\n",
       "      <td>44558</td>\n",
       "      <td>No</td>\n",
       "      <td>Fail</td>\n",
       "    </tr>\n",
       "    <tr>\n",
       "      <th>474</th>\n",
       "      <td>2005</td>\n",
       "      <td>Diesel</td>\n",
       "      <td>Fail</td>\n",
       "      <td>Male</td>\n",
       "      <td>Full</td>\n",
       "      <td>91648</td>\n",
       "      <td>Yes</td>\n",
       "      <td>Pass</td>\n",
       "    </tr>\n",
       "    <tr>\n",
       "      <th>475</th>\n",
       "      <td>2007</td>\n",
       "      <td>Petrol</td>\n",
       "      <td>Pass</td>\n",
       "      <td>Male</td>\n",
       "      <td>Full</td>\n",
       "      <td>89087</td>\n",
       "      <td>Yes</td>\n",
       "      <td>Pass</td>\n",
       "    </tr>\n",
       "    <tr>\n",
       "      <th>476</th>\n",
       "      <td>2008</td>\n",
       "      <td>Diesel</td>\n",
       "      <td>Pass</td>\n",
       "      <td>Female</td>\n",
       "      <td>Full</td>\n",
       "      <td>81100</td>\n",
       "      <td>Yes</td>\n",
       "      <td>Pass</td>\n",
       "    </tr>\n",
       "    <tr>\n",
       "      <th>477</th>\n",
       "      <td>2008</td>\n",
       "      <td>Diesel</td>\n",
       "      <td>Fail</td>\n",
       "      <td>Male</td>\n",
       "      <td>Full</td>\n",
       "      <td>107743</td>\n",
       "      <td>Yes</td>\n",
       "      <td>Fail</td>\n",
       "    </tr>\n",
       "    <tr>\n",
       "      <th>478</th>\n",
       "      <td>2004</td>\n",
       "      <td>Diesel</td>\n",
       "      <td>Pass</td>\n",
       "      <td>Male</td>\n",
       "      <td>Full</td>\n",
       "      <td>24806</td>\n",
       "      <td>No</td>\n",
       "      <td>Fail</td>\n",
       "    </tr>\n",
       "    <tr>\n",
       "      <th>479</th>\n",
       "      <td>2002</td>\n",
       "      <td>Diesel</td>\n",
       "      <td>Fail</td>\n",
       "      <td>Male</td>\n",
       "      <td>Full</td>\n",
       "      <td>186768</td>\n",
       "      <td>Yes</td>\n",
       "      <td>Fail</td>\n",
       "    </tr>\n",
       "    <tr>\n",
       "      <th>480</th>\n",
       "      <td>2005</td>\n",
       "      <td>Diesel</td>\n",
       "      <td>Fail</td>\n",
       "      <td>Male</td>\n",
       "      <td>Full</td>\n",
       "      <td>57087</td>\n",
       "      <td>Yes</td>\n",
       "      <td>Pass</td>\n",
       "    </tr>\n",
       "    <tr>\n",
       "      <th>481</th>\n",
       "      <td>2007</td>\n",
       "      <td>Diesel</td>\n",
       "      <td>Fail</td>\n",
       "      <td>Female</td>\n",
       "      <td>Full</td>\n",
       "      <td>59984</td>\n",
       "      <td>Yes</td>\n",
       "      <td>Pass</td>\n",
       "    </tr>\n",
       "    <tr>\n",
       "      <th>482</th>\n",
       "      <td>2005</td>\n",
       "      <td>Petrol</td>\n",
       "      <td>Fail</td>\n",
       "      <td>Male</td>\n",
       "      <td>Full</td>\n",
       "      <td>135408</td>\n",
       "      <td>Yes</td>\n",
       "      <td>Fail</td>\n",
       "    </tr>\n",
       "    <tr>\n",
       "      <th>483</th>\n",
       "      <td>2006</td>\n",
       "      <td>Petrol</td>\n",
       "      <td>Pass</td>\n",
       "      <td>Female</td>\n",
       "      <td>Learner</td>\n",
       "      <td>141908</td>\n",
       "      <td>Yes</td>\n",
       "      <td>Fail</td>\n",
       "    </tr>\n",
       "    <tr>\n",
       "      <th>484</th>\n",
       "      <td>2006</td>\n",
       "      <td>Diesel</td>\n",
       "      <td>Fail</td>\n",
       "      <td>Male</td>\n",
       "      <td>Full</td>\n",
       "      <td>76695</td>\n",
       "      <td>No</td>\n",
       "      <td>Fail</td>\n",
       "    </tr>\n",
       "    <tr>\n",
       "      <th>485</th>\n",
       "      <td>2007</td>\n",
       "      <td>Diesel</td>\n",
       "      <td>Pass</td>\n",
       "      <td>Female</td>\n",
       "      <td>Full</td>\n",
       "      <td>19996</td>\n",
       "      <td>Yes</td>\n",
       "      <td>Pass</td>\n",
       "    </tr>\n",
       "    <tr>\n",
       "      <th>486</th>\n",
       "      <td>2012</td>\n",
       "      <td>Diesel</td>\n",
       "      <td>Fail</td>\n",
       "      <td>Male</td>\n",
       "      <td>Full</td>\n",
       "      <td>5756</td>\n",
       "      <td>Yes</td>\n",
       "      <td>Pass</td>\n",
       "    </tr>\n",
       "    <tr>\n",
       "      <th>487</th>\n",
       "      <td>2007</td>\n",
       "      <td>Diesel</td>\n",
       "      <td>Pass</td>\n",
       "      <td>Male</td>\n",
       "      <td>Learner</td>\n",
       "      <td>54347</td>\n",
       "      <td>Yes</td>\n",
       "      <td>Pass</td>\n",
       "    </tr>\n",
       "    <tr>\n",
       "      <th>488</th>\n",
       "      <td>2015</td>\n",
       "      <td>Diesel</td>\n",
       "      <td>Fail</td>\n",
       "      <td>Female</td>\n",
       "      <td>Full</td>\n",
       "      <td>15539</td>\n",
       "      <td>Yes</td>\n",
       "      <td>Pass</td>\n",
       "    </tr>\n",
       "    <tr>\n",
       "      <th>489</th>\n",
       "      <td>2005</td>\n",
       "      <td>Petrol</td>\n",
       "      <td>Fail</td>\n",
       "      <td>Female</td>\n",
       "      <td>Full</td>\n",
       "      <td>75633</td>\n",
       "      <td>Yes</td>\n",
       "      <td>Pass</td>\n",
       "    </tr>\n",
       "    <tr>\n",
       "      <th>490</th>\n",
       "      <td>2009</td>\n",
       "      <td>Petrol</td>\n",
       "      <td>Fail</td>\n",
       "      <td>Male</td>\n",
       "      <td>Full</td>\n",
       "      <td>93285</td>\n",
       "      <td>No</td>\n",
       "      <td>Fail</td>\n",
       "    </tr>\n",
       "    <tr>\n",
       "      <th>491</th>\n",
       "      <td>2007</td>\n",
       "      <td>Diesel</td>\n",
       "      <td>Pass</td>\n",
       "      <td>Female</td>\n",
       "      <td>Full</td>\n",
       "      <td>4257</td>\n",
       "      <td>Yes</td>\n",
       "      <td>Pass</td>\n",
       "    </tr>\n",
       "    <tr>\n",
       "      <th>492</th>\n",
       "      <td>2008</td>\n",
       "      <td>Diesel</td>\n",
       "      <td>Fail</td>\n",
       "      <td>Female</td>\n",
       "      <td>Full</td>\n",
       "      <td>40796</td>\n",
       "      <td>Yes</td>\n",
       "      <td>Pass</td>\n",
       "    </tr>\n",
       "    <tr>\n",
       "      <th>493</th>\n",
       "      <td>2007</td>\n",
       "      <td>Diesel</td>\n",
       "      <td>Fail</td>\n",
       "      <td>Female</td>\n",
       "      <td>Full</td>\n",
       "      <td>40715</td>\n",
       "      <td>No</td>\n",
       "      <td>Fail</td>\n",
       "    </tr>\n",
       "    <tr>\n",
       "      <th>494</th>\n",
       "      <td>2006</td>\n",
       "      <td>Diesel</td>\n",
       "      <td>Fail</td>\n",
       "      <td>Female</td>\n",
       "      <td>Full</td>\n",
       "      <td>90450</td>\n",
       "      <td>Yes</td>\n",
       "      <td>Pass</td>\n",
       "    </tr>\n",
       "    <tr>\n",
       "      <th>495</th>\n",
       "      <td>2006</td>\n",
       "      <td>Diesel</td>\n",
       "      <td>Pass</td>\n",
       "      <td>Male</td>\n",
       "      <td>Full</td>\n",
       "      <td>107158</td>\n",
       "      <td>Yes</td>\n",
       "      <td>Fail</td>\n",
       "    </tr>\n",
       "    <tr>\n",
       "      <th>496</th>\n",
       "      <td>2008</td>\n",
       "      <td>Diesel</td>\n",
       "      <td>Pass</td>\n",
       "      <td>Male</td>\n",
       "      <td>Full</td>\n",
       "      <td>124272</td>\n",
       "      <td>Yes</td>\n",
       "      <td>Fail</td>\n",
       "    </tr>\n",
       "    <tr>\n",
       "      <th>497</th>\n",
       "      <td>2014</td>\n",
       "      <td>Diesel</td>\n",
       "      <td>Pass</td>\n",
       "      <td>Female</td>\n",
       "      <td>Full</td>\n",
       "      <td>4175</td>\n",
       "      <td>No</td>\n",
       "      <td>Fail</td>\n",
       "    </tr>\n",
       "    <tr>\n",
       "      <th>498</th>\n",
       "      <td>2005</td>\n",
       "      <td>Diesel</td>\n",
       "      <td>Pass</td>\n",
       "      <td>Female</td>\n",
       "      <td>Full</td>\n",
       "      <td>62814</td>\n",
       "      <td>Yes</td>\n",
       "      <td>Pass</td>\n",
       "    </tr>\n",
       "    <tr>\n",
       "      <th>499</th>\n",
       "      <td>2006</td>\n",
       "      <td>Petrol</td>\n",
       "      <td>Incomplete</td>\n",
       "      <td>Female</td>\n",
       "      <td>Full</td>\n",
       "      <td>87720</td>\n",
       "      <td>Yes</td>\n",
       "      <td>Pass</td>\n",
       "    </tr>\n",
       "  </tbody>\n",
       "</table>\n",
       "<p>500 rows × 8 columns</p>\n",
       "</div>"
      ],
      "text/plain": [
       "     Year    Fuel      Status     Sex Licence_type  Mileage Service Expected\n",
       "0    2005  Diesel        Pass  Female         Full   138832     Yes     Fail\n",
       "1    2002  Diesel        Pass    Male         Full   226395     Yes     Fail\n",
       "2    2004  Diesel        Fail  Female         Full   194941     Yes     Fail\n",
       "3    2005  Diesel        Fail    Male         Full   108043     Yes     Fail\n",
       "4    2008  Diesel        Fail  Female         Full    58484      No     Fail\n",
       "5    2007  Diesel        Pass    Male         Full    66066     Yes     Pass\n",
       "6    2015  Diesel        Pass    Male         Full    13527     Yes     Pass\n",
       "7    2012  Petrol        Fail    Male         Full    62292      No     Fail\n",
       "8    2008  Petrol        Fail    Male         Full   104952      No     Fail\n",
       "9    2005  Diesel        Pass    Male         Full   141657     Yes     Fail\n",
       "10   2006  Diesel        Fail  Female         Full    46956      No     Fail\n",
       "11   2010  Diesel        Pass  Female         Full    31824     Yes     Pass\n",
       "12   2006  Diesel        Fail    Male      Learner   117150     Yes     Fail\n",
       "13   2005  Petrol        Fail  Female      Learner   131050     Yes     Fail\n",
       "14   2007  Diesel        Fail    Male         Full    25840     Yes     Pass\n",
       "15   2010  Diesel        Pass  Female         Full    72012      No     Fail\n",
       "16   2005  Petrol        Fail  Female         Full    57421      No     Fail\n",
       "17   2008  Diesel        Fail    Male         Full    27501      No     Fail\n",
       "18   2006  Diesel        Pass  Female         Full    31222      No     Fail\n",
       "19   2012  Petrol        Fail    Male         Full     1742     Yes     Pass\n",
       "20   2012  Petrol        Pass    Male         Full    28240      No     Fail\n",
       "21   2008  Diesel        Fail  Female         Full    70593     Yes     Pass\n",
       "22   2008  Petrol        Pass    Male         Full    30540     Yes     Pass\n",
       "23   2007  Petrol        Pass    Male         Full    72769     Yes     Pass\n",
       "24   2006  Diesel        Fail  Female         Full    12003     Yes     Pass\n",
       "25   2007  Diesel        Pass  Female         Full     7761      No     Fail\n",
       "26   2004  Petrol        Fail    Male         Full    36511     Yes     Pass\n",
       "27   2007  Petrol        Fail  Female         Full    25829      No     Fail\n",
       "28   2006  Diesel        Fail  Female         Full    24414     Yes     Pass\n",
       "29   2005  Diesel        Fail  Female         Full    34756     Yes     Pass\n",
       "..    ...     ...         ...     ...          ...      ...     ...      ...\n",
       "470  2006  Diesel        Fail  Female         Full    73284     Yes     Pass\n",
       "471  2007  Diesel        Pass    Male         Full    59671      No     Fail\n",
       "472  2007  Petrol        Fail  Female         Full    17248      No     Fail\n",
       "473  2006  Petrol        Fail    Male      Learner    44558      No     Fail\n",
       "474  2005  Diesel        Fail    Male         Full    91648     Yes     Pass\n",
       "475  2007  Petrol        Pass    Male         Full    89087     Yes     Pass\n",
       "476  2008  Diesel        Pass  Female         Full    81100     Yes     Pass\n",
       "477  2008  Diesel        Fail    Male         Full   107743     Yes     Fail\n",
       "478  2004  Diesel        Pass    Male         Full    24806      No     Fail\n",
       "479  2002  Diesel        Fail    Male         Full   186768     Yes     Fail\n",
       "480  2005  Diesel        Fail    Male         Full    57087     Yes     Pass\n",
       "481  2007  Diesel        Fail  Female         Full    59984     Yes     Pass\n",
       "482  2005  Petrol        Fail    Male         Full   135408     Yes     Fail\n",
       "483  2006  Petrol        Pass  Female      Learner   141908     Yes     Fail\n",
       "484  2006  Diesel        Fail    Male         Full    76695      No     Fail\n",
       "485  2007  Diesel        Pass  Female         Full    19996     Yes     Pass\n",
       "486  2012  Diesel        Fail    Male         Full     5756     Yes     Pass\n",
       "487  2007  Diesel        Pass    Male      Learner    54347     Yes     Pass\n",
       "488  2015  Diesel        Fail  Female         Full    15539     Yes     Pass\n",
       "489  2005  Petrol        Fail  Female         Full    75633     Yes     Pass\n",
       "490  2009  Petrol        Fail    Male         Full    93285      No     Fail\n",
       "491  2007  Diesel        Pass  Female         Full     4257     Yes     Pass\n",
       "492  2008  Diesel        Fail  Female         Full    40796     Yes     Pass\n",
       "493  2007  Diesel        Fail  Female         Full    40715      No     Fail\n",
       "494  2006  Diesel        Fail  Female         Full    90450     Yes     Pass\n",
       "495  2006  Diesel        Pass    Male         Full   107158     Yes     Fail\n",
       "496  2008  Diesel        Pass    Male         Full   124272     Yes     Fail\n",
       "497  2014  Diesel        Pass  Female         Full     4175      No     Fail\n",
       "498  2005  Diesel        Pass  Female         Full    62814     Yes     Pass\n",
       "499  2006  Petrol  Incomplete  Female         Full    87720     Yes     Pass\n",
       "\n",
       "[500 rows x 8 columns]"
      ]
     },
     "execution_count": 256,
     "metadata": {},
     "output_type": "execute_result"
    }
   ],
   "source": [
    "def fun(row):\n",
    "    if row[\"Mileage\"] <100000 and row['Service']==\"Yes\":\n",
    "        return \"Pass\"\n",
    "    else:\n",
    "        return \"Fail\"\n",
    "\n",
    "df[\"Expected\"] = df.apply(lambda row: fun(row), axis=1)\n",
    "df"
   ]
  },
  {
   "cell_type": "code",
   "execution_count": 257,
   "metadata": {},
   "outputs": [],
   "source": [
    "# Change datatype of year from object to integer so I can plot it. https://www.ritchieng.com/pandas-changing-datatype/\n",
    "df[\"Year\"] = df.Year.astype(int)"
   ]
  },
  {
   "cell_type": "code",
   "execution_count": 258,
   "metadata": {},
   "outputs": [
    {
     "data": {
      "text/plain": [
       "Year             int32\n",
       "Fuel            object\n",
       "Status          object\n",
       "Sex             object\n",
       "Licence_type    object\n",
       "Mileage          int64\n",
       "Service         object\n",
       "Expected        object\n",
       "dtype: object"
      ]
     },
     "execution_count": 258,
     "metadata": {},
     "output_type": "execute_result"
    }
   ],
   "source": [
    "df.dtypes"
   ]
  },
  {
   "cell_type": "code",
   "execution_count": 259,
   "metadata": {},
   "outputs": [],
   "source": [
    "# Change datetype for mileage from int64 to int32 https://stackoverflow.com/questions/28910851/python-pandas-changing-some-column-types-to-categories\n",
    "for col in [\"Mileage\"]:\n",
    "    df[col] = df[col].astype(\"int32\")\n",
    "   "
   ]
  },
  {
   "cell_type": "code",
   "execution_count": 260,
   "metadata": {},
   "outputs": [
    {
     "data": {
      "text/plain": [
       "Year             int32\n",
       "Fuel            object\n",
       "Status          object\n",
       "Sex             object\n",
       "Licence_type    object\n",
       "Mileage          int32\n",
       "Service         object\n",
       "Expected        object\n",
       "dtype: object"
      ]
     },
     "execution_count": 260,
     "metadata": {},
     "output_type": "execute_result"
    }
   ],
   "source": [
    "df.dtypes "
   ]
  },
  {
   "cell_type": "code",
   "execution_count": 261,
   "metadata": {},
   "outputs": [
    {
     "data": {
      "text/plain": [
       "2007.002"
      ]
     },
     "execution_count": 261,
     "metadata": {},
     "output_type": "execute_result"
    }
   ],
   "source": [
    "df[\"Year\"].mean()"
   ]
  },
  {
   "cell_type": "code",
   "execution_count": 262,
   "metadata": {},
   "outputs": [
    {
     "data": {
      "image/png": "[encoded data removed]",
      "text/plain": [
       "<Figure size 720x360 with 1 Axes>"
      ]
     },
     "metadata": {
      "needs_background": "light"
     },
     "output_type": "display_data"
    }
   ],
   "source": [
    "# Histogram showing the years of manufacture\n",
    "\n",
    "plt.figure(figsize=(10,5))\n",
    "plt.hist(df.Year, bins=5)\n",
    "plt.xlabel('Year of Manufacture')\n",
    "plt.show()"
   ]
  },
  {
   "cell_type": "code",
   "execution_count": 263,
   "metadata": {},
   "outputs": [
    {
     "data": {
      "image/png": "[encoded data removed]",
      "text/plain": [
       "<Figure size 720x432 with 1 Axes>"
      ]
     },
     "metadata": {
      "needs_background": "light"
     },
     "output_type": "display_data"
    }
   ],
   "source": [
    "\n",
    "# A KDE plot is a lot like a histogram, it estimates the probability density of a continuous variable.\n",
    "plt.figure(figsize=(10,6))\n",
    "sns.kdeplot(df['Year'], label='Year')\n",
    "plt.xlabel('Year')\n",
    "plt.ylabel('Probability Density')\n",
    "plt.title('Probability density plot of the Year of Manufacture')\n",
    "plt.show()"
   ]
  },
  {
   "cell_type": "code",
   "execution_count": 264,
   "metadata": {},
   "outputs": [
    {
     "data": {
      "image/png": "[encoded data removed]",
      "text/plain": [
       "<Figure size 720x432 with 1 Axes>"
      ]
     },
     "metadata": {
      "needs_background": "light"
     },
     "output_type": "display_data"
    }
   ],
   "source": [
    "\n",
    "# A KDE plot is a lot like a histogram, it estimates the probability density of a continuous variable.\n",
    "plt.figure(figsize=(10,6))\n",
    "sns.kdeplot(df['Mileage'], label='Mileage')\n",
    "plt.xlabel('Mileage')\n",
    "plt.ylabel('Probability Density')\n",
    "plt.title('Probability density plot of the Mileage')\n",
    "plt.show()"
   ]
  },
  {
   "cell_type": "code",
   "execution_count": 265,
   "metadata": {},
   "outputs": [
    {
     "data": {
      "text/plain": [
       "Fuel\n",
       "Diesel    382\n",
       "Petrol    118\n",
       "dtype: int64"
      ]
     },
     "execution_count": 265,
     "metadata": {},
     "output_type": "execute_result"
    }
   ],
   "source": [
    "df.groupby(by=\"Fuel\").size()"
   ]
  },
  {
   "cell_type": "code",
   "execution_count": 266,
   "metadata": {},
   "outputs": [
    {
     "data": {
      "text/plain": [
       "<matplotlib.axes._subplots.AxesSubplot at 0x18bcfabff28>"
      ]
     },
     "execution_count": 266,
     "metadata": {},
     "output_type": "execute_result"
    },
    {
     "data": {
      "image/png": "[encoded data removed]",
      "text/plain": [
       "<Figure size 432x288 with 1 Axes>"
      ]
     },
     "metadata": {
      "needs_background": "light"
     },
     "output_type": "display_data"
    }
   ],
   "source": [
    "sns.countplot('Year', hue='Fuel', data=df)"
   ]
  },
  {
   "cell_type": "code",
   "execution_count": 267,
   "metadata": {},
   "outputs": [
    {
     "data": {
      "text/plain": [
       "<matplotlib.axes._subplots.AxesSubplot at 0x18bd0604e48>"
      ]
     },
     "execution_count": 267,
     "metadata": {},
     "output_type": "execute_result"
    },
    {
     "data": {
      "image/png": "[encoded data removed]",
      "text/plain": [
       "<Figure size 432x288 with 1 Axes>"
      ]
     },
     "metadata": {
      "needs_background": "light"
     },
     "output_type": "display_data"
    }
   ],
   "source": [
    "sns.countplot('Status', hue='Service', data=df)"
   ]
  },
  {
   "cell_type": "code",
   "execution_count": 268,
   "metadata": {},
   "outputs": [
    {
     "data": {
      "text/plain": [
       "array(['Pass', 'Fail', 'Fail', 'Pass', 'Fail', 'Fail', 'Fail', 'Fail',\n",
       "       'Fail', 'Pass', 'Fail', 'Fail', 'Fail', 'Pass', 'Pass', 'Fail',\n",
       "       'Pass', 'Fail', 'Fail', 'Fail', 'Incomplete', 'Pass', 'Pass',\n",
       "       'Fail', 'Fail', 'Pass', 'Fail', 'Fail', 'Pass', 'Pass', 'Fail',\n",
       "       'Fail', 'Pass', 'Pass', 'Fail', 'Pass', 'Fail', 'Fail', 'Pass',\n",
       "       'Fail', 'Fail', 'Pass', 'Fail', 'Fail', 'Fail', 'Pass', 'Fail',\n",
       "       'Pass', 'Fail', 'Pass', 'Fail', 'Pass', 'Pass', 'Fail', 'Pass',\n",
       "       'Fail', 'Fail', 'Fail', 'Fail', 'Incomplete', 'Pass', 'Pass',\n",
       "       'Fail', 'Pass', 'Fail', 'Pass', 'Fail', 'Fail', 'Pass', 'Fail',\n",
       "       'Fail', 'Pass', 'Fail', 'Fail', 'Fail', 'Fail', 'Pass', 'Fail',\n",
       "       'Fail', 'Fail', 'Pass', 'Fail', 'Fail', 'Fail', 'Fail', 'Fail',\n",
       "       'Fail', 'Pass', 'Fail', 'Fail', 'Pass', 'Fail', 'Pass', 'Fail',\n",
       "       'Fail', 'Fail', 'Pass', 'Fail', 'Fail', 'Pass', 'Pass', 'Fail',\n",
       "       'Fail', 'Pass', 'Fail', 'Pass', 'Fail', 'Fail', 'Fail', 'Pass',\n",
       "       'Fail', 'Fail', 'Pass', 'Fail', 'Fail', 'Fail', 'Fail', 'Fail',\n",
       "       'Fail', 'Fail', 'Fail', 'Fail', 'Pass', 'Fail', 'Pass', 'Fail',\n",
       "       'Pass', 'Fail', 'Fail', 'Fail', 'Pass', 'Pass', 'Pass', 'Fail',\n",
       "       'Pass', 'Pass', 'Fail', 'Pass', 'Pass', 'Fail', 'Fail', 'Fail',\n",
       "       'Fail', 'Fail', 'Pass', 'Fail', 'Pass', 'Fail', 'Fail', 'Pass',\n",
       "       'Pass', 'Fail', 'Pass', 'Fail', 'Pass', 'Fail', 'Fail', 'Pass',\n",
       "       'Fail', 'Fail', 'Fail', 'Pass', 'Pass', 'Pass', 'Pass', 'Fail',\n",
       "       'Fail', 'Pass', 'Pass', 'Pass', 'Fail', 'Fail', 'Pass', 'Fail',\n",
       "       'Pass', 'Fail', 'Fail', 'Pass', 'Pass', 'Fail', 'Fail', 'Pass',\n",
       "       'Fail', 'Fail', 'Pass', 'Pass', 'Fail', 'Pass', 'Fail', 'Fail',\n",
       "       'Pass', 'Fail', 'Fail', 'Fail', 'Pass', 'Fail', 'Pass', 'Pass',\n",
       "       'Pass', 'Pass', 'Fail', 'Fail', 'Pass', 'Pass', 'Fail', 'Fail',\n",
       "       'Pass', 'Fail', 'Fail', 'Pass', 'Pass', 'Pass', 'Fail', 'Pass',\n",
       "       'Pass', 'Fail', 'Fail', 'Pass', 'Fail', 'Fail', 'Fail', 'Fail',\n",
       "       'Pass', 'Fail', 'Incomplete', 'Fail', 'Fail', 'Fail', 'Fail',\n",
       "       'Pass', 'Fail', 'Pass', 'Fail', 'Fail', 'Fail', 'Pass', 'Pass',\n",
       "       'Fail', 'Pass', 'Fail', 'Fail', 'Fail', 'Pass', 'Fail', 'Fail',\n",
       "       'Fail', 'Pass', 'Pass', 'Pass', 'Fail', 'Pass', 'Fail', 'Pass',\n",
       "       'Incomplete', 'Fail', 'Fail', 'Fail', 'Fail', 'Pass', 'Fail',\n",
       "       'Pass', 'Fail', 'Fail', 'Fail', 'Pass', 'Pass', 'Fail', 'Fail',\n",
       "       'Pass', 'Fail', 'Fail', 'Pass', 'Fail', 'Fail', 'Fail', 'Pass',\n",
       "       'Fail', 'Fail', 'Pass', 'Pass', 'Fail', 'Fail', 'Pass', 'Fail',\n",
       "       'Fail', 'Fail', 'Fail', 'Fail', 'Fail', 'Fail', 'Fail', 'Fail',\n",
       "       'Fail', 'Fail', 'Fail', 'Fail', 'Pass', 'Fail', 'Fail', 'Pass',\n",
       "       'Fail', 'Pass', 'Pass', 'Fail', 'Fail', 'Pass', 'Fail', 'Fail',\n",
       "       'Pass', 'Fail', 'Fail', 'Fail', 'Pass', 'Fail', 'Fail', 'Fail',\n",
       "       'Pass', 'Fail', 'Pass', 'Fail', 'Fail', 'Pass', 'Fail', 'Fail',\n",
       "       'Fail', 'Pass', 'Fail', 'Fail', 'Fail', 'Pass', 'Fail', 'Pass',\n",
       "       'Fail', 'Fail', 'Fail', 'Fail', 'Fail', 'Fail', 'Pass', 'Fail',\n",
       "       'Fail', 'Fail', 'Fail', 'Pass', 'Pass', 'Fail', 'Fail', 'Fail',\n",
       "       'Pass', 'Pass', 'Fail', 'Pass', 'Fail', 'Fail', 'Fail', 'Fail',\n",
       "       'Fail', 'Pass', 'Fail', 'Pass', 'Fail', 'Fail', 'Fail', 'Fail',\n",
       "       'Pass', 'Pass', 'Fail', 'Fail', 'Fail', 'Fail', 'Pass', 'Fail',\n",
       "       'Fail', 'Fail', 'Pass', 'Fail', 'Pass', 'Fail', 'Pass', 'Fail',\n",
       "       'Fail', 'Pass', 'Pass', 'Fail', 'Pass', 'Fail', 'Fail', 'Fail',\n",
       "       'Fail', 'Fail', 'Fail', 'Pass', 'Fail', 'Pass', 'Fail', 'Pass',\n",
       "       'Fail', 'Fail', 'Fail', 'Fail', 'Pass', 'Pass', 'Pass', 'Fail',\n",
       "       'Pass', 'Pass', 'Fail', 'Pass', 'Fail', 'Pass', 'Fail', 'Fail',\n",
       "       'Fail', 'Pass', 'Pass', 'Fail', 'Fail', 'Pass', 'Fail', 'Pass',\n",
       "       'Pass', 'Pass', 'Fail', 'Pass', 'Pass', 'Fail', 'Fail', 'Fail',\n",
       "       'Pass', 'Fail', 'Fail', 'Pass', 'Pass', 'Pass', 'Fail', 'Fail',\n",
       "       'Fail', 'Fail', 'Fail', 'Fail', 'Fail', 'Fail', 'Pass', 'Fail',\n",
       "       'Fail', 'Fail', 'Fail', 'Pass', 'Fail', 'Fail', 'Fail', 'Fail',\n",
       "       'Fail', 'Pass', 'Fail', 'Fail', 'Pass', 'Pass', 'Pass', 'Pass',\n",
       "       'Pass', 'Pass', 'Pass', 'Pass', 'Fail', 'Fail', 'Pass', 'Fail',\n",
       "       'Fail', 'Fail', 'Fail', 'Pass', 'Fail', 'Fail', 'Fail', 'Fail',\n",
       "       'Fail', 'Fail', 'Fail', 'Fail', 'Fail', 'Pass', 'Pass', 'Pass',\n",
       "       'Fail', 'Incomplete', 'Fail', 'Pass', 'Pass', 'Fail', 'Fail',\n",
       "       'Pass', 'Pass', 'Pass', 'Fail', 'Fail', 'Fail', 'Fail', 'Fail',\n",
       "       'Pass'], dtype='<U10')"
      ]
     },
     "execution_count": 268,
     "metadata": {},
     "output_type": "execute_result"
    }
   ],
   "source": [
    "stat= np.random.choice(status, 500, p=[0.36, 0.63, 0.01])\n",
    "stat"
   ]
  },
  {
   "cell_type": "code",
   "execution_count": 269,
   "metadata": {},
   "outputs": [
    {
     "data": {
      "image/png": "[encoded data removed]",
      "text/plain": [
       "<Figure size 720x360 with 1 Axes>"
      ]
     },
     "metadata": {
      "needs_background": "light"
     },
     "output_type": "display_data"
    }
   ],
   "source": [
    "# Histogram showing the Status of Tests\n",
    "\n",
    "plt.figure(figsize=(10,5))\n",
    "plt.hist(stat, bins=5)\n",
    "plt.xlabel('Status of Test')\n",
    "plt.show()"
   ]
  },
  {
   "cell_type": "code",
   "execution_count": null,
   "metadata": {},
   "outputs": [],
   "source": []
  },
  {
   "cell_type": "code",
   "execution_count": null,
   "metadata": {},
   "outputs": [],
   "source": []
  },
  {
   "cell_type": "code",
   "execution_count": 270,
   "metadata": {},
   "outputs": [
    {
     "name": "stderr",
     "output_type": "stream",
     "text": [
      "C:\\Users\\Rebecca\\Anaconda3\\lib\\site-packages\\statsmodels\\nonparametric\\kde.py:488: RuntimeWarning: invalid value encountered in true_divide\n",
      "  binned = fast_linbin(X, a, b, gridsize) / (delta * nobs)\n",
      "C:\\Users\\Rebecca\\Anaconda3\\lib\\site-packages\\statsmodels\\nonparametric\\kdetools.py:34: RuntimeWarning: invalid value encountered in double_scalars\n",
      "  FAC1 = 2*(np.pi*bw/RANGE)**2\n",
      "C:\\Users\\Rebecca\\Anaconda3\\lib\\site-packages\\numpy\\core\\fromnumeric.py:83: RuntimeWarning: invalid value encountered in reduce\n",
      "  return ufunc.reduce(obj, axis, dtype, out, **passkwargs)\n"
     ]
    },
    {
     "data": {
      "text/plain": [
       "<seaborn.axisgrid.FacetGrid at 0x18bd06b46a0>"
      ]
     },
     "execution_count": 270,
     "metadata": {},
     "output_type": "execute_result"
    },
    {
     "data": {
      "image/png": "[encoded data removed]",
      "text/plain": [
       "<Figure size 711.75x216 with 3 Axes>"
      ]
     },
     "metadata": {
      "needs_background": "light"
     },
     "output_type": "display_data"
    }
   ],
   "source": [
    "\n",
    "# KDE plots of the tip distribution separated by day and sex\n",
    "g = sns.FacetGrid(df, col=\"Status\", hue=\"Fuel\") \n",
    "g.map(sns.distplot, \"Year\")\n",
    "g.add_legend() \n",
    "g.set(alpha=.5)"
   ]
  },
  {
   "cell_type": "code",
   "execution_count": null,
   "metadata": {},
   "outputs": [],
   "source": []
  },
  {
   "cell_type": "code",
   "execution_count": 271,
   "metadata": {},
   "outputs": [
    {
     "data": {
      "text/plain": [
       "array(['Male', 'Female', 'Female', 'Male', 'Male', 'Female', 'Female',\n",
       "       'Female', 'Male', 'Female', 'Male', 'Female', 'Male', 'Male',\n",
       "       'Male', 'Male', 'Male', 'Female', 'Female', 'Female', 'Male',\n",
       "       'Female', 'Female', 'Male', 'Male', 'Female', 'Female', 'Male',\n",
       "       'Male', 'Female', 'Female', 'Male', 'Female', 'Male', 'Female',\n",
       "       'Male', 'Female', 'Male', 'Male', 'Female', 'Male', 'Female',\n",
       "       'Male', 'Male', 'Female', 'Male', 'Female', 'Female', 'Male',\n",
       "       'Female', 'Male', 'Female', 'Female', 'Male', 'Female', 'Female',\n",
       "       'Male', 'Male', 'Female', 'Female', 'Male', 'Female', 'Female',\n",
       "       'Male', 'Female', 'Female', 'Female', 'Male', 'Female', 'Male',\n",
       "       'Male', 'Male', 'Female', 'Male', 'Male', 'Male', 'Male', 'Female',\n",
       "       'Female', 'Male', 'Male', 'Male', 'Female', 'Female', 'Male',\n",
       "       'Male', 'Female', 'Female', 'Male', 'Female', 'Female', 'Male',\n",
       "       'Female', 'Male', 'Male', 'Female', 'Male', 'Female', 'Female',\n",
       "       'Female', 'Female', 'Male', 'Male', 'Female', 'Female', 'Male',\n",
       "       'Female', 'Male', 'Male', 'Male', 'Female', 'Male', 'Male', 'Male',\n",
       "       'Male', 'Female', 'Male', 'Female', 'Female', 'Male', 'Female',\n",
       "       'Female', 'Male', 'Female', 'Female', 'Female', 'Male', 'Male',\n",
       "       'Male', 'Female', 'Male', 'Male', 'Female', 'Male', 'Male',\n",
       "       'Female', 'Male', 'Male', 'Female', 'Female', 'Male', 'Male',\n",
       "       'Female', 'Female', 'Male', 'Male', 'Male', 'Male', 'Female',\n",
       "       'Female', 'Female', 'Male', 'Female', 'Female', 'Male', 'Female',\n",
       "       'Female', 'Female', 'Male', 'Female', 'Female', 'Female', 'Female',\n",
       "       'Female', 'Male', 'Male', 'Female', 'Female', 'Male', 'Male',\n",
       "       'Male', 'Male', 'Male', 'Male', 'Male', 'Male', 'Female', 'Female',\n",
       "       'Male', 'Male', 'Female', 'Female', 'Male', 'Female', 'Male',\n",
       "       'Female', 'Male', 'Male', 'Male', 'Female', 'Male', 'Male',\n",
       "       'Female', 'Male', 'Female', 'Female', 'Female', 'Female', 'Male',\n",
       "       'Female', 'Female', 'Male', 'Male', 'Female', 'Male', 'Male',\n",
       "       'Female', 'Female', 'Female', 'Male', 'Female', 'Male', 'Male',\n",
       "       'Female', 'Male', 'Male', 'Male', 'Male', 'Male', 'Male', 'Male',\n",
       "       'Male', 'Female', 'Female', 'Male', 'Male', 'Female', 'Female',\n",
       "       'Male', 'Female', 'Female', 'Male', 'Male', 'Male', 'Female',\n",
       "       'Male', 'Male', 'Female', 'Female', 'Male', 'Male', 'Male',\n",
       "       'Female', 'Female', 'Female', 'Female', 'Female', 'Male', 'Female',\n",
       "       'Male', 'Male', 'Male', 'Male', 'Male', 'Male', 'Male', 'Female',\n",
       "       'Male', 'Female', 'Female', 'Male', 'Female', 'Female', 'Male',\n",
       "       'Male', 'Female', 'Male', 'Male', 'Male', 'Female', 'Male',\n",
       "       'Female', 'Male', 'Male', 'Male', 'Male', 'Male', 'Female',\n",
       "       'Female', 'Male', 'Female', 'Male', 'Male', 'Male', 'Female',\n",
       "       'Male', 'Female', 'Male', 'Male', 'Male', 'Male', 'Female', 'Male',\n",
       "       'Female', 'Female', 'Male', 'Male', 'Male', 'Female', 'Female',\n",
       "       'Male', 'Female', 'Female', 'Female', 'Female', 'Male', 'Male',\n",
       "       'Female', 'Female', 'Male', 'Female', 'Female', 'Male', 'Male',\n",
       "       'Male', 'Male', 'Male', 'Male', 'Female', 'Female', 'Female',\n",
       "       'Female', 'Female', 'Female', 'Female', 'Male', 'Female', 'Male',\n",
       "       'Male', 'Female', 'Male', 'Male', 'Female', 'Male', 'Male',\n",
       "       'Female', 'Male', 'Male', 'Female', 'Male', 'Female', 'Female',\n",
       "       'Male', 'Female', 'Female', 'Male', 'Female', 'Male', 'Male',\n",
       "       'Male', 'Female', 'Female', 'Female', 'Female', 'Male', 'Male',\n",
       "       'Male', 'Female', 'Male', 'Female', 'Male', 'Female', 'Female',\n",
       "       'Male', 'Male', 'Male', 'Male', 'Male', 'Male', 'Female', 'Female',\n",
       "       'Female', 'Female', 'Male', 'Female', 'Male', 'Female', 'Male',\n",
       "       'Male', 'Male', 'Female', 'Female', 'Male', 'Male', 'Male',\n",
       "       'Female', 'Male', 'Female', 'Male', 'Male', 'Male', 'Female',\n",
       "       'Male', 'Male', 'Female', 'Female', 'Female', 'Male', 'Male',\n",
       "       'Male', 'Female', 'Male', 'Female', 'Male', 'Male', 'Male', 'Male',\n",
       "       'Female', 'Female', 'Male', 'Male', 'Female', 'Male', 'Male',\n",
       "       'Female', 'Male', 'Female', 'Male', 'Female', 'Male', 'Female',\n",
       "       'Male', 'Female', 'Female', 'Male', 'Male', 'Male', 'Female',\n",
       "       'Female', 'Female', 'Male', 'Male', 'Male', 'Female', 'Male',\n",
       "       'Male', 'Female', 'Male', 'Male', 'Male', 'Male', 'Male', 'Female',\n",
       "       'Female', 'Male', 'Female', 'Female', 'Female', 'Male', 'Male',\n",
       "       'Male', 'Female', 'Female', 'Female', 'Male', 'Female', 'Female',\n",
       "       'Male', 'Male', 'Male', 'Female', 'Female', 'Female', 'Female',\n",
       "       'Male', 'Male', 'Male', 'Female', 'Male', 'Female', 'Male', 'Male',\n",
       "       'Male', 'Male', 'Male', 'Male', 'Male', 'Female', 'Female',\n",
       "       'Female', 'Female', 'Male', 'Female', 'Female', 'Female', 'Male',\n",
       "       'Female', 'Male', 'Male', 'Female', 'Female', 'Female', 'Female',\n",
       "       'Male', 'Male', 'Female', 'Female', 'Female', 'Female', 'Female'],\n",
       "      dtype='<U6')"
      ]
     },
     "execution_count": 271,
     "metadata": {},
     "output_type": "execute_result"
    }
   ],
   "source": [
    "gen =np.random.choice(sex, 500, p=[0.53, 0.47])\n",
    "gen"
   ]
  },
  {
   "cell_type": "code",
   "execution_count": 272,
   "metadata": {},
   "outputs": [
    {
     "data": {
      "image/png": "[encoded data removed]",
      "text/plain": [
       "<Figure size 720x360 with 1 Axes>"
      ]
     },
     "metadata": {
      "needs_background": "light"
     },
     "output_type": "display_data"
    }
   ],
   "source": [
    "# Histogram showing the difference in the genders\n",
    "\n",
    "plt.figure(figsize=(10,5))\n",
    "plt.hist(gen, bins=5)\n",
    "plt.xlabel(\"Gender\")\n",
    "plt.show()"
   ]
  },
  {
   "cell_type": "code",
   "execution_count": 273,
   "metadata": {},
   "outputs": [
    {
     "data": {
      "text/plain": [
       "<seaborn.axisgrid.FacetGrid at 0x18bd0890278>"
      ]
     },
     "execution_count": 273,
     "metadata": {},
     "output_type": "execute_result"
    },
    {
     "data": {
      "image/png": "[encoded data removed]",
      "text/plain": [
       "<Figure size 495.75x216 with 2 Axes>"
      ]
     },
     "metadata": {
      "needs_background": "light"
     },
     "output_type": "display_data"
    }
   ],
   "source": [
    "\n",
    "# KDE plots of the tip distribution separated by year and fuel type\n",
    "g = sns.FacetGrid(df, col=\"Sex\", hue=\"Fuel\") \n",
    "g.map(sns.distplot, \"Year\")\n",
    "g.add_legend() \n",
    "g.set(alpha=.5)"
   ]
  },
  {
   "cell_type": "code",
   "execution_count": 274,
   "metadata": {},
   "outputs": [
    {
     "data": {
      "text/plain": [
       "<seaborn.axisgrid.FacetGrid at 0x18bd09de978>"
      ]
     },
     "execution_count": 274,
     "metadata": {},
     "output_type": "execute_result"
    },
    {
     "data": {
      "image/png": "[encoded data removed]",
      "text/plain": [
       "<Figure size 495.75x216 with 2 Axes>"
      ]
     },
     "metadata": {
      "needs_background": "light"
     },
     "output_type": "display_data"
    }
   ],
   "source": [
    "\n",
    "# KDE plots of the tip distribution separated by day and sex\n",
    "g = sns.FacetGrid(df, col=\"Licence_type\", hue=\"Fuel\") \n",
    "g.map(sns.distplot, \"Year\")\n",
    "g.add_legend() \n",
    "g.set(alpha=.5)"
   ]
  },
  {
   "cell_type": "code",
   "execution_count": 275,
   "metadata": {},
   "outputs": [
    {
     "data": {
      "text/plain": [
       "Text(0.5, 1.0, 'Mileage')"
      ]
     },
     "execution_count": 275,
     "metadata": {},
     "output_type": "execute_result"
    },
    {
     "data": {
      "image/png": "[encoded data removed]",
      "text/plain": [
       "<Figure size 432x288 with 1 Axes>"
      ]
     },
     "metadata": {
      "needs_background": "light"
     },
     "output_type": "display_data"
    }
   ],
   "source": [
    "#df.Mileage\n",
    "plt.plot(df.Mileage) # Plot the spread of Mileage\n",
    "plt.ylabel(\"Mileage\") # name the y label\n",
    "plt.title(\"Mileage\") # give the plot a title"
   ]
  },
  {
   "cell_type": "code",
   "execution_count": 276,
   "metadata": {},
   "outputs": [
    {
     "data": {
      "image/png": "[encoded data removed]",
      "text/plain": [
       "<Figure size 864x576 with 1 Axes>"
      ]
     },
     "metadata": {},
     "output_type": "display_data"
    }
   ],
   "source": [
    "plt.figure(figsize=(12,8), facecolor='w', edgecolor='k', clear='True')\n",
    "plt.hist(df.Mileage,  bins=50)\n",
    "plt.xlabel(\"Mileage\")\n",
    "plt.show()"
   ]
  },
  {
   "cell_type": "code",
   "execution_count": 277,
   "metadata": {},
   "outputs": [
    {
     "data": {
      "text/plain": [
       "<seaborn.axisgrid.JointGrid at 0x18bd06b4fd0>"
      ]
     },
     "execution_count": 277,
     "metadata": {},
     "output_type": "execute_result"
    },
    {
     "data": {
      "image/png": "[encoded data removed]",
      "text/plain": [
       "<Figure size 432x432 with 3 Axes>"
      ]
     },
     "metadata": {
      "needs_background": "light"
     },
     "output_type": "display_data"
    }
   ],
   "source": [
    "g = sns.JointGrid(x=\"Year\", y=\"Mileage\", data=df) \n",
    "g.plot_joint(sns.regplot, order=2) \n",
    "g.plot_marginals(sns.distplot)"
   ]
  },
  {
   "cell_type": "code",
   "execution_count": 278,
   "metadata": {},
   "outputs": [
    {
     "data": {
      "text/plain": [
       "<seaborn.axisgrid.PairGrid at 0x18bd1b79518>"
      ]
     },
     "execution_count": 278,
     "metadata": {},
     "output_type": "execute_result"
    },
    {
     "data": {
      "image/png": "[encoded data removed]",
      "text/plain": [
       "<Figure size 429.375x360 with 6 Axes>"
      ]
     },
     "metadata": {
      "needs_background": "light"
     },
     "output_type": "display_data"
    }
   ],
   "source": [
    "sns.pairplot(df, \"Sex\")"
   ]
  },
  {
   "cell_type": "code",
   "execution_count": null,
   "metadata": {},
   "outputs": [],
   "source": []
  },
  {
   "cell_type": "code",
   "execution_count": 279,
   "metadata": {},
   "outputs": [
    {
     "data": {
      "image/png": "[encoded data removed]",
      "text/plain": [
       "<Figure size 432x288 with 1 Axes>"
      ]
     },
     "metadata": {},
     "output_type": "display_data"
    }
   ],
   "source": [
    "sns.set_style(\"whitegrid\")\n",
    "sns.boxplot(x=\"Year\", y=\"Mileage\", data = df)\n",
    "sns.despine()\n",
    "plt.show()"
   ]
  },
  {
   "cell_type": "code",
   "execution_count": null,
   "metadata": {},
   "outputs": [],
   "source": []
  },
  {
   "cell_type": "code",
   "execution_count": 280,
   "metadata": {},
   "outputs": [
    {
     "data": {
      "image/png": "[encoded data removed]",
      "text/plain": [
       "<Figure size 432x288 with 4 Axes>"
      ]
     },
     "metadata": {},
     "output_type": "display_data"
    },
    {
     "data": {
      "image/png": "[encoded data removed]",
      "text/plain": [
       "<Figure size 432x288 with 2 Axes>"
      ]
     },
     "metadata": {},
     "output_type": "display_data"
    }
   ],
   "source": [
    "\n",
    "# box plots\n",
    "# Graphs for the 'At Home Dataframe'\n",
    "df.plot(kind='box', subplots=True, layout=(2,2), sharex=False, sharey=False)\n",
    "plt.show()\n",
    "\n",
    "# histograms \n",
    "df.hist()\n",
    "plt.show()\n",
    "\n",
    "#scatter plot matrix\n",
    "#scatter_matrix(df)\n",
    "#plt.show()"
   ]
  },
  {
   "cell_type": "code",
   "execution_count": null,
   "metadata": {},
   "outputs": [],
   "source": []
  },
  {
   "cell_type": "code",
   "execution_count": 281,
   "metadata": {},
   "outputs": [
    {
     "name": "stdout",
     "output_type": "stream",
     "text": [
      "<class 'pandas.core.frame.DataFrame'>\n",
      "RangeIndex: 500 entries, 0 to 499\n",
      "Data columns (total 8 columns):\n",
      "Year            500 non-null int32\n",
      "Fuel            500 non-null object\n",
      "Status          500 non-null object\n",
      "Sex             500 non-null object\n",
      "Licence_type    500 non-null object\n",
      "Mileage         500 non-null int32\n",
      "Service         500 non-null object\n",
      "Expected        500 non-null object\n",
      "dtypes: int32(2), object(6)\n",
      "memory usage: 27.4+ KB\n"
     ]
    }
   ],
   "source": [
    "# Shape of the dataframe.\n",
    "df.shape\n",
    "\n",
    "# Data type of each column.\n",
    "df.dtypes\n",
    "\n",
    "# Number of null values.\n",
    "df.info()"
   ]
  },
  {
   "cell_type": "code",
   "execution_count": 282,
   "metadata": {},
   "outputs": [
    {
     "data": {
      "text/plain": [
       "array(['Female', 'Male'], dtype=object)"
      ]
     },
     "execution_count": 282,
     "metadata": {},
     "output_type": "execute_result"
    }
   ],
   "source": [
    "# Number of unique values of column Gender\n",
    "df.Sex.nunique()\n",
    "# 2\n",
    "\n",
    "# Unique values of column Gender\n",
    "df.Sex.unique()\n",
    "# array(['Male', 'Female'], dtype=object)"
   ]
  },
  {
   "cell_type": "code",
   "execution_count": 283,
   "metadata": {},
   "outputs": [
    {
     "name": "stderr",
     "output_type": "stream",
     "text": [
      "C:\\Users\\Rebecca\\Anaconda3\\lib\\site-packages\\seaborn\\axisgrid.py:230: UserWarning: The `size` paramter has been renamed to `height`; please update your code.\n",
      "  warnings.warn(msg, UserWarning)\n"
     ]
    },
    {
     "data": {
      "image/png": "[encoded data removed]",
      "text/plain": [
       "<Figure size 864x432 with 2 Axes>"
      ]
     },
     "metadata": {},
     "output_type": "display_data"
    }
   ],
   "source": [
    "(df.pipe(sns.FacetGrid, \n",
    "       col='Service', \n",
    "       col_wrap=4, \n",
    "       aspect=.5, \n",
    "       size=6)\n",
    " .map(plt.scatter, 'Year', 'Mileage', s=20)\n",
    " .fig.subplots_adjust(wspace=.2, hspace=.2)\n",
    ")\n"
   ]
  },
  {
   "cell_type": "code",
   "execution_count": null,
   "metadata": {},
   "outputs": [],
   "source": [
    "\n"
   ]
  },
  {
   "cell_type": "code",
   "execution_count": 284,
   "metadata": {},
   "outputs": [
    {
     "data": {
      "image/png": "[encoded data removed]",
      "text/plain": [
       "<Figure size 432x288 with 1 Axes>"
      ]
     },
     "metadata": {},
     "output_type": "display_data"
    }
   ],
   "source": [
    "\n",
    "dataframe = df\n",
    "x = df.Year\n",
    "y = df.Mileage\n",
    "plt.scatter(x, y)\n",
    "plt.show()"
   ]
  },
  {
   "cell_type": "code",
   "execution_count": 285,
   "metadata": {},
   "outputs": [
    {
     "data": {
      "image/png": "[encoded data removed]",
      "text/plain": [
       "<Figure size 432x288 with 1 Axes>"
      ]
     },
     "metadata": {},
     "output_type": "display_data"
    }
   ],
   "source": [
    "#https://ourcodingclub.github.io/2018/04/18/pandas-python-intro.html\n",
    "\n",
    "from scipy.stats import linregress\n",
    "\n",
    "dataframe = df\n",
    "\n",
    "x = df.Year\n",
    "y = df.Mileage\n",
    "\n",
    "stats = linregress(x, y)\n",
    "\n",
    "m = stats.slope\n",
    "b = stats.intercept\n",
    "\n",
    "plt.scatter(x, y)\n",
    "plt.plot(x, m * x + b, color=\"red\")   # I've added a color argument hereplt.savefig(\"figure.png\")\n",
    "\n",
    "plt.show()\n",
    "\n",
    "# Or you can use plt.show()"
   ]
  },
  {
   "cell_type": "code",
   "execution_count": 286,
   "metadata": {},
   "outputs": [
    {
     "data": {
      "image/png": "[encoded data removed]",
      "text/plain": [
       "<Figure size 444.875x360 with 6 Axes>"
      ]
     },
     "metadata": {},
     "output_type": "display_data"
    }
   ],
   "source": [
    "sns.pairplot(df, hue=\"Status\", kind=\"Expected\")\n",
    "plt.show()"
   ]
  },
  {
   "cell_type": "code",
   "execution_count": null,
   "metadata": {},
   "outputs": [],
   "source": []
  },
  {
   "cell_type": "code",
   "execution_count": null,
   "metadata": {},
   "outputs": [],
   "source": []
  }
 ],
 "metadata": {
  "kernelspec": {
   "display_name": "Python 3",
   "language": "python",
   "name": "python3"
  },
  "language_info": {
   "codemirror_mode": {
    "name": "ipython",
    "version": 3
   },
   "file_extension": ".py",
   "mimetype": "text/x-python",
   "name": "python",
   "nbconvert_exporter": "python",
   "pygments_lexer": "ipython3",
   "version": "3.7.1"
  }
 },
 "nbformat": 4,
 "nbformat_minor": 2
}
